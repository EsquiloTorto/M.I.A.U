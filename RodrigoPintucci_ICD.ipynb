{
 "cells": [
  {
   "cell_type": "code",
   "execution_count": 134,
   "metadata": {},
   "outputs": [
    {
     "data": {
      "application/vnd.plotly.v1+json": {
       "config": {
        "plotlyServerURL": "https://plot.ly"
       },
       "data": [
        {
         "alignmentgroup": "True",
         "hovertemplate": "Continents=Africa<br>Year=2019<br>Countries=%{x}<br>Fossil fuels per capita (kWh)=%{y}<extra></extra>",
         "legendgroup": "Africa",
         "marker": {
          "color": "#636efa",
          "pattern": {
           "shape": ""
          }
         },
         "name": "Africa",
         "offsetgroup": "Africa",
         "orientation": "v",
         "showlegend": true,
         "textposition": "auto",
         "type": "bar",
         "x": [
          "Algeria",
          "Egypt",
          "Morocco"
         ],
         "xaxis": "x",
         "y": [
          16331.441,
          10263.135,
          6715.7880000000005
         ],
         "yaxis": "y"
        },
        {
         "alignmentgroup": "True",
         "hovertemplate": "Continents=Asia<br>Year=2019<br>Countries=%{x}<br>Fossil fuels per capita (kWh)=%{y}<extra></extra>",
         "legendgroup": "Asia",
         "marker": {
          "color": "#EF553B",
          "pattern": {
           "shape": ""
          }
         },
         "name": "Asia",
         "offsetgroup": "Asia",
         "orientation": "v",
         "showlegend": true,
         "textposition": "auto",
         "type": "bar",
         "x": [
          "Azerbaijan",
          "Bangladesh",
          "China",
          "India",
          "Indonesia",
          "Iran",
          "Iraq",
          "Israel",
          "Japan",
          "Kazakhstan",
          "Kuwait",
          "Malaysia",
          "Oman",
          "Pakistan",
          "Philippines",
          "Qatar",
          "Russia",
          "Saudi Arabia",
          "Singapore",
          "Sri Lanka",
          "Thailand",
          "Turkmenistan",
          "United Arab Emirates",
          "Uzbekistan",
          "Vietnam"
         ],
         "xaxis": "x",
         "y": [
          17678.026,
          2976.296,
          23373.453999999998,
          6303.314,
          8589.723,
          40281.521,
          15574.017,
          35864.075,
          35756.976,
          44974.219000000005,
          108032.964,
          34687.091,
          84530.61300000001,
          3972.238,
          4593.292,
          198310.388,
          49878.388,
          89323.243,
          169480.302,
          4015.15,
          21013.216,
          67654.188,
          136259.37300000002,
          14534.125,
          10056.813
         ],
         "yaxis": "y"
        },
        {
         "alignmentgroup": "True",
         "hovertemplate": "Continents=Australia_NZ<br>Year=2019<br>Countries=%{x}<br>Fossil fuels per capita (kWh)=%{y}<extra></extra>",
         "legendgroup": "Australia_NZ",
         "marker": {
          "color": "#00cc96",
          "pattern": {
           "shape": ""
          }
         },
         "name": "Australia_NZ",
         "offsetgroup": "Australia_NZ",
         "orientation": "v",
         "showlegend": true,
         "textposition": "auto",
         "type": "bar",
         "x": [
          "Australia",
          "New Zealand"
         ],
         "xaxis": "x",
         "y": [
          64591.97900000001,
          34376.311
         ],
         "yaxis": "y"
        },
        {
         "alignmentgroup": "True",
         "hovertemplate": "Continents=Europe<br>Year=2019<br>Countries=%{x}<br>Fossil fuels per capita (kWh)=%{y}<extra></extra>",
         "legendgroup": "Europe",
         "marker": {
          "color": "#ab63fa",
          "pattern": {
           "shape": ""
          }
         },
         "name": "Europe",
         "offsetgroup": "Europe",
         "orientation": "v",
         "showlegend": true,
         "textposition": "auto",
         "type": "bar",
         "x": [
          "Austria",
          "Belarus",
          "Belgium",
          "Bulgaria",
          "Croatia",
          "Cyprus",
          "Denmark",
          "Estonia",
          "Finland",
          "France",
          "Germany",
          "Greece",
          "Hungary",
          "Iceland",
          "Ireland",
          "Italy",
          "Latvia",
          "Lithuania",
          "Luxembourg",
          "Netherlands",
          "Norway",
          "Poland",
          "Portugal",
          "Romania",
          "Slovakia",
          "Slovenia",
          "Spain",
          "Sweden",
          "Switzerland",
          "Ukraine",
          "United Kingdom"
         ],
         "xaxis": "x",
         "y": [
          30844.347,
          30883.951,
          51382.511,
          20771.931,
          17865.224,
          25853,
          22947.347999999998,
          46199.99,
          30443.716,
          21251.255,
          33836.221,
          26515.007,
          22967.592,
          37053.462,
          31489.612999999998,
          24476.028,
          18708.699,
          22567.531000000003,
          71243.909,
          52749.549000000006,
          30045.173,
          29243.099,
          21400.891,
          14871.376,
          23353.25,
          24082.502999999997,
          25138.334,
          19303.846,
          18462.576,
          16150.036,
          25528.107999999997
         ],
         "yaxis": "y"
        },
        {
         "alignmentgroup": "True",
         "hovertemplate": "Continents=North America<br>Year=2019<br>Countries=%{x}<br>Fossil fuels per capita (kWh)=%{y}<extra></extra>",
         "legendgroup": "North America",
         "marker": {
          "color": "#FFA15A",
          "pattern": {
           "shape": ""
          }
         },
         "name": "North America",
         "offsetgroup": "North America",
         "orientation": "v",
         "showlegend": true,
         "textposition": "auto",
         "type": "bar",
         "x": [
          "Canada",
          "Mexico",
          "Trinidad and Tobago",
          "United States"
         ],
         "xaxis": "x",
         "y": [
          69719.613,
          15378.81,
          142110.53,
          66525.162
         ],
         "yaxis": "y"
        },
        {
         "alignmentgroup": "True",
         "hovertemplate": "Continents=South America<br>Year=2019<br>Countries=%{x}<br>Fossil fuels per capita (kWh)=%{y}<extra></extra>",
         "legendgroup": "South America",
         "marker": {
          "color": "#19d3f3",
          "pattern": {
           "shape": ""
          }
         },
         "name": "South America",
         "offsetgroup": "South America",
         "orientation": "v",
         "showlegend": true,
         "textposition": "auto",
         "type": "bar",
         "x": [
          "Argentina",
          "Brazil",
          "Chile",
          "Colombia",
          "Ecuador",
          "Peru",
          "Venezuela"
         ],
         "xaxis": "x",
         "y": [
          18101.027,
          8786.423,
          18723.471999999998,
          7965.146,
          8267.901,
          7066.682,
          16184.178999999998
         ],
         "yaxis": "y"
        }
       ],
       "frames": [
        {
         "data": [
          {
           "alignmentgroup": "True",
           "hovertemplate": "Continents=Africa<br>Year=1965<br>Countries=%{x}<br>Fossil fuels per capita (kWh)=%{y}<extra></extra>",
           "legendgroup": "Africa",
           "marker": {
            "color": "#636efa",
            "pattern": {
             "shape": ""
            }
           },
           "name": "Africa",
           "offsetgroup": "Africa",
           "orientation": "v",
           "showlegend": true,
           "textposition": "auto",
           "type": "bar",
           "x": [
            "Algeria",
            "Egypt",
            "Morocco"
           ],
           "xaxis": "x",
           "y": [
            1884.3020000000001,
            2844.03,
            994.095
           ],
           "yaxis": "y"
          },
          {
           "alignmentgroup": "True",
           "hovertemplate": "Continents=Asia<br>Year=1965<br>Countries=%{x}<br>Fossil fuels per capita (kWh)=%{y}<extra></extra>",
           "legendgroup": "Asia",
           "marker": {
            "color": "#EF553B",
            "pattern": {
             "shape": ""
            }
           },
           "name": "Asia",
           "offsetgroup": "Asia",
           "orientation": "v",
           "showlegend": true,
           "textposition": "auto",
           "type": "bar",
           "x": [
            "China",
            "India",
            "Indonesia",
            "Iran",
            "Iraq",
            "Israel",
            "Japan",
            "Kuwait",
            "Malaysia",
            "Oman",
            "Pakistan",
            "Philippines",
            "Qatar",
            "Saudi Arabia",
            "Singapore",
            "Sri Lanka",
            "Thailand",
            "United Arab Emirates",
            "Vietnam"
           ],
           "xaxis": "x",
           "y": [
            2030.953,
            1127.529,
            789.0830000000001,
            3783.3909999999996,
            2406.77,
            18663.233,
            16237.732,
            171795.26100000003,
            2864.781,
            8467.109,
            1487.287,
            1624.149,
            19068.705,
            48542.473,
            25499.491,
            493.6,
            886.7710000000001,
            5696.892,
            751.462
           ],
           "yaxis": "y"
          },
          {
           "alignmentgroup": "True",
           "hovertemplate": "Continents=Australia_NZ<br>Year=1965<br>Countries=%{x}<br>Fossil fuels per capita (kWh)=%{y}<extra></extra>",
           "legendgroup": "Australia_NZ",
           "marker": {
            "color": "#00cc96",
            "pattern": {
             "shape": ""
            }
           },
           "name": "Australia_NZ",
           "offsetgroup": "Australia_NZ",
           "orientation": "v",
           "showlegend": true,
           "textposition": "auto",
           "type": "bar",
           "x": [
            "Australia",
            "New Zealand"
           ],
           "xaxis": "x",
           "y": [
            33870.33,
            19705.965
           ],
           "yaxis": "y"
          },
          {
           "alignmentgroup": "True",
           "hovertemplate": "Continents=Europe<br>Year=1965<br>Countries=%{x}<br>Fossil fuels per capita (kWh)=%{y}<extra></extra>",
           "legendgroup": "Europe",
           "marker": {
            "color": "#ab63fa",
            "pattern": {
             "shape": ""
            }
           },
           "name": "Europe",
           "offsetgroup": "Europe",
           "orientation": "v",
           "showlegend": true,
           "textposition": "auto",
           "type": "bar",
           "x": [
            "Austria",
            "Belgium",
            "Bulgaria",
            "Cyprus",
            "Denmark",
            "Finland",
            "France",
            "Germany",
            "Greece",
            "Hungary",
            "Iceland",
            "Ireland",
            "Italy",
            "Luxembourg",
            "Netherlands",
            "Norway",
            "Poland",
            "Portugal",
            "Romania",
            "Slovakia",
            "Spain",
            "Sweden",
            "Switzerland",
            "United Kingdom"
           ],
           "xaxis": "x",
           "y": [
            19430.682,
            43640.115,
            13864.985,
            8055.515,
            34902.202000000005,
            19204.503,
            23970.394,
            38304.497,
            9081.819,
            18166.548,
            29627.557999999997,
            22973.653,
            15186.761999999999,
            125904.757,
            33798.206,
            18580.558,
            24658.697,
            4221.903,
            14228.553,
            22875.436,
            8685.142,
            33001.614,
            19131.772,
            41659.317
           ],
           "yaxis": "y"
          },
          {
           "alignmentgroup": "True",
           "hovertemplate": "Continents=North America<br>Year=1965<br>Countries=%{x}<br>Fossil fuels per capita (kWh)=%{y}<extra></extra>",
           "legendgroup": "North America",
           "marker": {
            "color": "#FFA15A",
            "pattern": {
             "shape": ""
            }
           },
           "name": "North America",
           "offsetgroup": "North America",
           "orientation": "v",
           "showlegend": true,
           "textposition": "auto",
           "type": "bar",
           "x": [
            "Canada",
            "Mexico",
            "Trinidad and Tobago",
            "United States"
           ],
           "xaxis": "x",
           "y": [
            52959.492,
            6053.795,
            36870.263999999996,
            69915.6
           ],
           "yaxis": "y"
          },
          {
           "alignmentgroup": "True",
           "hovertemplate": "Continents=South America<br>Year=1965<br>Countries=%{x}<br>Fossil fuels per capita (kWh)=%{y}<extra></extra>",
           "legendgroup": "South America",
           "marker": {
            "color": "#19d3f3",
            "pattern": {
             "shape": ""
            }
           },
           "name": "South America",
           "offsetgroup": "South America",
           "orientation": "v",
           "showlegend": true,
           "textposition": "auto",
           "type": "bar",
           "x": [
            "Argentina",
            "Brazil",
            "Chile",
            "Colombia",
            "Ecuador",
            "Peru",
            "Venezuela"
           ],
           "xaxis": "x",
           "y": [
            13981.435,
            2379.905,
            6822.376,
            4187.884,
            1510.42,
            4160.985,
            19339.333
           ],
           "yaxis": "y"
          }
         ],
         "name": "1965"
        },
        {
         "data": [
          {
           "alignmentgroup": "True",
           "hovertemplate": "Continents=Africa<br>Year=1966<br>Countries=%{x}<br>Fossil fuels per capita (kWh)=%{y}<extra></extra>",
           "legendgroup": "Africa",
           "marker": {
            "color": "#636efa",
            "pattern": {
             "shape": ""
            }
           },
           "name": "Africa",
           "offsetgroup": "Africa",
           "orientation": "v",
           "showlegend": true,
           "textposition": "auto",
           "type": "bar",
           "x": [
            "Algeria",
            "Egypt",
            "Morocco"
           ],
           "xaxis": "x",
           "y": [
            2230.7070000000003,
            2915.2209999999995,
            1386.799
           ],
           "yaxis": "y"
          },
          {
           "alignmentgroup": "True",
           "hovertemplate": "Continents=Asia<br>Year=1966<br>Countries=%{x}<br>Fossil fuels per capita (kWh)=%{y}<extra></extra>",
           "legendgroup": "Asia",
           "marker": {
            "color": "#EF553B",
            "pattern": {
             "shape": ""
            }
           },
           "name": "Asia",
           "offsetgroup": "Asia",
           "orientation": "v",
           "showlegend": true,
           "textposition": "auto",
           "type": "bar",
           "x": [
            "China",
            "India",
            "Indonesia",
            "Iran",
            "Iraq",
            "Israel",
            "Japan",
            "Kuwait",
            "Malaysia",
            "Oman",
            "Pakistan",
            "Philippines",
            "Qatar",
            "Saudi Arabia",
            "Singapore",
            "Sri Lanka",
            "Thailand",
            "United Arab Emirates",
            "Vietnam"
           ],
           "xaxis": "x",
           "y": [
            2158.925,
            1136.563,
            746.2130000000001,
            4013.472,
            2596.325,
            19014.661,
            17847.832,
            162420.533,
            3251.0570000000002,
            8598.571,
            1460.886,
            1716.526,
            17758.736,
            47521.792,
            28527.237,
            493.51800000000003,
            1020.081,
            5700.262,
            1291.87
           ],
           "yaxis": "y"
          },
          {
           "alignmentgroup": "True",
           "hovertemplate": "Continents=Australia_NZ<br>Year=1966<br>Countries=%{x}<br>Fossil fuels per capita (kWh)=%{y}<extra></extra>",
           "legendgroup": "Australia_NZ",
           "marker": {
            "color": "#00cc96",
            "pattern": {
             "shape": ""
            }
           },
           "name": "Australia_NZ",
           "offsetgroup": "Australia_NZ",
           "orientation": "v",
           "showlegend": true,
           "textposition": "auto",
           "type": "bar",
           "x": [
            "Australia",
            "New Zealand"
           ],
           "xaxis": "x",
           "y": [
            36528.602,
            20525.506
           ],
           "yaxis": "y"
          },
          {
           "alignmentgroup": "True",
           "hovertemplate": "Continents=Europe<br>Year=1966<br>Countries=%{x}<br>Fossil fuels per capita (kWh)=%{y}<extra></extra>",
           "legendgroup": "Europe",
           "marker": {
            "color": "#ab63fa",
            "pattern": {
             "shape": ""
            }
           },
           "name": "Europe",
           "offsetgroup": "Europe",
           "orientation": "v",
           "showlegend": true,
           "textposition": "auto",
           "type": "bar",
           "x": [
            "Austria",
            "Belgium",
            "Bulgaria",
            "Cyprus",
            "Denmark",
            "Finland",
            "France",
            "Germany",
            "Greece",
            "Hungary",
            "Iceland",
            "Ireland",
            "Italy",
            "Luxembourg",
            "Netherlands",
            "Norway",
            "Poland",
            "Portugal",
            "Romania",
            "Slovakia",
            "Spain",
            "Sweden",
            "Switzerland",
            "United Kingdom"
           ],
           "xaxis": "x",
           "y": [
            20005.115,
            41833.505,
            14802.266000000001,
            9125.875,
            39404.227,
            21975.395,
            24002.896,
            38068.261,
            9603.597,
            18335.355,
            31318.67,
            25853.982000000004,
            16485.815,
            119961.79699999999,
            35744.742999999995,
            20313.866,
            24917.292,
            4346.805,
            15024.493,
            23604.537,
            9270.014000000001,
            36419.172999999995,
            19449.407,
            41355.399
           ],
           "yaxis": "y"
          },
          {
           "alignmentgroup": "True",
           "hovertemplate": "Continents=North America<br>Year=1966<br>Countries=%{x}<br>Fossil fuels per capita (kWh)=%{y}<extra></extra>",
           "legendgroup": "North America",
           "marker": {
            "color": "#FFA15A",
            "pattern": {
             "shape": ""
            }
           },
           "name": "North America",
           "offsetgroup": "North America",
           "orientation": "v",
           "showlegend": true,
           "textposition": "auto",
           "type": "bar",
           "x": [
            "Canada",
            "Mexico",
            "Trinidad and Tobago",
            "United States"
           ],
           "xaxis": "x",
           "y": [
            54612.452000000005,
            6165.741999999999,
            38930.808,
            73174.345
           ],
           "yaxis": "y"
          },
          {
           "alignmentgroup": "True",
           "hovertemplate": "Continents=South America<br>Year=1966<br>Countries=%{x}<br>Fossil fuels per capita (kWh)=%{y}<extra></extra>",
           "legendgroup": "South America",
           "marker": {
            "color": "#19d3f3",
            "pattern": {
             "shape": ""
            }
           },
           "name": "South America",
           "offsetgroup": "South America",
           "orientation": "v",
           "showlegend": true,
           "textposition": "auto",
           "type": "bar",
           "x": [
            "Argentina",
            "Brazil",
            "Chile",
            "Colombia",
            "Ecuador",
            "Peru",
            "Venezuela"
           ],
           "xaxis": "x",
           "y": [
            14234.643999999998,
            2523.572,
            7205.9259999999995,
            4420.987,
            1531.72,
            5006.861,
            18874.776
           ],
           "yaxis": "y"
          }
         ],
         "name": "1966"
        },
        {
         "data": [
          {
           "alignmentgroup": "True",
           "hovertemplate": "Continents=Africa<br>Year=1967<br>Countries=%{x}<br>Fossil fuels per capita (kWh)=%{y}<extra></extra>",
           "legendgroup": "Africa",
           "marker": {
            "color": "#636efa",
            "pattern": {
             "shape": ""
            }
           },
           "name": "Africa",
           "offsetgroup": "Africa",
           "orientation": "v",
           "showlegend": true,
           "textposition": "auto",
           "type": "bar",
           "x": [
            "Algeria",
            "Egypt",
            "Morocco"
           ],
           "xaxis": "x",
           "y": [
            2036.54,
            2394.783,
            1461.527
           ],
           "yaxis": "y"
          },
          {
           "alignmentgroup": "True",
           "hovertemplate": "Continents=Asia<br>Year=1967<br>Countries=%{x}<br>Fossil fuels per capita (kWh)=%{y}<extra></extra>",
           "legendgroup": "Asia",
           "marker": {
            "color": "#EF553B",
            "pattern": {
             "shape": ""
            }
           },
           "name": "Asia",
           "offsetgroup": "Asia",
           "orientation": "v",
           "showlegend": true,
           "textposition": "auto",
           "type": "bar",
           "x": [
            "China",
            "India",
            "Indonesia",
            "Iran",
            "Iraq",
            "Israel",
            "Japan",
            "Kuwait",
            "Malaysia",
            "Oman",
            "Pakistan",
            "Philippines",
            "Qatar",
            "Saudi Arabia",
            "Singapore",
            "Sri Lanka",
            "Thailand",
            "United Arab Emirates",
            "Vietnam"
           ],
           "xaxis": "x",
           "y": [
            1893.245,
            1137.978,
            708.6060000000001,
            4297.396,
            2533.837,
            19394.678,
            20834.25,
            150130.565,
            3195.7070000000003,
            8726.949,
            1565.9479999999999,
            1874.045,
            23667.196,
            46538.032999999996,
            33566.141,
            493.458,
            1114.1019999999999,
            31804.472,
            1738.5620000000001
           ],
           "yaxis": "y"
          },
          {
           "alignmentgroup": "True",
           "hovertemplate": "Continents=Australia_NZ<br>Year=1967<br>Countries=%{x}<br>Fossil fuels per capita (kWh)=%{y}<extra></extra>",
           "legendgroup": "Australia_NZ",
           "marker": {
            "color": "#00cc96",
            "pattern": {
             "shape": ""
            }
           },
           "name": "Australia_NZ",
           "offsetgroup": "Australia_NZ",
           "orientation": "v",
           "showlegend": true,
           "textposition": "auto",
           "type": "bar",
           "x": [
            "Australia",
            "New Zealand"
           ],
           "xaxis": "x",
           "y": [
            37788.019,
            20326.779
           ],
           "yaxis": "y"
          },
          {
           "alignmentgroup": "True",
           "hovertemplate": "Continents=Europe<br>Year=1967<br>Countries=%{x}<br>Fossil fuels per capita (kWh)=%{y}<extra></extra>",
           "legendgroup": "Europe",
           "marker": {
            "color": "#ab63fa",
            "pattern": {
             "shape": ""
            }
           },
           "name": "Europe",
           "offsetgroup": "Europe",
           "orientation": "v",
           "showlegend": true,
           "textposition": "auto",
           "type": "bar",
           "x": [
            "Austria",
            "Belgium",
            "Bulgaria",
            "Cyprus",
            "Denmark",
            "Finland",
            "France",
            "Germany",
            "Greece",
            "Hungary",
            "Iceland",
            "Ireland",
            "Italy",
            "Luxembourg",
            "Netherlands",
            "Norway",
            "Poland",
            "Portugal",
            "Romania",
            "Slovakia",
            "Spain",
            "Sweden",
            "Switzerland",
            "United Kingdom"
           ],
           "xaxis": "x",
           "y": [
            20012.277,
            43728.064000000006,
            17183.471999999998,
            9792.317,
            39331.479,
            22633.377999999997,
            25884.127999999997,
            37704.63,
            10610.835,
            17430.978,
            30023.191000000003,
            28038.199,
            18073.828999999998,
            117341.24,
            37333.79,
            20890.79,
            25431.955,
            4743.888,
            16524.62,
            23773.142000000003,
            10494.851999999999,
            35974.782999999996,
            20284.065,
            40966.742
           ],
           "yaxis": "y"
          },
          {
           "alignmentgroup": "True",
           "hovertemplate": "Continents=North America<br>Year=1967<br>Countries=%{x}<br>Fossil fuels per capita (kWh)=%{y}<extra></extra>",
           "legendgroup": "North America",
           "marker": {
            "color": "#FFA15A",
            "pattern": {
             "shape": ""
            }
           },
           "name": "North America",
           "offsetgroup": "North America",
           "orientation": "v",
           "showlegend": true,
           "textposition": "auto",
           "type": "bar",
           "x": [
            "Canada",
            "Mexico",
            "Trinidad and Tobago",
            "United States"
           ],
           "xaxis": "x",
           "y": [
            56573.012,
            6047.63,
            41230.123999999996,
            74678.427
           ],
           "yaxis": "y"
          },
          {
           "alignmentgroup": "True",
           "hovertemplate": "Continents=South America<br>Year=1967<br>Countries=%{x}<br>Fossil fuels per capita (kWh)=%{y}<extra></extra>",
           "legendgroup": "South America",
           "marker": {
            "color": "#19d3f3",
            "pattern": {
             "shape": ""
            }
           },
           "name": "South America",
           "offsetgroup": "South America",
           "orientation": "v",
           "showlegend": true,
           "textposition": "auto",
           "type": "bar",
           "x": [
            "Argentina",
            "Brazil",
            "Chile",
            "Colombia",
            "Ecuador",
            "Peru",
            "Venezuela"
           ],
           "xaxis": "x",
           "y": [
            14443.328000000001,
            2536.096,
            7219.170999999999,
            4546.413,
            1606.3220000000001,
            4889.915,
            19206.407
           ],
           "yaxis": "y"
          }
         ],
         "name": "1967"
        },
        {
         "data": [
          {
           "alignmentgroup": "True",
           "hovertemplate": "Continents=Africa<br>Year=1968<br>Countries=%{x}<br>Fossil fuels per capita (kWh)=%{y}<extra></extra>",
           "legendgroup": "Africa",
           "marker": {
            "color": "#636efa",
            "pattern": {
             "shape": ""
            }
           },
           "name": "Africa",
           "offsetgroup": "Africa",
           "orientation": "v",
           "showlegend": true,
           "textposition": "auto",
           "type": "bar",
           "x": [
            "Algeria",
            "Egypt",
            "Morocco"
           ],
           "xaxis": "x",
           "y": [
            2098.9629999999997,
            2440.374,
            1521.896
           ],
           "yaxis": "y"
          },
          {
           "alignmentgroup": "True",
           "hovertemplate": "Continents=Asia<br>Year=1968<br>Countries=%{x}<br>Fossil fuels per capita (kWh)=%{y}<extra></extra>",
           "legendgroup": "Asia",
           "marker": {
            "color": "#EF553B",
            "pattern": {
             "shape": ""
            }
           },
           "name": "Asia",
           "offsetgroup": "Asia",
           "orientation": "v",
           "showlegend": true,
           "textposition": "auto",
           "type": "bar",
           "x": [
            "China",
            "India",
            "Indonesia",
            "Iran",
            "Iraq",
            "Israel",
            "Japan",
            "Kuwait",
            "Malaysia",
            "Oman",
            "Pakistan",
            "Philippines",
            "Qatar",
            "Saudi Arabia",
            "Singapore",
            "Sri Lanka",
            "Thailand",
            "United Arab Emirates",
            "Vietnam"
           ],
           "xaxis": "x",
           "y": [
            1848.126,
            1180.684,
            723.383,
            4598.708,
            2612.645,
            19882.142,
            23006.845,
            144154.747,
            3160.205,
            8857.187,
            1721.846,
            2070.996,
            69242.681,
            45567.602999999996,
            40928.695,
            493.412,
            1417.527,
            37949.282,
            1751.391
           ],
           "yaxis": "y"
          },
          {
           "alignmentgroup": "True",
           "hovertemplate": "Continents=Australia_NZ<br>Year=1968<br>Countries=%{x}<br>Fossil fuels per capita (kWh)=%{y}<extra></extra>",
           "legendgroup": "Australia_NZ",
           "marker": {
            "color": "#00cc96",
            "pattern": {
             "shape": ""
            }
           },
           "name": "Australia_NZ",
           "offsetgroup": "Australia_NZ",
           "orientation": "v",
           "showlegend": true,
           "textposition": "auto",
           "type": "bar",
           "x": [
            "Australia",
            "New Zealand"
           ],
           "xaxis": "x",
           "y": [
            39070.431000000004,
            20090.342
           ],
           "yaxis": "y"
          },
          {
           "alignmentgroup": "True",
           "hovertemplate": "Continents=Europe<br>Year=1968<br>Countries=%{x}<br>Fossil fuels per capita (kWh)=%{y}<extra></extra>",
           "legendgroup": "Europe",
           "marker": {
            "color": "#ab63fa",
            "pattern": {
             "shape": ""
            }
           },
           "name": "Europe",
           "offsetgroup": "Europe",
           "orientation": "v",
           "showlegend": true,
           "textposition": "auto",
           "type": "bar",
           "x": [
            "Austria",
            "Belgium",
            "Bulgaria",
            "Cyprus",
            "Denmark",
            "Finland",
            "France",
            "Germany",
            "Greece",
            "Hungary",
            "Iceland",
            "Ireland",
            "Italy",
            "Luxembourg",
            "Netherlands",
            "Norway",
            "Poland",
            "Portugal",
            "Romania",
            "Slovakia",
            "Spain",
            "Sweden",
            "Switzerland",
            "United Kingdom"
           ],
           "xaxis": "x",
           "y": [
            21568.394,
            48559.77099999999,
            19414.15,
            10747.921,
            40814.821,
            25906.709,
            26901.551,
            40019.962,
            11097.355,
            18011.94,
            31516.477000000003,
            32702.769,
            19620.978,
            126201.849,
            41261.832,
            22835.721,
            27161.606,
            4987.188,
            17369.426,
            26297.151,
            10873.678999999998,
            39557.382000000005,
            21979.222,
            42190.808
           ],
           "yaxis": "y"
          },
          {
           "alignmentgroup": "True",
           "hovertemplate": "Continents=North America<br>Year=1968<br>Countries=%{x}<br>Fossil fuels per capita (kWh)=%{y}<extra></extra>",
           "legendgroup": "North America",
           "marker": {
            "color": "#FFA15A",
            "pattern": {
             "shape": ""
            }
           },
           "name": "North America",
           "offsetgroup": "North America",
           "orientation": "v",
           "showlegend": true,
           "textposition": "auto",
           "type": "bar",
           "x": [
            "Canada",
            "Mexico",
            "Trinidad and Tobago",
            "United States"
           ],
           "xaxis": "x",
           "y": [
            59987.637,
            6346.684,
            42228.055,
            78593.777
           ],
           "yaxis": "y"
          },
          {
           "alignmentgroup": "True",
           "hovertemplate": "Continents=South America<br>Year=1968<br>Countries=%{x}<br>Fossil fuels per capita (kWh)=%{y}<extra></extra>",
           "legendgroup": "South America",
           "marker": {
            "color": "#19d3f3",
            "pattern": {
             "shape": ""
            }
           },
           "name": "South America",
           "offsetgroup": "South America",
           "orientation": "v",
           "showlegend": true,
           "textposition": "auto",
           "type": "bar",
           "x": [
            "Argentina",
            "Brazil",
            "Chile",
            "Colombia",
            "Ecuador",
            "Peru",
            "Venezuela"
           ],
           "xaxis": "x",
           "y": [
            14702.45,
            2911.3720000000003,
            7281.558000000001,
            4622.708,
            1864.131,
            4805.085999999999,
            19791.373
           ],
           "yaxis": "y"
          }
         ],
         "name": "1968"
        },
        {
         "data": [
          {
           "alignmentgroup": "True",
           "hovertemplate": "Continents=Africa<br>Year=1969<br>Countries=%{x}<br>Fossil fuels per capita (kWh)=%{y}<extra></extra>",
           "legendgroup": "Africa",
           "marker": {
            "color": "#636efa",
            "pattern": {
             "shape": ""
            }
           },
           "name": "Africa",
           "offsetgroup": "Africa",
           "orientation": "v",
           "showlegend": true,
           "textposition": "auto",
           "type": "bar",
           "x": [
            "Algeria",
            "Egypt",
            "Morocco"
           ],
           "xaxis": "x",
           "y": [
            2309.1839999999997,
            1826.98,
            1592.6229999999998
           ],
           "yaxis": "y"
          },
          {
           "alignmentgroup": "True",
           "hovertemplate": "Continents=Asia<br>Year=1969<br>Countries=%{x}<br>Fossil fuels per capita (kWh)=%{y}<extra></extra>",
           "legendgroup": "Asia",
           "marker": {
            "color": "#EF553B",
            "pattern": {
             "shape": ""
            }
           },
           "name": "Asia",
           "offsetgroup": "Asia",
           "orientation": "v",
           "showlegend": true,
           "textposition": "auto",
           "type": "bar",
           "x": [
            "China",
            "India",
            "Indonesia",
            "Iran",
            "Iraq",
            "Israel",
            "Japan",
            "Kuwait",
            "Malaysia",
            "Oman",
            "Pakistan",
            "Philippines",
            "Qatar",
            "Saudi Arabia",
            "Singapore",
            "Sri Lanka",
            "Thailand",
            "United Arab Emirates",
            "Vietnam"
           ],
           "xaxis": "x",
           "y": [
            2204.021,
            1276.995,
            801.78,
            4912.768,
            2963.958,
            20251.118000000002,
            26099.997000000003,
            135880.708,
            3186.113,
            8949.983,
            1676.207,
            2157.487,
            100184.635,
            44582.672999999995,
            39468.59,
            493.394,
            1489.9779999999998,
            34329.709,
            2016.0610000000001
           ],
           "yaxis": "y"
          },
          {
           "alignmentgroup": "True",
           "hovertemplate": "Continents=Australia_NZ<br>Year=1969<br>Countries=%{x}<br>Fossil fuels per capita (kWh)=%{y}<extra></extra>",
           "legendgroup": "Australia_NZ",
           "marker": {
            "color": "#00cc96",
            "pattern": {
             "shape": ""
            }
           },
           "name": "Australia_NZ",
           "offsetgroup": "Australia_NZ",
           "orientation": "v",
           "showlegend": true,
           "textposition": "auto",
           "type": "bar",
           "x": [
            "Australia",
            "New Zealand"
           ],
           "xaxis": "x",
           "y": [
            39608.02,
            20513.141
           ],
           "yaxis": "y"
          },
          {
           "alignmentgroup": "True",
           "hovertemplate": "Continents=Europe<br>Year=1969<br>Countries=%{x}<br>Fossil fuels per capita (kWh)=%{y}<extra></extra>",
           "legendgroup": "Europe",
           "marker": {
            "color": "#ab63fa",
            "pattern": {
             "shape": ""
            }
           },
           "name": "Europe",
           "offsetgroup": "Europe",
           "orientation": "v",
           "showlegend": true,
           "textposition": "auto",
           "type": "bar",
           "x": [
            "Austria",
            "Belgium",
            "Bulgaria",
            "Cyprus",
            "Denmark",
            "Finland",
            "France",
            "Germany",
            "Greece",
            "Hungary",
            "Iceland",
            "Ireland",
            "Italy",
            "Luxembourg",
            "Netherlands",
            "Norway",
            "Poland",
            "Portugal",
            "Romania",
            "Slovakia",
            "Spain",
            "Sweden",
            "Switzerland",
            "United Kingdom"
           ],
           "xaxis": "x",
           "y": [
            23063.468999999997,
            53128.407999999996,
            21363.683999999997,
            12524.421999999999,
            46536.38,
            30223.945,
            29573.546000000002,
            42999.977999999996,
            11451.745,
            19215.964,
            28581.484,
            32776.876000000004,
            21302.88,
            135175.522,
            45421.502,
            24940.496,
            28814.977000000003,
            5179.784000000001,
            19662.966,
            27576.866,
            11855.229,
            41792.38,
            23380.884,
            43463.042
           ],
           "yaxis": "y"
          },
          {
           "alignmentgroup": "True",
           "hovertemplate": "Continents=North America<br>Year=1969<br>Countries=%{x}<br>Fossil fuels per capita (kWh)=%{y}<extra></extra>",
           "legendgroup": "North America",
           "marker": {
            "color": "#FFA15A",
            "pattern": {
             "shape": ""
            }
           },
           "name": "North America",
           "offsetgroup": "North America",
           "orientation": "v",
           "showlegend": true,
           "textposition": "auto",
           "type": "bar",
           "x": [
            "Canada",
            "Mexico",
            "Trinidad and Tobago",
            "United States"
           ],
           "xaxis": "x",
           "y": [
            61755.666,
            6783.185,
            43268.217000000004,
            81838.88799999999
           ],
           "yaxis": "y"
          },
          {
           "alignmentgroup": "True",
           "hovertemplate": "Continents=South America<br>Year=1969<br>Countries=%{x}<br>Fossil fuels per capita (kWh)=%{y}<extra></extra>",
           "legendgroup": "South America",
           "marker": {
            "color": "#19d3f3",
            "pattern": {
             "shape": ""
            }
           },
           "name": "South America",
           "offsetgroup": "South America",
           "orientation": "v",
           "showlegend": true,
           "textposition": "auto",
           "type": "bar",
           "x": [
            "Argentina",
            "Brazil",
            "Chile",
            "Colombia",
            "Ecuador",
            "Peru",
            "Venezuela"
           ],
           "xaxis": "x",
           "y": [
            15005.921999999999,
            3117.538,
            7661.543000000001,
            4518.062,
            1915.701,
            4648.068,
            19274.131
           ],
           "yaxis": "y"
          }
         ],
         "name": "1969"
        },
        {
         "data": [
          {
           "alignmentgroup": "True",
           "hovertemplate": "Continents=Africa<br>Year=1970<br>Countries=%{x}<br>Fossil fuels per capita (kWh)=%{y}<extra></extra>",
           "legendgroup": "Africa",
           "marker": {
            "color": "#636efa",
            "pattern": {
             "shape": ""
            }
           },
           "name": "Africa",
           "offsetgroup": "Africa",
           "orientation": "v",
           "showlegend": true,
           "textposition": "auto",
           "type": "bar",
           "x": [
            "Algeria",
            "Egypt",
            "Morocco"
           ],
           "xaxis": "x",
           "y": [
            2422.667,
            2247.39,
            1647.412
           ],
           "yaxis": "y"
          },
          {
           "alignmentgroup": "True",
           "hovertemplate": "Continents=Asia<br>Year=1970<br>Countries=%{x}<br>Fossil fuels per capita (kWh)=%{y}<extra></extra>",
           "legendgroup": "Asia",
           "marker": {
            "color": "#EF553B",
            "pattern": {
             "shape": ""
            }
           },
           "name": "Asia",
           "offsetgroup": "Asia",
           "orientation": "v",
           "showlegend": true,
           "textposition": "auto",
           "type": "bar",
           "x": [
            "China",
            "India",
            "Indonesia",
            "Iran",
            "Iraq",
            "Israel",
            "Japan",
            "Kuwait",
            "Malaysia",
            "Oman",
            "Pakistan",
            "Philippines",
            "Qatar",
            "Saudi Arabia",
            "Singapore",
            "Sri Lanka",
            "Thailand",
            "United Arab Emirates",
            "Vietnam"
           ],
           "xaxis": "x",
           "y": [
            2767.7859999999996,
            1206.847,
            823.921,
            5654.5019999999995,
            3633.993,
            20494.131999999998,
            28921.814,
            102567.71800000001,
            3439.408,
            9062.873,
            1622.125,
            2382.548,
            104779.05900000001,
            45040.380999999994,
            42087.569,
            965.2239999999999,
            1680.614,
            40874.888,
            2047.445
           ],
           "yaxis": "y"
          },
          {
           "alignmentgroup": "True",
           "hovertemplate": "Continents=Australia_NZ<br>Year=1970<br>Countries=%{x}<br>Fossil fuels per capita (kWh)=%{y}<extra></extra>",
           "legendgroup": "Australia_NZ",
           "marker": {
            "color": "#00cc96",
            "pattern": {
             "shape": ""
            }
           },
           "name": "Australia_NZ",
           "offsetgroup": "Australia_NZ",
           "orientation": "v",
           "showlegend": true,
           "textposition": "auto",
           "type": "bar",
           "x": [
            "Australia",
            "New Zealand"
           ],
           "xaxis": "x",
           "y": [
            42147.602,
            22970.279
           ],
           "yaxis": "y"
          },
          {
           "alignmentgroup": "True",
           "hovertemplate": "Continents=Europe<br>Year=1970<br>Countries=%{x}<br>Fossil fuels per capita (kWh)=%{y}<extra></extra>",
           "legendgroup": "Europe",
           "marker": {
            "color": "#ab63fa",
            "pattern": {
             "shape": ""
            }
           },
           "name": "Europe",
           "offsetgroup": "Europe",
           "orientation": "v",
           "showlegend": true,
           "textposition": "auto",
           "type": "bar",
           "x": [
            "Austria",
            "Belgium",
            "Bulgaria",
            "Cyprus",
            "Denmark",
            "Finland",
            "France",
            "Germany",
            "Greece",
            "Hungary",
            "Iceland",
            "Ireland",
            "Italy",
            "Luxembourg",
            "Netherlands",
            "Norway",
            "Poland",
            "Portugal",
            "Romania",
            "Slovakia",
            "Spain",
            "Sweden",
            "Switzerland",
            "United Kingdom"
           ],
           "xaxis": "x",
           "y": [
            25438.527000000002,
            55928.397000000004,
            23859.331000000002,
            13037.191,
            49263.567,
            33292.62,
            31814.525,
            45022.892,
            12530.948999999999,
            20632.803,
            28880.64,
            25251.354,
            23565.467999999997,
            139489.22400000002,
            50665.596,
            27596.521,
            30101.927000000003,
            6834.6269999999995,
            20624.431,
            29944.547000000002,
            13099.703000000001,
            45099.01,
            25653.001,
            44334.887
           ],
           "yaxis": "y"
          },
          {
           "alignmentgroup": "True",
           "hovertemplate": "Continents=North America<br>Year=1970<br>Countries=%{x}<br>Fossil fuels per capita (kWh)=%{y}<extra></extra>",
           "legendgroup": "North America",
           "marker": {
            "color": "#FFA15A",
            "pattern": {
             "shape": ""
            }
           },
           "name": "North America",
           "offsetgroup": "North America",
           "orientation": "v",
           "showlegend": true,
           "textposition": "auto",
           "type": "bar",
           "x": [
            "Canada",
            "Mexico",
            "Trinidad and Tobago",
            "United States"
           ],
           "xaxis": "x",
           "y": [
            65407.155,
            6984.552,
            47281.077000000005,
            83909.879
           ],
           "yaxis": "y"
          },
          {
           "alignmentgroup": "True",
           "hovertemplate": "Continents=South America<br>Year=1970<br>Countries=%{x}<br>Fossil fuels per capita (kWh)=%{y}<extra></extra>",
           "legendgroup": "South America",
           "marker": {
            "color": "#19d3f3",
            "pattern": {
             "shape": ""
            }
           },
           "name": "South America",
           "offsetgroup": "South America",
           "orientation": "v",
           "showlegend": true,
           "textposition": "auto",
           "type": "bar",
           "x": [
            "Argentina",
            "Brazil",
            "Chile",
            "Colombia",
            "Ecuador",
            "Peru",
            "Venezuela"
           ],
           "xaxis": "x",
           "y": [
            13920.153,
            3441.9509999999996,
            7938.844,
            4790.08,
            2236.8520000000003,
            4724.39,
            18632.86
           ],
           "yaxis": "y"
          }
         ],
         "name": "1970"
        },
        {
         "data": [
          {
           "alignmentgroup": "True",
           "hovertemplate": "Continents=Africa<br>Year=1971<br>Countries=%{x}<br>Fossil fuels per capita (kWh)=%{y}<extra></extra>",
           "legendgroup": "Africa",
           "marker": {
            "color": "#636efa",
            "pattern": {
             "shape": ""
            }
           },
           "name": "Africa",
           "offsetgroup": "Africa",
           "orientation": "v",
           "showlegend": true,
           "textposition": "auto",
           "type": "bar",
           "x": [
            "Algeria",
            "Egypt",
            "Morocco"
           ],
           "xaxis": "x",
           "y": [
            2606.0429999999997,
            2239.087,
            1699.307
           ],
           "yaxis": "y"
          },
          {
           "alignmentgroup": "True",
           "hovertemplate": "Continents=Asia<br>Year=1971<br>Countries=%{x}<br>Fossil fuels per capita (kWh)=%{y}<extra></extra>",
           "legendgroup": "Asia",
           "marker": {
            "color": "#EF553B",
            "pattern": {
             "shape": ""
            }
           },
           "name": "Asia",
           "offsetgroup": "Asia",
           "orientation": "v",
           "showlegend": true,
           "textposition": "auto",
           "type": "bar",
           "x": [
            "Bangladesh",
            "China",
            "India",
            "Indonesia",
            "Iran",
            "Iraq",
            "Israel",
            "Japan",
            "Kuwait",
            "Malaysia",
            "Oman",
            "Pakistan",
            "Philippines",
            "Qatar",
            "Saudi Arabia",
            "Singapore",
            "Sri Lanka",
            "Thailand",
            "United Arab Emirates",
            "Vietnam"
           ],
           "xaxis": "x",
           "y": [
            124.14200000000001,
            3197.784,
            1220.198,
            829.868,
            6030.696999999999,
            3849.68,
            20692.571,
            30173.828999999998,
            95473.06,
            3770.47,
            20656.229,
            1485.73,
            2685.455,
            96481.146,
            43152.288,
            35858.804,
            860.9580000000001,
            1803.365,
            52844.918,
            1776.1270000000002
           ],
           "yaxis": "y"
          },
          {
           "alignmentgroup": "True",
           "hovertemplate": "Continents=Australia_NZ<br>Year=1971<br>Countries=%{x}<br>Fossil fuels per capita (kWh)=%{y}<extra></extra>",
           "legendgroup": "Australia_NZ",
           "marker": {
            "color": "#00cc96",
            "pattern": {
             "shape": ""
            }
           },
           "name": "Australia_NZ",
           "offsetgroup": "Australia_NZ",
           "orientation": "v",
           "showlegend": true,
           "textposition": "auto",
           "type": "bar",
           "x": [
            "Australia",
            "New Zealand"
           ],
           "xaxis": "x",
           "y": [
            43270.248,
            22526.852000000003
           ],
           "yaxis": "y"
          },
          {
           "alignmentgroup": "True",
           "hovertemplate": "Continents=Europe<br>Year=1971<br>Countries=%{x}<br>Fossil fuels per capita (kWh)=%{y}<extra></extra>",
           "legendgroup": "Europe",
           "marker": {
            "color": "#ab63fa",
            "pattern": {
             "shape": ""
            }
           },
           "name": "Europe",
           "offsetgroup": "Europe",
           "orientation": "v",
           "showlegend": true,
           "textposition": "auto",
           "type": "bar",
           "x": [
            "Austria",
            "Belgium",
            "Bulgaria",
            "Cyprus",
            "Denmark",
            "Finland",
            "France",
            "Germany",
            "Greece",
            "Hungary",
            "Iceland",
            "Ireland",
            "Italy",
            "Luxembourg",
            "Netherlands",
            "Norway",
            "Poland",
            "Portugal",
            "Romania",
            "Slovakia",
            "Spain",
            "Sweden",
            "Switzerland",
            "United Kingdom"
           ],
           "xaxis": "x",
           "y": [
            26933.437,
            54738.545999999995,
            24720.236,
            15376.042,
            46264.484000000004,
            33484.223,
            33215.617,
            45474.545,
            15004.115,
            21236.134,
            30969.588,
            26276.497000000003,
            24841.086,
            133627.12900000002,
            52831.085999999996,
            26977.956000000002,
            30835.586,
            7580.4619999999995,
            21423.892999999996,
            32245.564,
            14030.888,
            42089.515999999996,
            26605.626,
            43331.894
           ],
           "yaxis": "y"
          },
          {
           "alignmentgroup": "True",
           "hovertemplate": "Continents=North America<br>Year=1971<br>Countries=%{x}<br>Fossil fuels per capita (kWh)=%{y}<extra></extra>",
           "legendgroup": "North America",
           "marker": {
            "color": "#FFA15A",
            "pattern": {
             "shape": ""
            }
           },
           "name": "North America",
           "offsetgroup": "North America",
           "orientation": "v",
           "showlegend": true,
           "textposition": "auto",
           "type": "bar",
           "x": [
            "Canada",
            "Mexico",
            "Trinidad and Tobago",
            "United States"
           ],
           "xaxis": "x",
           "y": [
            66042.604,
            7192.331999999999,
            47121.828,
            84499.34
           ],
           "yaxis": "y"
          },
          {
           "alignmentgroup": "True",
           "hovertemplate": "Continents=South America<br>Year=1971<br>Countries=%{x}<br>Fossil fuels per capita (kWh)=%{y}<extra></extra>",
           "legendgroup": "South America",
           "marker": {
            "color": "#19d3f3",
            "pattern": {
             "shape": ""
            }
           },
           "name": "South America",
           "offsetgroup": "South America",
           "orientation": "v",
           "showlegend": true,
           "textposition": "auto",
           "type": "bar",
           "x": [
            "Argentina",
            "Brazil",
            "Chile",
            "Colombia",
            "Ecuador",
            "Peru",
            "Venezuela"
           ],
           "xaxis": "x",
           "y": [
            14569.485,
            3676.59,
            8382.624,
            4535.944,
            2389.994,
            4638.065,
            18072.014
           ],
           "yaxis": "y"
          }
         ],
         "name": "1971"
        },
        {
         "data": [
          {
           "alignmentgroup": "True",
           "hovertemplate": "Continents=Africa<br>Year=1972<br>Countries=%{x}<br>Fossil fuels per capita (kWh)=%{y}<extra></extra>",
           "legendgroup": "Africa",
           "marker": {
            "color": "#636efa",
            "pattern": {
             "shape": ""
            }
           },
           "name": "Africa",
           "offsetgroup": "Africa",
           "orientation": "v",
           "showlegend": true,
           "textposition": "auto",
           "type": "bar",
           "x": [
            "Algeria",
            "Egypt",
            "Morocco"
           ],
           "xaxis": "x",
           "y": [
            2825.08,
            2465.904,
            1806.9520000000002
           ],
           "yaxis": "y"
          },
          {
           "alignmentgroup": "True",
           "hovertemplate": "Continents=Asia<br>Year=1972<br>Countries=%{x}<br>Fossil fuels per capita (kWh)=%{y}<extra></extra>",
           "legendgroup": "Asia",
           "marker": {
            "color": "#EF553B",
            "pattern": {
             "shape": ""
            }
           },
           "name": "Asia",
           "offsetgroup": "Asia",
           "orientation": "v",
           "showlegend": true,
           "textposition": "auto",
           "type": "bar",
           "x": [
            "Bangladesh",
            "China",
            "India",
            "Indonesia",
            "Iran",
            "Iraq",
            "Israel",
            "Japan",
            "Kuwait",
            "Malaysia",
            "Oman",
            "Pakistan",
            "Philippines",
            "Qatar",
            "Saudi Arabia",
            "Singapore",
            "Sri Lanka",
            "Thailand",
            "United Arab Emirates",
            "Vietnam"
           ],
           "xaxis": "x",
           "y": [
            231.173,
            3359.9190000000003,
            1269.04,
            862.863,
            6602.852,
            4424.308,
            20899.196,
            31211.938,
            99568.675,
            4173.532999999999,
            22779.937,
            1237.998,
            2560.9629999999997,
            96953.786,
            44137.227,
            44087.285,
            922.174,
            2184.3160000000003,
            47281.458,
            1692.4270000000001
           ],
           "yaxis": "y"
          },
          {
           "alignmentgroup": "True",
           "hovertemplate": "Continents=Australia_NZ<br>Year=1972<br>Countries=%{x}<br>Fossil fuels per capita (kWh)=%{y}<extra></extra>",
           "legendgroup": "Australia_NZ",
           "marker": {
            "color": "#00cc96",
            "pattern": {
             "shape": ""
            }
           },
           "name": "Australia_NZ",
           "offsetgroup": "Australia_NZ",
           "orientation": "v",
           "showlegend": true,
           "textposition": "auto",
           "type": "bar",
           "x": [
            "Australia",
            "New Zealand"
           ],
           "xaxis": "x",
           "y": [
            44626.899000000005,
            23731.941000000003
           ],
           "yaxis": "y"
          },
          {
           "alignmentgroup": "True",
           "hovertemplate": "Continents=Europe<br>Year=1972<br>Countries=%{x}<br>Fossil fuels per capita (kWh)=%{y}<extra></extra>",
           "legendgroup": "Europe",
           "marker": {
            "color": "#ab63fa",
            "pattern": {
             "shape": ""
            }
           },
           "name": "Europe",
           "offsetgroup": "Europe",
           "orientation": "v",
           "showlegend": true,
           "textposition": "auto",
           "type": "bar",
           "x": [
            "Austria",
            "Belgium",
            "Bulgaria",
            "Cyprus",
            "Denmark",
            "Finland",
            "France",
            "Germany",
            "Greece",
            "Hungary",
            "Iceland",
            "Ireland",
            "Italy",
            "Luxembourg",
            "Netherlands",
            "Norway",
            "Poland",
            "Portugal",
            "Romania",
            "Slovakia",
            "Spain",
            "Sweden",
            "Switzerland",
            "United Kingdom"
           ],
           "xaxis": "x",
           "y": [
            27794.049,
            57997.51,
            25336.688,
            17097.185,
            48541.675,
            35695.084,
            35162.952000000005,
            46905.085,
            16820.596999999998,
            21863.889,
            32689.882999999998,
            27150.264,
            25883.116,
            136535.744,
            60729.295,
            28139.838,
            32276.97,
            8045.65,
            21967.686,
            33619.187999999995,
            14741.681999999999,
            42626.431,
            26956.605,
            43787.412000000004
           ],
           "yaxis": "y"
          },
          {
           "alignmentgroup": "True",
           "hovertemplate": "Continents=North America<br>Year=1972<br>Countries=%{x}<br>Fossil fuels per capita (kWh)=%{y}<extra></extra>",
           "legendgroup": "North America",
           "marker": {
            "color": "#FFA15A",
            "pattern": {
             "shape": ""
            }
           },
           "name": "North America",
           "offsetgroup": "North America",
           "orientation": "v",
           "showlegend": true,
           "textposition": "auto",
           "type": "bar",
           "x": [
            "Canada",
            "Mexico",
            "Trinidad and Tobago",
            "United States"
           ],
           "xaxis": "x",
           "y": [
            68716.34599999999,
            7746.476,
            64186.424000000006,
            87944.226
           ],
           "yaxis": "y"
          },
          {
           "alignmentgroup": "True",
           "hovertemplate": "Continents=South America<br>Year=1972<br>Countries=%{x}<br>Fossil fuels per capita (kWh)=%{y}<extra></extra>",
           "legendgroup": "South America",
           "marker": {
            "color": "#19d3f3",
            "pattern": {
             "shape": ""
            }
           },
           "name": "South America",
           "offsetgroup": "South America",
           "orientation": "v",
           "showlegend": true,
           "textposition": "auto",
           "type": "bar",
           "x": [
            "Argentina",
            "Brazil",
            "Chile",
            "Colombia",
            "Ecuador",
            "Peru",
            "Venezuela"
           ],
           "xaxis": "x",
           "y": [
            14599.978000000001,
            4103.465999999999,
            8309.903,
            4991.569,
            2433.252,
            3919.8909999999996,
            18469.24
           ],
           "yaxis": "y"
          }
         ],
         "name": "1972"
        },
        {
         "data": [
          {
           "alignmentgroup": "True",
           "hovertemplate": "Continents=Africa<br>Year=1973<br>Countries=%{x}<br>Fossil fuels per capita (kWh)=%{y}<extra></extra>",
           "legendgroup": "Africa",
           "marker": {
            "color": "#636efa",
            "pattern": {
             "shape": ""
            }
           },
           "name": "Africa",
           "offsetgroup": "Africa",
           "orientation": "v",
           "showlegend": true,
           "textposition": "auto",
           "type": "bar",
           "x": [
            "Algeria",
            "Egypt",
            "Morocco"
           ],
           "xaxis": "x",
           "y": [
            3248.063,
            2258.595,
            2066.485
           ],
           "yaxis": "y"
          },
          {
           "alignmentgroup": "True",
           "hovertemplate": "Continents=Asia<br>Year=1973<br>Countries=%{x}<br>Fossil fuels per capita (kWh)=%{y}<extra></extra>",
           "legendgroup": "Asia",
           "marker": {
            "color": "#EF553B",
            "pattern": {
             "shape": ""
            }
           },
           "name": "Asia",
           "offsetgroup": "Asia",
           "orientation": "v",
           "showlegend": true,
           "textposition": "auto",
           "type": "bar",
           "x": [
            "Bangladesh",
            "China",
            "India",
            "Indonesia",
            "Iran",
            "Iraq",
            "Israel",
            "Japan",
            "Kuwait",
            "Malaysia",
            "Oman",
            "Pakistan",
            "Philippines",
            "Qatar",
            "Saudi Arabia",
            "Singapore",
            "Sri Lanka",
            "Thailand",
            "United Arab Emirates",
            "Vietnam"
           ],
           "xaxis": "x",
           "y": [
            276.518,
            3460.428,
            1253.839,
            944.2339999999999,
            7793.014,
            4155.654,
            21140.23,
            34905.941,
            93432.69900000001,
            4414.742,
            19053.192,
            1279.563,
            2919.67,
            126908.664,
            44845.142,
            40788.443999999996,
            942.815,
            2249.222,
            51375.005999999994,
            1747.385
           ],
           "yaxis": "y"
          },
          {
           "alignmentgroup": "True",
           "hovertemplate": "Continents=Australia_NZ<br>Year=1973<br>Countries=%{x}<br>Fossil fuels per capita (kWh)=%{y}<extra></extra>",
           "legendgroup": "Australia_NZ",
           "marker": {
            "color": "#00cc96",
            "pattern": {
             "shape": ""
            }
           },
           "name": "Australia_NZ",
           "offsetgroup": "Australia_NZ",
           "orientation": "v",
           "showlegend": true,
           "textposition": "auto",
           "type": "bar",
           "x": [
            "Australia",
            "New Zealand"
           ],
           "xaxis": "x",
           "y": [
            47047.973,
            25027.945
           ],
           "yaxis": "y"
          },
          {
           "alignmentgroup": "True",
           "hovertemplate": "Continents=Europe<br>Year=1973<br>Countries=%{x}<br>Fossil fuels per capita (kWh)=%{y}<extra></extra>",
           "legendgroup": "Europe",
           "marker": {
            "color": "#ab63fa",
            "pattern": {
             "shape": ""
            }
           },
           "name": "Europe",
           "offsetgroup": "Europe",
           "orientation": "v",
           "showlegend": true,
           "textposition": "auto",
           "type": "bar",
           "x": [
            "Austria",
            "Belgium",
            "Bulgaria",
            "Cyprus",
            "Denmark",
            "Finland",
            "France",
            "Germany",
            "Greece",
            "Hungary",
            "Iceland",
            "Ireland",
            "Italy",
            "Luxembourg",
            "Netherlands",
            "Norway",
            "Poland",
            "Portugal",
            "Romania",
            "Slovakia",
            "Spain",
            "Sweden",
            "Switzerland",
            "United Kingdom"
           ],
           "xaxis": "x",
           "y": [
            29539.754,
            58557.22900000001,
            26048.326,
            18140.44,
            46720.905,
            39677.934,
            38247.508,
            49468.04,
            19497.78,
            23617.332000000002,
            37299.259,
            28173.392999999996,
            27180.262000000002,
            143579.952,
            63773.245,
            28547.863999999998,
            32624.432999999997,
            8916.168,
            23713.453999999998,
            34696.04,
            16681.271,
            43613.507000000005,
            28782.795,
            46000.328
           ],
           "yaxis": "y"
          },
          {
           "alignmentgroup": "True",
           "hovertemplate": "Continents=North America<br>Year=1973<br>Countries=%{x}<br>Fossil fuels per capita (kWh)=%{y}<extra></extra>",
           "legendgroup": "North America",
           "marker": {
            "color": "#FFA15A",
            "pattern": {
             "shape": ""
            }
           },
           "name": "North America",
           "offsetgroup": "North America",
           "orientation": "v",
           "showlegend": true,
           "textposition": "auto",
           "type": "bar",
           "x": [
            "Canada",
            "Mexico",
            "Trinidad and Tobago",
            "United States"
           ],
           "xaxis": "x",
           "y": [
            71362.631,
            8124.501,
            62774.178,
            90524.341
           ],
           "yaxis": "y"
          },
          {
           "alignmentgroup": "True",
           "hovertemplate": "Continents=South America<br>Year=1973<br>Countries=%{x}<br>Fossil fuels per capita (kWh)=%{y}<extra></extra>",
           "legendgroup": "South America",
           "marker": {
            "color": "#19d3f3",
            "pattern": {
             "shape": ""
            }
           },
           "name": "South America",
           "offsetgroup": "South America",
           "orientation": "v",
           "showlegend": true,
           "textposition": "auto",
           "type": "bar",
           "x": [
            "Argentina",
            "Brazil",
            "Chile",
            "Colombia",
            "Ecuador",
            "Peru",
            "Venezuela"
           ],
           "xaxis": "x",
           "y": [
            14827.686000000002,
            4858.817,
            7843.339,
            4797.153,
            2549.612,
            4448.8279999999995,
            20684.926
           ],
           "yaxis": "y"
          }
         ],
         "name": "1973"
        },
        {
         "data": [
          {
           "alignmentgroup": "True",
           "hovertemplate": "Continents=Africa<br>Year=1974<br>Countries=%{x}<br>Fossil fuels per capita (kWh)=%{y}<extra></extra>",
           "legendgroup": "Africa",
           "marker": {
            "color": "#636efa",
            "pattern": {
             "shape": ""
            }
           },
           "name": "Africa",
           "offsetgroup": "Africa",
           "orientation": "v",
           "showlegend": true,
           "textposition": "auto",
           "type": "bar",
           "x": [
            "Algeria",
            "Egypt",
            "Morocco"
           ],
           "xaxis": "x",
           "y": [
            3556.837,
            2495.218,
            2152.2529999999997
           ],
           "yaxis": "y"
          },
          {
           "alignmentgroup": "True",
           "hovertemplate": "Continents=Asia<br>Year=1974<br>Countries=%{x}<br>Fossil fuels per capita (kWh)=%{y}<extra></extra>",
           "legendgroup": "Asia",
           "marker": {
            "color": "#EF553B",
            "pattern": {
             "shape": ""
            }
           },
           "name": "Asia",
           "offsetgroup": "Asia",
           "orientation": "v",
           "showlegend": true,
           "textposition": "auto",
           "type": "bar",
           "x": [
            "Bangladesh",
            "China",
            "India",
            "Indonesia",
            "Iran",
            "Iraq",
            "Israel",
            "Japan",
            "Kuwait",
            "Malaysia",
            "Oman",
            "Pakistan",
            "Philippines",
            "Qatar",
            "Saudi Arabia",
            "Singapore",
            "Sri Lanka",
            "Thailand",
            "United Arab Emirates",
            "Vietnam"
           ],
           "xaxis": "x",
           "y": [
            285.159,
            3482.2859999999996,
            1315.21,
            984.9780000000001,
            8582.828000000001,
            3937.6820000000002,
            20907.418,
            33930.084,
            84497.36099999999,
            4402.911,
            16778.971999999998,
            1337.01,
            2656.0159999999996,
            102027.22099999999,
            45266.34,
            39559.115,
            733.041,
            2242.239,
            47742.032,
            1264.18
           ],
           "yaxis": "y"
          },
          {
           "alignmentgroup": "True",
           "hovertemplate": "Continents=Australia_NZ<br>Year=1974<br>Countries=%{x}<br>Fossil fuels per capita (kWh)=%{y}<extra></extra>",
           "legendgroup": "Australia_NZ",
           "marker": {
            "color": "#00cc96",
            "pattern": {
             "shape": ""
            }
           },
           "name": "Australia_NZ",
           "offsetgroup": "Australia_NZ",
           "orientation": "v",
           "showlegend": true,
           "textposition": "auto",
           "type": "bar",
           "x": [
            "Australia",
            "New Zealand"
           ],
           "xaxis": "x",
           "y": [
            49206.757000000005,
            24340.676
           ],
           "yaxis": "y"
          },
          {
           "alignmentgroup": "True",
           "hovertemplate": "Continents=Europe<br>Year=1974<br>Countries=%{x}<br>Fossil fuels per capita (kWh)=%{y}<extra></extra>",
           "legendgroup": "Europe",
           "marker": {
            "color": "#ab63fa",
            "pattern": {
             "shape": ""
            }
           },
           "name": "Europe",
           "offsetgroup": "Europe",
           "orientation": "v",
           "showlegend": true,
           "textposition": "auto",
           "type": "bar",
           "x": [
            "Austria",
            "Belgium",
            "Bulgaria",
            "Cyprus",
            "Denmark",
            "Finland",
            "France",
            "Germany",
            "Greece",
            "Hungary",
            "Iceland",
            "Ireland",
            "Italy",
            "Luxembourg",
            "Netherlands",
            "Norway",
            "Poland",
            "Portugal",
            "Romania",
            "Slovakia",
            "Spain",
            "Sweden",
            "Switzerland",
            "United Kingdom"
           ],
           "xaxis": "x",
           "y": [
            28298.269,
            56356.689000000006,
            26583.17,
            15908.243999999999,
            42301.747,
            36258.083,
            36746.856,
            48427.468,
            18835.977,
            24272.565,
            34324.379,
            28059.013,
            26952.126,
            144365.739,
            59479.386,
            26356.023999999998,
            33373.875,
            9154.91,
            23516.655,
            35491.122,
            17091.006,
            39545.972,
            25786.465,
            43245.997
           ],
           "yaxis": "y"
          },
          {
           "alignmentgroup": "True",
           "hovertemplate": "Continents=North America<br>Year=1974<br>Countries=%{x}<br>Fossil fuels per capita (kWh)=%{y}<extra></extra>",
           "legendgroup": "North America",
           "marker": {
            "color": "#FFA15A",
            "pattern": {
             "shape": ""
            }
           },
           "name": "North America",
           "offsetgroup": "North America",
           "orientation": "v",
           "showlegend": true,
           "textposition": "auto",
           "type": "bar",
           "x": [
            "Canada",
            "Mexico",
            "Trinidad and Tobago",
            "United States"
           ],
           "xaxis": "x",
           "y": [
            71388.969,
            8745.702,
            59623.454000000005,
            86544.463
           ],
           "yaxis": "y"
          },
          {
           "alignmentgroup": "True",
           "hovertemplate": "Continents=South America<br>Year=1974<br>Countries=%{x}<br>Fossil fuels per capita (kWh)=%{y}<extra></extra>",
           "legendgroup": "South America",
           "marker": {
            "color": "#19d3f3",
            "pattern": {
             "shape": ""
            }
           },
           "name": "South America",
           "offsetgroup": "South America",
           "orientation": "v",
           "showlegend": true,
           "textposition": "auto",
           "type": "bar",
           "x": [
            "Argentina",
            "Brazil",
            "Chile",
            "Colombia",
            "Ecuador",
            "Peru",
            "Venezuela"
           ],
           "xaxis": "x",
           "y": [
            14906.708,
            5128.787,
            7417.102,
            5244.91,
            2897.1490000000003,
            5075.79,
            20498.908
           ],
           "yaxis": "y"
          }
         ],
         "name": "1974"
        },
        {
         "data": [
          {
           "alignmentgroup": "True",
           "hovertemplate": "Continents=Africa<br>Year=1975<br>Countries=%{x}<br>Fossil fuels per capita (kWh)=%{y}<extra></extra>",
           "legendgroup": "Africa",
           "marker": {
            "color": "#636efa",
            "pattern": {
             "shape": ""
            }
           },
           "name": "Africa",
           "offsetgroup": "Africa",
           "orientation": "v",
           "showlegend": true,
           "textposition": "auto",
           "type": "bar",
           "x": [
            "Algeria",
            "Egypt",
            "Morocco"
           ],
           "xaxis": "x",
           "y": [
            4178.7,
            2703.1209999999996,
            2197.452
           ],
           "yaxis": "y"
          },
          {
           "alignmentgroup": "True",
           "hovertemplate": "Continents=Asia<br>Year=1975<br>Countries=%{x}<br>Fossil fuels per capita (kWh)=%{y}<extra></extra>",
           "legendgroup": "Asia",
           "marker": {
            "color": "#EF553B",
            "pattern": {
             "shape": ""
            }
           },
           "name": "Asia",
           "offsetgroup": "Asia",
           "orientation": "v",
           "showlegend": true,
           "textposition": "auto",
           "type": "bar",
           "x": [
            "Bangladesh",
            "China",
            "India",
            "Indonesia",
            "Iran",
            "Iraq",
            "Israel",
            "Japan",
            "Kuwait",
            "Malaysia",
            "Oman",
            "Pakistan",
            "Philippines",
            "Qatar",
            "Saudi Arabia",
            "Singapore",
            "Sri Lanka",
            "Thailand",
            "United Arab Emirates",
            "Vietnam"
           ],
           "xaxis": "x",
           "y": [
            311.237,
            3834.302,
            1361.943,
            1182.877,
            9735.578000000001,
            4186.3640000000005,
            20911.89,
            31737.097999999998,
            71486.973,
            4472.238,
            14631.188,
            1385.4189999999999,
            2791.825,
            142959.552,
            34136.818,
            38046.917,
            696.2769999999999,
            2364.187,
            43538.736,
            1372.639
           ],
           "yaxis": "y"
          },
          {
           "alignmentgroup": "True",
           "hovertemplate": "Continents=Australia_NZ<br>Year=1975<br>Countries=%{x}<br>Fossil fuels per capita (kWh)=%{y}<extra></extra>",
           "legendgroup": "Australia_NZ",
           "marker": {
            "color": "#00cc96",
            "pattern": {
             "shape": ""
            }
           },
           "name": "Australia_NZ",
           "offsetgroup": "Australia_NZ",
           "orientation": "v",
           "showlegend": true,
           "textposition": "auto",
           "type": "bar",
           "x": [
            "Australia",
            "New Zealand"
           ],
           "xaxis": "x",
           "y": [
            49249.742,
            23218.701
           ],
           "yaxis": "y"
          },
          {
           "alignmentgroup": "True",
           "hovertemplate": "Continents=Europe<br>Year=1975<br>Countries=%{x}<br>Fossil fuels per capita (kWh)=%{y}<extra></extra>",
           "legendgroup": "Europe",
           "marker": {
            "color": "#ab63fa",
            "pattern": {
             "shape": ""
            }
           },
           "name": "Europe",
           "offsetgroup": "Europe",
           "orientation": "v",
           "showlegend": true,
           "textposition": "auto",
           "type": "bar",
           "x": [
            "Austria",
            "Belgium",
            "Bulgaria",
            "Cyprus",
            "Denmark",
            "Finland",
            "France",
            "Germany",
            "Greece",
            "Hungary",
            "Iceland",
            "Ireland",
            "Italy",
            "Luxembourg",
            "Netherlands",
            "Norway",
            "Poland",
            "Portugal",
            "Romania",
            "Slovakia",
            "Spain",
            "Sweden",
            "Switzerland",
            "United Kingdom"
           ],
           "xaxis": "x",
           "y": [
            27585.965,
            50958.232,
            28703.647999999997,
            13123.441,
            41512.453,
            37115.763999999996,
            33767.742999999995,
            46186.02099999999,
            21336.975,
            25575.867000000002,
            31940.929,
            26011.426,
            26009.765,
            118883.352,
            59257.449,
            26879.979,
            35727.897000000004,
            9389.395,
            25377.592,
            37162.879,
            17781.673,
            39533.998,
            24964.022,
            40796.723
           ],
           "yaxis": "y"
          },
          {
           "alignmentgroup": "True",
           "hovertemplate": "Continents=North America<br>Year=1975<br>Countries=%{x}<br>Fossil fuels per capita (kWh)=%{y}<extra></extra>",
           "legendgroup": "North America",
           "marker": {
            "color": "#FFA15A",
            "pattern": {
             "shape": ""
            }
           },
           "name": "North America",
           "offsetgroup": "North America",
           "orientation": "v",
           "showlegend": true,
           "textposition": "auto",
           "type": "bar",
           "x": [
            "Canada",
            "Mexico",
            "Trinidad and Tobago",
            "United States"
           ],
           "xaxis": "x",
           "y": [
            69938.009,
            9213.867,
            47320.812999999995,
            82777.76299999999
           ],
           "yaxis": "y"
          },
          {
           "alignmentgroup": "True",
           "hovertemplate": "Continents=South America<br>Year=1975<br>Countries=%{x}<br>Fossil fuels per capita (kWh)=%{y}<extra></extra>",
           "legendgroup": "South America",
           "marker": {
            "color": "#19d3f3",
            "pattern": {
             "shape": ""
            }
           },
           "name": "South America",
           "offsetgroup": "South America",
           "orientation": "v",
           "showlegend": true,
           "textposition": "auto",
           "type": "bar",
           "x": [
            "Argentina",
            "Brazil",
            "Chile",
            "Colombia",
            "Ecuador",
            "Peru",
            "Venezuela"
           ],
           "xaxis": "x",
           "y": [
            14110.28,
            5218.138,
            6401.9619999999995,
            5126.090999999999,
            2802.592,
            5072.839,
            20511.013
           ],
           "yaxis": "y"
          }
         ],
         "name": "1975"
        },
        {
         "data": [
          {
           "alignmentgroup": "True",
           "hovertemplate": "Continents=Africa<br>Year=1976<br>Countries=%{x}<br>Fossil fuels per capita (kWh)=%{y}<extra></extra>",
           "legendgroup": "Africa",
           "marker": {
            "color": "#636efa",
            "pattern": {
             "shape": ""
            }
           },
           "name": "Africa",
           "offsetgroup": "Africa",
           "orientation": "v",
           "showlegend": true,
           "textposition": "auto",
           "type": "bar",
           "x": [
            "Algeria",
            "Egypt",
            "Morocco"
           ],
           "xaxis": "x",
           "y": [
            4737.909000000001,
            3165.566,
            2345.636
           ],
           "yaxis": "y"
          },
          {
           "alignmentgroup": "True",
           "hovertemplate": "Continents=Asia<br>Year=1976<br>Countries=%{x}<br>Fossil fuels per capita (kWh)=%{y}<extra></extra>",
           "legendgroup": "Asia",
           "marker": {
            "color": "#EF553B",
            "pattern": {
             "shape": ""
            }
           },
           "name": "Asia",
           "offsetgroup": "Asia",
           "orientation": "v",
           "showlegend": true,
           "textposition": "auto",
           "type": "bar",
           "x": [
            "Bangladesh",
            "China",
            "India",
            "Indonesia",
            "Iran",
            "Iraq",
            "Israel",
            "Japan",
            "Kuwait",
            "Malaysia",
            "Oman",
            "Pakistan",
            "Philippines",
            "Qatar",
            "Saudi Arabia",
            "Singapore",
            "Sri Lanka",
            "Thailand",
            "United Arab Emirates",
            "Vietnam"
           ],
           "xaxis": "x",
           "y": [
            349.398,
            3971.792,
            1394.5529999999999,
            1230.384,
            10618.923,
            5207.253,
            21491.164,
            32404.488999999998,
            79369.258,
            4883.6140000000005,
            16026.331,
            1355.11,
            2792.25,
            86552.6,
            37523.329,
            44557.434,
            678.571,
            2432.8520000000003,
            47320.157,
            761.6669999999999
           ],
           "yaxis": "y"
          },
          {
           "alignmentgroup": "True",
           "hovertemplate": "Continents=Australia_NZ<br>Year=1976<br>Countries=%{x}<br>Fossil fuels per capita (kWh)=%{y}<extra></extra>",
           "legendgroup": "Australia_NZ",
           "marker": {
            "color": "#00cc96",
            "pattern": {
             "shape": ""
            }
           },
           "name": "Australia_NZ",
           "offsetgroup": "Australia_NZ",
           "orientation": "v",
           "showlegend": true,
           "textposition": "auto",
           "type": "bar",
           "x": [
            "Australia",
            "New Zealand"
           ],
           "xaxis": "x",
           "y": [
            50637.983,
            25446.877
           ],
           "yaxis": "y"
          },
          {
           "alignmentgroup": "True",
           "hovertemplate": "Continents=Europe<br>Year=1976<br>Countries=%{x}<br>Fossil fuels per capita (kWh)=%{y}<extra></extra>",
           "legendgroup": "Europe",
           "marker": {
            "color": "#ab63fa",
            "pattern": {
             "shape": ""
            }
           },
           "name": "Europe",
           "offsetgroup": "Europe",
           "orientation": "v",
           "showlegend": true,
           "textposition": "auto",
           "type": "bar",
           "x": [
            "Austria",
            "Belgium",
            "Bulgaria",
            "Cyprus",
            "Denmark",
            "Finland",
            "France",
            "Germany",
            "Greece",
            "Hungary",
            "Iceland",
            "Ireland",
            "Italy",
            "Luxembourg",
            "Netherlands",
            "Norway",
            "Poland",
            "Portugal",
            "Romania",
            "Slovakia",
            "Spain",
            "Sweden",
            "Switzerland",
            "United Kingdom"
           ],
           "xaxis": "x",
           "y": [
            30111.455,
            53149.379,
            29421.265,
            13180.952,
            45539.693,
            41403.127,
            36820.962999999996,
            49352.437000000005,
            23394.088,
            27194.843999999997,
            31799.256,
            26057.499,
            27566.539,
            118269.67199999999,
            64065.365,
            29187.7,
            37356.983,
            9658.246,
            27349.089,
            38049.477999999996,
            19389.397,
            43061.874,
            25911.271,
            41314.107
           ],
           "yaxis": "y"
          },
          {
           "alignmentgroup": "True",
           "hovertemplate": "Continents=North America<br>Year=1976<br>Countries=%{x}<br>Fossil fuels per capita (kWh)=%{y}<extra></extra>",
           "legendgroup": "North America",
           "marker": {
            "color": "#FFA15A",
            "pattern": {
             "shape": ""
            }
           },
           "name": "North America",
           "offsetgroup": "North America",
           "orientation": "v",
           "showlegend": true,
           "textposition": "auto",
           "type": "bar",
           "x": [
            "Canada",
            "Mexico",
            "Trinidad and Tobago",
            "United States"
           ],
           "xaxis": "x",
           "y": [
            72930.807,
            9490.492,
            52500.38,
            86766.519
           ],
           "yaxis": "y"
          },
          {
           "alignmentgroup": "True",
           "hovertemplate": "Continents=South America<br>Year=1976<br>Countries=%{x}<br>Fossil fuels per capita (kWh)=%{y}<extra></extra>",
           "legendgroup": "South America",
           "marker": {
            "color": "#19d3f3",
            "pattern": {
             "shape": ""
            }
           },
           "name": "South America",
           "offsetgroup": "South America",
           "orientation": "v",
           "showlegend": true,
           "textposition": "auto",
           "type": "bar",
           "x": [
            "Argentina",
            "Brazil",
            "Chile",
            "Colombia",
            "Ecuador",
            "Peru",
            "Venezuela"
           ],
           "xaxis": "x",
           "y": [
            14712.311000000002,
            5509.628000000001,
            6653.121999999999,
            5211.904,
            3037.81,
            4981.411,
            21618.924
           ],
           "yaxis": "y"
          }
         ],
         "name": "1976"
        },
        {
         "data": [
          {
           "alignmentgroup": "True",
           "hovertemplate": "Continents=Africa<br>Year=1977<br>Countries=%{x}<br>Fossil fuels per capita (kWh)=%{y}<extra></extra>",
           "legendgroup": "Africa",
           "marker": {
            "color": "#636efa",
            "pattern": {
             "shape": ""
            }
           },
           "name": "Africa",
           "offsetgroup": "Africa",
           "orientation": "v",
           "showlegend": true,
           "textposition": "auto",
           "type": "bar",
           "x": [
            "Algeria",
            "Egypt",
            "Morocco"
           ],
           "xaxis": "x",
           "y": [
            5085.437,
            3329.572,
            2532.453
           ],
           "yaxis": "y"
          },
          {
           "alignmentgroup": "True",
           "hovertemplate": "Continents=Asia<br>Year=1977<br>Countries=%{x}<br>Fossil fuels per capita (kWh)=%{y}<extra></extra>",
           "legendgroup": "Asia",
           "marker": {
            "color": "#EF553B",
            "pattern": {
             "shape": ""
            }
           },
           "name": "Asia",
           "offsetgroup": "Asia",
           "orientation": "v",
           "showlegend": true,
           "textposition": "auto",
           "type": "bar",
           "x": [
            "Bangladesh",
            "China",
            "India",
            "Indonesia",
            "Iran",
            "Iraq",
            "Israel",
            "Japan",
            "Kuwait",
            "Malaysia",
            "Oman",
            "Pakistan",
            "Philippines",
            "Qatar",
            "Saudi Arabia",
            "Singapore",
            "Sri Lanka",
            "Thailand",
            "United Arab Emirates",
            "Vietnam"
           ],
           "xaxis": "x",
           "y": [
            352.505,
            4268.479,
            1439.5629999999999,
            1579.7939999999999,
            11695.751,
            5178.918,
            21910.382999999998,
            32654.87,
            76171.448,
            5351.967,
            14634.131000000001,
            1408.565,
            2988.8559999999998,
            115292.44699999999,
            42125.096,
            44222.33900000001,
            708.625,
            2663.3390000000004,
            67525.90400000001,
            797.289
           ],
           "yaxis": "y"
          },
          {
           "alignmentgroup": "True",
           "hovertemplate": "Continents=Australia_NZ<br>Year=1977<br>Countries=%{x}<br>Fossil fuels per capita (kWh)=%{y}<extra></extra>",
           "legendgroup": "Australia_NZ",
           "marker": {
            "color": "#00cc96",
            "pattern": {
             "shape": ""
            }
           },
           "name": "Australia_NZ",
           "offsetgroup": "Australia_NZ",
           "orientation": "v",
           "showlegend": true,
           "textposition": "auto",
           "type": "bar",
           "x": [
            "Australia",
            "New Zealand"
           ],
           "xaxis": "x",
           "y": [
            52831.217000000004,
            26924.275
           ],
           "yaxis": "y"
          },
          {
           "alignmentgroup": "True",
           "hovertemplate": "Continents=Europe<br>Year=1977<br>Countries=%{x}<br>Fossil fuels per capita (kWh)=%{y}<extra></extra>",
           "legendgroup": "Europe",
           "marker": {
            "color": "#ab63fa",
            "pattern": {
             "shape": ""
            }
           },
           "name": "Europe",
           "offsetgroup": "Europe",
           "orientation": "v",
           "showlegend": true,
           "textposition": "auto",
           "type": "bar",
           "x": [
            "Austria",
            "Belgium",
            "Bulgaria",
            "Cyprus",
            "Denmark",
            "Finland",
            "France",
            "Germany",
            "Greece",
            "Hungary",
            "Iceland",
            "Ireland",
            "Italy",
            "Luxembourg",
            "Netherlands",
            "Norway",
            "Poland",
            "Portugal",
            "Romania",
            "Slovakia",
            "Spain",
            "Sweden",
            "Switzerland",
            "United Kingdom"
           ],
           "xaxis": "x",
           "y": [
            28533.106,
            52488.022000000004,
            30560.737999999998,
            14710.197,
            46323.833,
            40746.521,
            35530.275,
            48726.755999999994,
            23933.763,
            28442.165,
            32955.687000000005,
            27216.312,
            26937.449,
            109326.079,
            62478.955,
            29278.941000000003,
            38580.998999999996,
            9384.639000000001,
            28626.764,
            39611.693,
            18533.901,
            41150.496,
            26289.39,
            41948.942
           ],
           "yaxis": "y"
          },
          {
           "alignmentgroup": "True",
           "hovertemplate": "Continents=North America<br>Year=1977<br>Countries=%{x}<br>Fossil fuels per capita (kWh)=%{y}<extra></extra>",
           "legendgroup": "North America",
           "marker": {
            "color": "#FFA15A",
            "pattern": {
             "shape": ""
            }
           },
           "name": "North America",
           "offsetgroup": "North America",
           "orientation": "v",
           "showlegend": true,
           "textposition": "auto",
           "type": "bar",
           "x": [
            "Canada",
            "Mexico",
            "Trinidad and Tobago",
            "United States"
           ],
           "xaxis": "x",
           "y": [
            75934.286,
            9706.891,
            53875.7,
            88398.231
           ],
           "yaxis": "y"
          },
          {
           "alignmentgroup": "True",
           "hovertemplate": "Continents=South America<br>Year=1977<br>Countries=%{x}<br>Fossil fuels per capita (kWh)=%{y}<extra></extra>",
           "legendgroup": "South America",
           "marker": {
            "color": "#19d3f3",
            "pattern": {
             "shape": ""
            }
           },
           "name": "South America",
           "offsetgroup": "South America",
           "orientation": "v",
           "showlegend": true,
           "textposition": "auto",
           "type": "bar",
           "x": [
            "Argentina",
            "Brazil",
            "Chile",
            "Colombia",
            "Ecuador",
            "Peru",
            "Venezuela"
           ],
           "xaxis": "x",
           "y": [
            15195.941,
            5599.629,
            6762.021,
            5214.627,
            3581.1820000000002,
            4849.403,
            23338.234
           ],
           "yaxis": "y"
          }
         ],
         "name": "1977"
        },
        {
         "data": [
          {
           "alignmentgroup": "True",
           "hovertemplate": "Continents=Africa<br>Year=1978<br>Countries=%{x}<br>Fossil fuels per capita (kWh)=%{y}<extra></extra>",
           "legendgroup": "Africa",
           "marker": {
            "color": "#636efa",
            "pattern": {
             "shape": ""
            }
           },
           "name": "Africa",
           "offsetgroup": "Africa",
           "orientation": "v",
           "showlegend": true,
           "textposition": "auto",
           "type": "bar",
           "x": [
            "Algeria",
            "Egypt",
            "Morocco"
           ],
           "xaxis": "x",
           "y": [
            6221.54,
            3415.783,
            2631.175
           ],
           "yaxis": "y"
          },
          {
           "alignmentgroup": "True",
           "hovertemplate": "Continents=Asia<br>Year=1978<br>Countries=%{x}<br>Fossil fuels per capita (kWh)=%{y}<extra></extra>",
           "legendgroup": "Asia",
           "marker": {
            "color": "#EF553B",
            "pattern": {
             "shape": ""
            }
           },
           "name": "Asia",
           "offsetgroup": "Asia",
           "orientation": "v",
           "showlegend": true,
           "textposition": "auto",
           "type": "bar",
           "x": [
            "Bangladesh",
            "China",
            "India",
            "Indonesia",
            "Iran",
            "Iraq",
            "Israel",
            "Japan",
            "Kuwait",
            "Malaysia",
            "Oman",
            "Pakistan",
            "Philippines",
            "Qatar",
            "Saudi Arabia",
            "Singapore",
            "Sri Lanka",
            "Thailand",
            "United Arab Emirates",
            "Vietnam"
           ],
           "xaxis": "x",
           "y": [
            368.597,
            4632.991,
            1420.89,
            1722.83,
            10880.215,
            4793.625,
            22827.068,
            33209.113,
            78620.479,
            7188.599,
            16110.735,
            1425.594,
            2994.89,
            104835.81599999999,
            44562.974,
            45012.27099999999,
            809.26,
            2925.607,
            68635.996,
            799.4689999999999
           ],
           "yaxis": "y"
          },
          {
           "alignmentgroup": "True",
           "hovertemplate": "Continents=Australia_NZ<br>Year=1978<br>Countries=%{x}<br>Fossil fuels per capita (kWh)=%{y}<extra></extra>",
           "legendgroup": "Australia_NZ",
           "marker": {
            "color": "#00cc96",
            "pattern": {
             "shape": ""
            }
           },
           "name": "Australia_NZ",
           "offsetgroup": "Australia_NZ",
           "orientation": "v",
           "showlegend": true,
           "textposition": "auto",
           "type": "bar",
           "x": [
            "Australia",
            "New Zealand"
           ],
           "xaxis": "x",
           "y": [
            53400.317,
            25485.634
           ],
           "yaxis": "y"
          },
          {
           "alignmentgroup": "True",
           "hovertemplate": "Continents=Europe<br>Year=1978<br>Countries=%{x}<br>Fossil fuels per capita (kWh)=%{y}<extra></extra>",
           "legendgroup": "Europe",
           "marker": {
            "color": "#ab63fa",
            "pattern": {
             "shape": ""
            }
           },
           "name": "Europe",
           "offsetgroup": "Europe",
           "orientation": "v",
           "showlegend": true,
           "textposition": "auto",
           "type": "bar",
           "x": [
            "Austria",
            "Belgium",
            "Bulgaria",
            "Cyprus",
            "Denmark",
            "Finland",
            "France",
            "Germany",
            "Greece",
            "Hungary",
            "Iceland",
            "Ireland",
            "Italy",
            "Luxembourg",
            "Netherlands",
            "Norway",
            "Poland",
            "Portugal",
            "Romania",
            "Slovakia",
            "Spain",
            "Sweden",
            "Switzerland",
            "United Kingdom"
           ],
           "xaxis": "x",
           "y": [
            30209.798,
            54662.957,
            31858.945,
            14924.953000000001,
            46874.769,
            43663.16099999999,
            36980.666,
            50515.273,
            23681.682,
            30265.582000000002,
            34413.991,
            27944.267000000003,
            27811.947999999997,
            113153.80300000001,
            63200.462,
            32816.754,
            40152.441,
            9664.957,
            30484.113999999998,
            41345.483,
            18301.703999999998,
            49137.124,
            27059.95,
            42335.929000000004
           ],
           "yaxis": "y"
          },
          {
           "alignmentgroup": "True",
           "hovertemplate": "Continents=North America<br>Year=1978<br>Countries=%{x}<br>Fossil fuels per capita (kWh)=%{y}<extra></extra>",
           "legendgroup": "North America",
           "marker": {
            "color": "#FFA15A",
            "pattern": {
             "shape": ""
            }
           },
           "name": "North America",
           "offsetgroup": "North America",
           "orientation": "v",
           "showlegend": true,
           "textposition": "auto",
           "type": "bar",
           "x": [
            "Canada",
            "Mexico",
            "Trinidad and Tobago",
            "United States"
           ],
           "xaxis": "x",
           "y": [
            74125.031,
            10897.9,
            53456.402,
            86913.29699999999
           ],
           "yaxis": "y"
          },
          {
           "alignmentgroup": "True",
           "hovertemplate": "Continents=South America<br>Year=1978<br>Countries=%{x}<br>Fossil fuels per capita (kWh)=%{y}<extra></extra>",
           "legendgroup": "South America",
           "marker": {
            "color": "#19d3f3",
            "pattern": {
             "shape": ""
            }
           },
           "name": "South America",
           "offsetgroup": "South America",
           "orientation": "v",
           "showlegend": true,
           "textposition": "auto",
           "type": "bar",
           "x": [
            "Argentina",
            "Brazil",
            "Chile",
            "Colombia",
            "Ecuador",
            "Peru",
            "Venezuela"
           ],
           "xaxis": "x",
           "y": [
            14955.796,
            5987.861,
            7082.469,
            5358.406999999999,
            3567.0009999999997,
            4673.071,
            23221.636000000002
           ],
           "yaxis": "y"
          }
         ],
         "name": "1978"
        },
        {
         "data": [
          {
           "alignmentgroup": "True",
           "hovertemplate": "Continents=Africa<br>Year=1979<br>Countries=%{x}<br>Fossil fuels per capita (kWh)=%{y}<extra></extra>",
           "legendgroup": "Africa",
           "marker": {
            "color": "#636efa",
            "pattern": {
             "shape": ""
            }
           },
           "name": "Africa",
           "offsetgroup": "Africa",
           "orientation": "v",
           "showlegend": true,
           "textposition": "auto",
           "type": "bar",
           "x": [
            "Algeria",
            "Egypt",
            "Morocco"
           ],
           "xaxis": "x",
           "y": [
            7919.34,
            3730.375,
            2865.446
           ],
           "yaxis": "y"
          },
          {
           "alignmentgroup": "True",
           "hovertemplate": "Continents=Asia<br>Year=1979<br>Countries=%{x}<br>Fossil fuels per capita (kWh)=%{y}<extra></extra>",
           "legendgroup": "Asia",
           "marker": {
            "color": "#EF553B",
            "pattern": {
             "shape": ""
            }
           },
           "name": "Asia",
           "offsetgroup": "Asia",
           "orientation": "v",
           "showlegend": true,
           "textposition": "auto",
           "type": "bar",
           "x": [
            "Bangladesh",
            "China",
            "India",
            "Indonesia",
            "Iran",
            "Iraq",
            "Israel",
            "Japan",
            "Kuwait",
            "Malaysia",
            "Oman",
            "Pakistan",
            "Philippines",
            "Qatar",
            "Saudi Arabia",
            "Singapore",
            "Sri Lanka",
            "Thailand",
            "United Arab Emirates",
            "Vietnam"
           ],
           "xaxis": "x",
           "y": [
            396.37699999999995,
            4693.337,
            1487.749,
            1920.7979999999998,
            11437.653,
            5804.635,
            24456.952999999998,
            33819.186,
            90116.729,
            8569.158000000001,
            17557.914,
            1513.0710000000001,
            3001.778,
            245688.324,
            51088.166,
            47338.14,
            817.446,
            2954.864,
            72286.091,
            835.4830000000001
           ],
           "yaxis": "y"
          },
          {
           "alignmentgroup": "True",
           "hovertemplate": "Continents=Australia_NZ<br>Year=1979<br>Countries=%{x}<br>Fossil fuels per capita (kWh)=%{y}<extra></extra>",
           "legendgroup": "Australia_NZ",
           "marker": {
            "color": "#00cc96",
            "pattern": {
             "shape": ""
            }
           },
           "name": "Australia_NZ",
           "offsetgroup": "Australia_NZ",
           "orientation": "v",
           "showlegend": true,
           "textposition": "auto",
           "type": "bar",
           "x": [
            "Australia",
            "New Zealand"
           ],
           "xaxis": "x",
           "y": [
            55070.079000000005,
            23529.905
           ],
           "yaxis": "y"
          },
          {
           "alignmentgroup": "True",
           "hovertemplate": "Continents=Europe<br>Year=1979<br>Countries=%{x}<br>Fossil fuels per capita (kWh)=%{y}<extra></extra>",
           "legendgroup": "Europe",
           "marker": {
            "color": "#ab63fa",
            "pattern": {
             "shape": ""
            }
           },
           "name": "Europe",
           "offsetgroup": "Europe",
           "orientation": "v",
           "showlegend": true,
           "textposition": "auto",
           "type": "bar",
           "x": [
            "Austria",
            "Belgium",
            "Bulgaria",
            "Cyprus",
            "Denmark",
            "Finland",
            "France",
            "Germany",
            "Greece",
            "Hungary",
            "Iceland",
            "Ireland",
            "Italy",
            "Luxembourg",
            "Netherlands",
            "Norway",
            "Poland",
            "Portugal",
            "Romania",
            "Slovakia",
            "Spain",
            "Sweden",
            "Switzerland",
            "United Kingdom"
           ],
           "xaxis": "x",
           "y": [
            31390.841,
            56551.488,
            32862.028,
            14989.473,
            46695.707,
            45002.200999999994,
            37681.417,
            53242.202000000005,
            20228.252,
            29850.047000000002,
            33920.793,
            30324.581000000002,
            28739.379,
            115624.98800000001,
            65068.060999999994,
            33373.482,
            40391.498999999996,
            10208.904,
            30774.501,
            41160.781,
            19411.677,
            52975.111,
            26212.887000000002,
            44348.677
           ],
           "yaxis": "y"
          },
          {
           "alignmentgroup": "True",
           "hovertemplate": "Continents=North America<br>Year=1979<br>Countries=%{x}<br>Fossil fuels per capita (kWh)=%{y}<extra></extra>",
           "legendgroup": "North America",
           "marker": {
            "color": "#FFA15A",
            "pattern": {
             "shape": ""
            }
           },
           "name": "North America",
           "offsetgroup": "North America",
           "orientation": "v",
           "showlegend": true,
           "textposition": "auto",
           "type": "bar",
           "x": [
            "Canada",
            "Mexico",
            "Trinidad and Tobago",
            "United States"
           ],
           "xaxis": "x",
           "y": [
            74953.585,
            11734.025,
            46558.545,
            87471.502
           ],
           "yaxis": "y"
          },
          {
           "alignmentgroup": "True",
           "hovertemplate": "Continents=South America<br>Year=1979<br>Countries=%{x}<br>Fossil fuels per capita (kWh)=%{y}<extra></extra>",
           "legendgroup": "South America",
           "marker": {
            "color": "#19d3f3",
            "pattern": {
             "shape": ""
            }
           },
           "name": "South America",
           "offsetgroup": "South America",
           "orientation": "v",
           "showlegend": true,
           "textposition": "auto",
           "type": "bar",
           "x": [
            "Argentina",
            "Brazil",
            "Chile",
            "Colombia",
            "Ecuador",
            "Peru",
            "Venezuela"
           ],
           "xaxis": "x",
           "y": [
            15414.115,
            6165.411,
            7222.241,
            5521.321999999999,
            3661.5570000000002,
            4708.137,
            24747.584
           ],
           "yaxis": "y"
          }
         ],
         "name": "1979"
        },
        {
         "data": [
          {
           "alignmentgroup": "True",
           "hovertemplate": "Continents=Africa<br>Year=1980<br>Countries=%{x}<br>Fossil fuels per capita (kWh)=%{y}<extra></extra>",
           "legendgroup": "Africa",
           "marker": {
            "color": "#636efa",
            "pattern": {
             "shape": ""
            }
           },
           "name": "Africa",
           "offsetgroup": "Africa",
           "orientation": "v",
           "showlegend": true,
           "textposition": "auto",
           "type": "bar",
           "x": [
            "Algeria",
            "Egypt",
            "Morocco"
           ],
           "xaxis": "x",
           "y": [
            9176.108,
            4226.241,
            2816.1940000000004
           ],
           "yaxis": "y"
          },
          {
           "alignmentgroup": "True",
           "hovertemplate": "Continents=Asia<br>Year=1980<br>Countries=%{x}<br>Fossil fuels per capita (kWh)=%{y}<extra></extra>",
           "legendgroup": "Asia",
           "marker": {
            "color": "#EF553B",
            "pattern": {
             "shape": ""
            }
           },
           "name": "Asia",
           "offsetgroup": "Asia",
           "orientation": "v",
           "showlegend": true,
           "textposition": "auto",
           "type": "bar",
           "x": [
            "Bangladesh",
            "China",
            "India",
            "Indonesia",
            "Iran",
            "Iraq",
            "Israel",
            "Japan",
            "Kuwait",
            "Malaysia",
            "Oman",
            "Pakistan",
            "Philippines",
            "Qatar",
            "Saudi Arabia",
            "Singapore",
            "Sri Lanka",
            "Thailand",
            "United Arab Emirates",
            "Vietnam"
           ],
           "xaxis": "x",
           "y": [
            437.652,
            4694.149,
            1498.975,
            2010.8139999999999,
            10147.679,
            6820.434,
            25545.558999999997,
            31972.942000000003,
            64358.691,
            8950.074,
            14781.968,
            1643.004,
            2746.578,
            257113.835,
            43333.16099999999,
            46256.735,
            810.992,
            3016.7340000000004,
            106156.19099999999,
            916.508
           ],
           "yaxis": "y"
          },
          {
           "alignmentgroup": "True",
           "hovertemplate": "Continents=Australia_NZ<br>Year=1980<br>Countries=%{x}<br>Fossil fuels per capita (kWh)=%{y}<extra></extra>",
           "legendgroup": "Australia_NZ",
           "marker": {
            "color": "#00cc96",
            "pattern": {
             "shape": ""
            }
           },
           "name": "Australia_NZ",
           "offsetgroup": "Australia_NZ",
           "orientation": "v",
           "showlegend": true,
           "textposition": "auto",
           "type": "bar",
           "x": [
            "Australia",
            "New Zealand"
           ],
           "xaxis": "x",
           "y": [
            54950.335999999996,
            22653.68
           ],
           "yaxis": "y"
          },
          {
           "alignmentgroup": "True",
           "hovertemplate": "Continents=Europe<br>Year=1980<br>Countries=%{x}<br>Fossil fuels per capita (kWh)=%{y}<extra></extra>",
           "legendgroup": "Europe",
           "marker": {
            "color": "#ab63fa",
            "pattern": {
             "shape": ""
            }
           },
           "name": "Europe",
           "offsetgroup": "Europe",
           "orientation": "v",
           "showlegend": true,
           "textposition": "auto",
           "type": "bar",
           "x": [
            "Austria",
            "Belgium",
            "Bulgaria",
            "Cyprus",
            "Denmark",
            "Finland",
            "France",
            "Germany",
            "Greece",
            "Hungary",
            "Iceland",
            "Ireland",
            "Italy",
            "Luxembourg",
            "Netherlands",
            "Norway",
            "Poland",
            "Portugal",
            "Romania",
            "Slovakia",
            "Spain",
            "Sweden",
            "Switzerland",
            "United Kingdom"
           ],
           "xaxis": "x",
           "y": [
            30853.658,
            53573.727,
            34634.489,
            15005.362,
            45438.955,
            44833.527,
            35700.156,
            51337.291,
            19844.123,
            29896.584,
            31607.881,
            28936.022999999997,
            27898.441000000003,
            106204.228,
            60574.602999999996,
            32222.007999999998,
            41865.326,
            10674.122,
            30707.449,
            39932.612,
            20790.675,
            46836.875,
            26585.337000000003,
            40285.046
           ],
           "yaxis": "y"
          },
          {
           "alignmentgroup": "True",
           "hovertemplate": "Continents=North America<br>Year=1980<br>Countries=%{x}<br>Fossil fuels per capita (kWh)=%{y}<extra></extra>",
           "legendgroup": "North America",
           "marker": {
            "color": "#FFA15A",
            "pattern": {
             "shape": ""
            }
           },
           "name": "North America",
           "offsetgroup": "North America",
           "orientation": "v",
           "showlegend": true,
           "textposition": "auto",
           "type": "bar",
           "x": [
            "Canada",
            "Mexico",
            "Trinidad and Tobago",
            "United States"
           ],
           "xaxis": "x",
           "y": [
            75234.86099999999,
            12599.065,
            44117.320999999996,
            83345.76400000001
           ],
           "yaxis": "y"
          },
          {
           "alignmentgroup": "True",
           "hovertemplate": "Continents=South America<br>Year=1980<br>Countries=%{x}<br>Fossil fuels per capita (kWh)=%{y}<extra></extra>",
           "legendgroup": "South America",
           "marker": {
            "color": "#19d3f3",
            "pattern": {
             "shape": ""
            }
           },
           "name": "South America",
           "offsetgroup": "South America",
           "orientation": "v",
           "showlegend": true,
           "textposition": "auto",
           "type": "bar",
           "x": [
            "Argentina",
            "Brazil",
            "Chile",
            "Colombia",
            "Ecuador",
            "Peru",
            "Venezuela"
           ],
           "xaxis": "x",
           "y": [
            14751.855,
            5894.771,
            7304.628000000001,
            5392.941,
            4536.195,
            4943.8859999999995,
            27207.444
           ],
           "yaxis": "y"
          }
         ],
         "name": "1980"
        },
        {
         "data": [
          {
           "alignmentgroup": "True",
           "hovertemplate": "Continents=Africa<br>Year=1981<br>Countries=%{x}<br>Fossil fuels per capita (kWh)=%{y}<extra></extra>",
           "legendgroup": "Africa",
           "marker": {
            "color": "#636efa",
            "pattern": {
             "shape": ""
            }
           },
           "name": "Africa",
           "offsetgroup": "Africa",
           "orientation": "v",
           "showlegend": true,
           "textposition": "auto",
           "type": "bar",
           "x": [
            "Algeria",
            "Egypt",
            "Morocco"
           ],
           "xaxis": "x",
           "y": [
            10800.247,
            4749.889,
            2730.583
           ],
           "yaxis": "y"
          },
          {
           "alignmentgroup": "True",
           "hovertemplate": "Continents=Asia<br>Year=1981<br>Countries=%{x}<br>Fossil fuels per capita (kWh)=%{y}<extra></extra>",
           "legendgroup": "Asia",
           "marker": {
            "color": "#EF553B",
            "pattern": {
             "shape": ""
            }
           },
           "name": "Asia",
           "offsetgroup": "Asia",
           "orientation": "v",
           "showlegend": true,
           "textposition": "auto",
           "type": "bar",
           "x": [
            "Bangladesh",
            "China",
            "India",
            "Indonesia",
            "Iran",
            "Iraq",
            "Israel",
            "Japan",
            "Kuwait",
            "Malaysia",
            "Oman",
            "Pakistan",
            "Philippines",
            "Qatar",
            "Saudi Arabia",
            "Singapore",
            "Sri Lanka",
            "Thailand",
            "United Arab Emirates",
            "Vietnam"
           ],
           "xaxis": "x",
           "y": [
            427.93800000000005,
            4545.273,
            1632.101,
            2136.331,
            9740.835,
            6602.979,
            25508.066000000003,
            31121.357000000004,
            77546.457,
            8938.337,
            14764.957,
            1716.1589999999999,
            2538.601,
            217929.36,
            48609.596,
            52157.622,
            941.357,
            2896.639,
            115353.26400000001,
            897.255
           ],
           "yaxis": "y"
          },
          {
           "alignmentgroup": "True",
           "hovertemplate": "Continents=Australia_NZ<br>Year=1981<br>Countries=%{x}<br>Fossil fuels per capita (kWh)=%{y}<extra></extra>",
           "legendgroup": "Australia_NZ",
           "marker": {
            "color": "#00cc96",
            "pattern": {
             "shape": ""
            }
           },
           "name": "Australia_NZ",
           "offsetgroup": "Australia_NZ",
           "orientation": "v",
           "showlegend": true,
           "textposition": "auto",
           "type": "bar",
           "x": [
            "Australia",
            "New Zealand"
           ],
           "xaxis": "x",
           "y": [
            54640.81,
            22305.227000000003
           ],
           "yaxis": "y"
          },
          {
           "alignmentgroup": "True",
           "hovertemplate": "Continents=Europe<br>Year=1981<br>Countries=%{x}<br>Fossil fuels per capita (kWh)=%{y}<extra></extra>",
           "legendgroup": "Europe",
           "marker": {
            "color": "#ab63fa",
            "pattern": {
             "shape": ""
            }
           },
           "name": "Europe",
           "offsetgroup": "Europe",
           "orientation": "v",
           "showlegend": true,
           "textposition": "auto",
           "type": "bar",
           "x": [
            "Austria",
            "Belgium",
            "Bulgaria",
            "Cyprus",
            "Denmark",
            "Finland",
            "France",
            "Germany",
            "Greece",
            "Hungary",
            "Iceland",
            "Ireland",
            "Italy",
            "Luxembourg",
            "Netherlands",
            "Norway",
            "Poland",
            "Portugal",
            "Romania",
            "Slovakia",
            "Spain",
            "Sweden",
            "Switzerland",
            "United Kingdom"
           ],
           "xaxis": "x",
           "y": [
            28968.463,
            50577.312000000005,
            33066.917,
            14305.082,
            40802.247,
            38571.926,
            32662.877,
            49375.719000000005,
            19181.416,
            29600.27,
            31215.66,
            27891.942000000003,
            27299.642000000003,
            90390.606,
            57175.02,
            30656.856,
            37384.912000000004,
            11264.461000000001,
            30607.581000000002,
            39103.496,
            21090.09,
            41987.189000000006,
            25124.604,
            39031.483
           ],
           "yaxis": "y"
          },
          {
           "alignmentgroup": "True",
           "hovertemplate": "Continents=North America<br>Year=1981<br>Countries=%{x}<br>Fossil fuels per capita (kWh)=%{y}<extra></extra>",
           "legendgroup": "North America",
           "marker": {
            "color": "#FFA15A",
            "pattern": {
             "shape": ""
            }
           },
           "name": "North America",
           "offsetgroup": "North America",
           "orientation": "v",
           "showlegend": true,
           "textposition": "auto",
           "type": "bar",
           "x": [
            "Canada",
            "Mexico",
            "Trinidad and Tobago",
            "United States"
           ],
           "xaxis": "x",
           "y": [
            71269.767,
            13349.351,
            45889.434,
            79850.212
           ],
           "yaxis": "y"
          },
          {
           "alignmentgroup": "True",
           "hovertemplate": "Continents=South America<br>Year=1981<br>Countries=%{x}<br>Fossil fuels per capita (kWh)=%{y}<extra></extra>",
           "legendgroup": "South America",
           "marker": {
            "color": "#19d3f3",
            "pattern": {
             "shape": ""
            }
           },
           "name": "South America",
           "offsetgroup": "South America",
           "orientation": "v",
           "showlegend": true,
           "textposition": "auto",
           "type": "bar",
           "x": [
            "Argentina",
            "Brazil",
            "Chile",
            "Colombia",
            "Ecuador",
            "Peru",
            "Venezuela"
           ],
           "xaxis": "x",
           "y": [
            13937.708999999999,
            5502.066999999999,
            7371.463000000001,
            5456.46,
            4970.919,
            4968.371,
            27482.202
           ],
           "yaxis": "y"
          }
         ],
         "name": "1981"
        },
        {
         "data": [
          {
           "alignmentgroup": "True",
           "hovertemplate": "Continents=Africa<br>Year=1982<br>Countries=%{x}<br>Fossil fuels per capita (kWh)=%{y}<extra></extra>",
           "legendgroup": "Africa",
           "marker": {
            "color": "#636efa",
            "pattern": {
             "shape": ""
            }
           },
           "name": "Africa",
           "offsetgroup": "Africa",
           "orientation": "v",
           "showlegend": true,
           "textposition": "auto",
           "type": "bar",
           "x": [
            "Algeria",
            "Egypt",
            "Morocco"
           ],
           "xaxis": "x",
           "y": [
            12061.601,
            5225.7429999999995,
            2814.4359999999997
           ],
           "yaxis": "y"
          },
          {
           "alignmentgroup": "True",
           "hovertemplate": "Continents=Asia<br>Year=1982<br>Countries=%{x}<br>Fossil fuels per capita (kWh)=%{y}<extra></extra>",
           "legendgroup": "Asia",
           "marker": {
            "color": "#EF553B",
            "pattern": {
             "shape": ""
            }
           },
           "name": "Asia",
           "offsetgroup": "Asia",
           "orientation": "v",
           "showlegend": true,
           "textposition": "auto",
           "type": "bar",
           "x": [
            "Bangladesh",
            "China",
            "India",
            "Indonesia",
            "Iran",
            "Iraq",
            "Israel",
            "Japan",
            "Kuwait",
            "Malaysia",
            "Oman",
            "Pakistan",
            "Philippines",
            "Qatar",
            "Saudi Arabia",
            "Singapore",
            "Sri Lanka",
            "Thailand",
            "United Arab Emirates",
            "Vietnam"
           ],
           "xaxis": "x",
           "y": [
            465.792,
            4665.6,
            1614.904,
            2126.538,
            10586.052,
            6718.854,
            26056.476000000002,
            29107.747000000003,
            74013.09700000001,
            9445.224,
            18513.154,
            1822.253,
            2385.585,
            235906.938,
            50248.302,
            49600.377,
            1051.862,
            2864.692,
            117485.355,
            939.178
           ],
           "yaxis": "y"
          },
          {
           "alignmentgroup": "True",
           "hovertemplate": "Continents=Australia_NZ<br>Year=1982<br>Countries=%{x}<br>Fossil fuels per capita (kWh)=%{y}<extra></extra>",
           "legendgroup": "Australia_NZ",
           "marker": {
            "color": "#00cc96",
            "pattern": {
             "shape": ""
            }
           },
           "name": "Australia_NZ",
           "offsetgroup": "Australia_NZ",
           "orientation": "v",
           "showlegend": true,
           "textposition": "auto",
           "type": "bar",
           "x": [
            "Australia",
            "New Zealand"
           ],
           "xaxis": "x",
           "y": [
            54051.595,
            24728.728
           ],
           "yaxis": "y"
          },
          {
           "alignmentgroup": "True",
           "hovertemplate": "Continents=Europe<br>Year=1982<br>Countries=%{x}<br>Fossil fuels per capita (kWh)=%{y}<extra></extra>",
           "legendgroup": "Europe",
           "marker": {
            "color": "#ab63fa",
            "pattern": {
             "shape": ""
            }
           },
           "name": "Europe",
           "offsetgroup": "Europe",
           "orientation": "v",
           "showlegend": true,
           "textposition": "auto",
           "type": "bar",
           "x": [
            "Austria",
            "Belgium",
            "Bulgaria",
            "Cyprus",
            "Denmark",
            "Finland",
            "France",
            "Germany",
            "Greece",
            "Hungary",
            "Iceland",
            "Ireland",
            "Italy",
            "Luxembourg",
            "Netherlands",
            "Norway",
            "Poland",
            "Portugal",
            "Romania",
            "Slovakia",
            "Spain",
            "Sweden",
            "Switzerland",
            "United Kingdom"
           ],
           "xaxis": "x",
           "y": [
            27619.282000000003,
            47452.177,
            33547.784,
            17071.967,
            39010.391,
            36798.333,
            30848.947,
            47316.706,
            19256.25,
            29817.452999999998,
            28315.789,
            27479.675,
            26514.57,
            84714.606,
            52641.676,
            29659.278,
            37757.112,
            11677.383,
            30319.395,
            38104.696,
            20662.069,
            39389.825,
            23760.476000000002,
            38174.76
           ],
           "yaxis": "y"
          },
          {
           "alignmentgroup": "True",
           "hovertemplate": "Continents=North America<br>Year=1982<br>Countries=%{x}<br>Fossil fuels per capita (kWh)=%{y}<extra></extra>",
           "legendgroup": "North America",
           "marker": {
            "color": "#FFA15A",
            "pattern": {
             "shape": ""
            }
           },
           "name": "North America",
           "offsetgroup": "North America",
           "orientation": "v",
           "showlegend": true,
           "textposition": "auto",
           "type": "bar",
           "x": [
            "Canada",
            "Mexico",
            "Trinidad and Tobago",
            "United States"
           ],
           "xaxis": "x",
           "y": [
            68092.355,
            13690.758999999998,
            53041.253,
            74821.603
           ],
           "yaxis": "y"
          },
          {
           "alignmentgroup": "True",
           "hovertemplate": "Continents=South America<br>Year=1982<br>Countries=%{x}<br>Fossil fuels per capita (kWh)=%{y}<extra></extra>",
           "legendgroup": "South America",
           "marker": {
            "color": "#19d3f3",
            "pattern": {
             "shape": ""
            }
           },
           "name": "South America",
           "offsetgroup": "South America",
           "orientation": "v",
           "showlegend": true,
           "textposition": "auto",
           "type": "bar",
           "x": [
            "Argentina",
            "Brazil",
            "Chile",
            "Colombia",
            "Ecuador",
            "Peru",
            "Venezuela"
           ],
           "xaxis": "x",
           "y": [
            13895.561000000002,
            5501.278,
            6299.424,
            5550.291,
            5311.68,
            4772.366,
            27213.942000000003
           ],
           "yaxis": "y"
          }
         ],
         "name": "1982"
        },
        {
         "data": [
          {
           "alignmentgroup": "True",
           "hovertemplate": "Continents=Africa<br>Year=1983<br>Countries=%{x}<br>Fossil fuels per capita (kWh)=%{y}<extra></extra>",
           "legendgroup": "Africa",
           "marker": {
            "color": "#636efa",
            "pattern": {
             "shape": ""
            }
           },
           "name": "Africa",
           "offsetgroup": "Africa",
           "orientation": "v",
           "showlegend": true,
           "textposition": "auto",
           "type": "bar",
           "x": [
            "Algeria",
            "Egypt",
            "Morocco"
           ],
           "xaxis": "x",
           "y": [
            12807.885,
            5619.665,
            2835.491
           ],
           "yaxis": "y"
          },
          {
           "alignmentgroup": "True",
           "hovertemplate": "Continents=Asia<br>Year=1983<br>Countries=%{x}<br>Fossil fuels per capita (kWh)=%{y}<extra></extra>",
           "legendgroup": "Asia",
           "marker": {
            "color": "#EF553B",
            "pattern": {
             "shape": ""
            }
           },
           "name": "Asia",
           "offsetgroup": "Asia",
           "orientation": "v",
           "showlegend": true,
           "textposition": "auto",
           "type": "bar",
           "x": [
            "Bangladesh",
            "China",
            "India",
            "Indonesia",
            "Iran",
            "Iraq",
            "Israel",
            "Japan",
            "Kuwait",
            "Malaysia",
            "Oman",
            "Pakistan",
            "Philippines",
            "Qatar",
            "Saudi Arabia",
            "Singapore",
            "Sri Lanka",
            "Thailand",
            "United Arab Emirates",
            "Vietnam"
           ],
           "xaxis": "x",
           "y": [
            443.833,
            4877.043,
            1673.621,
            2193.69,
            12145.608,
            7252.918000000001,
            25820.265,
            28989.501,
            78110.663,
            10592.928,
            16421.825,
            1849.754,
            2475.347,
            221610.7,
            51107.386,
            51263.727999999996,
            1133.307,
            3141.777,
            107237.52,
            980.0089999999999
           ],
           "yaxis": "y"
          },
          {
           "alignmentgroup": "True",
           "hovertemplate": "Continents=Australia_NZ<br>Year=1983<br>Countries=%{x}<br>Fossil fuels per capita (kWh)=%{y}<extra></extra>",
           "legendgroup": "Australia_NZ",
           "marker": {
            "color": "#00cc96",
            "pattern": {
             "shape": ""
            }
           },
           "name": "Australia_NZ",
           "offsetgroup": "Australia_NZ",
           "orientation": "v",
           "showlegend": true,
           "textposition": "auto",
           "type": "bar",
           "x": [
            "Australia",
            "New Zealand"
           ],
           "xaxis": "x",
           "y": [
            53534.369000000006,
            24897.95
           ],
           "yaxis": "y"
          },
          {
           "alignmentgroup": "True",
           "hovertemplate": "Continents=Europe<br>Year=1983<br>Countries=%{x}<br>Fossil fuels per capita (kWh)=%{y}<extra></extra>",
           "legendgroup": "Europe",
           "marker": {
            "color": "#ab63fa",
            "pattern": {
             "shape": ""
            }
           },
           "name": "Europe",
           "offsetgroup": "Europe",
           "orientation": "v",
           "showlegend": true,
           "textposition": "auto",
           "type": "bar",
           "x": [
            "Austria",
            "Belgium",
            "Bulgaria",
            "Cyprus",
            "Denmark",
            "Finland",
            "France",
            "Germany",
            "Greece",
            "Hungary",
            "Iceland",
            "Ireland",
            "Italy",
            "Luxembourg",
            "Netherlands",
            "Norway",
            "Poland",
            "Portugal",
            "Romania",
            "Slovakia",
            "Spain",
            "Sweden",
            "Switzerland",
            "United Kingdom"
           ],
           "xaxis": "x",
           "y": [
            27619.735,
            43393.082,
            33124.159,
            17911.657,
            37076.017,
            35227.686,
            29915.166,
            48048.883,
            19610.545,
            28775.407000000003,
            27913.863999999998,
            26896.612,
            25905.244,
            79155.91,
            52707.707,
            29635.354,
            37566.109,
            11783.406,
            30231.894,
            37746.556000000004,
            20903.292,
            35103.43,
            25677.731,
            38014.222
           ],
           "yaxis": "y"
          },
          {
           "alignmentgroup": "True",
           "hovertemplate": "Continents=North America<br>Year=1983<br>Countries=%{x}<br>Fossil fuels per capita (kWh)=%{y}<extra></extra>",
           "legendgroup": "North America",
           "marker": {
            "color": "#FFA15A",
            "pattern": {
             "shape": ""
            }
           },
           "name": "North America",
           "offsetgroup": "North America",
           "orientation": "v",
           "showlegend": true,
           "textposition": "auto",
           "type": "bar",
           "x": [
            "Canada",
            "Mexico",
            "Trinidad and Tobago",
            "United States"
           ],
           "xaxis": "x",
           "y": [
            64693.085,
            13306.478000000001,
            50936.98,
            73312.73
           ],
           "yaxis": "y"
          },
          {
           "alignmentgroup": "True",
           "hovertemplate": "Continents=South America<br>Year=1983<br>Countries=%{x}<br>Fossil fuels per capita (kWh)=%{y}<extra></extra>",
           "legendgroup": "South America",
           "marker": {
            "color": "#19d3f3",
            "pattern": {
             "shape": ""
            }
           },
           "name": "South America",
           "offsetgroup": "South America",
           "orientation": "v",
           "showlegend": true,
           "textposition": "auto",
           "type": "bar",
           "x": [
            "Argentina",
            "Brazil",
            "Chile",
            "Colombia",
            "Ecuador",
            "Peru",
            "Venezuela"
           ],
           "xaxis": "x",
           "y": [
            14140.188999999998,
            5240.363,
            6260.3009999999995,
            5772.885,
            4782.59,
            4016.184,
            26002.225
           ],
           "yaxis": "y"
          }
         ],
         "name": "1983"
        },
        {
         "data": [
          {
           "alignmentgroup": "True",
           "hovertemplate": "Continents=Africa<br>Year=1984<br>Countries=%{x}<br>Fossil fuels per capita (kWh)=%{y}<extra></extra>",
           "legendgroup": "Africa",
           "marker": {
            "color": "#636efa",
            "pattern": {
             "shape": ""
            }
           },
           "name": "Africa",
           "offsetgroup": "Africa",
           "orientation": "v",
           "showlegend": true,
           "textposition": "auto",
           "type": "bar",
           "x": [
            "Algeria",
            "Egypt",
            "Morocco"
           ],
           "xaxis": "x",
           "y": [
            11893.946000000002,
            6017.16,
            2823.33
           ],
           "yaxis": "y"
          },
          {
           "alignmentgroup": "True",
           "hovertemplate": "Continents=Asia<br>Year=1984<br>Countries=%{x}<br>Fossil fuels per capita (kWh)=%{y}<extra></extra>",
           "legendgroup": "Asia",
           "marker": {
            "color": "#EF553B",
            "pattern": {
             "shape": ""
            }
           },
           "name": "Asia",
           "offsetgroup": "Asia",
           "orientation": "v",
           "showlegend": true,
           "textposition": "auto",
           "type": "bar",
           "x": [
            "Bangladesh",
            "China",
            "India",
            "Indonesia",
            "Iran",
            "Iraq",
            "Israel",
            "Japan",
            "Kuwait",
            "Malaysia",
            "Oman",
            "Pakistan",
            "Philippines",
            "Qatar",
            "Saudi Arabia",
            "Singapore",
            "Sri Lanka",
            "Thailand",
            "United Arab Emirates",
            "Vietnam"
           ],
           "xaxis": "x",
           "y": [
            461.338,
            5170.563,
            1735.345,
            2324.052,
            12650.655,
            7770.595,
            25761.952999999998,
            31490.22,
            79484.771,
            10821.991000000002,
            22706.932999999997,
            1900.771,
            2056.813,
            227120.915,
            57599.133,
            52610.683,
            955.693,
            3392.114,
            126815.15699999999,
            947.852
           ],
           "yaxis": "y"
          },
          {
           "alignmentgroup": "True",
           "hovertemplate": "Continents=Australia_NZ<br>Year=1984<br>Countries=%{x}<br>Fossil fuels per capita (kWh)=%{y}<extra></extra>",
           "legendgroup": "Australia_NZ",
           "marker": {
            "color": "#00cc96",
            "pattern": {
             "shape": ""
            }
           },
           "name": "Australia_NZ",
           "offsetgroup": "Australia_NZ",
           "orientation": "v",
           "showlegend": true,
           "textposition": "auto",
           "type": "bar",
           "x": [
            "Australia",
            "New Zealand"
           ],
           "xaxis": "x",
           "y": [
            54962.514,
            26389.808999999997
           ],
           "yaxis": "y"
          },
          {
           "alignmentgroup": "True",
           "hovertemplate": "Continents=Europe<br>Year=1984<br>Countries=%{x}<br>Fossil fuels per capita (kWh)=%{y}<extra></extra>",
           "legendgroup": "Europe",
           "marker": {
            "color": "#ab63fa",
            "pattern": {
             "shape": ""
            }
           },
           "name": "Europe",
           "offsetgroup": "Europe",
           "orientation": "v",
           "showlegend": true,
           "textposition": "auto",
           "type": "bar",
           "x": [
            "Austria",
            "Belgium",
            "Bulgaria",
            "Cyprus",
            "Denmark",
            "Finland",
            "France",
            "Germany",
            "Greece",
            "Hungary",
            "Iceland",
            "Ireland",
            "Italy",
            "Luxembourg",
            "Netherlands",
            "Norway",
            "Poland",
            "Portugal",
            "Romania",
            "Slovakia",
            "Spain",
            "Sweden",
            "Switzerland",
            "United Kingdom"
           ],
           "xaxis": "x",
           "y": [
            28667.664,
            44583.23,
            32743.166,
            18069.483,
            37724.791,
            36825.795,
            28912.235,
            49060.345,
            20237.483,
            29367.638,
            29545.887000000002,
            26529.902000000002,
            26195.496,
            85052.93,
            54494.062999999995,
            30706.334,
            38754.7,
            11849.813,
            29738.433999999997,
            40318.925,
            19934.82,
            34227.009,
            25192.109,
            37754.708
           ],
           "yaxis": "y"
          },
          {
           "alignmentgroup": "True",
           "hovertemplate": "Continents=North America<br>Year=1984<br>Countries=%{x}<br>Fossil fuels per capita (kWh)=%{y}<extra></extra>",
           "legendgroup": "North America",
           "marker": {
            "color": "#FFA15A",
            "pattern": {
             "shape": ""
            }
           },
           "name": "North America",
           "offsetgroup": "North America",
           "orientation": "v",
           "showlegend": true,
           "textposition": "auto",
           "type": "bar",
           "x": [
            "Canada",
            "Mexico",
            "Trinidad and Tobago",
            "United States"
           ],
           "xaxis": "x",
           "y": [
            67778.179,
            13543.402,
            49476.482,
            76555.932
           ],
           "yaxis": "y"
          },
          {
           "alignmentgroup": "True",
           "hovertemplate": "Continents=South America<br>Year=1984<br>Countries=%{x}<br>Fossil fuels per capita (kWh)=%{y}<extra></extra>",
           "legendgroup": "South America",
           "marker": {
            "color": "#19d3f3",
            "pattern": {
             "shape": ""
            }
           },
           "name": "South America",
           "offsetgroup": "South America",
           "orientation": "v",
           "showlegend": true,
           "textposition": "auto",
           "type": "bar",
           "x": [
            "Argentina",
            "Brazil",
            "Chile",
            "Colombia",
            "Ecuador",
            "Peru",
            "Venezuela"
           ],
           "xaxis": "x",
           "y": [
            13638.365,
            5341.334,
            6480.8240000000005,
            5671.289000000001,
            4750.744000000001,
            4114.4259999999995,
            25511.402000000002
           ],
           "yaxis": "y"
          }
         ],
         "name": "1984"
        },
        {
         "data": [
          {
           "alignmentgroup": "True",
           "hovertemplate": "Continents=Africa<br>Year=1985<br>Countries=%{x}<br>Fossil fuels per capita (kWh)=%{y}<extra></extra>",
           "legendgroup": "Africa",
           "marker": {
            "color": "#636efa",
            "pattern": {
             "shape": ""
            }
           },
           "name": "Africa",
           "offsetgroup": "Africa",
           "orientation": "v",
           "showlegend": true,
           "textposition": "auto",
           "type": "bar",
           "x": [
            "Algeria",
            "Egypt",
            "Morocco"
           ],
           "xaxis": "x",
           "y": [
            11607.818000000001,
            6126.781999999999,
            2838.603
           ],
           "yaxis": "y"
          },
          {
           "alignmentgroup": "True",
           "hovertemplate": "Continents=Asia<br>Year=1985<br>Countries=%{x}<br>Fossil fuels per capita (kWh)=%{y}<extra></extra>",
           "legendgroup": "Asia",
           "marker": {
            "color": "#EF553B",
            "pattern": {
             "shape": ""
            }
           },
           "name": "Asia",
           "offsetgroup": "Asia",
           "orientation": "v",
           "showlegend": true,
           "textposition": "auto",
           "type": "bar",
           "x": [
            "Azerbaijan",
            "Bangladesh",
            "China",
            "India",
            "Indonesia",
            "Iran",
            "Iraq",
            "Israel",
            "Japan",
            "Kazakhstan",
            "Kuwait",
            "Malaysia",
            "Oman",
            "Pakistan",
            "Philippines",
            "Qatar",
            "Russia",
            "Saudi Arabia",
            "Singapore",
            "Sri Lanka",
            "Thailand",
            "Turkmenistan",
            "United Arab Emirates",
            "Uzbekistan",
            "Vietnam"
           ],
           "xaxis": "x",
           "y": [
            34631.775,
            507.789,
            5505.677,
            1808.1779999999999,
            2412.821,
            13288.893999999998,
            8988.661,
            24632.755,
            30703.671000000002,
            49828.972,
            73789.273,
            10481.488000000001,
            22410.578999999998,
            1936.704,
            1868.719,
            212306.36,
            61564.137,
            55625.192,
            52436.719000000005,
            857.932,
            3522.03,
            44110.763,
            148924.755,
            25833.976000000002,
            925.988
           ],
           "yaxis": "y"
          },
          {
           "alignmentgroup": "True",
           "hovertemplate": "Continents=Australia_NZ<br>Year=1985<br>Countries=%{x}<br>Fossil fuels per capita (kWh)=%{y}<extra></extra>",
           "legendgroup": "Australia_NZ",
           "marker": {
            "color": "#00cc96",
            "pattern": {
             "shape": ""
            }
           },
           "name": "Australia_NZ",
           "offsetgroup": "Australia_NZ",
           "orientation": "v",
           "showlegend": true,
           "textposition": "auto",
           "type": "bar",
           "x": [
            "Australia",
            "New Zealand"
           ],
           "xaxis": "x",
           "y": [
            54402.773,
            27409.158
           ],
           "yaxis": "y"
          },
          {
           "alignmentgroup": "True",
           "hovertemplate": "Continents=Europe<br>Year=1985<br>Countries=%{x}<br>Fossil fuels per capita (kWh)=%{y}<extra></extra>",
           "legendgroup": "Europe",
           "marker": {
            "color": "#ab63fa",
            "pattern": {
             "shape": ""
            }
           },
           "name": "Europe",
           "offsetgroup": "Europe",
           "orientation": "v",
           "showlegend": true,
           "textposition": "auto",
           "type": "bar",
           "x": [
            "Austria",
            "Belarus",
            "Belgium",
            "Bulgaria",
            "Cyprus",
            "Denmark",
            "Estonia",
            "Finland",
            "France",
            "Germany",
            "Greece",
            "Hungary",
            "Iceland",
            "Ireland",
            "Italy",
            "Latvia",
            "Lithuania",
            "Luxembourg",
            "Netherlands",
            "Norway",
            "Poland",
            "Portugal",
            "Romania",
            "Slovakia",
            "Spain",
            "Sweden",
            "Switzerland",
            "Ukraine",
            "United Kingdom"
           ],
           "xaxis": "x",
           "y": [
            29125.766,
            41206.433,
            44889.575999999994,
            32646.763,
            19269.021,
            42522.71400000001,
            77827.008,
            39821.842000000004,
            28636.159,
            49428.953,
            21329.891,
            29768.695,
            29310.255,
            27645.076,
            26118.693,
            37768.621,
            42849.987,
            87261.141,
            55833.59099999999,
            31948.896,
            39308.985,
            11810.556999999999,
            29357.736,
            40020.483,
            19317.459,
            37063.591,
            25527.68,
            51016.825999999994,
            39098.003
           ],
           "yaxis": "y"
          },
          {
           "alignmentgroup": "True",
           "hovertemplate": "Continents=North America<br>Year=1985<br>Countries=%{x}<br>Fossil fuels per capita (kWh)=%{y}<extra></extra>",
           "legendgroup": "North America",
           "marker": {
            "color": "#FFA15A",
            "pattern": {
             "shape": ""
            }
           },
           "name": "North America",
           "offsetgroup": "North America",
           "orientation": "v",
           "showlegend": true,
           "textposition": "auto",
           "type": "bar",
           "x": [
            "Canada",
            "Mexico",
            "Trinidad and Tobago",
            "United States"
           ],
           "xaxis": "x",
           "y": [
            67571.06,
            13762.044,
            50468.378,
            75409.33
           ],
           "yaxis": "y"
          },
          {
           "alignmentgroup": "True",
           "hovertemplate": "Continents=South America<br>Year=1985<br>Countries=%{x}<br>Fossil fuels per capita (kWh)=%{y}<extra></extra>",
           "legendgroup": "South America",
           "marker": {
            "color": "#19d3f3",
            "pattern": {
             "shape": ""
            }
           },
           "name": "South America",
           "offsetgroup": "South America",
           "orientation": "v",
           "showlegend": true,
           "textposition": "auto",
           "type": "bar",
           "x": [
            "Argentina",
            "Brazil",
            "Chile",
            "Colombia",
            "Ecuador",
            "Peru",
            "Venezuela"
           ],
           "xaxis": "x",
           "y": [
            12867.383,
            5462.99,
            6261.284000000001,
            5716.078,
            5655.455,
            3876.531,
            25219.593999999997
           ],
           "yaxis": "y"
          }
         ],
         "name": "1985"
        },
        {
         "data": [
          {
           "alignmentgroup": "True",
           "hovertemplate": "Continents=Africa<br>Year=1986<br>Countries=%{x}<br>Fossil fuels per capita (kWh)=%{y}<extra></extra>",
           "legendgroup": "Africa",
           "marker": {
            "color": "#636efa",
            "pattern": {
             "shape": ""
            }
           },
           "name": "Africa",
           "offsetgroup": "Africa",
           "orientation": "v",
           "showlegend": true,
           "textposition": "auto",
           "type": "bar",
           "x": [
            "Algeria",
            "Egypt",
            "Morocco"
           ],
           "xaxis": "x",
           "y": [
            11979.548,
            6129.406999999999,
            2856.13
           ],
           "yaxis": "y"
          },
          {
           "alignmentgroup": "True",
           "hovertemplate": "Continents=Asia<br>Year=1986<br>Countries=%{x}<br>Fossil fuels per capita (kWh)=%{y}<extra></extra>",
           "legendgroup": "Asia",
           "marker": {
            "color": "#EF553B",
            "pattern": {
             "shape": ""
            }
           },
           "name": "Asia",
           "offsetgroup": "Asia",
           "orientation": "v",
           "showlegend": true,
           "textposition": "auto",
           "type": "bar",
           "x": [
            "Azerbaijan",
            "Bangladesh",
            "China",
            "India",
            "Indonesia",
            "Iran",
            "Iraq",
            "Israel",
            "Japan",
            "Kazakhstan",
            "Kuwait",
            "Malaysia",
            "Oman",
            "Pakistan",
            "Philippines",
            "Qatar",
            "Russia",
            "Saudi Arabia",
            "Singapore",
            "Sri Lanka",
            "Thailand",
            "Turkmenistan",
            "United Arab Emirates",
            "Uzbekistan",
            "Vietnam"
           ],
           "xaxis": "x",
           "y": [
            36910.811,
            549.491,
            5673.613,
            1902.6789999999999,
            2598.313,
            11872.034,
            9765.119,
            25484.62,
            30481.842999999997,
            50470.669,
            79272.615,
            11443.339,
            20153.487,
            2026.1689999999999,
            1851.1879999999999,
            216540.99800000002,
            62085.28,
            56885.030999999995,
            59552.804000000004,
            838.428,
            3603.901,
            53579.627,
            170406.805,
            24904.773999999998,
            1001.086
           ],
           "yaxis": "y"
          },
          {
           "alignmentgroup": "True",
           "hovertemplate": "Continents=Australia_NZ<br>Year=1986<br>Countries=%{x}<br>Fossil fuels per capita (kWh)=%{y}<extra></extra>",
           "legendgroup": "Australia_NZ",
           "marker": {
            "color": "#00cc96",
            "pattern": {
             "shape": ""
            }
           },
           "name": "Australia_NZ",
           "offsetgroup": "Australia_NZ",
           "orientation": "v",
           "showlegend": true,
           "textposition": "auto",
           "type": "bar",
           "x": [
            "Australia",
            "New Zealand"
           ],
           "xaxis": "x",
           "y": [
            55415.203,
            28929.417
           ],
           "yaxis": "y"
          },
          {
           "alignmentgroup": "True",
           "hovertemplate": "Continents=Europe<br>Year=1986<br>Countries=%{x}<br>Fossil fuels per capita (kWh)=%{y}<extra></extra>",
           "legendgroup": "Europe",
           "marker": {
            "color": "#ab63fa",
            "pattern": {
             "shape": ""
            }
           },
           "name": "Europe",
           "offsetgroup": "Europe",
           "orientation": "v",
           "showlegend": true,
           "textposition": "auto",
           "type": "bar",
           "x": [
            "Austria",
            "Belarus",
            "Belgium",
            "Bulgaria",
            "Cyprus",
            "Denmark",
            "Estonia",
            "Finland",
            "France",
            "Germany",
            "Greece",
            "Hungary",
            "Iceland",
            "Ireland",
            "Italy",
            "Latvia",
            "Lithuania",
            "Luxembourg",
            "Netherlands",
            "Norway",
            "Poland",
            "Portugal",
            "Romania",
            "Slovakia",
            "Spain",
            "Sweden",
            "Switzerland",
            "Ukraine",
            "United Kingdom"
           ],
           "xaxis": "x",
           "y": [
            28976.032000000003,
            46741.555,
            45175.65,
            33713.127,
            19864.396,
            43406.629,
            76746.71,
            40290.57,
            27997.873,
            49153.03599999999,
            21149.717,
            29499.341,
            29863.767999999996,
            29802.63,
            26778.73,
            34548.576,
            38272.815,
            84702.726,
            58228.337999999996,
            33651.878,
            40203.59,
            13331.232,
            30123.769,
            38389.748,
            19439.603,
            39583.076,
            27417.261000000002,
            51691.642,
            40254.712
           ],
           "yaxis": "y"
          },
          {
           "alignmentgroup": "True",
           "hovertemplate": "Continents=North America<br>Year=1986<br>Countries=%{x}<br>Fossil fuels per capita (kWh)=%{y}<extra></extra>",
           "legendgroup": "North America",
           "marker": {
            "color": "#FFA15A",
            "pattern": {
             "shape": ""
            }
           },
           "name": "North America",
           "offsetgroup": "North America",
           "orientation": "v",
           "showlegend": true,
           "textposition": "auto",
           "type": "bar",
           "x": [
            "Canada",
            "Mexico",
            "Trinidad and Tobago",
            "United States"
           ],
           "xaxis": "x",
           "y": [
            65072.344000000005,
            13248.472,
            51875.24,
            74706.421
           ],
           "yaxis": "y"
          },
          {
           "alignmentgroup": "True",
           "hovertemplate": "Continents=South America<br>Year=1986<br>Countries=%{x}<br>Fossil fuels per capita (kWh)=%{y}<extra></extra>",
           "legendgroup": "South America",
           "marker": {
            "color": "#19d3f3",
            "pattern": {
             "shape": ""
            }
           },
           "name": "South America",
           "offsetgroup": "South America",
           "orientation": "v",
           "showlegend": true,
           "textposition": "auto",
           "type": "bar",
           "x": [
            "Argentina",
            "Brazil",
            "Chile",
            "Colombia",
            "Ecuador",
            "Peru",
            "Venezuela"
           ],
           "xaxis": "x",
           "y": [
            14200.223,
            5842.922,
            6366.643,
            5575.376,
            5600.779,
            4056.062,
            26268.95
           ],
           "yaxis": "y"
          }
         ],
         "name": "1986"
        },
        {
         "data": [
          {
           "alignmentgroup": "True",
           "hovertemplate": "Continents=Africa<br>Year=1987<br>Countries=%{x}<br>Fossil fuels per capita (kWh)=%{y}<extra></extra>",
           "legendgroup": "Africa",
           "marker": {
            "color": "#636efa",
            "pattern": {
             "shape": ""
            }
           },
           "name": "Africa",
           "offsetgroup": "Africa",
           "orientation": "v",
           "showlegend": true,
           "textposition": "auto",
           "type": "bar",
           "x": [
            "Algeria",
            "Egypt",
            "Morocco"
           ],
           "xaxis": "x",
           "y": [
            11932.901000000002,
            6271.604,
            2862.865
           ],
           "yaxis": "y"
          },
          {
           "alignmentgroup": "True",
           "hovertemplate": "Continents=Asia<br>Year=1987<br>Countries=%{x}<br>Fossil fuels per capita (kWh)=%{y}<extra></extra>",
           "legendgroup": "Asia",
           "marker": {
            "color": "#EF553B",
            "pattern": {
             "shape": ""
            }
           },
           "name": "Asia",
           "offsetgroup": "Asia",
           "orientation": "v",
           "showlegend": true,
           "textposition": "auto",
           "type": "bar",
           "x": [
            "Azerbaijan",
            "Bangladesh",
            "China",
            "India",
            "Indonesia",
            "Iran",
            "Iraq",
            "Israel",
            "Japan",
            "Kazakhstan",
            "Kuwait",
            "Malaysia",
            "Oman",
            "Pakistan",
            "Philippines",
            "Qatar",
            "Russia",
            "Saudi Arabia",
            "Singapore",
            "Sri Lanka",
            "Thailand",
            "Turkmenistan",
            "United Arab Emirates",
            "Uzbekistan",
            "Vietnam"
           ],
           "xaxis": "x",
           "y": [
            35167.515,
            590.104,
            6007.818,
            2004.405,
            2695.914,
            12236.585,
            11154.305,
            27763.676,
            30664.179,
            50853.926,
            69736.966,
            11340.101,
            21873.619,
            2137.68,
            2075.278,
            203638.163,
            63490.344000000005,
            57576.577000000005,
            61400.605,
            940.823,
            4178.721,
            52003.079000000005,
            179304.736,
            24486.918999999998,
            1112.147
           ],
           "yaxis": "y"
          },
          {
           "alignmentgroup": "True",
           "hovertemplate": "Continents=Australia_NZ<br>Year=1987<br>Countries=%{x}<br>Fossil fuels per capita (kWh)=%{y}<extra></extra>",
           "legendgroup": "Australia_NZ",
           "marker": {
            "color": "#00cc96",
            "pattern": {
             "shape": ""
            }
           },
           "name": "Australia_NZ",
           "offsetgroup": "Australia_NZ",
           "orientation": "v",
           "showlegend": true,
           "textposition": "auto",
           "type": "bar",
           "x": [
            "Australia",
            "New Zealand"
           ],
           "xaxis": "x",
           "y": [
            56099.683,
            29852.991
           ],
           "yaxis": "y"
          },
          {
           "alignmentgroup": "True",
           "hovertemplate": "Continents=Europe<br>Year=1987<br>Countries=%{x}<br>Fossil fuels per capita (kWh)=%{y}<extra></extra>",
           "legendgroup": "Europe",
           "marker": {
            "color": "#ab63fa",
            "pattern": {
             "shape": ""
            }
           },
           "name": "Europe",
           "offsetgroup": "Europe",
           "orientation": "v",
           "showlegend": true,
           "textposition": "auto",
           "type": "bar",
           "x": [
            "Austria",
            "Belarus",
            "Belgium",
            "Bulgaria",
            "Cyprus",
            "Denmark",
            "Estonia",
            "Finland",
            "France",
            "Germany",
            "Greece",
            "Hungary",
            "Iceland",
            "Ireland",
            "Italy",
            "Latvia",
            "Lithuania",
            "Luxembourg",
            "Netherlands",
            "Norway",
            "Poland",
            "Portugal",
            "Romania",
            "Slovakia",
            "Spain",
            "Sweden",
            "Switzerland",
            "Ukraine",
            "United Kingdom"
           ],
           "xaxis": "x",
           "y": [
            29648.612,
            47133.513,
            46052.948,
            33869.623999999996,
            23901.576,
            41791.15,
            77154.382,
            42083.922999999995,
            27660.455,
            49018.907999999996,
            23253.165,
            30069.814,
            30843.659,
            30344.226000000002,
            28144.683999999997,
            30142.716,
            40677.756,
            79421.22,
            59190.559,
            33653.342000000004,
            41314.407999999996,
            13530.087,
            31087.799,
            39190.835,
            19933.43,
            34666.046,
            25937.575,
            52343.512,
            40308.849
           ],
           "yaxis": "y"
          },
          {
           "alignmentgroup": "True",
           "hovertemplate": "Continents=North America<br>Year=1987<br>Countries=%{x}<br>Fossil fuels per capita (kWh)=%{y}<extra></extra>",
           "legendgroup": "North America",
           "marker": {
            "color": "#FFA15A",
            "pattern": {
             "shape": ""
            }
           },
           "name": "North America",
           "offsetgroup": "North America",
           "orientation": "v",
           "showlegend": true,
           "textposition": "auto",
           "type": "bar",
           "x": [
            "Canada",
            "Mexico",
            "Trinidad and Tobago",
            "United States"
           ],
           "xaxis": "x",
           "y": [
            66525.44099999999,
            13476.489,
            48464.314000000006,
            76742.92
           ],
           "yaxis": "y"
          },
          {
           "alignmentgroup": "True",
           "hovertemplate": "Continents=South America<br>Year=1987<br>Countries=%{x}<br>Fossil fuels per capita (kWh)=%{y}<extra></extra>",
           "legendgroup": "South America",
           "marker": {
            "color": "#19d3f3",
            "pattern": {
             "shape": ""
            }
           },
           "name": "South America",
           "offsetgroup": "South America",
           "orientation": "v",
           "showlegend": true,
           "textposition": "auto",
           "type": "bar",
           "x": [
            "Argentina",
            "Brazil",
            "Chile",
            "Colombia",
            "Ecuador",
            "Peru",
            "Venezuela"
           ],
           "xaxis": "x",
           "y": [
            14576.795,
            5927.076999999999,
            6490.156,
            5938.111,
            5498.005,
            4256.355,
            24659.406000000003
           ],
           "yaxis": "y"
          }
         ],
         "name": "1987"
        },
        {
         "data": [
          {
           "alignmentgroup": "True",
           "hovertemplate": "Continents=Africa<br>Year=1988<br>Countries=%{x}<br>Fossil fuels per capita (kWh)=%{y}<extra></extra>",
           "legendgroup": "Africa",
           "marker": {
            "color": "#636efa",
            "pattern": {
             "shape": ""
            }
           },
           "name": "Africa",
           "offsetgroup": "Africa",
           "orientation": "v",
           "showlegend": true,
           "textposition": "auto",
           "type": "bar",
           "x": [
            "Algeria",
            "Egypt",
            "Morocco"
           ],
           "xaxis": "x",
           "y": [
            12473.139,
            6312.744000000001,
            2958.465
           ],
           "yaxis": "y"
          },
          {
           "alignmentgroup": "True",
           "hovertemplate": "Continents=Asia<br>Year=1988<br>Countries=%{x}<br>Fossil fuels per capita (kWh)=%{y}<extra></extra>",
           "legendgroup": "Asia",
           "marker": {
            "color": "#EF553B",
            "pattern": {
             "shape": ""
            }
           },
           "name": "Asia",
           "offsetgroup": "Asia",
           "orientation": "v",
           "showlegend": true,
           "textposition": "auto",
           "type": "bar",
           "x": [
            "Azerbaijan",
            "Bangladesh",
            "China",
            "India",
            "Indonesia",
            "Iran",
            "Iraq",
            "Israel",
            "Japan",
            "Kazakhstan",
            "Kuwait",
            "Malaysia",
            "Oman",
            "Pakistan",
            "Philippines",
            "Qatar",
            "Russia",
            "Saudi Arabia",
            "Singapore",
            "Sri Lanka",
            "Thailand",
            "Turkmenistan",
            "United Arab Emirates",
            "Uzbekistan",
            "Vietnam"
           ],
           "xaxis": "x",
           "y": [
            34651.61,
            637.366,
            6326.274,
            2129.708,
            2788.869,
            12468.52,
            12798.142,
            29193.752999999997,
            32841.961,
            51973.61,
            75438.467,
            11608.284,
            20494.103,
            2211.784,
            2213.81,
            178307.203,
            64101.715,
            57749.685999999994,
            69668.788,
            898.551,
            4641.685,
            51051.6,
            186732.793,
            25360.94,
            1069.307
           ],
           "yaxis": "y"
          },
          {
           "alignmentgroup": "True",
           "hovertemplate": "Continents=Australia_NZ<br>Year=1988<br>Countries=%{x}<br>Fossil fuels per capita (kWh)=%{y}<extra></extra>",
           "legendgroup": "Australia_NZ",
           "marker": {
            "color": "#00cc96",
            "pattern": {
             "shape": ""
            }
           },
           "name": "Australia_NZ",
           "offsetgroup": "Australia_NZ",
           "orientation": "v",
           "showlegend": true,
           "textposition": "auto",
           "type": "bar",
           "x": [
            "Australia",
            "New Zealand"
           ],
           "xaxis": "x",
           "y": [
            57694.242999999995,
            30762.582000000002
           ],
           "yaxis": "y"
          },
          {
           "alignmentgroup": "True",
           "hovertemplate": "Continents=Europe<br>Year=1988<br>Countries=%{x}<br>Fossil fuels per capita (kWh)=%{y}<extra></extra>",
           "legendgroup": "Europe",
           "marker": {
            "color": "#ab63fa",
            "pattern": {
             "shape": ""
            }
           },
           "name": "Europe",
           "offsetgroup": "Europe",
           "orientation": "v",
           "showlegend": true,
           "textposition": "auto",
           "type": "bar",
           "x": [
            "Austria",
            "Belarus",
            "Belgium",
            "Bulgaria",
            "Cyprus",
            "Denmark",
            "Estonia",
            "Finland",
            "France",
            "Germany",
            "Greece",
            "Hungary",
            "Iceland",
            "Ireland",
            "Italy",
            "Latvia",
            "Lithuania",
            "Luxembourg",
            "Netherlands",
            "Norway",
            "Poland",
            "Portugal",
            "Romania",
            "Slovakia",
            "Spain",
            "Sweden",
            "Switzerland",
            "Ukraine",
            "United Kingdom"
           ],
           "xaxis": "x",
           "y": [
            28906.785,
            47549.471,
            46816.143,
            33703.376000000004,
            24245.951,
            41212.708,
            75212.88900000001,
            41865.974,
            27292.028,
            48477.33,
            24611.581000000002,
            28750.016,
            31747.822,
            30073.976000000002,
            28831.172000000002,
            28748.539,
            39865.777,
            80819.64,
            58970.113,
            32839.265,
            40356.116,
            14424.121000000001,
            31095.301,
            39363.895,
            19729.438000000002,
            32577.007999999998,
            25756.541,
            50951.831,
            40328.535
           ],
           "yaxis": "y"
          },
          {
           "alignmentgroup": "True",
           "hovertemplate": "Continents=North America<br>Year=1988<br>Countries=%{x}<br>Fossil fuels per capita (kWh)=%{y}<extra></extra>",
           "legendgroup": "North America",
           "marker": {
            "color": "#FFA15A",
            "pattern": {
             "shape": ""
            }
           },
           "name": "North America",
           "offsetgroup": "North America",
           "orientation": "v",
           "showlegend": true,
           "textposition": "auto",
           "type": "bar",
           "x": [
            "Canada",
            "Mexico",
            "Trinidad and Tobago",
            "United States"
           ],
           "xaxis": "x",
           "y": [
            70261.893,
            13216.531,
            52880.295999999995,
            79362.228
           ],
           "yaxis": "y"
          },
          {
           "alignmentgroup": "True",
           "hovertemplate": "Continents=South America<br>Year=1988<br>Countries=%{x}<br>Fossil fuels per capita (kWh)=%{y}<extra></extra>",
           "legendgroup": "South America",
           "marker": {
            "color": "#19d3f3",
            "pattern": {
             "shape": ""
            }
           },
           "name": "South America",
           "offsetgroup": "South America",
           "orientation": "v",
           "showlegend": true,
           "textposition": "auto",
           "type": "bar",
           "x": [
            "Argentina",
            "Brazil",
            "Chile",
            "Colombia",
            "Ecuador",
            "Peru",
            "Venezuela"
           ],
           "xaxis": "x",
           "y": [
            15233.872,
            5917.366,
            7505.628000000001,
            5714.977,
            6334.651999999999,
            4088.513,
            24717.185
           ],
           "yaxis": "y"
          }
         ],
         "name": "1988"
        },
        {
         "data": [
          {
           "alignmentgroup": "True",
           "hovertemplate": "Continents=Africa<br>Year=1989<br>Countries=%{x}<br>Fossil fuels per capita (kWh)=%{y}<extra></extra>",
           "legendgroup": "Africa",
           "marker": {
            "color": "#636efa",
            "pattern": {
             "shape": ""
            }
           },
           "name": "Africa",
           "offsetgroup": "Africa",
           "orientation": "v",
           "showlegend": true,
           "textposition": "auto",
           "type": "bar",
           "x": [
            "Algeria",
            "Egypt",
            "Morocco"
           ],
           "xaxis": "x",
           "y": [
            11805.952,
            6491.243,
            3178.925
           ],
           "yaxis": "y"
          },
          {
           "alignmentgroup": "True",
           "hovertemplate": "Continents=Asia<br>Year=1989<br>Countries=%{x}<br>Fossil fuels per capita (kWh)=%{y}<extra></extra>",
           "legendgroup": "Asia",
           "marker": {
            "color": "#EF553B",
            "pattern": {
             "shape": ""
            }
           },
           "name": "Asia",
           "offsetgroup": "Asia",
           "orientation": "v",
           "showlegend": true,
           "textposition": "auto",
           "type": "bar",
           "x": [
            "Azerbaijan",
            "Bangladesh",
            "China",
            "India",
            "Indonesia",
            "Iran",
            "Iraq",
            "Israel",
            "Japan",
            "Kazakhstan",
            "Kuwait",
            "Malaysia",
            "Oman",
            "Pakistan",
            "Philippines",
            "Qatar",
            "Russia",
            "Saudi Arabia",
            "Singapore",
            "Sri Lanka",
            "Thailand",
            "Turkmenistan",
            "United Arab Emirates",
            "Uzbekistan",
            "Vietnam"
           ],
           "xaxis": "x",
           "y": [
            34761.271,
            664.322,
            6510.732,
            2273.519,
            3018.304,
            13325.726,
            14070.152,
            29605.888,
            33732.48,
            50691.852,
            79766.844,
            12762.588,
            22412.346,
            2299.49,
            2345.187,
            183102.13,
            63982.096,
            54676.27099999999,
            77720.94,
            842.758,
            5190.277,
            51110.359000000004,
            198214.97600000002,
            25389.462000000003,
            900.567
           ],
           "yaxis": "y"
          },
          {
           "alignmentgroup": "True",
           "hovertemplate": "Continents=Australia_NZ<br>Year=1989<br>Countries=%{x}<br>Fossil fuels per capita (kWh)=%{y}<extra></extra>",
           "legendgroup": "Australia_NZ",
           "marker": {
            "color": "#00cc96",
            "pattern": {
             "shape": ""
            }
           },
           "name": "Australia_NZ",
           "offsetgroup": "Australia_NZ",
           "orientation": "v",
           "showlegend": true,
           "textposition": "auto",
           "type": "bar",
           "x": [
            "Australia",
            "New Zealand"
           ],
           "xaxis": "x",
           "y": [
            59651.152,
            25363.646
           ],
           "yaxis": "y"
          },
          {
           "alignmentgroup": "True",
           "hovertemplate": "Continents=Europe<br>Year=1989<br>Countries=%{x}<br>Fossil fuels per capita (kWh)=%{y}<extra></extra>",
           "legendgroup": "Europe",
           "marker": {
            "color": "#ab63fa",
            "pattern": {
             "shape": ""
            }
           },
           "name": "Europe",
           "offsetgroup": "Europe",
           "orientation": "v",
           "showlegend": true,
           "textposition": "auto",
           "type": "bar",
           "x": [
            "Austria",
            "Belarus",
            "Belgium",
            "Bulgaria",
            "Cyprus",
            "Denmark",
            "Estonia",
            "Finland",
            "France",
            "Germany",
            "Greece",
            "Hungary",
            "Iceland",
            "Ireland",
            "Italy",
            "Latvia",
            "Lithuania",
            "Luxembourg",
            "Netherlands",
            "Norway",
            "Poland",
            "Portugal",
            "Romania",
            "Slovakia",
            "Spain",
            "Sweden",
            "Switzerland",
            "Ukraine",
            "United Kingdom"
           ],
           "xaxis": "x",
           "y": [
            29102.414,
            45792.363,
            47703.879,
            33940.187000000005,
            24383.551,
            37831.965,
            77213.474,
            42453.291,
            27865.474,
            47569.812000000005,
            26727.912999999997,
            27881.395,
            33686.716,
            31170.707000000002,
            30067.338,
            27917.927000000003,
            40777.778,
            92193.606,
            58780.293,
            33125.363,
            38707.951,
            17809.054,
            31195.438,
            39373.248,
            21728.979,
            31185.155,
            24872.567000000003,
            48877.242999999995,
            39860.665
           ],
           "yaxis": "y"
          },
          {
           "alignmentgroup": "True",
           "hovertemplate": "Continents=North America<br>Year=1989<br>Countries=%{x}<br>Fossil fuels per capita (kWh)=%{y}<extra></extra>",
           "legendgroup": "North America",
           "marker": {
            "color": "#FFA15A",
            "pattern": {
             "shape": ""
            }
           },
           "name": "North America",
           "offsetgroup": "North America",
           "orientation": "v",
           "showlegend": true,
           "textposition": "auto",
           "type": "bar",
           "x": [
            "Canada",
            "Mexico",
            "Trinidad and Tobago",
            "United States"
           ],
           "xaxis": "x",
           "y": [
            72389.967,
            13603.872,
            51639.299000000006,
            80063.784
           ],
           "yaxis": "y"
          },
          {
           "alignmentgroup": "True",
           "hovertemplate": "Continents=South America<br>Year=1989<br>Countries=%{x}<br>Fossil fuels per capita (kWh)=%{y}<extra></extra>",
           "legendgroup": "South America",
           "marker": {
            "color": "#19d3f3",
            "pattern": {
             "shape": ""
            }
           },
           "name": "South America",
           "offsetgroup": "South America",
           "orientation": "v",
           "showlegend": true,
           "textposition": "auto",
           "type": "bar",
           "x": [
            "Argentina",
            "Brazil",
            "Chile",
            "Colombia",
            "Ecuador",
            "Peru",
            "Venezuela"
           ],
           "xaxis": "x",
           "y": [
            14565.503,
            5843.2519999999995,
            8859.821,
            5813.028,
            6384.974,
            3551.303,
            24290.657000000003
           ],
           "yaxis": "y"
          }
         ],
         "name": "1989"
        },
        {
         "data": [
          {
           "alignmentgroup": "True",
           "hovertemplate": "Continents=Africa<br>Year=1990<br>Countries=%{x}<br>Fossil fuels per capita (kWh)=%{y}<extra></extra>",
           "legendgroup": "Africa",
           "marker": {
            "color": "#636efa",
            "pattern": {
             "shape": ""
            }
           },
           "name": "Africa",
           "offsetgroup": "Africa",
           "orientation": "v",
           "showlegend": true,
           "textposition": "auto",
           "type": "bar",
           "x": [
            "Algeria",
            "Egypt",
            "Morocco"
           ],
           "xaxis": "x",
           "y": [
            12212.228000000001,
            6538.62,
            3190.563
           ],
           "yaxis": "y"
          },
          {
           "alignmentgroup": "True",
           "hovertemplate": "Continents=Asia<br>Year=1990<br>Countries=%{x}<br>Fossil fuels per capita (kWh)=%{y}<extra></extra>",
           "legendgroup": "Asia",
           "marker": {
            "color": "#EF553B",
            "pattern": {
             "shape": ""
            }
           },
           "name": "Asia",
           "offsetgroup": "Asia",
           "orientation": "v",
           "showlegend": true,
           "textposition": "auto",
           "type": "bar",
           "x": [
            "Azerbaijan",
            "Bangladesh",
            "China",
            "India",
            "Indonesia",
            "Iran",
            "Iraq",
            "Israel",
            "Japan",
            "Kazakhstan",
            "Kuwait",
            "Malaysia",
            "Oman",
            "Pakistan",
            "Philippines",
            "Qatar",
            "Russia",
            "Saudi Arabia",
            "Singapore",
            "Sri Lanka",
            "Thailand",
            "Turkmenistan",
            "United Arab Emirates",
            "Uzbekistan",
            "Vietnam"
           ],
           "xaxis": "x",
           "y": [
            35261.66,
            690.5210000000001,
            6474.9580000000005,
            2388.118,
            3255.363,
            14595.216,
            12359.045,
            29909.798,
            34980.058,
            51125.788,
            37793.816,
            13654.201000000001,
            26966.904,
            2357.55,
            2407.036,
            181294.079,
            62676.594000000005,
            57185.554000000004,
            90551.769,
            888.618,
            6135.376,
            41227.727,
            189835.038,
            23986.221,
            896.175
           ],
           "yaxis": "y"
          },
          {
           "alignmentgroup": "True",
           "hovertemplate": "Continents=Australia_NZ<br>Year=1990<br>Countries=%{x}<br>Fossil fuels per capita (kWh)=%{y}<extra></extra>",
           "legendgroup": "Australia_NZ",
           "marker": {
            "color": "#00cc96",
            "pattern": {
             "shape": ""
            }
           },
           "name": "Australia_NZ",
           "offsetgroup": "Australia_NZ",
           "orientation": "v",
           "showlegend": true,
           "textposition": "auto",
           "type": "bar",
           "x": [
            "Australia",
            "New Zealand"
           ],
           "xaxis": "x",
           "y": [
            59787.093,
            32518.811
           ],
           "yaxis": "y"
          },
          {
           "alignmentgroup": "True",
           "hovertemplate": "Continents=Europe<br>Year=1990<br>Countries=%{x}<br>Fossil fuels per capita (kWh)=%{y}<extra></extra>",
           "legendgroup": "Europe",
           "marker": {
            "color": "#ab63fa",
            "pattern": {
             "shape": ""
            }
           },
           "name": "Europe",
           "offsetgroup": "Europe",
           "orientation": "v",
           "showlegend": true,
           "textposition": "auto",
           "type": "bar",
           "x": [
            "Austria",
            "Belarus",
            "Belgium",
            "Bulgaria",
            "Croatia",
            "Cyprus",
            "Denmark",
            "Estonia",
            "Finland",
            "France",
            "Germany",
            "Greece",
            "Hungary",
            "Iceland",
            "Ireland",
            "Italy",
            "Latvia",
            "Lithuania",
            "Luxembourg",
            "Netherlands",
            "Norway",
            "Poland",
            "Portugal",
            "Romania",
            "Slovakia",
            "Slovenia",
            "Spain",
            "Sweden",
            "Switzerland",
            "Ukraine",
            "United Kingdom"
           ],
           "xaxis": "x",
           "y": [
            30912.206000000002,
            43790.127,
            50673.776,
            31312.875,
            18677.107,
            25129.792999999998,
            38786.881,
            76943.925,
            44488.624,
            28257.296000000002,
            46852.40900000001,
            28015.792999999998,
            27621.322999999997,
            33736.797999999995,
            32746.487,
            30313.429,
            27466.853,
            41215.405,
            96608.315,
            60022.903,
            32138.78,
            31769.365,
            17096.877,
            29863.666,
            39455.834,
            23623.571,
            21375.297000000002,
            31307.032000000003,
            26380.807,
            56940.721,
            40339.756
           ],
           "yaxis": "y"
          },
          {
           "alignmentgroup": "True",
           "hovertemplate": "Continents=North America<br>Year=1990<br>Countries=%{x}<br>Fossil fuels per capita (kWh)=%{y}<extra></extra>",
           "legendgroup": "North America",
           "marker": {
            "color": "#FFA15A",
            "pattern": {
             "shape": ""
            }
           },
           "name": "North America",
           "offsetgroup": "North America",
           "orientation": "v",
           "showlegend": true,
           "textposition": "auto",
           "type": "bar",
           "x": [
            "Canada",
            "Mexico",
            "Trinidad and Tobago",
            "United States"
           ],
           "xaxis": "x",
           "y": [
            69575.922,
            14026.401000000002,
            56921.416,
            78587.188
           ],
           "yaxis": "y"
          },
          {
           "alignmentgroup": "True",
           "hovertemplate": "Continents=South America<br>Year=1990<br>Countries=%{x}<br>Fossil fuels per capita (kWh)=%{y}<extra></extra>",
           "legendgroup": "South America",
           "marker": {
            "color": "#19d3f3",
            "pattern": {
             "shape": ""
            }
           },
           "name": "South America",
           "offsetgroup": "South America",
           "orientation": "v",
           "showlegend": true,
           "textposition": "auto",
           "type": "bar",
           "x": [
            "Argentina",
            "Brazil",
            "Chile",
            "Colombia",
            "Ecuador",
            "Peru",
            "Venezuela"
           ],
           "xaxis": "x",
           "y": [
            13581.956,
            5567.988,
            9504.099,
            5123.073,
            6473.793000000001,
            3431.554,
            25171.744
           ],
           "yaxis": "y"
          }
         ],
         "name": "1990"
        },
        {
         "data": [
          {
           "alignmentgroup": "True",
           "hovertemplate": "Continents=Africa<br>Year=1991<br>Countries=%{x}<br>Fossil fuels per capita (kWh)=%{y}<extra></extra>",
           "legendgroup": "Africa",
           "marker": {
            "color": "#636efa",
            "pattern": {
             "shape": ""
            }
           },
           "name": "Africa",
           "offsetgroup": "Africa",
           "orientation": "v",
           "showlegend": true,
           "textposition": "auto",
           "type": "bar",
           "x": [
            "Algeria",
            "Egypt",
            "Morocco"
           ],
           "xaxis": "x",
           "y": [
            11788.975,
            6482.351,
            3174.133
           ],
           "yaxis": "y"
          },
          {
           "alignmentgroup": "True",
           "hovertemplate": "Continents=Asia<br>Year=1991<br>Countries=%{x}<br>Fossil fuels per capita (kWh)=%{y}<extra></extra>",
           "legendgroup": "Asia",
           "marker": {
            "color": "#EF553B",
            "pattern": {
             "shape": ""
            }
           },
           "name": "Asia",
           "offsetgroup": "Asia",
           "orientation": "v",
           "showlegend": true,
           "textposition": "auto",
           "type": "bar",
           "x": [
            "Azerbaijan",
            "Bangladesh",
            "China",
            "India",
            "Indonesia",
            "Iran",
            "Iraq",
            "Israel",
            "Japan",
            "Kazakhstan",
            "Kuwait",
            "Malaysia",
            "Oman",
            "Pakistan",
            "Philippines",
            "Qatar",
            "Russia",
            "Saudi Arabia",
            "Singapore",
            "Sri Lanka",
            "Thailand",
            "Turkmenistan",
            "United Arab Emirates",
            "Uzbekistan",
            "Vietnam"
           ],
           "xaxis": "x",
           "y": [
            33285.049,
            651.3009999999999,
            6730.858,
            2459.1620000000003,
            3467.365,
            15599.069,
            8240.384,
            30076.487999999998,
            35392.834,
            51042.44,
            22224.637000000002,
            16160.582,
            34249.366,
            2423.264,
            2304.951,
            199772.332,
            61494.535,
            57978.032,
            89497.93,
            927.48,
            6739.552,
            41167.09,
            218369.336,
            23816.772,
            856.3919999999999
           ],
           "yaxis": "y"
          },
          {
           "alignmentgroup": "True",
           "hovertemplate": "Continents=Australia_NZ<br>Year=1991<br>Countries=%{x}<br>Fossil fuels per capita (kWh)=%{y}<extra></extra>",
           "legendgroup": "Australia_NZ",
           "marker": {
            "color": "#00cc96",
            "pattern": {
             "shape": ""
            }
           },
           "name": "Australia_NZ",
           "offsetgroup": "Australia_NZ",
           "orientation": "v",
           "showlegend": true,
           "textposition": "auto",
           "type": "bar",
           "x": [
            "Australia",
            "New Zealand"
           ],
           "xaxis": "x",
           "y": [
            58462.523,
            33266.883
           ],
           "yaxis": "y"
          },
          {
           "alignmentgroup": "True",
           "hovertemplate": "Continents=Europe<br>Year=1991<br>Countries=%{x}<br>Fossil fuels per capita (kWh)=%{y}<extra></extra>",
           "legendgroup": "Europe",
           "marker": {
            "color": "#ab63fa",
            "pattern": {
             "shape": ""
            }
           },
           "name": "Europe",
           "offsetgroup": "Europe",
           "orientation": "v",
           "showlegend": true,
           "textposition": "auto",
           "type": "bar",
           "x": [
            "Austria",
            "Belarus",
            "Belgium",
            "Bulgaria",
            "Croatia",
            "Cyprus",
            "Denmark",
            "Estonia",
            "Finland",
            "France",
            "Germany",
            "Greece",
            "Hungary",
            "Iceland",
            "Ireland",
            "Italy",
            "Latvia",
            "Lithuania",
            "Luxembourg",
            "Netherlands",
            "Norway",
            "Poland",
            "Portugal",
            "Romania",
            "Slovakia",
            "Slovenia",
            "Spain",
            "Sweden",
            "Switzerland",
            "Ukraine",
            "United Kingdom"
           ],
           "xaxis": "x",
           "y": [
            32817.716,
            43274.803,
            52635.138,
            24947.036,
            14163.743999999999,
            24919.76,
            44511.56,
            70188.09599999999,
            44209.695,
            30009.168999999998,
            45544.849,
            27636.502999999997,
            25617.252999999997,
            31579.657000000003,
            33835.804,
            30498.362999999998,
            26423.353,
            44412.14,
            102683.336,
            60780.355,
            30559.757,
            30976.715,
            17811.26,
            24781.861,
            34819.633,
            22255.623,
            22048.447999999997,
            27394.798,
            26735.602000000003,
            52364.357,
            40938.669
           ],
           "yaxis": "y"
          },
          {
           "alignmentgroup": "True",
           "hovertemplate": "Continents=North America<br>Year=1991<br>Countries=%{x}<br>Fossil fuels per capita (kWh)=%{y}<extra></extra>",
           "legendgroup": "North America",
           "marker": {
            "color": "#FFA15A",
            "pattern": {
             "shape": ""
            }
           },
           "name": "North America",
           "offsetgroup": "North America",
           "orientation": "v",
           "showlegend": true,
           "textposition": "auto",
           "type": "bar",
           "x": [
            "Canada",
            "Mexico",
            "Trinidad and Tobago",
            "United States"
           ],
           "xaxis": "x",
           "y": [
            66580.822,
            14339.583999999999,
            56394.724,
            77312.863
           ],
           "yaxis": "y"
          },
          {
           "alignmentgroup": "True",
           "hovertemplate": "Continents=South America<br>Year=1991<br>Countries=%{x}<br>Fossil fuels per capita (kWh)=%{y}<extra></extra>",
           "legendgroup": "South America",
           "marker": {
            "color": "#19d3f3",
            "pattern": {
             "shape": ""
            }
           },
           "name": "South America",
           "offsetgroup": "South America",
           "orientation": "v",
           "showlegend": true,
           "textposition": "auto",
           "type": "bar",
           "x": [
            "Argentina",
            "Brazil",
            "Chile",
            "Colombia",
            "Ecuador",
            "Peru",
            "Venezuela"
           ],
           "xaxis": "x",
           "y": [
            13670.764,
            5637.896,
            9842.518,
            5287.524,
            7106.844,
            3195.381,
            23682.896
           ],
           "yaxis": "y"
          }
         ],
         "name": "1991"
        },
        {
         "data": [
          {
           "alignmentgroup": "True",
           "hovertemplate": "Continents=Africa<br>Year=1992<br>Countries=%{x}<br>Fossil fuels per capita (kWh)=%{y}<extra></extra>",
           "legendgroup": "Africa",
           "marker": {
            "color": "#636efa",
            "pattern": {
             "shape": ""
            }
           },
           "name": "Africa",
           "offsetgroup": "Africa",
           "orientation": "v",
           "showlegend": true,
           "textposition": "auto",
           "type": "bar",
           "x": [
            "Algeria",
            "Egypt",
            "Morocco"
           ],
           "xaxis": "x",
           "y": [
            11826.206,
            6341.703,
            3536.574
           ],
           "yaxis": "y"
          },
          {
           "alignmentgroup": "True",
           "hovertemplate": "Continents=Asia<br>Year=1992<br>Countries=%{x}<br>Fossil fuels per capita (kWh)=%{y}<extra></extra>",
           "legendgroup": "Asia",
           "marker": {
            "color": "#EF553B",
            "pattern": {
             "shape": ""
            }
           },
           "name": "Asia",
           "offsetgroup": "Asia",
           "orientation": "v",
           "showlegend": true,
           "textposition": "auto",
           "type": "bar",
           "x": [
            "Azerbaijan",
            "Bangladesh",
            "China",
            "India",
            "Indonesia",
            "Iran",
            "Iraq",
            "Israel",
            "Japan",
            "Kazakhstan",
            "Kuwait",
            "Malaysia",
            "Oman",
            "Pakistan",
            "Philippines",
            "Qatar",
            "Russia",
            "Saudi Arabia",
            "Singapore",
            "Sri Lanka",
            "Thailand",
            "Turkmenistan",
            "United Arab Emirates",
            "Uzbekistan",
            "Vietnam"
           ],
           "xaxis": "x",
           "y": [
            27976.75,
            697.852,
            7007.914000000001,
            2556.2670000000003,
            3720.566,
            16653.095,
            12330.594,
            31628.631,
            35932.898,
            50656.731,
            43050.062999999995,
            17102.504,
            31513.338,
            2453.5370000000003,
            2717.9309999999996,
            302394.043,
            58789.344000000005,
            56805.508,
            93064.255,
            1078.6960000000001,
            7404.066999999999,
            38194.602999999996,
            199153.415,
            22060.605,
            902.914
           ],
           "yaxis": "y"
          },
          {
           "alignmentgroup": "True",
           "hovertemplate": "Continents=Australia_NZ<br>Year=1992<br>Countries=%{x}<br>Fossil fuels per capita (kWh)=%{y}<extra></extra>",
           "legendgroup": "Australia_NZ",
           "marker": {
            "color": "#00cc96",
            "pattern": {
             "shape": ""
            }
           },
           "name": "Australia_NZ",
           "offsetgroup": "Australia_NZ",
           "orientation": "v",
           "showlegend": true,
           "textposition": "auto",
           "type": "bar",
           "x": [
            "Australia",
            "New Zealand"
           ],
           "xaxis": "x",
           "y": [
            58319.914000000004,
            34266.526
           ],
           "yaxis": "y"
          },
          {
           "alignmentgroup": "True",
           "hovertemplate": "Continents=Europe<br>Year=1992<br>Countries=%{x}<br>Fossil fuels per capita (kWh)=%{y}<extra></extra>",
           "legendgroup": "Europe",
           "marker": {
            "color": "#ab63fa",
            "pattern": {
             "shape": ""
            }
           },
           "name": "Europe",
           "offsetgroup": "Europe",
           "orientation": "v",
           "showlegend": true,
           "textposition": "auto",
           "type": "bar",
           "x": [
            "Austria",
            "Belarus",
            "Belgium",
            "Bulgaria",
            "Croatia",
            "Cyprus",
            "Denmark",
            "Estonia",
            "Finland",
            "France",
            "Germany",
            "Greece",
            "Hungary",
            "Iceland",
            "Ireland",
            "Italy",
            "Latvia",
            "Lithuania",
            "Luxembourg",
            "Netherlands",
            "Norway",
            "Poland",
            "Portugal",
            "Romania",
            "Slovakia",
            "Slovenia",
            "Spain",
            "Sweden",
            "Switzerland",
            "Ukraine",
            "United Kingdom"
           ],
           "xaxis": "x",
           "y": [
            30541.177000000003,
            40971.13,
            52009.792,
            23996.918999999998,
            14292.02,
            28460.297000000002,
            41315.756,
            51753.015,
            42719.481,
            29357.721,
            43742.515999999996,
            28015.597,
            23889.195,
            32901.692,
            33896.532,
            30435.051,
            18923.721999999998,
            23936.505,
            101785.93,
            61001.094000000005,
            31526.874,
            29519.53,
            19248.612,
            22076.964,
            33150.718,
            21691.604,
            23936.795,
            28232.735,
            26751.295,
            45345.163,
            40185.378
           ],
           "yaxis": "y"
          },
          {
           "alignmentgroup": "True",
           "hovertemplate": "Continents=North America<br>Year=1992<br>Countries=%{x}<br>Fossil fuels per capita (kWh)=%{y}<extra></extra>",
           "legendgroup": "North America",
           "marker": {
            "color": "#FFA15A",
            "pattern": {
             "shape": ""
            }
           },
           "name": "North America",
           "offsetgroup": "North America",
           "orientation": "v",
           "showlegend": true,
           "textposition": "auto",
           "type": "bar",
           "x": [
            "Canada",
            "Mexico",
            "Trinidad and Tobago",
            "United States"
           ],
           "xaxis": "x",
           "y": [
            67995.048,
            14203.841999999999,
            59297.282999999996,
            78147.189
           ],
           "yaxis": "y"
          },
          {
           "alignmentgroup": "True",
           "hovertemplate": "Continents=South America<br>Year=1992<br>Countries=%{x}<br>Fossil fuels per capita (kWh)=%{y}<extra></extra>",
           "legendgroup": "South America",
           "marker": {
            "color": "#19d3f3",
            "pattern": {
             "shape": ""
            }
           },
           "name": "South America",
           "offsetgroup": "South America",
           "orientation": "v",
           "showlegend": true,
           "textposition": "auto",
           "type": "bar",
           "x": [
            "Argentina",
            "Brazil",
            "Chile",
            "Colombia",
            "Ecuador",
            "Peru",
            "Venezuela"
           ],
           "xaxis": "x",
           "y": [
            14419.427,
            5898.0419999999995,
            10140.644,
            5961.186,
            6930.57,
            3244.417,
            25188.987
           ],
           "yaxis": "y"
          }
         ],
         "name": "1992"
        },
        {
         "data": [
          {
           "alignmentgroup": "True",
           "hovertemplate": "Continents=Africa<br>Year=1993<br>Countries=%{x}<br>Fossil fuels per capita (kWh)=%{y}<extra></extra>",
           "legendgroup": "Africa",
           "marker": {
            "color": "#636efa",
            "pattern": {
             "shape": ""
            }
           },
           "name": "Africa",
           "offsetgroup": "Africa",
           "orientation": "v",
           "showlegend": true,
           "textposition": "auto",
           "type": "bar",
           "x": [
            "Algeria",
            "Egypt",
            "Morocco"
           ],
           "xaxis": "x",
           "y": [
            10745.094,
            6270.16,
            3573.1609999999996
           ],
           "yaxis": "y"
          },
          {
           "alignmentgroup": "True",
           "hovertemplate": "Continents=Asia<br>Year=1993<br>Countries=%{x}<br>Fossil fuels per capita (kWh)=%{y}<extra></extra>",
           "legendgroup": "Asia",
           "marker": {
            "color": "#EF553B",
            "pattern": {
             "shape": ""
            }
           },
           "name": "Asia",
           "offsetgroup": "Asia",
           "orientation": "v",
           "showlegend": true,
           "textposition": "auto",
           "type": "bar",
           "x": [
            "Azerbaijan",
            "Bangladesh",
            "China",
            "India",
            "Indonesia",
            "Iran",
            "Iraq",
            "Israel",
            "Japan",
            "Kazakhstan",
            "Kuwait",
            "Malaysia",
            "Oman",
            "Pakistan",
            "Philippines",
            "Qatar",
            "Russia",
            "Saudi Arabia",
            "Singapore",
            "Sri Lanka",
            "Thailand",
            "Turkmenistan",
            "United Arab Emirates",
            "Uzbekistan",
            "Vietnam"
           ],
           "xaxis": "x",
           "y": [
            23565.045,
            757.927,
            7441.644,
            2572.6929999999998,
            3886.8,
            15030.506000000001,
            16377.466,
            32308.567000000003,
            35476.76,
            44764.157,
            62607.318,
            17340.52,
            28879.371,
            2650.192,
            2735.53,
            317582.498,
            54358.53,
            56458.01,
            98436.21,
            1037.468,
            8408.317,
            30485.769,
            195854.575,
            23143.421000000002,
            1021.737
           ],
           "yaxis": "y"
          },
          {
           "alignmentgroup": "True",
           "hovertemplate": "Continents=Australia_NZ<br>Year=1993<br>Countries=%{x}<br>Fossil fuels per capita (kWh)=%{y}<extra></extra>",
           "legendgroup": "Australia_NZ",
           "marker": {
            "color": "#00cc96",
            "pattern": {
             "shape": ""
            }
           },
           "name": "Australia_NZ",
           "offsetgroup": "Australia_NZ",
           "orientation": "v",
           "showlegend": true,
           "textposition": "auto",
           "type": "bar",
           "x": [
            "Australia",
            "New Zealand"
           ],
           "xaxis": "x",
           "y": [
            59300.626,
            33321.072
           ],
           "yaxis": "y"
          },
          {
           "alignmentgroup": "True",
           "hovertemplate": "Continents=Europe<br>Year=1993<br>Countries=%{x}<br>Fossil fuels per capita (kWh)=%{y}<extra></extra>",
           "legendgroup": "Europe",
           "marker": {
            "color": "#ab63fa",
            "pattern": {
             "shape": ""
            }
           },
           "name": "Europe",
           "offsetgroup": "Europe",
           "orientation": "v",
           "showlegend": true,
           "textposition": "auto",
           "type": "bar",
           "x": [
            "Austria",
            "Belarus",
            "Belgium",
            "Bulgaria",
            "Croatia",
            "Cyprus",
            "Denmark",
            "Estonia",
            "Finland",
            "France",
            "Germany",
            "Greece",
            "Hungary",
            "Iceland",
            "Ireland",
            "Italy",
            "Latvia",
            "Lithuania",
            "Luxembourg",
            "Netherlands",
            "Norway",
            "Poland",
            "Portugal",
            "Romania",
            "Slovakia",
            "Slovenia",
            "Spain",
            "Sweden",
            "Switzerland",
            "Ukraine",
            "United Kingdom"
           ],
           "xaxis": "x",
           "y": [
            30371.793999999998,
            32873.214,
            51232.475,
            25336.438,
            15004.621000000001,
            28925.759,
            43506.176,
            41959.624,
            43233.422,
            27994.807999999997,
            43426.664000000004,
            28124.112999999998,
            23540.305,
            33736.837,
            34517.107,
            29911.156000000003,
            15738.013,
            18056.596999999998,
            101571.293,
            61057.114,
            33144.448,
            29431.443,
            18605.906000000003,
            21389.871,
            31257.279,
            23217.585,
            22486.725,
            27773.069,
            25082.664,
            37539.373999999996,
            39998.546
           ],
           "yaxis": "y"
          },
          {
           "alignmentgroup": "True",
           "hovertemplate": "Continents=North America<br>Year=1993<br>Countries=%{x}<br>Fossil fuels per capita (kWh)=%{y}<extra></extra>",
           "legendgroup": "North America",
           "marker": {
            "color": "#FFA15A",
            "pattern": {
             "shape": ""
            }
           },
           "name": "North America",
           "offsetgroup": "North America",
           "orientation": "v",
           "showlegend": true,
           "textposition": "auto",
           "type": "bar",
           "x": [
            "Canada",
            "Mexico",
            "Trinidad and Tobago",
            "United States"
           ],
           "xaxis": "x",
           "y": [
            67578.648,
            14001.413999999999,
            62160.942,
            78974.317
           ],
           "yaxis": "y"
          },
          {
           "alignmentgroup": "True",
           "hovertemplate": "Continents=South America<br>Year=1993<br>Countries=%{x}<br>Fossil fuels per capita (kWh)=%{y}<extra></extra>",
           "legendgroup": "South America",
           "marker": {
            "color": "#19d3f3",
            "pattern": {
             "shape": ""
            }
           },
           "name": "South America",
           "offsetgroup": "South America",
           "orientation": "v",
           "showlegend": true,
           "textposition": "auto",
           "type": "bar",
           "x": [
            "Argentina",
            "Brazil",
            "Chile",
            "Colombia",
            "Ecuador",
            "Peru",
            "Venezuela"
           ],
           "xaxis": "x",
           "y": [
            14398.31,
            6057.62,
            10665.501,
            6173.69,
            6847.017,
            3320.0840000000003,
            24278.715
           ],
           "yaxis": "y"
          }
         ],
         "name": "1993"
        },
        {
         "data": [
          {
           "alignmentgroup": "True",
           "hovertemplate": "Continents=Africa<br>Year=1994<br>Countries=%{x}<br>Fossil fuels per capita (kWh)=%{y}<extra></extra>",
           "legendgroup": "Africa",
           "marker": {
            "color": "#636efa",
            "pattern": {
             "shape": ""
            }
           },
           "name": "Africa",
           "offsetgroup": "Africa",
           "orientation": "v",
           "showlegend": true,
           "textposition": "auto",
           "type": "bar",
           "x": [
            "Algeria",
            "Egypt",
            "Morocco"
           ],
           "xaxis": "x",
           "y": [
            10683.72,
            6244.16,
            3835.79
           ],
           "yaxis": "y"
          },
          {
           "alignmentgroup": "True",
           "hovertemplate": "Continents=Asia<br>Year=1994<br>Countries=%{x}<br>Fossil fuels per capita (kWh)=%{y}<extra></extra>",
           "legendgroup": "Asia",
           "marker": {
            "color": "#EF553B",
            "pattern": {
             "shape": ""
            }
           },
           "name": "Asia",
           "offsetgroup": "Asia",
           "orientation": "v",
           "showlegend": true,
           "textposition": "auto",
           "type": "bar",
           "x": [
            "Azerbaijan",
            "Bangladesh",
            "China",
            "India",
            "Indonesia",
            "Iran",
            "Iraq",
            "Israel",
            "Japan",
            "Kazakhstan",
            "Kuwait",
            "Malaysia",
            "Oman",
            "Pakistan",
            "Philippines",
            "Qatar",
            "Russia",
            "Saudi Arabia",
            "Singapore",
            "Sri Lanka",
            "Thailand",
            "Turkmenistan",
            "United Arab Emirates",
            "Uzbekistan",
            "Vietnam"
           ],
           "xaxis": "x",
           "y": [
            21515.592999999997,
            782.217,
            7782.61,
            2644.8,
            4105.062,
            16866.006,
            18305.759,
            34145.304,
            37388.057,
            39832.794,
            82228.48,
            18296.916,
            26462.103,
            2692.3520000000003,
            2803.992,
            316384.923,
            49481.087,
            63664.289000000004,
            108987.627,
            1138.433,
            9323.435,
            31699.141,
            203563.401,
            22260.231,
            1106.812
           ],
           "yaxis": "y"
          },
          {
           "alignmentgroup": "True",
           "hovertemplate": "Continents=Australia_NZ<br>Year=1994<br>Countries=%{x}<br>Fossil fuels per capita (kWh)=%{y}<extra></extra>",
           "legendgroup": "Australia_NZ",
           "marker": {
            "color": "#00cc96",
            "pattern": {
             "shape": ""
            }
           },
           "name": "Australia_NZ",
           "offsetgroup": "Australia_NZ",
           "orientation": "v",
           "showlegend": true,
           "textposition": "auto",
           "type": "bar",
           "x": [
            "Australia",
            "New Zealand"
           ],
           "xaxis": "x",
           "y": [
            61125.545,
            33913.637
           ],
           "yaxis": "y"
          },
          {
           "alignmentgroup": "True",
           "hovertemplate": "Continents=Europe<br>Year=1994<br>Countries=%{x}<br>Fossil fuels per capita (kWh)=%{y}<extra></extra>",
           "legendgroup": "Europe",
           "marker": {
            "color": "#ab63fa",
            "pattern": {
             "shape": ""
            }
           },
           "name": "Europe",
           "offsetgroup": "Europe",
           "orientation": "v",
           "showlegend": true,
           "textposition": "auto",
           "type": "bar",
           "x": [
            "Austria",
            "Belarus",
            "Belgium",
            "Bulgaria",
            "Croatia",
            "Cyprus",
            "Denmark",
            "Estonia",
            "Finland",
            "France",
            "Germany",
            "Greece",
            "Hungary",
            "Iceland",
            "Ireland",
            "Italy",
            "Latvia",
            "Lithuania",
            "Luxembourg",
            "Netherlands",
            "Norway",
            "Poland",
            "Portugal",
            "Romania",
            "Slovakia",
            "Slovenia",
            "Spain",
            "Sweden",
            "Switzerland",
            "Ukraine",
            "United Kingdom"
           ],
           "xaxis": "x",
           "y": [
            30319.604,
            27466.181,
            54860.359000000004,
            24185.058999999997,
            14764.546,
            28354.097,
            46587.454000000005,
            43291.344000000005,
            47293.793,
            26945.808999999997,
            42759.199,
            28247.58,
            23834.106,
            33860.205,
            35568.969,
            29697.257,
            14878.242,
            17823.968,
            96288.258,
            59962.012,
            34197.712,
            28078.189,
            18643.744,
            20171.065,
            29503.487,
            23970.373,
            23511.127,
            29025.815,
            25514.291,
            31405.131,
            39338.803
           ],
           "yaxis": "y"
          },
          {
           "alignmentgroup": "True",
           "hovertemplate": "Continents=North America<br>Year=1994<br>Countries=%{x}<br>Fossil fuels per capita (kWh)=%{y}<extra></extra>",
           "legendgroup": "North America",
           "marker": {
            "color": "#FFA15A",
            "pattern": {
             "shape": ""
            }
           },
           "name": "North America",
           "offsetgroup": "North America",
           "orientation": "v",
           "showlegend": true,
           "textposition": "auto",
           "type": "bar",
           "x": [
            "Canada",
            "Mexico",
            "Trinidad and Tobago",
            "United States"
           ],
           "xaxis": "x",
           "y": [
            68864.991,
            14850.146,
            65552.953,
            79674.36099999999
           ],
           "yaxis": "y"
          },
          {
           "alignmentgroup": "True",
           "hovertemplate": "Continents=South America<br>Year=1994<br>Countries=%{x}<br>Fossil fuels per capita (kWh)=%{y}<extra></extra>",
           "legendgroup": "South America",
           "marker": {
            "color": "#19d3f3",
            "pattern": {
             "shape": ""
            }
           },
           "name": "South America",
           "offsetgroup": "South America",
           "orientation": "v",
           "showlegend": true,
           "textposition": "auto",
           "type": "bar",
           "x": [
            "Argentina",
            "Brazil",
            "Chile",
            "Colombia",
            "Ecuador",
            "Peru",
            "Venezuela"
           ],
           "xaxis": "x",
           "y": [
            14130.618,
            6335.552,
            11263.183,
            6335.545999999999,
            7218.5380000000005,
            3556.58,
            25829.222999999998
           ],
           "yaxis": "y"
          }
         ],
         "name": "1994"
        },
        {
         "data": [
          {
           "alignmentgroup": "True",
           "hovertemplate": "Continents=Africa<br>Year=1995<br>Countries=%{x}<br>Fossil fuels per capita (kWh)=%{y}<extra></extra>",
           "legendgroup": "Africa",
           "marker": {
            "color": "#636efa",
            "pattern": {
             "shape": ""
            }
           },
           "name": "Africa",
           "offsetgroup": "Africa",
           "orientation": "v",
           "showlegend": true,
           "textposition": "auto",
           "type": "bar",
           "x": [
            "Algeria",
            "Egypt",
            "Morocco"
           ],
           "xaxis": "x",
           "y": [
            10869.128,
            6492.673000000001,
            3728.428
           ],
           "yaxis": "y"
          },
          {
           "alignmentgroup": "True",
           "hovertemplate": "Continents=Asia<br>Year=1995<br>Countries=%{x}<br>Fossil fuels per capita (kWh)=%{y}<extra></extra>",
           "legendgroup": "Asia",
           "marker": {
            "color": "#EF553B",
            "pattern": {
             "shape": ""
            }
           },
           "name": "Asia",
           "offsetgroup": "Asia",
           "orientation": "v",
           "showlegend": true,
           "textposition": "auto",
           "type": "bar",
           "x": [
            "Azerbaijan",
            "Bangladesh",
            "China",
            "India",
            "Indonesia",
            "Iran",
            "Iraq",
            "Israel",
            "Japan",
            "Kazakhstan",
            "Kuwait",
            "Malaysia",
            "Oman",
            "Pakistan",
            "Philippines",
            "Qatar",
            "Russia",
            "Saudi Arabia",
            "Singapore",
            "Sri Lanka",
            "Thailand",
            "Turkmenistan",
            "United Arab Emirates",
            "Uzbekistan",
            "Vietnam"
           ],
           "xaxis": "x",
           "y": [
            20054.122,
            920.454,
            7910.111999999999,
            2811.6690000000003,
            4302.0509999999995,
            17573.541,
            17298.271,
            36910.279,
            38087.092000000004,
            36230.573,
            106060.88699999999,
            18670.104,
            29900.048,
            2762.5359999999996,
            3099.777,
            314614.812,
            46538.433,
            60625.933,
            110084.82800000001,
            1223.2939999999999,
            10033.521,
            25515.28,
            201773.488,
            21504.262000000002,
            1268.553
           ],
           "yaxis": "y"
          },
          {
           "alignmentgroup": "True",
           "hovertemplate": "Continents=Australia_NZ<br>Year=1995<br>Countries=%{x}<br>Fossil fuels per capita (kWh)=%{y}<extra></extra>",
           "legendgroup": "Australia_NZ",
           "marker": {
            "color": "#00cc96",
            "pattern": {
             "shape": ""
            }
           },
           "name": "Australia_NZ",
           "offsetgroup": "Australia_NZ",
           "orientation": "v",
           "showlegend": true,
           "textposition": "auto",
           "type": "bar",
           "x": [
            "Australia",
            "New Zealand"
           ],
           "xaxis": "x",
           "y": [
            62198.899000000005,
            34313.221
           ],
           "yaxis": "y"
          },
          {
           "alignmentgroup": "True",
           "hovertemplate": "Continents=Europe<br>Year=1995<br>Countries=%{x}<br>Fossil fuels per capita (kWh)=%{y}<extra></extra>",
           "legendgroup": "Europe",
           "marker": {
            "color": "#ab63fa",
            "pattern": {
             "shape": ""
            }
           },
           "name": "Europe",
           "offsetgroup": "Europe",
           "orientation": "v",
           "showlegend": true,
           "textposition": "auto",
           "type": "bar",
           "x": [
            "Austria",
            "Belarus",
            "Belgium",
            "Bulgaria",
            "Croatia",
            "Cyprus",
            "Denmark",
            "Estonia",
            "Finland",
            "France",
            "Germany",
            "Greece",
            "Hungary",
            "Iceland",
            "Ireland",
            "Italy",
            "Latvia",
            "Lithuania",
            "Luxembourg",
            "Netherlands",
            "Norway",
            "Poland",
            "Portugal",
            "Romania",
            "Slovakia",
            "Slovenia",
            "Spain",
            "Sweden",
            "Switzerland",
            "Ukraine",
            "United Kingdom"
           ],
           "xaxis": "x",
           "y": [
            31530.141,
            24993.993,
            55059.567,
            25748.759,
            15381.632,
            29509.583,
            45477.575999999994,
            41071.788,
            43296.736,
            27424.177000000003,
            42673.009000000005,
            28775.8,
            24036.47,
            34082.121,
            36205.96,
            31366.087000000003,
            14307.641000000001,
            17630.267,
            82382.817,
            62006.365999999995,
            34006.254,
            28677.988999999998,
            21327.578999999998,
            22009.232999999997,
            30300.772,
            25776.542999999998,
            24895.727000000003,
            27705.767999999996,
            24012.881,
            30275.103,
            39355.711
           ],
           "yaxis": "y"
          },
          {
           "alignmentgroup": "True",
           "hovertemplate": "Continents=North America<br>Year=1995<br>Countries=%{x}<br>Fossil fuels per capita (kWh)=%{y}<extra></extra>",
           "legendgroup": "North America",
           "marker": {
            "color": "#FFA15A",
            "pattern": {
             "shape": ""
            }
           },
           "name": "North America",
           "offsetgroup": "North America",
           "orientation": "v",
           "showlegend": true,
           "textposition": "auto",
           "type": "bar",
           "x": [
            "Canada",
            "Mexico",
            "Trinidad and Tobago",
            "United States"
           ],
           "xaxis": "x",
           "y": [
            70718.275,
            14005.138,
            70866.58099999999,
            79837.62299999999
           ],
           "yaxis": "y"
          },
          {
           "alignmentgroup": "True",
           "hovertemplate": "Continents=South America<br>Year=1995<br>Countries=%{x}<br>Fossil fuels per capita (kWh)=%{y}<extra></extra>",
           "legendgroup": "South America",
           "marker": {
            "color": "#19d3f3",
            "pattern": {
             "shape": ""
            }
           },
           "name": "South America",
           "offsetgroup": "South America",
           "orientation": "v",
           "showlegend": true,
           "textposition": "auto",
           "type": "bar",
           "x": [
            "Argentina",
            "Brazil",
            "Chile",
            "Colombia",
            "Ecuador",
            "Peru",
            "Venezuela"
           ],
           "xaxis": "x",
           "y": [
            14694.886,
            6528.491,
            11945.505,
            6358.133000000001,
            6944.968000000001,
            3916.647,
            26230.474
           ],
           "yaxis": "y"
          }
         ],
         "name": "1995"
        },
        {
         "data": [
          {
           "alignmentgroup": "True",
           "hovertemplate": "Continents=Africa<br>Year=1996<br>Countries=%{x}<br>Fossil fuels per capita (kWh)=%{y}<extra></extra>",
           "legendgroup": "Africa",
           "marker": {
            "color": "#636efa",
            "pattern": {
             "shape": ""
            }
           },
           "name": "Africa",
           "offsetgroup": "Africa",
           "orientation": "v",
           "showlegend": true,
           "textposition": "auto",
           "type": "bar",
           "x": [
            "Algeria",
            "Egypt",
            "Morocco"
           ],
           "xaxis": "x",
           "y": [
            10576.293,
            6718.579000000001,
            3700.355
           ],
           "yaxis": "y"
          },
          {
           "alignmentgroup": "True",
           "hovertemplate": "Continents=Asia<br>Year=1996<br>Countries=%{x}<br>Fossil fuels per capita (kWh)=%{y}<extra></extra>",
           "legendgroup": "Asia",
           "marker": {
            "color": "#EF553B",
            "pattern": {
             "shape": ""
            }
           },
           "name": "Asia",
           "offsetgroup": "Asia",
           "orientation": "v",
           "showlegend": true,
           "textposition": "auto",
           "type": "bar",
           "x": [
            "Azerbaijan",
            "Bangladesh",
            "China",
            "India",
            "Indonesia",
            "Iran",
            "Iraq",
            "Israel",
            "Japan",
            "Kazakhstan",
            "Kuwait",
            "Malaysia",
            "Oman",
            "Pakistan",
            "Philippines",
            "Qatar",
            "Russia",
            "Saudi Arabia",
            "Singapore",
            "Sri Lanka",
            "Thailand",
            "Turkmenistan",
            "United Arab Emirates",
            "Uzbekistan",
            "Vietnam"
           ],
           "xaxis": "x",
           "y": [
            16179.153999999999,
            935.1239999999999,
            8281.665,
            2896.0820000000003,
            4521.065,
            18750.098,
            17517.903000000002,
            37759.539,
            38687.621,
            31939.231,
            103669.42,
            20549.353,
            30301.112999999998,
            2851.798,
            3247.12,
            229462.728,
            44908.377,
            61394.28400000001,
            107667.773,
            1482.539,
            11228.059,
            36481.233,
            197816.546,
            21751.319,
            1438.384
           ],
           "yaxis": "y"
          },
          {
           "alignmentgroup": "True",
           "hovertemplate": "Continents=Australia_NZ<br>Year=1996<br>Countries=%{x}<br>Fossil fuels per capita (kWh)=%{y}<extra></extra>",
           "legendgroup": "Australia_NZ",
           "marker": {
            "color": "#00cc96",
            "pattern": {
             "shape": ""
            }
           },
           "name": "Australia_NZ",
           "offsetgroup": "Australia_NZ",
           "orientation": "v",
           "showlegend": true,
           "textposition": "auto",
           "type": "bar",
           "x": [
            "Australia",
            "New Zealand"
           ],
           "xaxis": "x",
           "y": [
            63073.273,
            35834.83
           ],
           "yaxis": "y"
          },
          {
           "alignmentgroup": "True",
           "hovertemplate": "Continents=Europe<br>Year=1996<br>Countries=%{x}<br>Fossil fuels per capita (kWh)=%{y}<extra></extra>",
           "legendgroup": "Europe",
           "marker": {
            "color": "#ab63fa",
            "pattern": {
             "shape": ""
            }
           },
           "name": "Europe",
           "offsetgroup": "Europe",
           "orientation": "v",
           "showlegend": true,
           "textposition": "auto",
           "type": "bar",
           "x": [
            "Austria",
            "Belarus",
            "Belgium",
            "Bulgaria",
            "Croatia",
            "Cyprus",
            "Denmark",
            "Estonia",
            "Finland",
            "France",
            "Germany",
            "Greece",
            "Hungary",
            "Iceland",
            "Ireland",
            "Italy",
            "Latvia",
            "Lithuania",
            "Luxembourg",
            "Netherlands",
            "Norway",
            "Poland",
            "Portugal",
            "Romania",
            "Slovakia",
            "Slovenia",
            "Spain",
            "Sweden",
            "Switzerland",
            "Ukraine",
            "United Kingdom"
           ],
           "xaxis": "x",
           "y": [
            32636.007999999998,
            25712.912999999997,
            58621.287000000004,
            25530.077999999998,
            15510.916000000001,
            29329.712000000003,
            53957.594000000005,
            43763.295,
            46891.551,
            28526.572999999997,
            43999.222,
            29137.398999999998,
            24525.797000000002,
            37452.631,
            37998.101,
            31239.807,
            14506.77,
            18524.625,
            83750.185,
            64227.448,
            36108.49,
            30065.342,
            20118.066000000003,
            21962.72,
            30971.988999999998,
            27334.002999999997,
            24723.509,
            29693.54,
            24787.541,
            28746.08,
            41133.305
           ],
           "yaxis": "y"
          },
          {
           "alignmentgroup": "True",
           "hovertemplate": "Continents=North America<br>Year=1996<br>Countries=%{x}<br>Fossil fuels per capita (kWh)=%{y}<extra></extra>",
           "legendgroup": "North America",
           "marker": {
            "color": "#FFA15A",
            "pattern": {
             "shape": ""
            }
           },
           "name": "North America",
           "offsetgroup": "North America",
           "orientation": "v",
           "showlegend": true,
           "textposition": "auto",
           "type": "bar",
           "x": [
            "Canada",
            "Mexico",
            "Trinidad and Tobago",
            "United States"
           ],
           "xaxis": "x",
           "y": [
            71601.337,
            14168.251,
            80085.107,
            81551.189
           ],
           "yaxis": "y"
          },
          {
           "alignmentgroup": "True",
           "hovertemplate": "Continents=South America<br>Year=1996<br>Countries=%{x}<br>Fossil fuels per capita (kWh)=%{y}<extra></extra>",
           "legendgroup": "South America",
           "marker": {
            "color": "#19d3f3",
            "pattern": {
             "shape": ""
            }
           },
           "name": "South America",
           "offsetgroup": "South America",
           "orientation": "v",
           "showlegend": true,
           "textposition": "auto",
           "type": "bar",
           "x": [
            "Argentina",
            "Brazil",
            "Chile",
            "Colombia",
            "Ecuador",
            "Peru",
            "Venezuela"
           ],
           "xaxis": "x",
           "y": [
            15898.958999999999,
            6820.701,
            13052.885,
            6219.923000000001,
            7617.809,
            3982.9959999999996,
            24552.76
           ],
           "yaxis": "y"
          }
         ],
         "name": "1996"
        },
        {
         "data": [
          {
           "alignmentgroup": "True",
           "hovertemplate": "Continents=Africa<br>Year=1997<br>Countries=%{x}<br>Fossil fuels per capita (kWh)=%{y}<extra></extra>",
           "legendgroup": "Africa",
           "marker": {
            "color": "#636efa",
            "pattern": {
             "shape": ""
            }
           },
           "name": "Africa",
           "offsetgroup": "Africa",
           "orientation": "v",
           "showlegend": true,
           "textposition": "auto",
           "type": "bar",
           "x": [
            "Algeria",
            "Egypt",
            "Morocco"
           ],
           "xaxis": "x",
           "y": [
            10007.001,
            6868.243,
            3790.1090000000004
           ],
           "yaxis": "y"
          },
          {
           "alignmentgroup": "True",
           "hovertemplate": "Continents=Asia<br>Year=1997<br>Countries=%{x}<br>Fossil fuels per capita (kWh)=%{y}<extra></extra>",
           "legendgroup": "Asia",
           "marker": {
            "color": "#EF553B",
            "pattern": {
             "shape": ""
            }
           },
           "name": "Asia",
           "offsetgroup": "Asia",
           "orientation": "v",
           "showlegend": true,
           "textposition": "auto",
           "type": "bar",
           "x": [
            "Azerbaijan",
            "Bangladesh",
            "China",
            "India",
            "Indonesia",
            "Iran",
            "Iraq",
            "Israel",
            "Japan",
            "Kazakhstan",
            "Kuwait",
            "Malaysia",
            "Oman",
            "Pakistan",
            "Philippines",
            "Qatar",
            "Russia",
            "Saudi Arabia",
            "Singapore",
            "Sri Lanka",
            "Thailand",
            "Turkmenistan",
            "United Arab Emirates",
            "Uzbekistan",
            "Vietnam"
           ],
           "xaxis": "x",
           "y": [
            15266.753999999999,
            963.414,
            8243.434000000001,
            3004.009,
            4887.186,
            19271.869,
            20021.387,
            36099.455,
            38710.491,
            28528.395,
            102691.259,
            23545.209,
            30983.421000000002,
            2800.762,
            3466.2670000000003,
            239392.708,
            42221.914000000004,
            61333.605,
            109813.13699999999,
            1598.565,
            11716.32,
            27498.211,
            196315.85600000003,
            21231.176,
            1719.911
           ],
           "yaxis": "y"
          },
          {
           "alignmentgroup": "True",
           "hovertemplate": "Continents=Australia_NZ<br>Year=1997<br>Countries=%{x}<br>Fossil fuels per capita (kWh)=%{y}<extra></extra>",
           "legendgroup": "Australia_NZ",
           "marker": {
            "color": "#00cc96",
            "pattern": {
             "shape": ""
            }
           },
           "name": "Australia_NZ",
           "offsetgroup": "Australia_NZ",
           "orientation": "v",
           "showlegend": true,
           "textposition": "auto",
           "type": "bar",
           "x": [
            "Australia",
            "New Zealand"
           ],
           "xaxis": "x",
           "y": [
            64028.877,
            37676.581
           ],
           "yaxis": "y"
          },
          {
           "alignmentgroup": "True",
           "hovertemplate": "Continents=Europe<br>Year=1997<br>Countries=%{x}<br>Fossil fuels per capita (kWh)=%{y}<extra></extra>",
           "legendgroup": "Europe",
           "marker": {
            "color": "#ab63fa",
            "pattern": {
             "shape": ""
            }
           },
           "name": "Europe",
           "offsetgroup": "Europe",
           "orientation": "v",
           "showlegend": true,
           "textposition": "auto",
           "type": "bar",
           "x": [
            "Austria",
            "Belarus",
            "Belgium",
            "Bulgaria",
            "Croatia",
            "Cyprus",
            "Denmark",
            "Estonia",
            "Finland",
            "France",
            "Germany",
            "Greece",
            "Hungary",
            "Iceland",
            "Ireland",
            "Italy",
            "Latvia",
            "Lithuania",
            "Luxembourg",
            "Netherlands",
            "Norway",
            "Poland",
            "Portugal",
            "Romania",
            "Slovakia",
            "Slovenia",
            "Spain",
            "Sweden",
            "Switzerland",
            "Ukraine",
            "United Kingdom"
           ],
           "xaxis": "x",
           "y": [
            32788.917,
            26062.342999999997,
            58066.429000000004,
            24119.422000000002,
            16780.034,
            29014.19,
            48144.47,
            43524.172999999995,
            45509.429000000004,
            27905.442000000003,
            42958.535,
            29883.259,
            23848.457000000002,
            36499.933,
            39311.236000000004,
            31800.208,
            13466.945,
            17864.177,
            80595.951,
            62961.72900000001,
            37393.371,
            29736.607000000004,
            20843.57,
            20151.694,
            30399.65,
            28460.347,
            26770.604,
            27543.526,
            25592.917,
            27008,
            39957.524
           ],
           "yaxis": "y"
          },
          {
           "alignmentgroup": "True",
           "hovertemplate": "Continents=North America<br>Year=1997<br>Countries=%{x}<br>Fossil fuels per capita (kWh)=%{y}<extra></extra>",
           "legendgroup": "North America",
           "marker": {
            "color": "#FFA15A",
            "pattern": {
             "shape": ""
            }
           },
           "name": "North America",
           "offsetgroup": "North America",
           "orientation": "v",
           "showlegend": true,
           "textposition": "auto",
           "type": "bar",
           "x": [
            "Canada",
            "Mexico",
            "Trinidad and Tobago",
            "United States"
           ],
           "xaxis": "x",
           "y": [
            73233.185,
            14290.46,
            79934.76299999999,
            81613.27
           ],
           "yaxis": "y"
          },
          {
           "alignmentgroup": "True",
           "hovertemplate": "Continents=South America<br>Year=1997<br>Countries=%{x}<br>Fossil fuels per capita (kWh)=%{y}<extra></extra>",
           "legendgroup": "South America",
           "marker": {
            "color": "#19d3f3",
            "pattern": {
             "shape": ""
            }
           },
           "name": "South America",
           "offsetgroup": "South America",
           "orientation": "v",
           "showlegend": true,
           "textposition": "auto",
           "type": "bar",
           "x": [
            "Argentina",
            "Brazil",
            "Chile",
            "Colombia",
            "Ecuador",
            "Peru",
            "Venezuela"
           ],
           "xaxis": "x",
           "y": [
            15015.521,
            7162.566,
            14843.783000000001,
            6650.531999999999,
            8442.269,
            3967.881,
            25396.933999999997
           ],
           "yaxis": "y"
          }
         ],
         "name": "1997"
        },
        {
         "data": [
          {
           "alignmentgroup": "True",
           "hovertemplate": "Continents=Africa<br>Year=1998<br>Countries=%{x}<br>Fossil fuels per capita (kWh)=%{y}<extra></extra>",
           "legendgroup": "Africa",
           "marker": {
            "color": "#636efa",
            "pattern": {
             "shape": ""
            }
           },
           "name": "Africa",
           "offsetgroup": "Africa",
           "orientation": "v",
           "showlegend": true,
           "textposition": "auto",
           "type": "bar",
           "x": [
            "Algeria",
            "Egypt",
            "Morocco"
           ],
           "xaxis": "x",
           "y": [
            10191.55,
            7016.839,
            3876.1020000000003
           ],
           "yaxis": "y"
          },
          {
           "alignmentgroup": "True",
           "hovertemplate": "Continents=Asia<br>Year=1998<br>Countries=%{x}<br>Fossil fuels per capita (kWh)=%{y}<extra></extra>",
           "legendgroup": "Asia",
           "marker": {
            "color": "#EF553B",
            "pattern": {
             "shape": ""
            }
           },
           "name": "Asia",
           "offsetgroup": "Asia",
           "orientation": "v",
           "showlegend": true,
           "textposition": "auto",
           "type": "bar",
           "x": [
            "Azerbaijan",
            "Bangladesh",
            "China",
            "India",
            "Indonesia",
            "Iran",
            "Iraq",
            "Israel",
            "Japan",
            "Kazakhstan",
            "Kuwait",
            "Malaysia",
            "Oman",
            "Pakistan",
            "Philippines",
            "Qatar",
            "Russia",
            "Saudi Arabia",
            "Singapore",
            "Sri Lanka",
            "Thailand",
            "Turkmenistan",
            "United Arab Emirates",
            "Uzbekistan",
            "Vietnam"
           ],
           "xaxis": "x",
           "y": [
            15118.146,
            1002.596,
            8185.071,
            3099.297,
            4663.155,
            19610.202,
            13424.986,
            37694.93,
            37432.468,
            27293.851000000002,
            116520.924,
            21271.136000000002,
            31814.914,
            2828.8190000000004,
            3424.907,
            248186.949,
            42309.699,
            63315.877,
            108191.537,
            1698.635,
            10786.948999999999,
            33790.587999999996,
            190797.96899999998,
            20902.837,
            1891.04
           ],
           "yaxis": "y"
          },
          {
           "alignmentgroup": "True",
           "hovertemplate": "Continents=Australia_NZ<br>Year=1998<br>Countries=%{x}<br>Fossil fuels per capita (kWh)=%{y}<extra></extra>",
           "legendgroup": "Australia_NZ",
           "marker": {
            "color": "#00cc96",
            "pattern": {
             "shape": ""
            }
           },
           "name": "Australia_NZ",
           "offsetgroup": "Australia_NZ",
           "orientation": "v",
           "showlegend": true,
           "textposition": "auto",
           "type": "bar",
           "x": [
            "Australia",
            "New Zealand"
           ],
           "xaxis": "x",
           "y": [
            64884.64,
            35607.259
           ],
           "yaxis": "y"
          },
          {
           "alignmentgroup": "True",
           "hovertemplate": "Continents=Europe<br>Year=1998<br>Countries=%{x}<br>Fossil fuels per capita (kWh)=%{y}<extra></extra>",
           "legendgroup": "Europe",
           "marker": {
            "color": "#ab63fa",
            "pattern": {
             "shape": ""
            }
           },
           "name": "Europe",
           "offsetgroup": "Europe",
           "orientation": "v",
           "showlegend": true,
           "textposition": "auto",
           "type": "bar",
           "x": [
            "Austria",
            "Belarus",
            "Belgium",
            "Bulgaria",
            "Croatia",
            "Cyprus",
            "Denmark",
            "Estonia",
            "Finland",
            "France",
            "Germany",
            "Greece",
            "Hungary",
            "Iceland",
            "Ireland",
            "Italy",
            "Latvia",
            "Lithuania",
            "Luxembourg",
            "Netherlands",
            "Norway",
            "Poland",
            "Portugal",
            "Romania",
            "Slovakia",
            "Slovenia",
            "Spain",
            "Sweden",
            "Switzerland",
            "Ukraine",
            "United Kingdom"
           ],
           "xaxis": "x",
           "y": [
            33052.309,
            25601.631,
            59711.114,
            23285.488999999998,
            18009.229,
            30194.31,
            45628.207,
            40829.458,
            44829.09,
            29411.574,
            42773.394,
            31657.956000000002,
            24237.459,
            36774.348,
            41631.02,
            32785.467000000004,
            13448.688,
            18696.151,
            76433.575,
            62734.863,
            37614.471,
            28437.365,
            23049.722,
            18157.513,
            30504.713,
            28038.672000000002,
            27984.272,
            30519.592,
            25849.353,
            26454.334,
            40158.451
           ],
           "yaxis": "y"
          },
          {
           "alignmentgroup": "True",
           "hovertemplate": "Continents=North America<br>Year=1998<br>Countries=%{x}<br>Fossil fuels per capita (kWh)=%{y}<extra></extra>",
           "legendgroup": "North America",
           "marker": {
            "color": "#FFA15A",
            "pattern": {
             "shape": ""
            }
           },
           "name": "North America",
           "offsetgroup": "North America",
           "orientation": "v",
           "showlegend": true,
           "textposition": "auto",
           "type": "bar",
           "x": [
            "Canada",
            "Mexico",
            "Trinidad and Tobago",
            "United States"
           ],
           "xaxis": "x",
           "y": [
            73575.26,
            14835.58,
            81009.226,
            81045.69
           ],
           "yaxis": "y"
          },
          {
           "alignmentgroup": "True",
           "hovertemplate": "Continents=South America<br>Year=1998<br>Countries=%{x}<br>Fossil fuels per capita (kWh)=%{y}<extra></extra>",
           "legendgroup": "South America",
           "marker": {
            "color": "#19d3f3",
            "pattern": {
             "shape": ""
            }
           },
           "name": "South America",
           "offsetgroup": "South America",
           "orientation": "v",
           "showlegend": true,
           "textposition": "auto",
           "type": "bar",
           "x": [
            "Argentina",
            "Brazil",
            "Chile",
            "Colombia",
            "Ecuador",
            "Peru",
            "Venezuela"
           ],
           "xaxis": "x",
           "y": [
            15590.478000000001,
            7302.218000000001,
            15398.823,
            6637.874,
            8328.944,
            3855.9959999999996,
            26770.277000000002
           ],
           "yaxis": "y"
          }
         ],
         "name": "1998"
        },
        {
         "data": [
          {
           "alignmentgroup": "True",
           "hovertemplate": "Continents=Africa<br>Year=1999<br>Countries=%{x}<br>Fossil fuels per capita (kWh)=%{y}<extra></extra>",
           "legendgroup": "Africa",
           "marker": {
            "color": "#636efa",
            "pattern": {
             "shape": ""
            }
           },
           "name": "Africa",
           "offsetgroup": "Africa",
           "orientation": "v",
           "showlegend": true,
           "textposition": "auto",
           "type": "bar",
           "x": [
            "Algeria",
            "Egypt",
            "Morocco"
           ],
           "xaxis": "x",
           "y": [
            10150.35,
            7346.611,
            4078.317
           ],
           "yaxis": "y"
          },
          {
           "alignmentgroup": "True",
           "hovertemplate": "Continents=Asia<br>Year=1999<br>Countries=%{x}<br>Fossil fuels per capita (kWh)=%{y}<extra></extra>",
           "legendgroup": "Asia",
           "marker": {
            "color": "#EF553B",
            "pattern": {
             "shape": ""
            }
           },
           "name": "Asia",
           "offsetgroup": "Asia",
           "orientation": "v",
           "showlegend": true,
           "textposition": "auto",
           "type": "bar",
           "x": [
            "Azerbaijan",
            "Bangladesh",
            "China",
            "India",
            "Indonesia",
            "Iran",
            "Iraq",
            "Israel",
            "Japan",
            "Kazakhstan",
            "Kuwait",
            "Malaysia",
            "Oman",
            "Pakistan",
            "Philippines",
            "Qatar",
            "Russia",
            "Saudi Arabia",
            "Singapore",
            "Sri Lanka",
            "Thailand",
            "Turkmenistan",
            "United Arab Emirates",
            "Uzbekistan",
            "Vietnam"
           ],
           "xaxis": "x",
           "y": [
            15092.552,
            994.666,
            8428.181999999999,
            3130.83,
            5026.349,
            20782.921000000002,
            9905.091999999999,
            38334.667,
            38492.801,
            25885.687,
            112714.11300000001,
            23195.041,
            36577.215,
            2956.95,
            3260.423,
            268463.782,
            42650.051,
            63157.068,
            104562.43699999999,
            1843.8770000000002,
            11483.036,
            31872.43,
            182424.01,
            23345.522999999997,
            1845.967
           ],
           "yaxis": "y"
          },
          {
           "alignmentgroup": "True",
           "hovertemplate": "Continents=Australia_NZ<br>Year=1999<br>Countries=%{x}<br>Fossil fuels per capita (kWh)=%{y}<extra></extra>",
           "legendgroup": "Australia_NZ",
           "marker": {
            "color": "#00cc96",
            "pattern": {
             "shape": ""
            }
           },
           "name": "Australia_NZ",
           "offsetgroup": "Australia_NZ",
           "orientation": "v",
           "showlegend": true,
           "textposition": "auto",
           "type": "bar",
           "x": [
            "Australia",
            "New Zealand"
           ],
           "xaxis": "x",
           "y": [
            67024.603,
            37412.185
           ],
           "yaxis": "y"
          },
          {
           "alignmentgroup": "True",
           "hovertemplate": "Continents=Europe<br>Year=1999<br>Countries=%{x}<br>Fossil fuels per capita (kWh)=%{y}<extra></extra>",
           "legendgroup": "Europe",
           "marker": {
            "color": "#ab63fa",
            "pattern": {
             "shape": ""
            }
           },
           "name": "Europe",
           "offsetgroup": "Europe",
           "orientation": "v",
           "showlegend": true,
           "textposition": "auto",
           "type": "bar",
           "x": [
            "Austria",
            "Belarus",
            "Belgium",
            "Bulgaria",
            "Croatia",
            "Cyprus",
            "Denmark",
            "Estonia",
            "Finland",
            "France",
            "Germany",
            "Greece",
            "Hungary",
            "Iceland",
            "Ireland",
            "Italy",
            "Latvia",
            "Lithuania",
            "Luxembourg",
            "Netherlands",
            "Norway",
            "Poland",
            "Portugal",
            "Romania",
            "Slovakia",
            "Slovenia",
            "Spain",
            "Sweden",
            "Switzerland",
            "Ukraine",
            "United Kingdom"
           ],
           "xaxis": "x",
           "y": [
            32876.816,
            25038.082000000002,
            58214.066,
            20191.658,
            18047.429,
            31188.662999999997,
            43740.95,
            37482.27,
            44560.793,
            29347.754,
            41686.724,
            31194.572999999997,
            24316.457000000002,
            36734.565,
            43618.762,
            33706.075,
            12639.521999999999,
            16737.889,
            80034.657,
            61569.623,
            36600.865,
            27891.578999999998,
            25157.621,
            15801.35,
            29797.005,
            27589.259,
            29574.839,
            29340.652000000002,
            25640.59,
            27110.987,
            39949.316
           ],
           "yaxis": "y"
          },
          {
           "alignmentgroup": "True",
           "hovertemplate": "Continents=North America<br>Year=1999<br>Countries=%{x}<br>Fossil fuels per capita (kWh)=%{y}<extra></extra>",
           "legendgroup": "North America",
           "marker": {
            "color": "#FFA15A",
            "pattern": {
             "shape": ""
            }
           },
           "name": "North America",
           "offsetgroup": "North America",
           "orientation": "v",
           "showlegend": true,
           "textposition": "auto",
           "type": "bar",
           "x": [
            "Canada",
            "Mexico",
            "Trinidad and Tobago",
            "United States"
           ],
           "xaxis": "x",
           "y": [
            74932.62,
            14566.347,
            89898.487,
            81132.007
           ],
           "yaxis": "y"
          },
          {
           "alignmentgroup": "True",
           "hovertemplate": "Continents=South America<br>Year=1999<br>Countries=%{x}<br>Fossil fuels per capita (kWh)=%{y}<extra></extra>",
           "legendgroup": "South America",
           "marker": {
            "color": "#19d3f3",
            "pattern": {
             "shape": ""
            }
           },
           "name": "South America",
           "offsetgroup": "South America",
           "orientation": "v",
           "showlegend": true,
           "textposition": "auto",
           "type": "bar",
           "x": [
            "Argentina",
            "Brazil",
            "Chile",
            "Colombia",
            "Ecuador",
            "Peru",
            "Venezuela"
           ],
           "xaxis": "x",
           "y": [
            15470.218,
            7367.763000000001,
            16378.005,
            5669.956999999999,
            7152.969,
            3867.433,
            24775.315
           ],
           "yaxis": "y"
          }
         ],
         "name": "1999"
        },
        {
         "data": [
          {
           "alignmentgroup": "True",
           "hovertemplate": "Continents=Africa<br>Year=2000<br>Countries=%{x}<br>Fossil fuels per capita (kWh)=%{y}<extra></extra>",
           "legendgroup": "Africa",
           "marker": {
            "color": "#636efa",
            "pattern": {
             "shape": ""
            }
           },
           "name": "Africa",
           "offsetgroup": "Africa",
           "orientation": "v",
           "showlegend": true,
           "textposition": "auto",
           "type": "bar",
           "x": [
            "Algeria",
            "Egypt",
            "Morocco"
           ],
           "xaxis": "x",
           "y": [
            9657.439,
            7639.33,
            3999.135
           ],
           "yaxis": "y"
          },
          {
           "alignmentgroup": "True",
           "hovertemplate": "Continents=Asia<br>Year=2000<br>Countries=%{x}<br>Fossil fuels per capita (kWh)=%{y}<extra></extra>",
           "legendgroup": "Asia",
           "marker": {
            "color": "#EF553B",
            "pattern": {
             "shape": ""
            }
           },
           "name": "Asia",
           "offsetgroup": "Asia",
           "orientation": "v",
           "showlegend": true,
           "textposition": "auto",
           "type": "bar",
           "x": [
            "Azerbaijan",
            "Bangladesh",
            "China",
            "India",
            "Indonesia",
            "Iran",
            "Iraq",
            "Israel",
            "Japan",
            "Kazakhstan",
            "Kuwait",
            "Malaysia",
            "Oman",
            "Pakistan",
            "Philippines",
            "Qatar",
            "Russia",
            "Saudi Arabia",
            "Singapore",
            "Sri Lanka",
            "Thailand",
            "Turkmenistan",
            "United Arab Emirates",
            "Uzbekistan",
            "Vietnam"
           ],
           "xaxis": "x",
           "y": [
            15635.839,
            1048.944,
            8616.094000000001,
            3254.7990000000004,
            5400.706,
            21630.806,
            12395.757,
            39290.08,
            38908.517,
            23585.912,
            112287.174,
            25384.513,
            50496.890999999996,
            2994.107,
            3146.1440000000002,
            227040.462,
            43425.985,
            64600.545999999995,
            109762.398,
            2170.752,
            11513.316,
            26530.37,
            171943.728,
            23365.436,
            2117.7929999999997
           ],
           "yaxis": "y"
          },
          {
           "alignmentgroup": "True",
           "hovertemplate": "Continents=Australia_NZ<br>Year=2000<br>Countries=%{x}<br>Fossil fuels per capita (kWh)=%{y}<extra></extra>",
           "legendgroup": "Australia_NZ",
           "marker": {
            "color": "#00cc96",
            "pattern": {
             "shape": ""
            }
           },
           "name": "Australia_NZ",
           "offsetgroup": "Australia_NZ",
           "orientation": "v",
           "showlegend": true,
           "textposition": "auto",
           "type": "bar",
           "x": [
            "Australia",
            "New Zealand"
           ],
           "xaxis": "x",
           "y": [
            66599.621,
            38158.873999999996
           ],
           "yaxis": "y"
          },
          {
           "alignmentgroup": "True",
           "hovertemplate": "Continents=Europe<br>Year=2000<br>Countries=%{x}<br>Fossil fuels per capita (kWh)=%{y}<extra></extra>",
           "legendgroup": "Europe",
           "marker": {
            "color": "#ab63fa",
            "pattern": {
             "shape": ""
            }
           },
           "name": "Europe",
           "offsetgroup": "Europe",
           "orientation": "v",
           "showlegend": true,
           "textposition": "auto",
           "type": "bar",
           "x": [
            "Austria",
            "Belarus",
            "Belgium",
            "Bulgaria",
            "Croatia",
            "Cyprus",
            "Denmark",
            "Estonia",
            "Finland",
            "France",
            "Germany",
            "Greece",
            "Hungary",
            "Iceland",
            "Ireland",
            "Italy",
            "Latvia",
            "Lithuania",
            "Luxembourg",
            "Netherlands",
            "Norway",
            "Poland",
            "Portugal",
            "Romania",
            "Slovakia",
            "Slovenia",
            "Spain",
            "Sweden",
            "Switzerland",
            "Ukraine",
            "United Kingdom"
           ],
           "xaxis": "x",
           "y": [
            32574.892999999996,
            25863.446,
            59861.447,
            19731.288,
            17494.474,
            32090.275,
            41141.535,
            38486.907,
            44040.287000000004,
            29140.185,
            41667.537000000004,
            32954.821,
            23452.339,
            38207.943,
            44729.837,
            34219.494,
            12333.753,
            15174.778,
            84161.455,
            61935.056,
            35615.239,
            26209.966,
            24762.1,
            16314.421,
            29227.424,
            26939.814,
            30487.665,
            25898.121,
            24942.497000000003,
            27341.297000000002,
            40652.015
           ],
           "yaxis": "y"
          },
          {
           "alignmentgroup": "True",
           "hovertemplate": "Continents=North America<br>Year=2000<br>Countries=%{x}<br>Fossil fuels per capita (kWh)=%{y}<extra></extra>",
           "legendgroup": "North America",
           "marker": {
            "color": "#FFA15A",
            "pattern": {
             "shape": ""
            }
           },
           "name": "North America",
           "offsetgroup": "North America",
           "orientation": "v",
           "showlegend": true,
           "textposition": "auto",
           "type": "bar",
           "x": [
            "Canada",
            "Mexico",
            "Trinidad and Tobago",
            "United States"
           ],
           "xaxis": "x",
           "y": [
            76517.651,
            15123.696000000002,
            93742.14199999999,
            82440.032
           ],
           "yaxis": "y"
          },
          {
           "alignmentgroup": "True",
           "hovertemplate": "Continents=South America<br>Year=2000<br>Countries=%{x}<br>Fossil fuels per capita (kWh)=%{y}<extra></extra>",
           "legendgroup": "South America",
           "marker": {
            "color": "#19d3f3",
            "pattern": {
             "shape": ""
            }
           },
           "name": "South America",
           "offsetgroup": "South America",
           "orientation": "v",
           "showlegend": true,
           "textposition": "auto",
           "type": "bar",
           "x": [
            "Argentina",
            "Brazil",
            "Chile",
            "Colombia",
            "Ecuador",
            "Peru",
            "Venezuela"
           ],
           "xaxis": "x",
           "y": [
            15525.942,
            7334.648,
            16286.889,
            5575.734,
            6435.331999999999,
            3794.994,
            24670.53
           ],
           "yaxis": "y"
          }
         ],
         "name": "2000"
        },
        {
         "data": [
          {
           "alignmentgroup": "True",
           "hovertemplate": "Continents=Africa<br>Year=2001<br>Countries=%{x}<br>Fossil fuels per capita (kWh)=%{y}<extra></extra>",
           "legendgroup": "Africa",
           "marker": {
            "color": "#636efa",
            "pattern": {
             "shape": ""
            }
           },
           "name": "Africa",
           "offsetgroup": "Africa",
           "orientation": "v",
           "showlegend": true,
           "textposition": "auto",
           "type": "bar",
           "x": [
            "Algeria",
            "Egypt",
            "Morocco"
           ],
           "xaxis": "x",
           "y": [
            9875.7,
            7916.326999999999,
            4249.389
           ],
           "yaxis": "y"
          },
          {
           "alignmentgroup": "True",
           "hovertemplate": "Continents=Asia<br>Year=2001<br>Countries=%{x}<br>Fossil fuels per capita (kWh)=%{y}<extra></extra>",
           "legendgroup": "Asia",
           "marker": {
            "color": "#EF553B",
            "pattern": {
             "shape": ""
            }
           },
           "name": "Asia",
           "offsetgroup": "Asia",
           "orientation": "v",
           "showlegend": true,
           "textposition": "auto",
           "type": "bar",
           "x": [
            "Azerbaijan",
            "Bangladesh",
            "China",
            "India",
            "Indonesia",
            "Iran",
            "Iraq",
            "Israel",
            "Japan",
            "Kazakhstan",
            "Kuwait",
            "Malaysia",
            "Oman",
            "Pakistan",
            "Philippines",
            "Qatar",
            "Russia",
            "Saudi Arabia",
            "Singapore",
            "Sri Lanka",
            "Thailand",
            "Turkmenistan",
            "United Arab Emirates",
            "Uzbekistan",
            "Vietnam"
           ],
           "xaxis": "x",
           "y": [
            15000.562,
            1173.565,
            8954.523000000001,
            3220.975,
            5615.214,
            22533.66,
            13527.192,
            38370.454,
            38470.782,
            26657.246,
            110892.028,
            25125.416,
            55113.657999999996,
            2964.4770000000003,
            3093.941,
            212998.695,
            44099.147000000004,
            67082.893,
            123026.228,
            2118.317,
            12025.238000000001,
            33134.951,
            164947.5,
            23098.29,
            2309.875
           ],
           "yaxis": "y"
          },
          {
           "alignmentgroup": "True",
           "hovertemplate": "Continents=Australia_NZ<br>Year=2001<br>Countries=%{x}<br>Fossil fuels per capita (kWh)=%{y}<extra></extra>",
           "legendgroup": "Australia_NZ",
           "marker": {
            "color": "#00cc96",
            "pattern": {
             "shape": ""
            }
           },
           "name": "Australia_NZ",
           "offsetgroup": "Australia_NZ",
           "orientation": "v",
           "showlegend": true,
           "textposition": "auto",
           "type": "bar",
           "x": [
            "Australia",
            "New Zealand"
           ],
           "xaxis": "x",
           "y": [
            66577.396,
            39435.208
           ],
           "yaxis": "y"
          },
          {
           "alignmentgroup": "True",
           "hovertemplate": "Continents=Europe<br>Year=2001<br>Countries=%{x}<br>Fossil fuels per capita (kWh)=%{y}<extra></extra>",
           "legendgroup": "Europe",
           "marker": {
            "color": "#ab63fa",
            "pattern": {
             "shape": ""
            }
           },
           "name": "Europe",
           "offsetgroup": "Europe",
           "orientation": "v",
           "showlegend": true,
           "textposition": "auto",
           "type": "bar",
           "x": [
            "Austria",
            "Belarus",
            "Belgium",
            "Bulgaria",
            "Croatia",
            "Cyprus",
            "Denmark",
            "Estonia",
            "Finland",
            "France",
            "Germany",
            "Greece",
            "Hungary",
            "Iceland",
            "Ireland",
            "Italy",
            "Latvia",
            "Lithuania",
            "Luxembourg",
            "Netherlands",
            "Norway",
            "Poland",
            "Portugal",
            "Romania",
            "Slovakia",
            "Slovenia",
            "Spain",
            "Sweden",
            "Switzerland",
            "Ukraine",
            "United Kingdom"
           ],
           "xaxis": "x",
           "y": [
            34703.073,
            25367.833,
            59616.60400000001,
            20946.201,
            18244.447,
            31885.08,
            40996.022000000004,
            40213.443,
            46445.077000000005,
            29055.652000000002,
            42482.679000000004,
            33435.668,
            24340.754,
            36045.355,
            46859.29,
            34145.354,
            13704.48,
            16767.612,
            89471.59199999999,
            63929.640999999996,
            37628.269,
            26010.08,
            24280.987,
            16640.683,
            29821.882,
            28179.077,
            30835.275,
            26619.903,
            26441.915,
            27211.501,
            40822.234
           ],
           "yaxis": "y"
          },
          {
           "alignmentgroup": "True",
           "hovertemplate": "Continents=North America<br>Year=2001<br>Countries=%{x}<br>Fossil fuels per capita (kWh)=%{y}<extra></extra>",
           "legendgroup": "North America",
           "marker": {
            "color": "#FFA15A",
            "pattern": {
             "shape": ""
            }
           },
           "name": "North America",
           "offsetgroup": "North America",
           "orientation": "v",
           "showlegend": true,
           "textposition": "auto",
           "type": "bar",
           "x": [
            "Canada",
            "Mexico",
            "Trinidad and Tobago",
            "United States"
           ],
           "xaxis": "x",
           "y": [
            75087.584,
            14839.673,
            100728.859,
            79913.845
           ],
           "yaxis": "y"
          },
          {
           "alignmentgroup": "True",
           "hovertemplate": "Continents=South America<br>Year=2001<br>Countries=%{x}<br>Fossil fuels per capita (kWh)=%{y}<extra></extra>",
           "legendgroup": "South America",
           "marker": {
            "color": "#19d3f3",
            "pattern": {
             "shape": ""
            }
           },
           "name": "South America",
           "offsetgroup": "South America",
           "orientation": "v",
           "showlegend": true,
           "textposition": "auto",
           "type": "bar",
           "x": [
            "Argentina",
            "Brazil",
            "Chile",
            "Colombia",
            "Ecuador",
            "Peru",
            "Venezuela"
           ],
           "xaxis": "x",
           "y": [
            14530.042,
            7462.85,
            15742.511999999999,
            5324.089,
            6557.5,
            3539.841,
            26412.955
           ],
           "yaxis": "y"
          }
         ],
         "name": "2001"
        },
        {
         "data": [
          {
           "alignmentgroup": "True",
           "hovertemplate": "Continents=Africa<br>Year=2002<br>Countries=%{x}<br>Fossil fuels per capita (kWh)=%{y}<extra></extra>",
           "legendgroup": "Africa",
           "marker": {
            "color": "#636efa",
            "pattern": {
             "shape": ""
            }
           },
           "name": "Africa",
           "offsetgroup": "Africa",
           "orientation": "v",
           "showlegend": true,
           "textposition": "auto",
           "type": "bar",
           "x": [
            "Algeria",
            "Egypt",
            "Morocco"
           ],
           "xaxis": "x",
           "y": [
            10101.535,
            7914.501,
            4312.936
           ],
           "yaxis": "y"
          },
          {
           "alignmentgroup": "True",
           "hovertemplate": "Continents=Asia<br>Year=2002<br>Countries=%{x}<br>Fossil fuels per capita (kWh)=%{y}<extra></extra>",
           "legendgroup": "Asia",
           "marker": {
            "color": "#EF553B",
            "pattern": {
             "shape": ""
            }
           },
           "name": "Asia",
           "offsetgroup": "Asia",
           "orientation": "v",
           "showlegend": true,
           "textposition": "auto",
           "type": "bar",
           "x": [
            "Azerbaijan",
            "Bangladesh",
            "China",
            "India",
            "Indonesia",
            "Iran",
            "Iraq",
            "Israel",
            "Japan",
            "Kazakhstan",
            "Kuwait",
            "Malaysia",
            "Oman",
            "Pakistan",
            "Philippines",
            "Qatar",
            "Russia",
            "Saudi Arabia",
            "Singapore",
            "Sri Lanka",
            "Thailand",
            "Turkmenistan",
            "United Arab Emirates",
            "Uzbekistan",
            "Vietnam"
           ],
           "xaxis": "x",
           "y": [
            14426.916000000001,
            1195.104,
            9713.995,
            3332.873,
            5816.210999999999,
            24052.285,
            12297.311000000002,
            38236.371,
            38461.765,
            27063.549,
            111152.141,
            26467.658,
            58949.085999999996,
            2983.1940000000004,
            3018.915,
            230848.46600000001,
            44264.46,
            67938.954,
            120058.854,
            2221.096,
            13085.389,
            27669.464,
            171136.58399999997,
            23333.662,
            2568.328
           ],
           "yaxis": "y"
          },
          {
           "alignmentgroup": "True",
           "hovertemplate": "Continents=Australia_NZ<br>Year=2002<br>Countries=%{x}<br>Fossil fuels per capita (kWh)=%{y}<extra></extra>",
           "legendgroup": "Australia_NZ",
           "marker": {
            "color": "#00cc96",
            "pattern": {
             "shape": ""
            }
           },
           "name": "Australia_NZ",
           "offsetgroup": "Australia_NZ",
           "orientation": "v",
           "showlegend": true,
           "textposition": "auto",
           "type": "bar",
           "x": [
            "Australia",
            "New Zealand"
           ],
           "xaxis": "x",
           "y": [
            66802.982,
            38809.36
           ],
           "yaxis": "y"
          },
          {
           "alignmentgroup": "True",
           "hovertemplate": "Continents=Europe<br>Year=2002<br>Countries=%{x}<br>Fossil fuels per capita (kWh)=%{y}<extra></extra>",
           "legendgroup": "Europe",
           "marker": {
            "color": "#ab63fa",
            "pattern": {
             "shape": ""
            }
           },
           "name": "Europe",
           "offsetgroup": "Europe",
           "orientation": "v",
           "showlegend": true,
           "textposition": "auto",
           "type": "bar",
           "x": [
            "Austria",
            "Belarus",
            "Belgium",
            "Bulgaria",
            "Croatia",
            "Cyprus",
            "Denmark",
            "Estonia",
            "Finland",
            "France",
            "Germany",
            "Greece",
            "Hungary",
            "Iceland",
            "Ireland",
            "Italy",
            "Latvia",
            "Lithuania",
            "Luxembourg",
            "Netherlands",
            "Norway",
            "Poland",
            "Portugal",
            "Romania",
            "Slovakia",
            "Slovenia",
            "Spain",
            "Sweden",
            "Switzerland",
            "Ukraine",
            "United Kingdom"
           ],
           "xaxis": "x",
           "y": [
            34863.805,
            26297.682999999997,
            58854.528,
            19966.578999999998,
            19231.782,
            30896.582000000002,
            40280.206,
            40198.257000000005,
            48328.31,
            28385.447,
            41798.727999999996,
            33278.998999999996,
            24073.697,
            37047.85,
            45504.570999999996,
            33974.395,
            14476.408000000001,
            16465.932,
            97146.90699999999,
            63481.724,
            36871.44,
            25757.668999999998,
            25670.557999999997,
            17344.096999999998,
            29675.905,
            28332.392000000003,
            31875.63,
            27176.688,
            25052.013,
            27232.542,
            39725.241
           ],
           "yaxis": "y"
          },
          {
           "alignmentgroup": "True",
           "hovertemplate": "Continents=North America<br>Year=2002<br>Countries=%{x}<br>Fossil fuels per capita (kWh)=%{y}<extra></extra>",
           "legendgroup": "North America",
           "marker": {
            "color": "#FFA15A",
            "pattern": {
             "shape": ""
            }
           },
           "name": "North America",
           "offsetgroup": "North America",
           "orientation": "v",
           "showlegend": true,
           "textposition": "auto",
           "type": "bar",
           "x": [
            "Canada",
            "Mexico",
            "Trinidad and Tobago",
            "United States"
           ],
           "xaxis": "x",
           "y": [
            76534.844,
            15223.695,
            108891.306,
            79857.76
           ],
           "yaxis": "y"
          },
          {
           "alignmentgroup": "True",
           "hovertemplate": "Continents=South America<br>Year=2002<br>Countries=%{x}<br>Fossil fuels per capita (kWh)=%{y}<extra></extra>",
           "legendgroup": "South America",
           "marker": {
            "color": "#19d3f3",
            "pattern": {
             "shape": ""
            }
           },
           "name": "South America",
           "offsetgroup": "South America",
           "orientation": "v",
           "showlegend": true,
           "textposition": "auto",
           "type": "bar",
           "x": [
            "Argentina",
            "Brazil",
            "Chile",
            "Colombia",
            "Ecuador",
            "Peru",
            "Venezuela"
           ],
           "xaxis": "x",
           "y": [
            13636.111,
            7345.299,
            16008.6,
            5073.495,
            6248.564,
            3587.006,
            26006.053
           ],
           "yaxis": "y"
          }
         ],
         "name": "2002"
        },
        {
         "data": [
          {
           "alignmentgroup": "True",
           "hovertemplate": "Continents=Africa<br>Year=2003<br>Countries=%{x}<br>Fossil fuels per capita (kWh)=%{y}<extra></extra>",
           "legendgroup": "Africa",
           "marker": {
            "color": "#636efa",
            "pattern": {
             "shape": ""
            }
           },
           "name": "Africa",
           "offsetgroup": "Africa",
           "orientation": "v",
           "showlegend": true,
           "textposition": "auto",
           "type": "bar",
           "x": [
            "Algeria",
            "Egypt",
            "Morocco"
           ],
           "xaxis": "x",
           "y": [
            10418.851999999999,
            8309.985999999999,
            4218.894
           ],
           "yaxis": "y"
          },
          {
           "alignmentgroup": "True",
           "hovertemplate": "Continents=Asia<br>Year=2003<br>Countries=%{x}<br>Fossil fuels per capita (kWh)=%{y}<extra></extra>",
           "legendgroup": "Asia",
           "marker": {
            "color": "#EF553B",
            "pattern": {
             "shape": ""
            }
           },
           "name": "Asia",
           "offsetgroup": "Asia",
           "orientation": "v",
           "showlegend": true,
           "textposition": "auto",
           "type": "bar",
           "x": [
            "Azerbaijan",
            "Bangladesh",
            "China",
            "India",
            "Indonesia",
            "Iran",
            "Iraq",
            "Israel",
            "Japan",
            "Kazakhstan",
            "Kuwait",
            "Malaysia",
            "Oman",
            "Pakistan",
            "Philippines",
            "Qatar",
            "Russia",
            "Saudi Arabia",
            "Singapore",
            "Sri Lanka",
            "Thailand",
            "Turkmenistan",
            "United Arab Emirates",
            "Uzbekistan",
            "Vietnam"
           ],
           "xaxis": "x",
           "y": [
            15361.058,
            1245.9489999999998,
            11325.399,
            3412.974,
            6204.479,
            24220.668999999998,
            11010.265,
            38615.656,
            39786.359,
            29786.952,
            129159.664,
            28307.853,
            59756.953,
            3132.7929999999997,
            3073.1740000000004,
            243876.88199999998,
            45484.477999999996,
            69876.532,
            112717.53,
            2218.446,
            14082.476,
            37824.273,
            171027.983,
            21267.603,
            2772.3909999999996
           ],
           "yaxis": "y"
          },
          {
           "alignmentgroup": "True",
           "hovertemplate": "Continents=Australia_NZ<br>Year=2003<br>Countries=%{x}<br>Fossil fuels per capita (kWh)=%{y}<extra></extra>",
           "legendgroup": "Australia_NZ",
           "marker": {
            "color": "#00cc96",
            "pattern": {
             "shape": ""
            }
           },
           "name": "Australia_NZ",
           "offsetgroup": "Australia_NZ",
           "orientation": "v",
           "showlegend": true,
           "textposition": "auto",
           "type": "bar",
           "x": [
            "Australia",
            "New Zealand"
           ],
           "xaxis": "x",
           "y": [
            66993.599,
            37577.53
           ],
           "yaxis": "y"
          },
          {
           "alignmentgroup": "True",
           "hovertemplate": "Continents=Europe<br>Year=2003<br>Countries=%{x}<br>Fossil fuels per capita (kWh)=%{y}<extra></extra>",
           "legendgroup": "Europe",
           "marker": {
            "color": "#ab63fa",
            "pattern": {
             "shape": ""
            }
           },
           "name": "Europe",
           "offsetgroup": "Europe",
           "orientation": "v",
           "showlegend": true,
           "textposition": "auto",
           "type": "bar",
           "x": [
            "Austria",
            "Belarus",
            "Belgium",
            "Bulgaria",
            "Croatia",
            "Cyprus",
            "Denmark",
            "Estonia",
            "Finland",
            "France",
            "Germany",
            "Greece",
            "Hungary",
            "Iceland",
            "Ireland",
            "Italy",
            "Latvia",
            "Lithuania",
            "Luxembourg",
            "Netherlands",
            "Norway",
            "Poland",
            "Portugal",
            "Romania",
            "Slovakia",
            "Slovenia",
            "Spain",
            "Sweden",
            "Switzerland",
            "Ukraine",
            "United Kingdom"
           ],
           "xaxis": "x",
           "y": [
            37624.981,
            26361.722999999998,
            61306.907999999996,
            21747.686,
            20617.767,
            32282.017999999996,
            42895.973,
            43985.544,
            53612.511,
            28715.567000000003,
            41721.511,
            34352.571,
            25111.645,
            36936.199,
            43674.39,
            35013.003,
            14630.546,
            17005.217,
            101307.93,
            63554.259000000005,
            38165.981,
            26721.34,
            24124.691000000003,
            17915.716,
            29580.32,
            28549.827999999998,
            32290.863999999998,
            28591.654,
            24564.145,
            28110.796000000002,
            40201.998999999996
           ],
           "yaxis": "y"
          },
          {
           "alignmentgroup": "True",
           "hovertemplate": "Continents=North America<br>Year=2003<br>Countries=%{x}<br>Fossil fuels per capita (kWh)=%{y}<extra></extra>",
           "legendgroup": "North America",
           "marker": {
            "color": "#FFA15A",
            "pattern": {
             "shape": ""
            }
           },
           "name": "North America",
           "offsetgroup": "North America",
           "orientation": "v",
           "showlegend": true,
           "textposition": "auto",
           "type": "bar",
           "x": [
            "Canada",
            "Mexico",
            "Trinidad and Tobago",
            "United States"
           ],
           "xaxis": "x",
           "y": [
            77747.27,
            15248.361,
            121455.39199999999,
            79498.79400000001
           ],
           "yaxis": "y"
          },
          {
           "alignmentgroup": "True",
           "hovertemplate": "Continents=South America<br>Year=2003<br>Countries=%{x}<br>Fossil fuels per capita (kWh)=%{y}<extra></extra>",
           "legendgroup": "South America",
           "marker": {
            "color": "#19d3f3",
            "pattern": {
             "shape": ""
            }
           },
           "name": "South America",
           "offsetgroup": "South America",
           "orientation": "v",
           "showlegend": true,
           "textposition": "auto",
           "type": "bar",
           "x": [
            "Argentina",
            "Brazil",
            "Chile",
            "Colombia",
            "Ecuador",
            "Peru",
            "Venezuela"
           ],
           "xaxis": "x",
           "y": [
            14782.312,
            7210.959,
            15867.972,
            5124.63,
            6350.179,
            3434.926,
            22221.036
           ],
           "yaxis": "y"
          }
         ],
         "name": "2003"
        },
        {
         "data": [
          {
           "alignmentgroup": "True",
           "hovertemplate": "Continents=Africa<br>Year=2004<br>Countries=%{x}<br>Fossil fuels per capita (kWh)=%{y}<extra></extra>",
           "legendgroup": "Africa",
           "marker": {
            "color": "#636efa",
            "pattern": {
             "shape": ""
            }
           },
           "name": "Africa",
           "offsetgroup": "Africa",
           "orientation": "v",
           "showlegend": true,
           "textposition": "auto",
           "type": "bar",
           "x": [
            "Algeria",
            "Egypt",
            "Morocco"
           ],
           "xaxis": "x",
           "y": [
            10677.07,
            8562.495,
            4760.633
           ],
           "yaxis": "y"
          },
          {
           "alignmentgroup": "True",
           "hovertemplate": "Continents=Asia<br>Year=2004<br>Countries=%{x}<br>Fossil fuels per capita (kWh)=%{y}<extra></extra>",
           "legendgroup": "Asia",
           "marker": {
            "color": "#EF553B",
            "pattern": {
             "shape": ""
            }
           },
           "name": "Asia",
           "offsetgroup": "Asia",
           "orientation": "v",
           "showlegend": true,
           "textposition": "auto",
           "type": "bar",
           "x": [
            "Azerbaijan",
            "Bangladesh",
            "China",
            "India",
            "Indonesia",
            "Iran",
            "Iraq",
            "Israel",
            "Japan",
            "Kazakhstan",
            "Kuwait",
            "Malaysia",
            "Oman",
            "Pakistan",
            "Philippines",
            "Qatar",
            "Russia",
            "Saudi Arabia",
            "Singapore",
            "Sri Lanka",
            "Thailand",
            "Turkmenistan",
            "United Arab Emirates",
            "Uzbekistan",
            "Vietnam"
           ],
           "xaxis": "x",
           "y": [
            17257.881,
            1268.749,
            13132.341999999999,
            3530.437,
            6080.161999999999,
            26184.967999999997,
            11387.237,
            38358.897000000004,
            39165.19,
            31487.701,
            142196.014,
            29560.849,
            54146.679000000004,
            3428.1440000000002,
            3098.02,
            258924.428,
            45847.532,
            73595.039,
            124773.66900000001,
            2162.22,
            15018.958999999999,
            37082.227999999996,
            166837.843,
            21339.971,
            3541.78
           ],
           "yaxis": "y"
          },
          {
           "alignmentgroup": "True",
           "hovertemplate": "Continents=Australia_NZ<br>Year=2004<br>Countries=%{x}<br>Fossil fuels per capita (kWh)=%{y}<extra></extra>",
           "legendgroup": "Australia_NZ",
           "marker": {
            "color": "#00cc96",
            "pattern": {
             "shape": ""
            }
           },
           "name": "Australia_NZ",
           "offsetgroup": "Australia_NZ",
           "orientation": "v",
           "showlegend": true,
           "textposition": "auto",
           "type": "bar",
           "x": [
            "Australia",
            "New Zealand"
           ],
           "xaxis": "x",
           "y": [
            68332.317,
            36303.504
           ],
           "yaxis": "y"
          },
          {
           "alignmentgroup": "True",
           "hovertemplate": "Continents=Europe<br>Year=2004<br>Countries=%{x}<br>Fossil fuels per capita (kWh)=%{y}<extra></extra>",
           "legendgroup": "Europe",
           "marker": {
            "color": "#ab63fa",
            "pattern": {
             "shape": ""
            }
           },
           "name": "Europe",
           "offsetgroup": "Europe",
           "orientation": "v",
           "showlegend": true,
           "textposition": "auto",
           "type": "bar",
           "x": [
            "Austria",
            "Belarus",
            "Belgium",
            "Bulgaria",
            "Croatia",
            "Cyprus",
            "Denmark",
            "Estonia",
            "Finland",
            "France",
            "Germany",
            "Greece",
            "Hungary",
            "Iceland",
            "Ireland",
            "Italy",
            "Latvia",
            "Lithuania",
            "Luxembourg",
            "Netherlands",
            "Norway",
            "Poland",
            "Portugal",
            "Romania",
            "Slovakia",
            "Slovenia",
            "Spain",
            "Sweden",
            "Switzerland",
            "Ukraine",
            "United Kingdom"
           ],
           "xaxis": "x",
           "y": [
            36867.397000000004,
            29883.112,
            61218.442,
            21170.078999999998,
            20197.4,
            30917.042999999998,
            39479.604,
            46241.648,
            49515.945999999996,
            28702.217999999997,
            41236.722,
            34364.183,
            24997.667999999998,
            38244.691,
            43242.102999999996,
            35092.131,
            15946.265,
            17737.976000000002,
            113283.21,
            65193.78599999999,
            38184.031,
            26873.429,
            24979.01,
            18277.221,
            28693.737999999998,
            29094.635,
            33631.524,
            27564.109,
            24400.22,
            27924.936,
            40494.974
           ],
           "yaxis": "y"
          },
          {
           "alignmentgroup": "True",
           "hovertemplate": "Continents=North America<br>Year=2004<br>Countries=%{x}<br>Fossil fuels per capita (kWh)=%{y}<extra></extra>",
           "legendgroup": "North America",
           "marker": {
            "color": "#FFA15A",
            "pattern": {
             "shape": ""
            }
           },
           "name": "North America",
           "offsetgroup": "North America",
           "orientation": "v",
           "showlegend": true,
           "textposition": "auto",
           "type": "bar",
           "x": [
            "Canada",
            "Mexico",
            "Trinidad and Tobago",
            "United States"
           ],
           "xaxis": "x",
           "y": [
            76961.622,
            15796.091,
            132922.288,
            80378.49
           ],
           "yaxis": "y"
          },
          {
           "alignmentgroup": "True",
           "hovertemplate": "Continents=South America<br>Year=2004<br>Countries=%{x}<br>Fossil fuels per capita (kWh)=%{y}<extra></extra>",
           "legendgroup": "South America",
           "marker": {
            "color": "#19d3f3",
            "pattern": {
             "shape": ""
            }
           },
           "name": "South America",
           "offsetgroup": "South America",
           "orientation": "v",
           "showlegend": true,
           "textposition": "auto",
           "type": "bar",
           "x": [
            "Argentina",
            "Brazil",
            "Chile",
            "Colombia",
            "Ecuador",
            "Peru",
            "Venezuela"
           ],
           "xaxis": "x",
           "y": [
            15854.173,
            7512.861,
            16960.113999999998,
            5058.467000000001,
            6815.736,
            3865.3990000000003,
            24113.28
           ],
           "yaxis": "y"
          }
         ],
         "name": "2004"
        },
        {
         "data": [
          {
           "alignmentgroup": "True",
           "hovertemplate": "Continents=Africa<br>Year=2005<br>Countries=%{x}<br>Fossil fuels per capita (kWh)=%{y}<extra></extra>",
           "legendgroup": "Africa",
           "marker": {
            "color": "#636efa",
            "pattern": {
             "shape": ""
            }
           },
           "name": "Africa",
           "offsetgroup": "Africa",
           "orientation": "v",
           "showlegend": true,
           "textposition": "auto",
           "type": "bar",
           "x": [
            "Algeria",
            "Egypt",
            "Morocco"
           ],
           "xaxis": "x",
           "y": [
            11000.958,
            8857.684000000001,
            5179.089
           ],
           "yaxis": "y"
          },
          {
           "alignmentgroup": "True",
           "hovertemplate": "Continents=Asia<br>Year=2005<br>Countries=%{x}<br>Fossil fuels per capita (kWh)=%{y}<extra></extra>",
           "legendgroup": "Asia",
           "marker": {
            "color": "#EF553B",
            "pattern": {
             "shape": ""
            }
           },
           "name": "Asia",
           "offsetgroup": "Asia",
           "orientation": "v",
           "showlegend": true,
           "textposition": "auto",
           "type": "bar",
           "x": [
            "Azerbaijan",
            "Bangladesh",
            "China",
            "India",
            "Indonesia",
            "Iran",
            "Iraq",
            "Israel",
            "Japan",
            "Kazakhstan",
            "Kuwait",
            "Malaysia",
            "Oman",
            "Pakistan",
            "Philippines",
            "Qatar",
            "Russia",
            "Saudi Arabia",
            "Singapore",
            "Sri Lanka",
            "Thailand",
            "Turkmenistan",
            "United Arab Emirates",
            "Uzbekistan",
            "Vietnam"
           ],
           "xaxis": "x",
           "y": [
            18511.33,
            1349.3239999999998,
            14849.716,
            3715.215,
            6141.946,
            27695.037999999997,
            10735.858,
            38803.229,
            40076.413,
            32857.312000000005,
            152576.27599999998,
            30923.662999999997,
            63451.439000000006,
            3439.113,
            3046.137,
            259410.06100000002,
            45927.72900000001,
            76188.74900000001,
            128390.147,
            2459.155,
            15452.026000000002,
            37138.113,
            154367.46300000002,
            20430.953999999998,
            3791.664
           ],
           "yaxis": "y"
          },
          {
           "alignmentgroup": "True",
           "hovertemplate": "Continents=Australia_NZ<br>Year=2005<br>Countries=%{x}<br>Fossil fuels per capita (kWh)=%{y}<extra></extra>",
           "legendgroup": "Australia_NZ",
           "marker": {
            "color": "#00cc96",
            "pattern": {
             "shape": ""
            }
           },
           "name": "Australia_NZ",
           "offsetgroup": "Australia_NZ",
           "orientation": "v",
           "showlegend": true,
           "textposition": "auto",
           "type": "bar",
           "x": [
            "Australia",
            "New Zealand"
           ],
           "xaxis": "x",
           "y": [
            66883.04,
            36262.382000000005
           ],
           "yaxis": "y"
          },
          {
           "alignmentgroup": "True",
           "hovertemplate": "Continents=Europe<br>Year=2005<br>Countries=%{x}<br>Fossil fuels per capita (kWh)=%{y}<extra></extra>",
           "legendgroup": "Europe",
           "marker": {
            "color": "#ab63fa",
            "pattern": {
             "shape": ""
            }
           },
           "name": "Europe",
           "offsetgroup": "Europe",
           "orientation": "v",
           "showlegend": true,
           "textposition": "auto",
           "type": "bar",
           "x": [
            "Austria",
            "Belarus",
            "Belgium",
            "Bulgaria",
            "Croatia",
            "Cyprus",
            "Denmark",
            "Estonia",
            "Finland",
            "France",
            "Germany",
            "Greece",
            "Hungary",
            "Iceland",
            "Ireland",
            "Italy",
            "Latvia",
            "Lithuania",
            "Luxembourg",
            "Netherlands",
            "Norway",
            "Poland",
            "Portugal",
            "Romania",
            "Slovakia",
            "Slovenia",
            "Spain",
            "Sweden",
            "Switzerland",
            "Ukraine",
            "United Kingdom"
           ],
           "xaxis": "x",
           "y": [
            37183.145,
            29946.854,
            59836.219000000005,
            22613.194,
            20344.017,
            34037.137,
            37661.954,
            45707.785,
            43634.53400000001,
            28510.959,
            40540.887,
            34488.109,
            26271.857000000004,
            38156.641,
            43962.8,
            35211.977,
            16493.999,
            19055.109,
            113404.44099999999,
            65873.159,
            36639.345,
            27424.767999999996,
            25966.697,
            17983.492,
            30245.935,
            29452.624,
            34383.294,
            27082.827999999998,
            24684.485,
            28167.015,
            40519.38
           ],
           "yaxis": "y"
          },
          {
           "alignmentgroup": "True",
           "hovertemplate": "Continents=North America<br>Year=2005<br>Countries=%{x}<br>Fossil fuels per capita (kWh)=%{y}<extra></extra>",
           "legendgroup": "North America",
           "marker": {
            "color": "#FFA15A",
            "pattern": {
             "shape": ""
            }
           },
           "name": "North America",
           "offsetgroup": "North America",
           "orientation": "v",
           "showlegend": true,
           "textposition": "auto",
           "type": "bar",
           "x": [
            "Canada",
            "Mexico",
            "Trinidad and Tobago",
            "United States"
           ],
           "xaxis": "x",
           "y": [
            75415.643,
            16521.288,
            141869.497,
            79705.379
           ],
           "yaxis": "y"
          },
          {
           "alignmentgroup": "True",
           "hovertemplate": "Continents=South America<br>Year=2005<br>Countries=%{x}<br>Fossil fuels per capita (kWh)=%{y}<extra></extra>",
           "legendgroup": "South America",
           "marker": {
            "color": "#19d3f3",
            "pattern": {
             "shape": ""
            }
           },
           "name": "South America",
           "offsetgroup": "South America",
           "orientation": "v",
           "showlegend": true,
           "textposition": "auto",
           "type": "bar",
           "x": [
            "Argentina",
            "Brazil",
            "Chile",
            "Colombia",
            "Ecuador",
            "Peru",
            "Venezuela"
           ],
           "xaxis": "x",
           "y": [
            16741.805,
            7556.786,
            16889.695,
            4962.738,
            7280.786,
            4036.0559999999996,
            24390.803
           ],
           "yaxis": "y"
          }
         ],
         "name": "2005"
        },
        {
         "data": [
          {
           "alignmentgroup": "True",
           "hovertemplate": "Continents=Africa<br>Year=2006<br>Countries=%{x}<br>Fossil fuels per capita (kWh)=%{y}<extra></extra>",
           "legendgroup": "Africa",
           "marker": {
            "color": "#636efa",
            "pattern": {
             "shape": ""
            }
           },
           "name": "Africa",
           "offsetgroup": "Africa",
           "orientation": "v",
           "showlegend": true,
           "textposition": "auto",
           "type": "bar",
           "x": [
            "Algeria",
            "Egypt",
            "Morocco"
           ],
           "xaxis": "x",
           "y": [
            11254.16,
            9150.749,
            5227.787
           ],
           "yaxis": "y"
          },
          {
           "alignmentgroup": "True",
           "hovertemplate": "Continents=Asia<br>Year=2006<br>Countries=%{x}<br>Fossil fuels per capita (kWh)=%{y}<extra></extra>",
           "legendgroup": "Asia",
           "marker": {
            "color": "#EF553B",
            "pattern": {
             "shape": ""
            }
           },
           "name": "Asia",
           "offsetgroup": "Asia",
           "orientation": "v",
           "showlegend": true,
           "textposition": "auto",
           "type": "bar",
           "x": [
            "Azerbaijan",
            "Bangladesh",
            "China",
            "India",
            "Indonesia",
            "Iran",
            "Iraq",
            "Israel",
            "Japan",
            "Kazakhstan",
            "Kuwait",
            "Malaysia",
            "Oman",
            "Pakistan",
            "Philippines",
            "Qatar",
            "Russia",
            "Saudi Arabia",
            "Singapore",
            "Sri Lanka",
            "Thailand",
            "Turkmenistan",
            "United Arab Emirates",
            "Uzbekistan",
            "Vietnam"
           ],
           "xaxis": "x",
           "y": [
            18165.256,
            1443.651,
            16191.771,
            3816.085,
            6165.156,
            29821.138,
            10760.103000000001,
            37889.753,
            39477.17,
            34504.122,
            137852.72699999998,
            31498.423,
            67441.436,
            3586.605,
            2822.687,
            231087.521,
            48161.189000000006,
            76898.453,
            136942.554,
            2536.1639999999998,
            15498.017,
            37100.623,
            140584.96300000002,
            18804.629,
            3290.507
           ],
           "yaxis": "y"
          },
          {
           "alignmentgroup": "True",
           "hovertemplate": "Continents=Australia_NZ<br>Year=2006<br>Countries=%{x}<br>Fossil fuels per capita (kWh)=%{y}<extra></extra>",
           "legendgroup": "Australia_NZ",
           "marker": {
            "color": "#00cc96",
            "pattern": {
             "shape": ""
            }
           },
           "name": "Australia_NZ",
           "offsetgroup": "Australia_NZ",
           "orientation": "v",
           "showlegend": true,
           "textposition": "auto",
           "type": "bar",
           "x": [
            "Australia",
            "New Zealand"
           ],
           "xaxis": "x",
           "y": [
            69810.908,
            36064.734
           ],
           "yaxis": "y"
          },
          {
           "alignmentgroup": "True",
           "hovertemplate": "Continents=Europe<br>Year=2006<br>Countries=%{x}<br>Fossil fuels per capita (kWh)=%{y}<extra></extra>",
           "legendgroup": "Europe",
           "marker": {
            "color": "#ab63fa",
            "pattern": {
             "shape": ""
            }
           },
           "name": "Europe",
           "offsetgroup": "Europe",
           "orientation": "v",
           "showlegend": true,
           "textposition": "auto",
           "type": "bar",
           "x": [
            "Austria",
            "Belarus",
            "Belgium",
            "Bulgaria",
            "Croatia",
            "Cyprus",
            "Denmark",
            "Estonia",
            "Finland",
            "France",
            "Germany",
            "Greece",
            "Hungary",
            "Iceland",
            "Ireland",
            "Italy",
            "Latvia",
            "Lithuania",
            "Luxembourg",
            "Netherlands",
            "Norway",
            "Poland",
            "Portugal",
            "Romania",
            "Slovakia",
            "Slovenia",
            "Spain",
            "Sweden",
            "Switzerland",
            "Ukraine",
            "United Kingdom"
           ],
           "xaxis": "x",
           "y": [
            36331.115,
            31960.549,
            59687.017,
            23314.802000000003,
            20368.944,
            32894.458,
            42163.53599999999,
            45177.719000000005,
            49027.48,
            27820.837000000003,
            41248.774,
            35484.411,
            26113.067000000003,
            38176.818,
            43572.225999999995,
            34788.388999999996,
            16436.248,
            19506.033,
            109245.964,
            64165.388,
            36496.975,
            28759.339,
            23606.353,
            18837.679,
            28575.71,
            30080.2,
            33684.902,
            27492.732000000004,
            24842.501,
            28727.097999999998,
            39846.214
           ],
           "yaxis": "y"
          },
          {
           "alignmentgroup": "True",
           "hovertemplate": "Continents=North America<br>Year=2006<br>Countries=%{x}<br>Fossil fuels per capita (kWh)=%{y}<extra></extra>",
           "legendgroup": "North America",
           "marker": {
            "color": "#FFA15A",
            "pattern": {
             "shape": ""
            }
           },
           "name": "North America",
           "offsetgroup": "North America",
           "orientation": "v",
           "showlegend": true,
           "textposition": "auto",
           "type": "bar",
           "x": [
            "Canada",
            "Mexico",
            "Trinidad and Tobago",
            "United States"
           ],
           "xaxis": "x",
           "y": [
            73384.536,
            16788.075,
            164810.384,
            77867.288
           ],
           "yaxis": "y"
          },
          {
           "alignmentgroup": "True",
           "hovertemplate": "Continents=South America<br>Year=2006<br>Countries=%{x}<br>Fossil fuels per capita (kWh)=%{y}<extra></extra>",
           "legendgroup": "South America",
           "marker": {
            "color": "#19d3f3",
            "pattern": {
             "shape": ""
            }
           },
           "name": "South America",
           "offsetgroup": "South America",
           "orientation": "v",
           "showlegend": true,
           "textposition": "auto",
           "type": "bar",
           "x": [
            "Argentina",
            "Brazil",
            "Chile",
            "Colombia",
            "Ecuador",
            "Peru",
            "Venezuela"
           ],
           "xaxis": "x",
           "y": [
            17215.31,
            7627.151999999999,
            17806.183999999997,
            5598.178000000001,
            7601.665,
            3873.533,
            27173.531000000003
           ],
           "yaxis": "y"
          }
         ],
         "name": "2006"
        },
        {
         "data": [
          {
           "alignmentgroup": "True",
           "hovertemplate": "Continents=Africa<br>Year=2007<br>Countries=%{x}<br>Fossil fuels per capita (kWh)=%{y}<extra></extra>",
           "legendgroup": "Africa",
           "marker": {
            "color": "#636efa",
            "pattern": {
             "shape": ""
            }
           },
           "name": "Africa",
           "offsetgroup": "Africa",
           "orientation": "v",
           "showlegend": true,
           "textposition": "auto",
           "type": "bar",
           "x": [
            "Algeria",
            "Egypt",
            "Morocco"
           ],
           "xaxis": "x",
           "y": [
            11677.965,
            9500.309000000001,
            5116.995
           ],
           "yaxis": "y"
          },
          {
           "alignmentgroup": "True",
           "hovertemplate": "Continents=Asia<br>Year=2007<br>Countries=%{x}<br>Fossil fuels per capita (kWh)=%{y}<extra></extra>",
           "legendgroup": "Asia",
           "marker": {
            "color": "#EF553B",
            "pattern": {
             "shape": ""
            }
           },
           "name": "Asia",
           "offsetgroup": "Asia",
           "orientation": "v",
           "showlegend": true,
           "textposition": "auto",
           "type": "bar",
           "x": [
            "Azerbaijan",
            "Bangladesh",
            "China",
            "India",
            "Indonesia",
            "Iran",
            "Iraq",
            "Israel",
            "Japan",
            "Kazakhstan",
            "Kuwait",
            "Malaysia",
            "Oman",
            "Pakistan",
            "Philippines",
            "Qatar",
            "Russia",
            "Saudi Arabia",
            "Singapore",
            "Sri Lanka",
            "Thailand",
            "Turkmenistan",
            "United Arab Emirates",
            "Uzbekistan",
            "Vietnam"
           ],
           "xaxis": "x",
           "y": [
            16233.425,
            1459.9379999999999,
            17470.92,
            4085.208,
            6519.206999999999,
            31642.692000000003,
            11293.572,
            39009.165,
            39808.81,
            38163.507000000005,
            126970.56300000001,
            33010.365,
            65316.124,
            3745.256,
            2959.8309999999997,
            212247.157,
            48435.672999999995,
            78054.698,
            141361.823,
            2670.869,
            16097.098,
            35557.222,
            133221.44,
            19640.713,
            3536.1740000000004
           ],
           "yaxis": "y"
          },
          {
           "alignmentgroup": "True",
           "hovertemplate": "Continents=Australia_NZ<br>Year=2007<br>Countries=%{x}<br>Fossil fuels per capita (kWh)=%{y}<extra></extra>",
           "legendgroup": "Australia_NZ",
           "marker": {
            "color": "#00cc96",
            "pattern": {
             "shape": ""
            }
           },
           "name": "Australia_NZ",
           "offsetgroup": "Australia_NZ",
           "orientation": "v",
           "showlegend": true,
           "textposition": "auto",
           "type": "bar",
           "x": [
            "Australia",
            "New Zealand"
           ],
           "xaxis": "x",
           "y": [
            69414.543,
            35315.839
           ],
           "yaxis": "y"
          },
          {
           "alignmentgroup": "True",
           "hovertemplate": "Continents=Europe<br>Year=2007<br>Countries=%{x}<br>Fossil fuels per capita (kWh)=%{y}<extra></extra>",
           "legendgroup": "Europe",
           "marker": {
            "color": "#ab63fa",
            "pattern": {
             "shape": ""
            }
           },
           "name": "Europe",
           "offsetgroup": "Europe",
           "orientation": "v",
           "showlegend": true,
           "textposition": "auto",
           "type": "bar",
           "x": [
            "Austria",
            "Belarus",
            "Belgium",
            "Bulgaria",
            "Croatia",
            "Cyprus",
            "Denmark",
            "Estonia",
            "Finland",
            "France",
            "Germany",
            "Greece",
            "Hungary",
            "Iceland",
            "Ireland",
            "Italy",
            "Latvia",
            "Lithuania",
            "Luxembourg",
            "Netherlands",
            "Norway",
            "Poland",
            "Portugal",
            "Romania",
            "Slovakia",
            "Slovenia",
            "Spain",
            "Sweden",
            "Switzerland",
            "Ukraine",
            "United Kingdom"
           ],
           "xaxis": "x",
           "y": [
            34262.437000000005,
            31324.92,
            59232.996,
            24704.722,
            21782.179,
            32862.776,
            39008.561,
            51398.754,
            47568.883,
            27077.158,
            39544.647000000004,
            37127.43,
            25349.868,
            37932.809,
            43752.122,
            34124.067,
            17243.304,
            21171.726000000002,
            102828.20300000001,
            64781.87,
            35864.035,
            28587.452,
            23561.033,
            18281.368000000002,
            27385.457000000002,
            29963.192000000003,
            33940.21,
            26527.485,
            22525.749,
            28714.886000000002,
            38606.669
           ],
           "yaxis": "y"
          },
          {
           "alignmentgroup": "True",
           "hovertemplate": "Continents=North America<br>Year=2007<br>Countries=%{x}<br>Fossil fuels per capita (kWh)=%{y}<extra></extra>",
           "legendgroup": "North America",
           "marker": {
            "color": "#FFA15A",
            "pattern": {
             "shape": ""
            }
           },
           "name": "North America",
           "offsetgroup": "North America",
           "orientation": "v",
           "showlegend": true,
           "textposition": "auto",
           "type": "bar",
           "x": [
            "Canada",
            "Mexico",
            "Trinidad and Tobago",
            "United States"
           ],
           "xaxis": "x",
           "y": [
            75704.982,
            16703.481,
            169317.753,
            78429.587
           ],
           "yaxis": "y"
          },
          {
           "alignmentgroup": "True",
           "hovertemplate": "Continents=South America<br>Year=2007<br>Countries=%{x}<br>Fossil fuels per capita (kWh)=%{y}<extra></extra>",
           "legendgroup": "South America",
           "marker": {
            "color": "#19d3f3",
            "pattern": {
             "shape": ""
            }
           },
           "name": "South America",
           "offsetgroup": "South America",
           "orientation": "v",
           "showlegend": true,
           "textposition": "auto",
           "type": "bar",
           "x": [
            "Argentina",
            "Brazil",
            "Chile",
            "Colombia",
            "Ecuador",
            "Peru",
            "Venezuela"
           ],
           "xaxis": "x",
           "y": [
            18401.417,
            7852.38,
            18874.674,
            5473.37,
            7552.029,
            4406.05,
            26878.367000000002
           ],
           "yaxis": "y"
          }
         ],
         "name": "2007"
        },
        {
         "data": [
          {
           "alignmentgroup": "True",
           "hovertemplate": "Continents=Africa<br>Year=2008<br>Countries=%{x}<br>Fossil fuels per capita (kWh)=%{y}<extra></extra>",
           "legendgroup": "Africa",
           "marker": {
            "color": "#636efa",
            "pattern": {
             "shape": ""
            }
           },
           "name": "Africa",
           "offsetgroup": "Africa",
           "orientation": "v",
           "showlegend": true,
           "textposition": "auto",
           "type": "bar",
           "x": [
            "Algeria",
            "Egypt",
            "Morocco"
           ],
           "xaxis": "x",
           "y": [
            12172.469,
            9941.083,
            5589.568
           ],
           "yaxis": "y"
          },
          {
           "alignmentgroup": "True",
           "hovertemplate": "Continents=Asia<br>Year=2008<br>Countries=%{x}<br>Fossil fuels per capita (kWh)=%{y}<extra></extra>",
           "legendgroup": "Asia",
           "marker": {
            "color": "#EF553B",
            "pattern": {
             "shape": ""
            }
           },
           "name": "Asia",
           "offsetgroup": "Asia",
           "orientation": "v",
           "showlegend": true,
           "textposition": "auto",
           "type": "bar",
           "x": [
            "Azerbaijan",
            "Bangladesh",
            "China",
            "India",
            "Indonesia",
            "Iran",
            "Iraq",
            "Israel",
            "Japan",
            "Kazakhstan",
            "Kuwait",
            "Malaysia",
            "Oman",
            "Pakistan",
            "Philippines",
            "Qatar",
            "Russia",
            "Saudi Arabia",
            "Singapore",
            "Sri Lanka",
            "Thailand",
            "Turkmenistan",
            "United Arab Emirates",
            "Uzbekistan",
            "Vietnam"
           ],
           "xaxis": "x",
           "y": [
            16259.868,
            1524.095,
            17734.152,
            4288.694,
            6331.852,
            32919.386,
            11685.11,
            38642.001000000004,
            39742.891,
            40052.322,
            130210.61099999999,
            33376.967000000004,
            74075.833,
            3766.0820000000003,
            2974.241,
            198947.266,
            48896.424000000006,
            82802.329,
            144190.166,
            2420.822,
            16199.632,
            28777.736,
            132858.604,
            18359.763,
            4414.289000000001
           ],
           "yaxis": "y"
          },
          {
           "alignmentgroup": "True",
           "hovertemplate": "Continents=Australia_NZ<br>Year=2008<br>Countries=%{x}<br>Fossil fuels per capita (kWh)=%{y}<extra></extra>",
           "legendgroup": "Australia_NZ",
           "marker": {
            "color": "#00cc96",
            "pattern": {
             "shape": ""
            }
           },
           "name": "Australia_NZ",
           "offsetgroup": "Australia_NZ",
           "orientation": "v",
           "showlegend": true,
           "textposition": "auto",
           "type": "bar",
           "x": [
            "Australia",
            "New Zealand"
           ],
           "xaxis": "x",
           "y": [
            69152.966,
            35512.202000000005
           ],
           "yaxis": "y"
          },
          {
           "alignmentgroup": "True",
           "hovertemplate": "Continents=Europe<br>Year=2008<br>Countries=%{x}<br>Fossil fuels per capita (kWh)=%{y}<extra></extra>",
           "legendgroup": "Europe",
           "marker": {
            "color": "#ab63fa",
            "pattern": {
             "shape": ""
            }
           },
           "name": "Europe",
           "offsetgroup": "Europe",
           "orientation": "v",
           "showlegend": true,
           "textposition": "auto",
           "type": "bar",
           "x": [
            "Austria",
            "Belarus",
            "Belgium",
            "Bulgaria",
            "Croatia",
            "Cyprus",
            "Denmark",
            "Estonia",
            "Finland",
            "France",
            "Germany",
            "Greece",
            "Hungary",
            "Iceland",
            "Ireland",
            "Italy",
            "Latvia",
            "Lithuania",
            "Luxembourg",
            "Netherlands",
            "Norway",
            "Poland",
            "Portugal",
            "Romania",
            "Slovakia",
            "Slovenia",
            "Spain",
            "Sweden",
            "Switzerland",
            "Ukraine",
            "United Kingdom"
           ],
           "xaxis": "x",
           "y": [
            34617.396,
            31773.267999999996,
            60519.668,
            24004.505,
            20997.446,
            32941.897000000004,
            37276.082,
            49110.39599999999,
            43350.362,
            26711.85,
            39793.335,
            35773.362,
            24693.285,
            34212.428,
            42094.134000000005,
            32964.201,
            17126.332,
            21161.909,
            99865.17800000001,
            63451.607,
            35420.039,
            28894.171000000002,
            22965.103,
            17884.178,
            28149.667,
            31743.759,
            31904.956000000002,
            25013.002,
            23692.832000000002,
            27840.552000000003,
            37713.55
           ],
           "yaxis": "y"
          },
          {
           "alignmentgroup": "True",
           "hovertemplate": "Continents=North America<br>Year=2008<br>Countries=%{x}<br>Fossil fuels per capita (kWh)=%{y}<extra></extra>",
           "legendgroup": "North America",
           "marker": {
            "color": "#FFA15A",
            "pattern": {
             "shape": ""
            }
           },
           "name": "North America",
           "offsetgroup": "North America",
           "orientation": "v",
           "showlegend": true,
           "textposition": "auto",
           "type": "bar",
           "x": [
            "Canada",
            "Mexico",
            "Trinidad and Tobago",
            "United States"
           ],
           "xaxis": "x",
           "y": [
            73541.814,
            16570.913,
            166062.245,
            75092.87
           ],
           "yaxis": "y"
          },
          {
           "alignmentgroup": "True",
           "hovertemplate": "Continents=South America<br>Year=2008<br>Countries=%{x}<br>Fossil fuels per capita (kWh)=%{y}<extra></extra>",
           "legendgroup": "South America",
           "marker": {
            "color": "#19d3f3",
            "pattern": {
             "shape": ""
            }
           },
           "name": "South America",
           "offsetgroup": "South America",
           "orientation": "v",
           "showlegend": true,
           "textposition": "auto",
           "type": "bar",
           "x": [
            "Argentina",
            "Brazil",
            "Chile",
            "Colombia",
            "Ecuador",
            "Peru",
            "Venezuela"
           ],
           "xaxis": "x",
           "y": [
            18621.733,
            8245.678,
            18048.325,
            5959.578,
            7607.876,
            4910.815,
            27355.621
           ],
           "yaxis": "y"
          }
         ],
         "name": "2008"
        },
        {
         "data": [
          {
           "alignmentgroup": "True",
           "hovertemplate": "Continents=Africa<br>Year=2009<br>Countries=%{x}<br>Fossil fuels per capita (kWh)=%{y}<extra></extra>",
           "legendgroup": "Africa",
           "marker": {
            "color": "#636efa",
            "pattern": {
             "shape": ""
            }
           },
           "name": "Africa",
           "offsetgroup": "Africa",
           "orientation": "v",
           "showlegend": true,
           "textposition": "auto",
           "type": "bar",
           "x": [
            "Algeria",
            "Egypt",
            "Morocco"
           ],
           "xaxis": "x",
           "y": [
            12676.306,
            10206.809000000001,
            5231.9259999999995
           ],
           "yaxis": "y"
          },
          {
           "alignmentgroup": "True",
           "hovertemplate": "Continents=Asia<br>Year=2009<br>Countries=%{x}<br>Fossil fuels per capita (kWh)=%{y}<extra></extra>",
           "legendgroup": "Asia",
           "marker": {
            "color": "#EF553B",
            "pattern": {
             "shape": ""
            }
           },
           "name": "Asia",
           "offsetgroup": "Asia",
           "orientation": "v",
           "showlegend": true,
           "textposition": "auto",
           "type": "bar",
           "x": [
            "Azerbaijan",
            "Bangladesh",
            "China",
            "India",
            "Indonesia",
            "Iran",
            "Iraq",
            "Israel",
            "Japan",
            "Kazakhstan",
            "Kuwait",
            "Malaysia",
            "Oman",
            "Pakistan",
            "Philippines",
            "Qatar",
            "Russia",
            "Saudi Arabia",
            "Singapore",
            "Sri Lanka",
            "Thailand",
            "Turkmenistan",
            "United Arab Emirates",
            "Uzbekistan",
            "Vietnam"
           ],
           "xaxis": "x",
           "y": [
            14105.178,
            1668.076,
            18473.225,
            4584.164000000001,
            6467.071999999999,
            33677.471,
            12822.133,
            36110.198,
            35264.336,
            35787.675,
            128064.34300000001,
            31779.901,
            70987.832,
            3705.863,
            2959.9120000000003,
            174526.663,
            45979.679000000004,
            84842.615,
            149125.772,
            2531.8920000000003,
            16661.468,
            46244.530999999995,
            117453.76800000001,
            17953.252,
            4346.935
           ],
           "yaxis": "y"
          },
          {
           "alignmentgroup": "True",
           "hovertemplate": "Continents=Australia_NZ<br>Year=2009<br>Countries=%{x}<br>Fossil fuels per capita (kWh)=%{y}<extra></extra>",
           "legendgroup": "Australia_NZ",
           "marker": {
            "color": "#00cc96",
            "pattern": {
             "shape": ""
            }
           },
           "name": "Australia_NZ",
           "offsetgroup": "Australia_NZ",
           "orientation": "v",
           "showlegend": true,
           "textposition": "auto",
           "type": "bar",
           "x": [
            "Australia",
            "New Zealand"
           ],
           "xaxis": "x",
           "y": [
            66926.746,
            33298.669
           ],
           "yaxis": "y"
          },
          {
           "alignmentgroup": "True",
           "hovertemplate": "Continents=Europe<br>Year=2009<br>Countries=%{x}<br>Fossil fuels per capita (kWh)=%{y}<extra></extra>",
           "legendgroup": "Europe",
           "marker": {
            "color": "#ab63fa",
            "pattern": {
             "shape": ""
            }
           },
           "name": "Europe",
           "offsetgroup": "Europe",
           "orientation": "v",
           "showlegend": true,
           "textposition": "auto",
           "type": "bar",
           "x": [
            "Austria",
            "Belarus",
            "Belgium",
            "Bulgaria",
            "Croatia",
            "Cyprus",
            "Denmark",
            "Estonia",
            "Finland",
            "France",
            "Germany",
            "Greece",
            "Hungary",
            "Iceland",
            "Ireland",
            "Italy",
            "Latvia",
            "Lithuania",
            "Luxembourg",
            "Netherlands",
            "Norway",
            "Poland",
            "Portugal",
            "Romania",
            "Slovakia",
            "Slovenia",
            "Spain",
            "Sweden",
            "Switzerland",
            "Ukraine",
            "United Kingdom"
           ],
           "xaxis": "x",
           "y": [
            31975.679,
            30158.907000000003,
            54608.643,
            20345.118000000002,
            19694.281000000003,
            31630.71,
            34610.399,
            43068.801,
            40942.03,
            25385.379,
            37310.685,
            34230.231,
            22048.557999999997,
            31204.654,
            37195.295,
            29937.283,
            15777.985,
            18195.474,
            93241.587,
            62004.343,
            34504.301,
            27641.039,
            22134.061,
            15434.396,
            25807.135,
            28014.376,
            28368.371,
            23355.199,
            23529.254,
            23259.072999999997,
            34442.674
           ],
           "yaxis": "y"
          },
          {
           "alignmentgroup": "True",
           "hovertemplate": "Continents=North America<br>Year=2009<br>Countries=%{x}<br>Fossil fuels per capita (kWh)=%{y}<extra></extra>",
           "legendgroup": "North America",
           "marker": {
            "color": "#FFA15A",
            "pattern": {
             "shape": ""
            }
           },
           "name": "North America",
           "offsetgroup": "North America",
           "orientation": "v",
           "showlegend": true,
           "textposition": "auto",
           "type": "bar",
           "x": [
            "Canada",
            "Mexico",
            "Trinidad and Tobago",
            "United States"
           ],
           "xaxis": "x",
           "y": [
            67714.408,
            16470.432,
            163814.43,
            69849.163
           ],
           "yaxis": "y"
          },
          {
           "alignmentgroup": "True",
           "hovertemplate": "Continents=South America<br>Year=2009<br>Countries=%{x}<br>Fossil fuels per capita (kWh)=%{y}<extra></extra>",
           "legendgroup": "South America",
           "marker": {
            "color": "#19d3f3",
            "pattern": {
             "shape": ""
            }
           },
           "name": "South America",
           "offsetgroup": "South America",
           "orientation": "v",
           "showlegend": true,
           "textposition": "auto",
           "type": "bar",
           "x": [
            "Argentina",
            "Brazil",
            "Chile",
            "Colombia",
            "Ecuador",
            "Peru",
            "Venezuela"
           ],
           "xaxis": "x",
           "y": [
            17755.558,
            7695.321999999999,
            17307.839,
            5792.834,
            7666.979,
            4947.978,
            26950.632
           ],
           "yaxis": "y"
          }
         ],
         "name": "2009"
        },
        {
         "data": [
          {
           "alignmentgroup": "True",
           "hovertemplate": "Continents=Africa<br>Year=2010<br>Countries=%{x}<br>Fossil fuels per capita (kWh)=%{y}<extra></extra>",
           "legendgroup": "Africa",
           "marker": {
            "color": "#636efa",
            "pattern": {
             "shape": ""
            }
           },
           "name": "Africa",
           "offsetgroup": "Africa",
           "orientation": "v",
           "showlegend": true,
           "textposition": "auto",
           "type": "bar",
           "x": [
            "Algeria",
            "Egypt",
            "Morocco"
           ],
           "xaxis": "x",
           "y": [
            12144.613000000001,
            10564.597,
            5658.385
           ],
           "yaxis": "y"
          },
          {
           "alignmentgroup": "True",
           "hovertemplate": "Continents=Asia<br>Year=2010<br>Countries=%{x}<br>Fossil fuels per capita (kWh)=%{y}<extra></extra>",
           "legendgroup": "Asia",
           "marker": {
            "color": "#EF553B",
            "pattern": {
             "shape": ""
            }
           },
           "name": "Asia",
           "offsetgroup": "Asia",
           "orientation": "v",
           "showlegend": true,
           "textposition": "auto",
           "type": "bar",
           "x": [
            "Azerbaijan",
            "Bangladesh",
            "China",
            "India",
            "Indonesia",
            "Iran",
            "Iraq",
            "Israel",
            "Japan",
            "Kazakhstan",
            "Kuwait",
            "Malaysia",
            "Oman",
            "Pakistan",
            "Philippines",
            "Qatar",
            "Russia",
            "Saudi Arabia",
            "Singapore",
            "Sri Lanka",
            "Thailand",
            "Turkmenistan",
            "United Arab Emirates",
            "Uzbekistan",
            "Vietnam"
           ],
           "xaxis": "x",
           "y": [
            13413.396999999999,
            1683.037,
            19509.327,
            4725.888,
            6962.791,
            33278.498999999996,
            13258.309,
            37439.654,
            37315.487,
            37995.84,
            130930.79,
            32290.167,
            78880.424,
            3629.3459999999995,
            3087.3540000000003,
            181044.00199999998,
            48065.060999999994,
            90324.13900000001,
            155134.304,
            2500.152,
            17675.982,
            49057.85,
            113961.661,
            17387.155,
            5065.531
           ],
           "yaxis": "y"
          },
          {
           "alignmentgroup": "True",
           "hovertemplate": "Continents=Australia_NZ<br>Year=2010<br>Countries=%{x}<br>Fossil fuels per capita (kWh)=%{y}<extra></extra>",
           "legendgroup": "Australia_NZ",
           "marker": {
            "color": "#00cc96",
            "pattern": {
             "shape": ""
            }
           },
           "name": "Australia_NZ",
           "offsetgroup": "Australia_NZ",
           "orientation": "v",
           "showlegend": true,
           "textposition": "auto",
           "type": "bar",
           "x": [
            "Australia",
            "New Zealand"
           ],
           "xaxis": "x",
           "y": [
            65456.527,
            33202.998
           ],
           "yaxis": "y"
          },
          {
           "alignmentgroup": "True",
           "hovertemplate": "Continents=Europe<br>Year=2010<br>Countries=%{x}<br>Fossil fuels per capita (kWh)=%{y}<extra></extra>",
           "legendgroup": "Europe",
           "marker": {
            "color": "#ab63fa",
            "pattern": {
             "shape": ""
            }
           },
           "name": "Europe",
           "offsetgroup": "Europe",
           "orientation": "v",
           "showlegend": true,
           "textposition": "auto",
           "type": "bar",
           "x": [
            "Austria",
            "Belarus",
            "Belgium",
            "Bulgaria",
            "Croatia",
            "Cyprus",
            "Denmark",
            "Estonia",
            "Finland",
            "France",
            "Germany",
            "Greece",
            "Hungary",
            "Iceland",
            "Ireland",
            "Italy",
            "Latvia",
            "Lithuania",
            "Luxembourg",
            "Netherlands",
            "Norway",
            "Poland",
            "Portugal",
            "Romania",
            "Slovakia",
            "Slovenia",
            "Spain",
            "Sweden",
            "Switzerland",
            "Ukraine",
            "United Kingdom"
           ],
           "xaxis": "x",
           "y": [
            34226.142,
            32043.506,
            57960.807,
            20864.679,
            19048.503,
            30255.541,
            35269.602999999996,
            51407.679000000004,
            45621.117999999995,
            25603.941000000003,
            38780.748,
            32090.402000000002,
            22584.857999999997,
            29820.697,
            36805.562000000005,
            30457.477000000003,
            18521.009,
            20042.322,
            96186.54400000001,
            65653.147,
            35536.164,
            29373.856,
            20905.498,
            15155.112,
            27473.142000000003,
            28287.435,
            27033.967,
            24452.406000000003,
            22345.943,
            24964.42,
            35282.638999999996
           ],
           "yaxis": "y"
          },
          {
           "alignmentgroup": "True",
           "hovertemplate": "Continents=North America<br>Year=2010<br>Countries=%{x}<br>Fossil fuels per capita (kWh)=%{y}<extra></extra>",
           "legendgroup": "North America",
           "marker": {
            "color": "#FFA15A",
            "pattern": {
             "shape": ""
            }
           },
           "name": "North America",
           "offsetgroup": "North America",
           "orientation": "v",
           "showlegend": true,
           "textposition": "auto",
           "type": "bar",
           "x": [
            "Canada",
            "Mexico",
            "Trinidad and Tobago",
            "United States"
           ],
           "xaxis": "x",
           "y": [
            70338.84599999999,
            16601.827,
            176098.88100000002,
            71759.24
           ],
           "yaxis": "y"
          },
          {
           "alignmentgroup": "True",
           "hovertemplate": "Continents=South America<br>Year=2010<br>Countries=%{x}<br>Fossil fuels per capita (kWh)=%{y}<extra></extra>",
           "legendgroup": "South America",
           "marker": {
            "color": "#19d3f3",
            "pattern": {
             "shape": ""
            }
           },
           "name": "South America",
           "offsetgroup": "South America",
           "orientation": "v",
           "showlegend": true,
           "textposition": "auto",
           "type": "bar",
           "x": [
            "Argentina",
            "Brazil",
            "Chile",
            "Colombia",
            "Ecuador",
            "Peru",
            "Venezuela"
           ],
           "xaxis": "x",
           "y": [
            18599.381999999998,
            8711.048,
            17731.349,
            6330.356,
            8681.296,
            5736.938,
            25483.673
           ],
           "yaxis": "y"
          }
         ],
         "name": "2010"
        },
        {
         "data": [
          {
           "alignmentgroup": "True",
           "hovertemplate": "Continents=Africa<br>Year=2011<br>Countries=%{x}<br>Fossil fuels per capita (kWh)=%{y}<extra></extra>",
           "legendgroup": "Africa",
           "marker": {
            "color": "#636efa",
            "pattern": {
             "shape": ""
            }
           },
           "name": "Africa",
           "offsetgroup": "Africa",
           "orientation": "v",
           "showlegend": true,
           "textposition": "auto",
           "type": "bar",
           "x": [
            "Algeria",
            "Egypt",
            "Morocco"
           ],
           "xaxis": "x",
           "y": [
            12640.023000000001,
            10503.306,
            6000.049
           ],
           "yaxis": "y"
          },
          {
           "alignmentgroup": "True",
           "hovertemplate": "Continents=Asia<br>Year=2011<br>Countries=%{x}<br>Fossil fuels per capita (kWh)=%{y}<extra></extra>",
           "legendgroup": "Asia",
           "marker": {
            "color": "#EF553B",
            "pattern": {
             "shape": ""
            }
           },
           "name": "Asia",
           "offsetgroup": "Asia",
           "orientation": "v",
           "showlegend": true,
           "textposition": "auto",
           "type": "bar",
           "x": [
            "Azerbaijan",
            "Bangladesh",
            "China",
            "India",
            "Indonesia",
            "Iran",
            "Iraq",
            "Israel",
            "Japan",
            "Kazakhstan",
            "Kuwait",
            "Malaysia",
            "Oman",
            "Pakistan",
            "Philippines",
            "Qatar",
            "Russia",
            "Saudi Arabia",
            "Singapore",
            "Sri Lanka",
            "Thailand",
            "Turkmenistan",
            "United Arab Emirates",
            "Uzbekistan",
            "Vietnam"
           ],
           "xaxis": "x",
           "y": [
            15071.103000000001,
            1806.621,
            21039.466,
            4878.241,
            7572.906999999999,
            34369.442,
            13600.753999999999,
            37555.767,
            37772.479,
            41399.262,
            124080.31599999999,
            32757.197999999997,
            80606.8,
            3519.848,
            3051.841,
            190849.44199999998,
            49824.567,
            90445.989,
            157222.94,
            2780.114,
            18164.98,
            53534.710999999996,
            114860.84,
            18191.89,
            5461.811
           ],
           "yaxis": "y"
          },
          {
           "alignmentgroup": "True",
           "hovertemplate": "Continents=Australia_NZ<br>Year=2011<br>Countries=%{x}<br>Fossil fuels per capita (kWh)=%{y}<extra></extra>",
           "legendgroup": "Australia_NZ",
           "marker": {
            "color": "#00cc96",
            "pattern": {
             "shape": ""
            }
           },
           "name": "Australia_NZ",
           "offsetgroup": "Australia_NZ",
           "orientation": "v",
           "showlegend": true,
           "textposition": "auto",
           "type": "bar",
           "x": [
            "Australia",
            "New Zealand"
           ],
           "xaxis": "x",
           "y": [
            65785.054,
            32571.537999999997
           ],
           "yaxis": "y"
          },
          {
           "alignmentgroup": "True",
           "hovertemplate": "Continents=Europe<br>Year=2011<br>Countries=%{x}<br>Fossil fuels per capita (kWh)=%{y}<extra></extra>",
           "legendgroup": "Europe",
           "marker": {
            "color": "#ab63fa",
            "pattern": {
             "shape": ""
            }
           },
           "name": "Europe",
           "offsetgroup": "Europe",
           "orientation": "v",
           "showlegend": true,
           "textposition": "auto",
           "type": "bar",
           "x": [
            "Austria",
            "Belarus",
            "Belgium",
            "Bulgaria",
            "Croatia",
            "Cyprus",
            "Denmark",
            "Estonia",
            "Finland",
            "France",
            "Germany",
            "Greece",
            "Hungary",
            "Iceland",
            "Ireland",
            "Italy",
            "Latvia",
            "Lithuania",
            "Luxembourg",
            "Netherlands",
            "Norway",
            "Poland",
            "Portugal",
            "Romania",
            "Slovakia",
            "Slovenia",
            "Spain",
            "Sweden",
            "Switzerland",
            "Ukraine",
            "United Kingdom"
           ],
           "xaxis": "x",
           "y": [
            32298.709,
            31887.737,
            52325.257000000005,
            23130.377,
            18501.96,
            29356.962000000003,
            31784.736,
            52959.079000000005,
            40534.114,
            23783.1,
            37507.068999999996,
            31980.071,
            22661.61,
            29189.69,
            33562.511,
            29296.432999999997,
            16957.721,
            20949.93,
            91664.845,
            62272.607,
            34459.101,
            29396.781000000003,
            20787.133,
            16242.485,
            25937.04,
            27525.724,
            27039.627,
            22156.629,
            21028.327,
            26353.367000000002,
            32248.961
           ],
           "yaxis": "y"
          },
          {
           "alignmentgroup": "True",
           "hovertemplate": "Continents=North America<br>Year=2011<br>Countries=%{x}<br>Fossil fuels per capita (kWh)=%{y}<extra></extra>",
           "legendgroup": "North America",
           "marker": {
            "color": "#FFA15A",
            "pattern": {
             "shape": ""
            }
           },
           "name": "North America",
           "offsetgroup": "North America",
           "orientation": "v",
           "showlegend": true,
           "textposition": "auto",
           "type": "bar",
           "x": [
            "Canada",
            "Mexico",
            "Trinidad and Tobago",
            "United States"
           ],
           "xaxis": "x",
           "y": [
            72237.65,
            17140.726000000002,
            171903.19100000002,
            69794.35
           ],
           "yaxis": "y"
          },
          {
           "alignmentgroup": "True",
           "hovertemplate": "Continents=South America<br>Year=2011<br>Countries=%{x}<br>Fossil fuels per capita (kWh)=%{y}<extra></extra>",
           "legendgroup": "South America",
           "marker": {
            "color": "#19d3f3",
            "pattern": {
             "shape": ""
            }
           },
           "name": "South America",
           "offsetgroup": "South America",
           "orientation": "v",
           "showlegend": true,
           "textposition": "auto",
           "type": "bar",
           "x": [
            "Argentina",
            "Brazil",
            "Chile",
            "Colombia",
            "Ecuador",
            "Peru",
            "Venezuela"
           ],
           "xaxis": "x",
           "y": [
            18871.5,
            9088.141,
            19496.264,
            6216.017,
            8716.853000000001,
            6543.831,
            26007.68
           ],
           "yaxis": "y"
          }
         ],
         "name": "2011"
        },
        {
         "data": [
          {
           "alignmentgroup": "True",
           "hovertemplate": "Continents=Africa<br>Year=2012<br>Countries=%{x}<br>Fossil fuels per capita (kWh)=%{y}<extra></extra>",
           "legendgroup": "Africa",
           "marker": {
            "color": "#636efa",
            "pattern": {
             "shape": ""
            }
           },
           "name": "Africa",
           "offsetgroup": "Africa",
           "orientation": "v",
           "showlegend": true,
           "textposition": "auto",
           "type": "bar",
           "x": [
            "Algeria",
            "Egypt",
            "Morocco"
           ],
           "xaxis": "x",
           "y": [
            13549.443000000001,
            10818.205,
            6051.649
           ],
           "yaxis": "y"
          },
          {
           "alignmentgroup": "True",
           "hovertemplate": "Continents=Asia<br>Year=2012<br>Countries=%{x}<br>Fossil fuels per capita (kWh)=%{y}<extra></extra>",
           "legendgroup": "Asia",
           "marker": {
            "color": "#EF553B",
            "pattern": {
             "shape": ""
            }
           },
           "name": "Asia",
           "offsetgroup": "Asia",
           "orientation": "v",
           "showlegend": true,
           "textposition": "auto",
           "type": "bar",
           "x": [
            "Azerbaijan",
            "Bangladesh",
            "China",
            "India",
            "Indonesia",
            "Iran",
            "Iraq",
            "Israel",
            "Japan",
            "Kazakhstan",
            "Kuwait",
            "Malaysia",
            "Oman",
            "Pakistan",
            "Philippines",
            "Qatar",
            "Russia",
            "Saudi Arabia",
            "Singapore",
            "Sri Lanka",
            "Thailand",
            "Turkmenistan",
            "United Arab Emirates",
            "Uzbekistan",
            "Vietnam"
           ],
           "xaxis": "x",
           "y": [
            15592.853000000001,
            1914.219,
            21427.629,
            5106.992,
            7869.965999999999,
            34119.876000000004,
            13871.819,
            38502.114,
            40477.725,
            42325.791,
            130407.76699999999,
            34625.834,
            81442.269,
            3475.829,
            3085.4790000000003,
            200840.555,
            49797.087999999996,
            92966.93800000001,
            154788.476,
            2946.116,
            19268.543,
            57318.617,
            118047.94300000001,
            17398.221,
            5388.221
           ],
           "yaxis": "y"
          },
          {
           "alignmentgroup": "True",
           "hovertemplate": "Continents=Australia_NZ<br>Year=2012<br>Countries=%{x}<br>Fossil fuels per capita (kWh)=%{y}<extra></extra>",
           "legendgroup": "Australia_NZ",
           "marker": {
            "color": "#00cc96",
            "pattern": {
             "shape": ""
            }
           },
           "name": "Australia_NZ",
           "offsetgroup": "Australia_NZ",
           "orientation": "v",
           "showlegend": true,
           "textposition": "auto",
           "type": "bar",
           "x": [
            "Australia",
            "New Zealand"
           ],
           "xaxis": "x",
           "y": [
            64049.86,
            33789.303
           ],
           "yaxis": "y"
          },
          {
           "alignmentgroup": "True",
           "hovertemplate": "Continents=Europe<br>Year=2012<br>Countries=%{x}<br>Fossil fuels per capita (kWh)=%{y}<extra></extra>",
           "legendgroup": "Europe",
           "marker": {
            "color": "#ab63fa",
            "pattern": {
             "shape": ""
            }
           },
           "name": "Europe",
           "offsetgroup": "Europe",
           "orientation": "v",
           "showlegend": true,
           "textposition": "auto",
           "type": "bar",
           "x": [
            "Austria",
            "Belarus",
            "Belgium",
            "Bulgaria",
            "Croatia",
            "Cyprus",
            "Denmark",
            "Estonia",
            "Finland",
            "France",
            "Germany",
            "Greece",
            "Hungary",
            "Iceland",
            "Ireland",
            "Italy",
            "Latvia",
            "Lithuania",
            "Luxembourg",
            "Netherlands",
            "Norway",
            "Poland",
            "Portugal",
            "Romania",
            "Slovakia",
            "Slovenia",
            "Spain",
            "Sweden",
            "Switzerland",
            "Ukraine",
            "United Kingdom"
           ],
           "xaxis": "x",
           "y": [
            31279.494,
            34443.769,
            50880.625,
            21392.082000000002,
            16944.933,
            27042.115,
            28283.668999999998,
            53234.611,
            36486.426,
            23613.056,
            37698.572,
            29784.527000000002,
            20765.527,
            28721.972999999998,
            33144.574,
            27848.142000000003,
            16584.753,
            21178.377,
            87598.877,
            59959.780999999995,
            33669.127,
            28243.827,
            19770.16,
            15808.015,
            24427.31,
            26544.907000000003,
            26563,
            21141.611,
            21429.195,
            25679.804,
            32201.34
           ],
           "yaxis": "y"
          },
          {
           "alignmentgroup": "True",
           "hovertemplate": "Continents=North America<br>Year=2012<br>Countries=%{x}<br>Fossil fuels per capita (kWh)=%{y}<extra></extra>",
           "legendgroup": "North America",
           "marker": {
            "color": "#FFA15A",
            "pattern": {
             "shape": ""
            }
           },
           "name": "North America",
           "offsetgroup": "North America",
           "orientation": "v",
           "showlegend": true,
           "textposition": "auto",
           "type": "bar",
           "x": [
            "Canada",
            "Mexico",
            "Trinidad and Tobago",
            "United States"
           ],
           "xaxis": "x",
           "y": [
            69917.476,
            17116.365,
            168096.38,
            67499.79400000001
           ],
           "yaxis": "y"
          },
          {
           "alignmentgroup": "True",
           "hovertemplate": "Continents=South America<br>Year=2012<br>Countries=%{x}<br>Fossil fuels per capita (kWh)=%{y}<extra></extra>",
           "legendgroup": "South America",
           "marker": {
            "color": "#19d3f3",
            "pattern": {
             "shape": ""
            }
           },
           "name": "South America",
           "offsetgroup": "South America",
           "orientation": "v",
           "showlegend": true,
           "textposition": "auto",
           "type": "bar",
           "x": [
            "Argentina",
            "Brazil",
            "Chile",
            "Colombia",
            "Ecuador",
            "Peru",
            "Venezuela"
           ],
           "xaxis": "x",
           "y": [
            19399.898,
            9465.298,
            19639.935,
            6847.215,
            8998.276,
            6510.340999999999,
            27107.572
           ],
           "yaxis": "y"
          }
         ],
         "name": "2012"
        },
        {
         "data": [
          {
           "alignmentgroup": "True",
           "hovertemplate": "Continents=Africa<br>Year=2013<br>Countries=%{x}<br>Fossil fuels per capita (kWh)=%{y}<extra></extra>",
           "legendgroup": "Africa",
           "marker": {
            "color": "#636efa",
            "pattern": {
             "shape": ""
            }
           },
           "name": "Africa",
           "offsetgroup": "Africa",
           "orientation": "v",
           "showlegend": true,
           "textposition": "auto",
           "type": "bar",
           "x": [
            "Algeria",
            "Egypt",
            "Morocco"
           ],
           "xaxis": "x",
           "y": [
            14069.992,
            10498.828000000001,
            6000.53
           ],
           "yaxis": "y"
          },
          {
           "alignmentgroup": "True",
           "hovertemplate": "Continents=Asia<br>Year=2013<br>Countries=%{x}<br>Fossil fuels per capita (kWh)=%{y}<extra></extra>",
           "legendgroup": "Asia",
           "marker": {
            "color": "#EF553B",
            "pattern": {
             "shape": ""
            }
           },
           "name": "Asia",
           "offsetgroup": "Asia",
           "orientation": "v",
           "showlegend": true,
           "textposition": "auto",
           "type": "bar",
           "x": [
            "Azerbaijan",
            "Bangladesh",
            "China",
            "India",
            "Indonesia",
            "Iran",
            "Iraq",
            "Israel",
            "Japan",
            "Kazakhstan",
            "Kuwait",
            "Malaysia",
            "Oman",
            "Pakistan",
            "Philippines",
            "Qatar",
            "Russia",
            "Saudi Arabia",
            "Singapore",
            "Sri Lanka",
            "Thailand",
            "Turkmenistan",
            "United Arab Emirates",
            "Uzbekistan",
            "Vietnam"
           ],
           "xaxis": "x",
           "y": [
            15915.822,
            1950.469,
            21986.077999999998,
            5212.588,
            8044.244000000001,
            35138.561,
            14378.958999999999,
            35152.344,
            40028.08,
            42165.405999999995,
            128398.87400000001,
            35562.934,
            84551.291,
            3419.1209999999996,
            3313.0409999999997,
            202979.05800000002,
            48777.447,
            90562.84,
            155702.35,
            2524.7070000000003,
            19497.057,
            49987.317,
            123632.321,
            17198.326,
            5670.82
           ],
           "yaxis": "y"
          },
          {
           "alignmentgroup": "True",
           "hovertemplate": "Continents=Australia_NZ<br>Year=2013<br>Countries=%{x}<br>Fossil fuels per capita (kWh)=%{y}<extra></extra>",
           "legendgroup": "Australia_NZ",
           "marker": {
            "color": "#00cc96",
            "pattern": {
             "shape": ""
            }
           },
           "name": "Australia_NZ",
           "offsetgroup": "Australia_NZ",
           "orientation": "v",
           "showlegend": true,
           "textposition": "auto",
           "type": "bar",
           "x": [
            "Australia",
            "New Zealand"
           ],
           "xaxis": "x",
           "y": [
            63069.761,
            33511.453
           ],
           "yaxis": "y"
          },
          {
           "alignmentgroup": "True",
           "hovertemplate": "Continents=Europe<br>Year=2013<br>Countries=%{x}<br>Fossil fuels per capita (kWh)=%{y}<extra></extra>",
           "legendgroup": "Europe",
           "marker": {
            "color": "#ab63fa",
            "pattern": {
             "shape": ""
            }
           },
           "name": "Europe",
           "offsetgroup": "Europe",
           "orientation": "v",
           "showlegend": true,
           "textposition": "auto",
           "type": "bar",
           "x": [
            "Austria",
            "Belarus",
            "Belgium",
            "Bulgaria",
            "Croatia",
            "Cyprus",
            "Denmark",
            "Estonia",
            "Finland",
            "France",
            "Germany",
            "Greece",
            "Hungary",
            "Iceland",
            "Ireland",
            "Italy",
            "Latvia",
            "Lithuania",
            "Luxembourg",
            "Netherlands",
            "Norway",
            "Poland",
            "Portugal",
            "Romania",
            "Slovakia",
            "Slovenia",
            "Spain",
            "Sweden",
            "Switzerland",
            "Ukraine",
            "United Kingdom"
           ],
           "xaxis": "x",
           "y": [
            31191.741,
            30335.702999999998,
            51434.049000000006,
            19337.716,
            16452.555,
            23767.194,
            29255.556,
            55885.624,
            37893.148,
            23500.412,
            38773.583,
            27165.303,
            19671.046000000002,
            30283.116,
            32152.787,
            25431.183999999997,
            16698.18,
            19389.944,
            81057.731,
            58140.664000000004,
            33520.363,
            28379.487999999998,
            19752.226000000002,
            13901.077,
            24774.245,
            25346.296000000002,
            24046.947999999997,
            20773.267,
            22183.238999999998,
            24345.423,
            31320.213
           ],
           "yaxis": "y"
          },
          {
           "alignmentgroup": "True",
           "hovertemplate": "Continents=North America<br>Year=2013<br>Countries=%{x}<br>Fossil fuels per capita (kWh)=%{y}<extra></extra>",
           "legendgroup": "North America",
           "marker": {
            "color": "#FFA15A",
            "pattern": {
             "shape": ""
            }
           },
           "name": "North America",
           "offsetgroup": "North America",
           "orientation": "v",
           "showlegend": true,
           "textposition": "auto",
           "type": "bar",
           "x": [
            "Canada",
            "Mexico",
            "Trinidad and Tobago",
            "United States"
           ],
           "xaxis": "x",
           "y": [
            71087.591,
            16970.836,
            170077.543,
            68678.226
           ],
           "yaxis": "y"
          },
          {
           "alignmentgroup": "True",
           "hovertemplate": "Continents=South America<br>Year=2013<br>Countries=%{x}<br>Fossil fuels per capita (kWh)=%{y}<extra></extra>",
           "legendgroup": "South America",
           "marker": {
            "color": "#19d3f3",
            "pattern": {
             "shape": ""
            }
           },
           "name": "South America",
           "offsetgroup": "South America",
           "orientation": "v",
           "showlegend": true,
           "textposition": "auto",
           "type": "bar",
           "x": [
            "Argentina",
            "Brazil",
            "Chile",
            "Colombia",
            "Ecuador",
            "Peru",
            "Venezuela"
           ],
           "xaxis": "x",
           "y": [
            19893.03,
            10136.376,
            19585.869,
            7117.4130000000005,
            9428.935,
            6597.295,
            25787.158
           ],
           "yaxis": "y"
          }
         ],
         "name": "2013"
        },
        {
         "data": [
          {
           "alignmentgroup": "True",
           "hovertemplate": "Continents=Africa<br>Year=2014<br>Countries=%{x}<br>Fossil fuels per capita (kWh)=%{y}<extra></extra>",
           "legendgroup": "Africa",
           "marker": {
            "color": "#636efa",
            "pattern": {
             "shape": ""
            }
           },
           "name": "Africa",
           "offsetgroup": "Africa",
           "orientation": "v",
           "showlegend": true,
           "textposition": "auto",
           "type": "bar",
           "x": [
            "Algeria",
            "Egypt",
            "Morocco"
           ],
           "xaxis": "x",
           "y": [
            15027.377,
            10241.436,
            6043.344
           ],
           "yaxis": "y"
          },
          {
           "alignmentgroup": "True",
           "hovertemplate": "Continents=Asia<br>Year=2014<br>Countries=%{x}<br>Fossil fuels per capita (kWh)=%{y}<extra></extra>",
           "legendgroup": "Asia",
           "marker": {
            "color": "#EF553B",
            "pattern": {
             "shape": ""
            }
           },
           "name": "Asia",
           "offsetgroup": "Asia",
           "orientation": "v",
           "showlegend": true,
           "textposition": "auto",
           "type": "bar",
           "x": [
            "Azerbaijan",
            "Bangladesh",
            "China",
            "India",
            "Indonesia",
            "Iran",
            "Iraq",
            "Israel",
            "Japan",
            "Kazakhstan",
            "Kuwait",
            "Malaysia",
            "Oman",
            "Pakistan",
            "Philippines",
            "Qatar",
            "Russia",
            "Saudi Arabia",
            "Singapore",
            "Sri Lanka",
            "Thailand",
            "Turkmenistan",
            "United Arab Emirates",
            "Uzbekistan",
            "Vietnam"
           ],
           "xaxis": "x",
           "y": [
            16080.396,
            2012.905,
            22038.47,
            5508.084,
            7402.398,
            36242.998999999996,
            13373.948999999999,
            33912.59,
            39011.692,
            42047.538,
            112493.906,
            35307.154,
            78698.575,
            3454.0170000000003,
            3458.631,
            207250.94100000002,
            48877.664000000004,
            94357.84800000001,
            158086.87699999998,
            2457.606,
            19864.578999999998,
            50863.835,
            122799.439,
            17612.034,
            6182.8640000000005
           ],
           "yaxis": "y"
          },
          {
           "alignmentgroup": "True",
           "hovertemplate": "Continents=Australia_NZ<br>Year=2014<br>Countries=%{x}<br>Fossil fuels per capita (kWh)=%{y}<extra></extra>",
           "legendgroup": "Australia_NZ",
           "marker": {
            "color": "#00cc96",
            "pattern": {
             "shape": ""
            }
           },
           "name": "Australia_NZ",
           "offsetgroup": "Australia_NZ",
           "orientation": "v",
           "showlegend": true,
           "textposition": "auto",
           "type": "bar",
           "x": [
            "Australia",
            "New Zealand"
           ],
           "xaxis": "x",
           "y": [
            63471.012,
            34387.212
           ],
           "yaxis": "y"
          },
          {
           "alignmentgroup": "True",
           "hovertemplate": "Continents=Europe<br>Year=2014<br>Countries=%{x}<br>Fossil fuels per capita (kWh)=%{y}<extra></extra>",
           "legendgroup": "Europe",
           "marker": {
            "color": "#ab63fa",
            "pattern": {
             "shape": ""
            }
           },
           "name": "Europe",
           "offsetgroup": "Europe",
           "orientation": "v",
           "showlegend": true,
           "textposition": "auto",
           "type": "bar",
           "x": [
            "Austria",
            "Belarus",
            "Belgium",
            "Bulgaria",
            "Croatia",
            "Cyprus",
            "Denmark",
            "Estonia",
            "Finland",
            "France",
            "Germany",
            "Greece",
            "Hungary",
            "Iceland",
            "Ireland",
            "Italy",
            "Latvia",
            "Lithuania",
            "Luxembourg",
            "Netherlands",
            "Norway",
            "Poland",
            "Portugal",
            "Romania",
            "Slovakia",
            "Slovenia",
            "Spain",
            "Sweden",
            "Switzerland",
            "Ukraine",
            "United Kingdom"
           ],
           "xaxis": "x",
           "y": [
            29111.542999999998,
            31299.252,
            48667.753,
            20481.124,
            16134.73,
            23693.986,
            26991.371,
            54259.369000000006,
            34832.62,
            21259.9,
            36380.18,
            25981.743,
            19592.311999999998,
            30600.333,
            31550.484,
            23358.869,
            16157.044,
            18883.582,
            76288.761,
            54485.323,
            32464.843999999997,
            27152.658,
            19568.951,
            14000.409,
            22373.361,
            23161.963,
            23533.93,
            19918.423,
            19543.586,
            20838.404,
            28853.402000000002
           ],
           "yaxis": "y"
          },
          {
           "alignmentgroup": "True",
           "hovertemplate": "Continents=North America<br>Year=2014<br>Countries=%{x}<br>Fossil fuels per capita (kWh)=%{y}<extra></extra>",
           "legendgroup": "North America",
           "marker": {
            "color": "#FFA15A",
            "pattern": {
             "shape": ""
            }
           },
           "name": "North America",
           "offsetgroup": "North America",
           "orientation": "v",
           "showlegend": true,
           "textposition": "auto",
           "type": "bar",
           "x": [
            "Canada",
            "Mexico",
            "Trinidad and Tobago",
            "United States"
           ],
           "xaxis": "x",
           "y": [
            72032.509,
            16430.404,
            168208.65600000002,
            68848.068
           ],
           "yaxis": "y"
          },
          {
           "alignmentgroup": "True",
           "hovertemplate": "Continents=South America<br>Year=2014<br>Countries=%{x}<br>Fossil fuels per capita (kWh)=%{y}<extra></extra>",
           "legendgroup": "South America",
           "marker": {
            "color": "#19d3f3",
            "pattern": {
             "shape": ""
            }
           },
           "name": "South America",
           "offsetgroup": "South America",
           "orientation": "v",
           "showlegend": true,
           "textposition": "auto",
           "type": "bar",
           "x": [
            "Argentina",
            "Brazil",
            "Chile",
            "Colombia",
            "Ecuador",
            "Peru",
            "Venezuela"
           ],
           "xaxis": "x",
           "y": [
            19572.09,
            10442.735,
            18585.237,
            7536.937,
            9762.806,
            6697.107,
            24901.763
           ],
           "yaxis": "y"
          }
         ],
         "name": "2014"
        },
        {
         "data": [
          {
           "alignmentgroup": "True",
           "hovertemplate": "Continents=Africa<br>Year=2015<br>Countries=%{x}<br>Fossil fuels per capita (kWh)=%{y}<extra></extra>",
           "legendgroup": "Africa",
           "marker": {
            "color": "#636efa",
            "pattern": {
             "shape": ""
            }
           },
           "name": "Africa",
           "offsetgroup": "Africa",
           "orientation": "v",
           "showlegend": true,
           "textposition": "auto",
           "type": "bar",
           "x": [
            "Algeria",
            "Egypt",
            "Morocco"
           ],
           "xaxis": "x",
           "y": [
            15528.614,
            10247.313,
            6006.808000000001
           ],
           "yaxis": "y"
          },
          {
           "alignmentgroup": "True",
           "hovertemplate": "Continents=Asia<br>Year=2015<br>Countries=%{x}<br>Fossil fuels per capita (kWh)=%{y}<extra></extra>",
           "legendgroup": "Asia",
           "marker": {
            "color": "#EF553B",
            "pattern": {
             "shape": ""
            }
           },
           "name": "Asia",
           "offsetgroup": "Asia",
           "orientation": "v",
           "showlegend": true,
           "textposition": "auto",
           "type": "bar",
           "x": [
            "Azerbaijan",
            "Bangladesh",
            "China",
            "India",
            "Indonesia",
            "Iran",
            "Iraq",
            "Israel",
            "Japan",
            "Kazakhstan",
            "Kuwait",
            "Malaysia",
            "Oman",
            "Pakistan",
            "Philippines",
            "Qatar",
            "Russia",
            "Saudi Arabia",
            "Singapore",
            "Sri Lanka",
            "Thailand",
            "Turkmenistan",
            "United Arab Emirates",
            "Uzbekistan",
            "Vietnam"
           ],
           "xaxis": "x",
           "y": [
            17313.041,
            2337.381,
            21925.019,
            5642.015,
            7368.314,
            35613.721,
            12923.178,
            35129.745,
            37998.297999999995,
            40714.035,
            117462.166,
            35271.133,
            78462.70599999999,
            3577.26,
            3752.183,
            221514.063,
            47555.615999999995,
            94872.24,
            166102.578,
            3086.982,
            20416.839,
            59802.538,
            134406.954,
            16482.494,
            7111.321999999999
           ],
           "yaxis": "y"
          },
          {
           "alignmentgroup": "True",
           "hovertemplate": "Continents=Australia_NZ<br>Year=2015<br>Countries=%{x}<br>Fossil fuels per capita (kWh)=%{y}<extra></extra>",
           "legendgroup": "Australia_NZ",
           "marker": {
            "color": "#00cc96",
            "pattern": {
             "shape": ""
            }
           },
           "name": "Australia_NZ",
           "offsetgroup": "Australia_NZ",
           "orientation": "v",
           "showlegend": true,
           "textposition": "auto",
           "type": "bar",
           "x": [
            "Australia",
            "New Zealand"
           ],
           "xaxis": "x",
           "y": [
            63343.515,
            34136.596
           ],
           "yaxis": "y"
          },
          {
           "alignmentgroup": "True",
           "hovertemplate": "Continents=Europe<br>Year=2015<br>Countries=%{x}<br>Fossil fuels per capita (kWh)=%{y}<extra></extra>",
           "legendgroup": "Europe",
           "marker": {
            "color": "#ab63fa",
            "pattern": {
             "shape": ""
            }
           },
           "name": "Europe",
           "offsetgroup": "Europe",
           "orientation": "v",
           "showlegend": true,
           "textposition": "auto",
           "type": "bar",
           "x": [
            "Austria",
            "Belarus",
            "Belgium",
            "Bulgaria",
            "Croatia",
            "Cyprus",
            "Denmark",
            "Estonia",
            "Finland",
            "France",
            "Germany",
            "Greece",
            "Hungary",
            "Iceland",
            "Ireland",
            "Italy",
            "Latvia",
            "Lithuania",
            "Luxembourg",
            "Netherlands",
            "Norway",
            "Poland",
            "Portugal",
            "Romania",
            "Slovakia",
            "Slovenia",
            "Spain",
            "Sweden",
            "Switzerland",
            "Ukraine",
            "United Kingdom"
           ],
           "xaxis": "x",
           "y": [
            29680.396,
            28407.2,
            50650.192,
            22154.207000000002,
            16627.443,
            24090.734,
            25246.374,
            50300.52,
            32565.484,
            21577.359,
            36450.005,
            25650.702999999998,
            20868.505,
            33333.341,
            32686.857999999997,
            24459.431,
            16798.05,
            19899.227,
            72087.008,
            54793.107,
            32710.201,
            27326.361,
            21221.613999999998,
            14038.996000000001,
            22895.916,
            23189.789,
            24789.085,
            19541.14,
            19760.843999999997,
            16612.656000000003,
            28135.627999999997
           ],
           "yaxis": "y"
          },
          {
           "alignmentgroup": "True",
           "hovertemplate": "Continents=North America<br>Year=2015<br>Countries=%{x}<br>Fossil fuels per capita (kWh)=%{y}<extra></extra>",
           "legendgroup": "North America",
           "marker": {
            "color": "#FFA15A",
            "pattern": {
             "shape": ""
            }
           },
           "name": "North America",
           "offsetgroup": "North America",
           "orientation": "v",
           "showlegend": true,
           "textposition": "auto",
           "type": "bar",
           "x": [
            "Canada",
            "Mexico",
            "Trinidad and Tobago",
            "United States"
           ],
           "xaxis": "x",
           "y": [
            70583.538,
            16285.966,
            162254.883,
            67534.871
           ],
           "yaxis": "y"
          },
          {
           "alignmentgroup": "True",
           "hovertemplate": "Continents=South America<br>Year=2015<br>Countries=%{x}<br>Fossil fuels per capita (kWh)=%{y}<extra></extra>",
           "legendgroup": "South America",
           "marker": {
            "color": "#19d3f3",
            "pattern": {
             "shape": ""
            }
           },
           "name": "South America",
           "offsetgroup": "South America",
           "orientation": "v",
           "showlegend": true,
           "textposition": "auto",
           "type": "bar",
           "x": [
            "Argentina",
            "Brazil",
            "Chile",
            "Colombia",
            "Ecuador",
            "Peru",
            "Venezuela"
           ],
           "xaxis": "x",
           "y": [
            19724.453,
            10016.564,
            18516.495,
            7519.321,
            9299.362,
            7056.725,
            24248.996
           ],
           "yaxis": "y"
          }
         ],
         "name": "2015"
        },
        {
         "data": [
          {
           "alignmentgroup": "True",
           "hovertemplate": "Continents=Africa<br>Year=2016<br>Countries=%{x}<br>Fossil fuels per capita (kWh)=%{y}<extra></extra>",
           "legendgroup": "Africa",
           "marker": {
            "color": "#636efa",
            "pattern": {
             "shape": ""
            }
           },
           "name": "Africa",
           "offsetgroup": "Africa",
           "orientation": "v",
           "showlegend": true,
           "textposition": "auto",
           "type": "bar",
           "x": [
            "Algeria",
            "Egypt",
            "Morocco"
           ],
           "xaxis": "x",
           "y": [
            15190.104,
            10569.281,
            5978.95
           ],
           "yaxis": "y"
          },
          {
           "alignmentgroup": "True",
           "hovertemplate": "Continents=Asia<br>Year=2016<br>Countries=%{x}<br>Fossil fuels per capita (kWh)=%{y}<extra></extra>",
           "legendgroup": "Asia",
           "marker": {
            "color": "#EF553B",
            "pattern": {
             "shape": ""
            }
           },
           "name": "Asia",
           "offsetgroup": "Asia",
           "orientation": "v",
           "showlegend": true,
           "textposition": "auto",
           "type": "bar",
           "x": [
            "Azerbaijan",
            "Bangladesh",
            "China",
            "India",
            "Indonesia",
            "Iran",
            "Iraq",
            "Israel",
            "Japan",
            "Kazakhstan",
            "Kuwait",
            "Malaysia",
            "Oman",
            "Pakistan",
            "Philippines",
            "Qatar",
            "Russia",
            "Saudi Arabia",
            "Singapore",
            "Sri Lanka",
            "Thailand",
            "Turkmenistan",
            "United Arab Emirates",
            "Uzbekistan",
            "Vietnam"
           ],
           "xaxis": "x",
           "y": [
            16850.443,
            2343.821,
            21832.572,
            5837.031999999999,
            7362.0380000000005,
            36979.351,
            14487.68,
            35015.725,
            37356.97,
            40430.566,
            118287.209,
            36219.409,
            75029.683,
            3818.055,
            4061.532,
            208732.306,
            48373.099,
            93973.664,
            170491.59,
            3529.5759999999996,
            20715.064,
            58197.63,
            138132.145,
            15149.376,
            7445.571
           ],
           "yaxis": "y"
          },
          {
           "alignmentgroup": "True",
           "hovertemplate": "Continents=Australia_NZ<br>Year=2016<br>Countries=%{x}<br>Fossil fuels per capita (kWh)=%{y}<extra></extra>",
           "legendgroup": "Australia_NZ",
           "marker": {
            "color": "#00cc96",
            "pattern": {
             "shape": ""
            }
           },
           "name": "Australia_NZ",
           "offsetgroup": "Australia_NZ",
           "orientation": "v",
           "showlegend": true,
           "textposition": "auto",
           "type": "bar",
           "x": [
            "Australia",
            "New Zealand"
           ],
           "xaxis": "x",
           "y": [
            62495.920999999995,
            33493.775
           ],
           "yaxis": "y"
          },
          {
           "alignmentgroup": "True",
           "hovertemplate": "Continents=Europe<br>Year=2016<br>Countries=%{x}<br>Fossil fuels per capita (kWh)=%{y}<extra></extra>",
           "legendgroup": "Europe",
           "marker": {
            "color": "#ab63fa",
            "pattern": {
             "shape": ""
            }
           },
           "name": "Europe",
           "offsetgroup": "Europe",
           "orientation": "v",
           "showlegend": true,
           "textposition": "auto",
           "type": "bar",
           "x": [
            "Austria",
            "Belarus",
            "Belgium",
            "Bulgaria",
            "Croatia",
            "Cyprus",
            "Denmark",
            "Estonia",
            "Finland",
            "France",
            "Germany",
            "Greece",
            "Hungary",
            "Iceland",
            "Ireland",
            "Italy",
            "Latvia",
            "Lithuania",
            "Luxembourg",
            "Netherlands",
            "Norway",
            "Poland",
            "Portugal",
            "Romania",
            "Slovakia",
            "Slovenia",
            "Spain",
            "Sweden",
            "Switzerland",
            "Ukraine",
            "United Kingdom"
           ],
           "xaxis": "x",
           "y": [
            30123.026,
            28214.674,
            51012.182,
            21116.311,
            17131.789,
            26043.211,
            25719.738999999998,
            50585.515,
            34713.151,
            21956.292,
            37254.589,
            25281.639,
            21309.197,
            36696.504,
            34083.511,
            24789.271,
            17523.234,
            20264.535,
            69388.837,
            55596.553,
            31166.724,
            28704.653,
            20957.595,
            14055.363000000001,
            23124.718999999997,
            24778.819,
            24662.235,
            19987.648999999998,
            18902.778000000002,
            18038.444,
            27530.076
           ],
           "yaxis": "y"
          },
          {
           "alignmentgroup": "True",
           "hovertemplate": "Continents=North America<br>Year=2016<br>Countries=%{x}<br>Fossil fuels per capita (kWh)=%{y}<extra></extra>",
           "legendgroup": "North America",
           "marker": {
            "color": "#FFA15A",
            "pattern": {
             "shape": ""
            }
           },
           "name": "North America",
           "offsetgroup": "North America",
           "orientation": "v",
           "showlegend": true,
           "textposition": "auto",
           "type": "bar",
           "x": [
            "Canada",
            "Mexico",
            "Trinidad and Tobago",
            "United States"
           ],
           "xaxis": "x",
           "y": [
            69072.841,
            16309.492,
            143120.031,
            66340.211
           ],
           "yaxis": "y"
          },
          {
           "alignmentgroup": "True",
           "hovertemplate": "Continents=South America<br>Year=2016<br>Countries=%{x}<br>Fossil fuels per capita (kWh)=%{y}<extra></extra>",
           "legendgroup": "South America",
           "marker": {
            "color": "#19d3f3",
            "pattern": {
             "shape": ""
            }
           },
           "name": "South America",
           "offsetgroup": "South America",
           "orientation": "v",
           "showlegend": true,
           "textposition": "auto",
           "type": "bar",
           "x": [
            "Argentina",
            "Brazil",
            "Chile",
            "Colombia",
            "Ecuador",
            "Peru",
            "Venezuela"
           ],
           "xaxis": "x",
           "y": [
            19620.823,
            9206.175,
            19593.269,
            7861.4259999999995,
            8657.128,
            7508.974,
            22619.237
           ],
           "yaxis": "y"
          }
         ],
         "name": "2016"
        },
        {
         "data": [
          {
           "alignmentgroup": "True",
           "hovertemplate": "Continents=Africa<br>Year=2017<br>Countries=%{x}<br>Fossil fuels per capita (kWh)=%{y}<extra></extra>",
           "legendgroup": "Africa",
           "marker": {
            "color": "#636efa",
            "pattern": {
             "shape": ""
            }
           },
           "name": "Africa",
           "offsetgroup": "Africa",
           "orientation": "v",
           "showlegend": true,
           "textposition": "auto",
           "type": "bar",
           "x": [
            "Algeria",
            "Egypt",
            "Morocco"
           ],
           "xaxis": "x",
           "y": [
            15029.705,
            10661.829,
            6200.953
           ],
           "yaxis": "y"
          },
          {
           "alignmentgroup": "True",
           "hovertemplate": "Continents=Asia<br>Year=2017<br>Countries=%{x}<br>Fossil fuels per capita (kWh)=%{y}<extra></extra>",
           "legendgroup": "Asia",
           "marker": {
            "color": "#EF553B",
            "pattern": {
             "shape": ""
            }
           },
           "name": "Asia",
           "offsetgroup": "Asia",
           "orientation": "v",
           "showlegend": true,
           "textposition": "auto",
           "type": "bar",
           "x": [
            "Azerbaijan",
            "Bangladesh",
            "China",
            "India",
            "Indonesia",
            "Iran",
            "Iraq",
            "Israel",
            "Japan",
            "Kazakhstan",
            "Kuwait",
            "Malaysia",
            "Oman",
            "Pakistan",
            "Philippines",
            "Qatar",
            "Russia",
            "Saudi Arabia",
            "Singapore",
            "Sri Lanka",
            "Thailand",
            "Turkmenistan",
            "United Arab Emirates",
            "Uzbekistan",
            "Vietnam"
           ],
           "xaxis": "x",
           "y": [
            16394.375,
            2401.766,
            22186.39,
            5992.306,
            7559.451999999999,
            38162.744,
            13997.747,
            36030.942,
            37382.176,
            42283.346,
            107995.049,
            35769.575,
            79941.997,
            3992.223,
            4419.3279999999995,
            195860.23,
            48417.977999999996,
            92349.729,
            174240.389,
            3743.13,
            20853.322,
            56630.189000000006,
            137865.649,
            14882.573,
            7386.004
           ],
           "yaxis": "y"
          },
          {
           "alignmentgroup": "True",
           "hovertemplate": "Continents=Australia_NZ<br>Year=2017<br>Countries=%{x}<br>Fossil fuels per capita (kWh)=%{y}<extra></extra>",
           "legendgroup": "Australia_NZ",
           "marker": {
            "color": "#00cc96",
            "pattern": {
             "shape": ""
            }
           },
           "name": "Australia_NZ",
           "offsetgroup": "Australia_NZ",
           "orientation": "v",
           "showlegend": true,
           "textposition": "auto",
           "type": "bar",
           "x": [
            "Australia",
            "New Zealand"
           ],
           "xaxis": "x",
           "y": [
            61766.639,
            34500.644
           ],
           "yaxis": "y"
          },
          {
           "alignmentgroup": "True",
           "hovertemplate": "Continents=Europe<br>Year=2017<br>Countries=%{x}<br>Fossil fuels per capita (kWh)=%{y}<extra></extra>",
           "legendgroup": "Europe",
           "marker": {
            "color": "#ab63fa",
            "pattern": {
             "shape": ""
            }
           },
           "name": "Europe",
           "offsetgroup": "Europe",
           "orientation": "v",
           "showlegend": true,
           "textposition": "auto",
           "type": "bar",
           "x": [
            "Austria",
            "Belarus",
            "Belgium",
            "Bulgaria",
            "Croatia",
            "Cyprus",
            "Denmark",
            "Estonia",
            "Finland",
            "France",
            "Germany",
            "Greece",
            "Hungary",
            "Iceland",
            "Ireland",
            "Italy",
            "Latvia",
            "Lithuania",
            "Luxembourg",
            "Netherlands",
            "Norway",
            "Poland",
            "Portugal",
            "Romania",
            "Slovakia",
            "Slovenia",
            "Spain",
            "Sweden",
            "Switzerland",
            "Ukraine",
            "United Kingdom"
           ],
           "xaxis": "x",
           "y": [
            31076.874,
            28686.645,
            51438.699,
            22386.191000000003,
            18063.86,
            26534.148999999998,
            24346.691000000003,
            54371.177,
            32524.463,
            22182.339,
            37084.854,
            27228.487999999998,
            22653.671000000002,
            40233.807,
            33004.431000000004,
            25267.322999999997,
            17322.357,
            21438.417999999998,
            69860.468,
            54282.96400000001,
            31181.136000000002,
            29806.453999999998,
            23225.222999999998,
            14832.639,
            24917.953999999998,
            25290.175,
            26017.522999999997,
            19685.242,
            19100.62,
            16149.581,
            26763.55
           ],
           "yaxis": "y"
          },
          {
           "alignmentgroup": "True",
           "hovertemplate": "Continents=North America<br>Year=2017<br>Countries=%{x}<br>Fossil fuels per capita (kWh)=%{y}<extra></extra>",
           "legendgroup": "North America",
           "marker": {
            "color": "#FFA15A",
            "pattern": {
             "shape": ""
            }
           },
           "name": "North America",
           "offsetgroup": "North America",
           "orientation": "v",
           "showlegend": true,
           "textposition": "auto",
           "type": "bar",
           "x": [
            "Canada",
            "Mexico",
            "Trinidad and Tobago",
            "United States"
           ],
           "xaxis": "x",
           "y": [
            69276.878,
            16310.487,
            151208.261,
            65618.912
           ],
           "yaxis": "y"
          },
          {
           "alignmentgroup": "True",
           "hovertemplate": "Continents=South America<br>Year=2017<br>Countries=%{x}<br>Fossil fuels per capita (kWh)=%{y}<extra></extra>",
           "legendgroup": "South America",
           "marker": {
            "color": "#19d3f3",
            "pattern": {
             "shape": ""
            }
           },
           "name": "South America",
           "offsetgroup": "South America",
           "orientation": "v",
           "showlegend": true,
           "textposition": "auto",
           "type": "bar",
           "x": [
            "Argentina",
            "Brazil",
            "Chile",
            "Colombia",
            "Ecuador",
            "Peru",
            "Venezuela"
           ],
           "xaxis": "x",
           "y": [
            19241.662,
            9299.423,
            18846.477,
            7404.6759999999995,
            8294.113000000001,
            6958.024,
            21932.029
           ],
           "yaxis": "y"
          }
         ],
         "name": "2017"
        },
        {
         "data": [
          {
           "alignmentgroup": "True",
           "hovertemplate": "Continents=Africa<br>Year=2018<br>Countries=%{x}<br>Fossil fuels per capita (kWh)=%{y}<extra></extra>",
           "legendgroup": "Africa",
           "marker": {
            "color": "#636efa",
            "pattern": {
             "shape": ""
            }
           },
           "name": "Africa",
           "offsetgroup": "Africa",
           "orientation": "v",
           "showlegend": true,
           "textposition": "auto",
           "type": "bar",
           "x": [
            "Algeria",
            "Egypt",
            "Morocco"
           ],
           "xaxis": "x",
           "y": [
            15872.332,
            10629.143,
            6213.97
           ],
           "yaxis": "y"
          },
          {
           "alignmentgroup": "True",
           "hovertemplate": "Continents=Asia<br>Year=2018<br>Countries=%{x}<br>Fossil fuels per capita (kWh)=%{y}<extra></extra>",
           "legendgroup": "Asia",
           "marker": {
            "color": "#EF553B",
            "pattern": {
             "shape": ""
            }
           },
           "name": "Asia",
           "offsetgroup": "Asia",
           "orientation": "v",
           "showlegend": true,
           "textposition": "auto",
           "type": "bar",
           "x": [
            "Azerbaijan",
            "Bangladesh",
            "China",
            "India",
            "Indonesia",
            "Iran",
            "Iraq",
            "Israel",
            "Japan",
            "Kazakhstan",
            "Kuwait",
            "Malaysia",
            "Oman",
            "Pakistan",
            "Philippines",
            "Qatar",
            "Russia",
            "Saudi Arabia",
            "Singapore",
            "Sri Lanka",
            "Thailand",
            "Turkmenistan",
            "United Arab Emirates",
            "Uzbekistan",
            "Vietnam"
           ],
           "xaxis": "x",
           "y": [
            16688.343,
            2532.904,
            22686.756,
            6283.857,
            8116.423000000001,
            39606.503,
            14367.604,
            35466.922999999995,
            36666.252,
            46316.608,
            105496.454,
            34740.698,
            85501.58,
            4035.579,
            4495.219,
            198692.968,
            50488.899000000005,
            89877.20599999999,
            173539.363,
            3721.7859999999996,
            21153.479,
            62390.34,
            138117.203,
            15191.219,
            8607.678
           ],
           "yaxis": "y"
          },
          {
           "alignmentgroup": "True",
           "hovertemplate": "Continents=Australia_NZ<br>Year=2018<br>Countries=%{x}<br>Fossil fuels per capita (kWh)=%{y}<extra></extra>",
           "legendgroup": "Australia_NZ",
           "marker": {
            "color": "#00cc96",
            "pattern": {
             "shape": ""
            }
           },
           "name": "Australia_NZ",
           "offsetgroup": "Australia_NZ",
           "orientation": "v",
           "showlegend": true,
           "textposition": "auto",
           "type": "bar",
           "x": [
            "Australia",
            "New Zealand"
           ],
           "xaxis": "x",
           "y": [
            61306.165,
            33302.81
           ],
           "yaxis": "y"
          },
          {
           "alignmentgroup": "True",
           "hovertemplate": "Continents=Europe<br>Year=2018<br>Countries=%{x}<br>Fossil fuels per capita (kWh)=%{y}<extra></extra>",
           "legendgroup": "Europe",
           "marker": {
            "color": "#ab63fa",
            "pattern": {
             "shape": ""
            }
           },
           "name": "Europe",
           "offsetgroup": "Europe",
           "orientation": "v",
           "showlegend": true,
           "textposition": "auto",
           "type": "bar",
           "x": [
            "Austria",
            "Belarus",
            "Belgium",
            "Bulgaria",
            "Croatia",
            "Cyprus",
            "Denmark",
            "Estonia",
            "Finland",
            "France",
            "Germany",
            "Greece",
            "Hungary",
            "Iceland",
            "Ireland",
            "Italy",
            "Latvia",
            "Lithuania",
            "Luxembourg",
            "Netherlands",
            "Norway",
            "Poland",
            "Portugal",
            "Romania",
            "Slovakia",
            "Slovenia",
            "Spain",
            "Sweden",
            "Switzerland",
            "Ukraine",
            "United Kingdom"
           ],
           "xaxis": "x",
           "y": [
            30281.529,
            30612.706000000002,
            52245.359000000004,
            21202.605,
            17596.235,
            26158.958,
            24337.7,
            58570.539000000004,
            33078.661,
            21615.604,
            35518.382000000005,
            26655.737999999998,
            22918.202,
            42086.045,
            32722.043999999998,
            25031.384,
            17685.728,
            22579.247000000003,
            71373.485,
            53723.587999999996,
            31589.415,
            30278.314,
            21723.837000000003,
            15102.685,
            24839.601000000002,
            25478.822999999997,
            25657.306,
            18930.933999999997,
            18191.128,
            16760.751,
            26244.336
           ],
           "yaxis": "y"
          },
          {
           "alignmentgroup": "True",
           "hovertemplate": "Continents=North America<br>Year=2018<br>Countries=%{x}<br>Fossil fuels per capita (kWh)=%{y}<extra></extra>",
           "legendgroup": "North America",
           "marker": {
            "color": "#FFA15A",
            "pattern": {
             "shape": ""
            }
           },
           "name": "North America",
           "offsetgroup": "North America",
           "orientation": "v",
           "showlegend": true,
           "textposition": "auto",
           "type": "bar",
           "x": [
            "Canada",
            "Mexico",
            "Trinidad and Tobago",
            "United States"
           ],
           "xaxis": "x",
           "y": [
            71165.323,
            15857.96,
            142567.37900000002,
            67859.201
           ],
           "yaxis": "y"
          },
          {
           "alignmentgroup": "True",
           "hovertemplate": "Continents=South America<br>Year=2018<br>Countries=%{x}<br>Fossil fuels per capita (kWh)=%{y}<extra></extra>",
           "legendgroup": "South America",
           "marker": {
            "color": "#19d3f3",
            "pattern": {
             "shape": ""
            }
           },
           "name": "South America",
           "offsetgroup": "South America",
           "orientation": "v",
           "showlegend": true,
           "textposition": "auto",
           "type": "bar",
           "x": [
            "Argentina",
            "Brazil",
            "Chile",
            "Colombia",
            "Ecuador",
            "Peru",
            "Venezuela"
           ],
           "xaxis": "x",
           "y": [
            18824.28,
            8858.949,
            19158.828999999998,
            7408.880999999999,
            8706.538,
            7104.728,
            18694.602
           ],
           "yaxis": "y"
          }
         ],
         "name": "2018"
        },
        {
         "data": [
          {
           "alignmentgroup": "True",
           "hovertemplate": "Continents=Africa<br>Year=2019<br>Countries=%{x}<br>Fossil fuels per capita (kWh)=%{y}<extra></extra>",
           "legendgroup": "Africa",
           "marker": {
            "color": "#636efa",
            "pattern": {
             "shape": ""
            }
           },
           "name": "Africa",
           "offsetgroup": "Africa",
           "orientation": "v",
           "showlegend": true,
           "textposition": "auto",
           "type": "bar",
           "x": [
            "Algeria",
            "Egypt",
            "Morocco"
           ],
           "xaxis": "x",
           "y": [
            16331.441,
            10263.135,
            6715.7880000000005
           ],
           "yaxis": "y"
          },
          {
           "alignmentgroup": "True",
           "hovertemplate": "Continents=Asia<br>Year=2019<br>Countries=%{x}<br>Fossil fuels per capita (kWh)=%{y}<extra></extra>",
           "legendgroup": "Asia",
           "marker": {
            "color": "#EF553B",
            "pattern": {
             "shape": ""
            }
           },
           "name": "Asia",
           "offsetgroup": "Asia",
           "orientation": "v",
           "showlegend": true,
           "textposition": "auto",
           "type": "bar",
           "x": [
            "Azerbaijan",
            "Bangladesh",
            "China",
            "India",
            "Indonesia",
            "Iran",
            "Iraq",
            "Israel",
            "Japan",
            "Kazakhstan",
            "Kuwait",
            "Malaysia",
            "Oman",
            "Pakistan",
            "Philippines",
            "Qatar",
            "Russia",
            "Saudi Arabia",
            "Singapore",
            "Sri Lanka",
            "Thailand",
            "Turkmenistan",
            "United Arab Emirates",
            "Uzbekistan",
            "Vietnam"
           ],
           "xaxis": "x",
           "y": [
            17678.026,
            2976.296,
            23373.453999999998,
            6303.314,
            8589.723,
            40281.521,
            15574.017,
            35864.075,
            35756.976,
            44974.219000000005,
            108032.964,
            34687.091,
            84530.61300000001,
            3972.238,
            4593.292,
            198310.388,
            49878.388,
            89323.243,
            169480.302,
            4015.15,
            21013.216,
            67654.188,
            136259.37300000002,
            14534.125,
            10056.813
           ],
           "yaxis": "y"
          },
          {
           "alignmentgroup": "True",
           "hovertemplate": "Continents=Australia_NZ<br>Year=2019<br>Countries=%{x}<br>Fossil fuels per capita (kWh)=%{y}<extra></extra>",
           "legendgroup": "Australia_NZ",
           "marker": {
            "color": "#00cc96",
            "pattern": {
             "shape": ""
            }
           },
           "name": "Australia_NZ",
           "offsetgroup": "Australia_NZ",
           "orientation": "v",
           "showlegend": true,
           "textposition": "auto",
           "type": "bar",
           "x": [
            "Australia",
            "New Zealand"
           ],
           "xaxis": "x",
           "y": [
            64591.97900000001,
            34376.311
           ],
           "yaxis": "y"
          },
          {
           "alignmentgroup": "True",
           "hovertemplate": "Continents=Europe<br>Year=2019<br>Countries=%{x}<br>Fossil fuels per capita (kWh)=%{y}<extra></extra>",
           "legendgroup": "Europe",
           "marker": {
            "color": "#ab63fa",
            "pattern": {
             "shape": ""
            }
           },
           "name": "Europe",
           "offsetgroup": "Europe",
           "orientation": "v",
           "showlegend": true,
           "textposition": "auto",
           "type": "bar",
           "x": [
            "Austria",
            "Belarus",
            "Belgium",
            "Bulgaria",
            "Croatia",
            "Cyprus",
            "Denmark",
            "Estonia",
            "Finland",
            "France",
            "Germany",
            "Greece",
            "Hungary",
            "Iceland",
            "Ireland",
            "Italy",
            "Latvia",
            "Lithuania",
            "Luxembourg",
            "Netherlands",
            "Norway",
            "Poland",
            "Portugal",
            "Romania",
            "Slovakia",
            "Slovenia",
            "Spain",
            "Sweden",
            "Switzerland",
            "Ukraine",
            "United Kingdom"
           ],
           "xaxis": "x",
           "y": [
            30844.347,
            30883.951,
            51382.511,
            20771.931,
            17865.224,
            25853,
            22947.347999999998,
            46199.99,
            30443.716,
            21251.255,
            33836.221,
            26515.007,
            22967.592,
            37053.462,
            31489.612999999998,
            24476.028,
            18708.699,
            22567.531000000003,
            71243.909,
            52749.549000000006,
            30045.173,
            29243.099,
            21400.891,
            14871.376,
            23353.25,
            24082.502999999997,
            25138.334,
            19303.846,
            18462.576,
            16150.036,
            25528.107999999997
           ],
           "yaxis": "y"
          },
          {
           "alignmentgroup": "True",
           "hovertemplate": "Continents=North America<br>Year=2019<br>Countries=%{x}<br>Fossil fuels per capita (kWh)=%{y}<extra></extra>",
           "legendgroup": "North America",
           "marker": {
            "color": "#FFA15A",
            "pattern": {
             "shape": ""
            }
           },
           "name": "North America",
           "offsetgroup": "North America",
           "orientation": "v",
           "showlegend": true,
           "textposition": "auto",
           "type": "bar",
           "x": [
            "Canada",
            "Mexico",
            "Trinidad and Tobago",
            "United States"
           ],
           "xaxis": "x",
           "y": [
            69719.613,
            15378.81,
            142110.53,
            66525.162
           ],
           "yaxis": "y"
          },
          {
           "alignmentgroup": "True",
           "hovertemplate": "Continents=South America<br>Year=2019<br>Countries=%{x}<br>Fossil fuels per capita (kWh)=%{y}<extra></extra>",
           "legendgroup": "South America",
           "marker": {
            "color": "#19d3f3",
            "pattern": {
             "shape": ""
            }
           },
           "name": "South America",
           "offsetgroup": "South America",
           "orientation": "v",
           "showlegend": true,
           "textposition": "auto",
           "type": "bar",
           "x": [
            "Argentina",
            "Brazil",
            "Chile",
            "Colombia",
            "Ecuador",
            "Peru",
            "Venezuela"
           ],
           "xaxis": "x",
           "y": [
            18101.027,
            8786.423,
            18723.471999999998,
            7965.146,
            8267.901,
            7066.682,
            16184.178999999998
           ],
           "yaxis": "y"
          }
         ],
         "name": "2019"
        }
       ],
       "layout": {
        "barmode": "relative",
        "height": 600,
        "legend": {
         "title": {
          "text": "Continents"
         },
         "tracegroupgap": 0
        },
        "sliders": [
         {
          "active": 54,
          "currentvalue": {
           "prefix": "Year="
          },
          "len": 0.9,
          "pad": {
           "b": 10,
           "t": 60
          },
          "steps": [
           {
            "args": [
             [
              "1965"
             ],
             {
              "frame": {
               "duration": 0,
               "redraw": true
              },
              "fromcurrent": true,
              "mode": "immediate",
              "transition": {
               "duration": 0,
               "easing": "linear"
              }
             }
            ],
            "label": "1965",
            "method": "animate"
           },
           {
            "args": [
             [
              "1966"
             ],
             {
              "frame": {
               "duration": 0,
               "redraw": true
              },
              "fromcurrent": true,
              "mode": "immediate",
              "transition": {
               "duration": 0,
               "easing": "linear"
              }
             }
            ],
            "label": "1966",
            "method": "animate"
           },
           {
            "args": [
             [
              "1967"
             ],
             {
              "frame": {
               "duration": 0,
               "redraw": true
              },
              "fromcurrent": true,
              "mode": "immediate",
              "transition": {
               "duration": 0,
               "easing": "linear"
              }
             }
            ],
            "label": "1967",
            "method": "animate"
           },
           {
            "args": [
             [
              "1968"
             ],
             {
              "frame": {
               "duration": 0,
               "redraw": true
              },
              "fromcurrent": true,
              "mode": "immediate",
              "transition": {
               "duration": 0,
               "easing": "linear"
              }
             }
            ],
            "label": "1968",
            "method": "animate"
           },
           {
            "args": [
             [
              "1969"
             ],
             {
              "frame": {
               "duration": 0,
               "redraw": true
              },
              "fromcurrent": true,
              "mode": "immediate",
              "transition": {
               "duration": 0,
               "easing": "linear"
              }
             }
            ],
            "label": "1969",
            "method": "animate"
           },
           {
            "args": [
             [
              "1970"
             ],
             {
              "frame": {
               "duration": 0,
               "redraw": true
              },
              "fromcurrent": true,
              "mode": "immediate",
              "transition": {
               "duration": 0,
               "easing": "linear"
              }
             }
            ],
            "label": "1970",
            "method": "animate"
           },
           {
            "args": [
             [
              "1971"
             ],
             {
              "frame": {
               "duration": 0,
               "redraw": true
              },
              "fromcurrent": true,
              "mode": "immediate",
              "transition": {
               "duration": 0,
               "easing": "linear"
              }
             }
            ],
            "label": "1971",
            "method": "animate"
           },
           {
            "args": [
             [
              "1972"
             ],
             {
              "frame": {
               "duration": 0,
               "redraw": true
              },
              "fromcurrent": true,
              "mode": "immediate",
              "transition": {
               "duration": 0,
               "easing": "linear"
              }
             }
            ],
            "label": "1972",
            "method": "animate"
           },
           {
            "args": [
             [
              "1973"
             ],
             {
              "frame": {
               "duration": 0,
               "redraw": true
              },
              "fromcurrent": true,
              "mode": "immediate",
              "transition": {
               "duration": 0,
               "easing": "linear"
              }
             }
            ],
            "label": "1973",
            "method": "animate"
           },
           {
            "args": [
             [
              "1974"
             ],
             {
              "frame": {
               "duration": 0,
               "redraw": true
              },
              "fromcurrent": true,
              "mode": "immediate",
              "transition": {
               "duration": 0,
               "easing": "linear"
              }
             }
            ],
            "label": "1974",
            "method": "animate"
           },
           {
            "args": [
             [
              "1975"
             ],
             {
              "frame": {
               "duration": 0,
               "redraw": true
              },
              "fromcurrent": true,
              "mode": "immediate",
              "transition": {
               "duration": 0,
               "easing": "linear"
              }
             }
            ],
            "label": "1975",
            "method": "animate"
           },
           {
            "args": [
             [
              "1976"
             ],
             {
              "frame": {
               "duration": 0,
               "redraw": true
              },
              "fromcurrent": true,
              "mode": "immediate",
              "transition": {
               "duration": 0,
               "easing": "linear"
              }
             }
            ],
            "label": "1976",
            "method": "animate"
           },
           {
            "args": [
             [
              "1977"
             ],
             {
              "frame": {
               "duration": 0,
               "redraw": true
              },
              "fromcurrent": true,
              "mode": "immediate",
              "transition": {
               "duration": 0,
               "easing": "linear"
              }
             }
            ],
            "label": "1977",
            "method": "animate"
           },
           {
            "args": [
             [
              "1978"
             ],
             {
              "frame": {
               "duration": 0,
               "redraw": true
              },
              "fromcurrent": true,
              "mode": "immediate",
              "transition": {
               "duration": 0,
               "easing": "linear"
              }
             }
            ],
            "label": "1978",
            "method": "animate"
           },
           {
            "args": [
             [
              "1979"
             ],
             {
              "frame": {
               "duration": 0,
               "redraw": true
              },
              "fromcurrent": true,
              "mode": "immediate",
              "transition": {
               "duration": 0,
               "easing": "linear"
              }
             }
            ],
            "label": "1979",
            "method": "animate"
           },
           {
            "args": [
             [
              "1980"
             ],
             {
              "frame": {
               "duration": 0,
               "redraw": true
              },
              "fromcurrent": true,
              "mode": "immediate",
              "transition": {
               "duration": 0,
               "easing": "linear"
              }
             }
            ],
            "label": "1980",
            "method": "animate"
           },
           {
            "args": [
             [
              "1981"
             ],
             {
              "frame": {
               "duration": 0,
               "redraw": true
              },
              "fromcurrent": true,
              "mode": "immediate",
              "transition": {
               "duration": 0,
               "easing": "linear"
              }
             }
            ],
            "label": "1981",
            "method": "animate"
           },
           {
            "args": [
             [
              "1982"
             ],
             {
              "frame": {
               "duration": 0,
               "redraw": true
              },
              "fromcurrent": true,
              "mode": "immediate",
              "transition": {
               "duration": 0,
               "easing": "linear"
              }
             }
            ],
            "label": "1982",
            "method": "animate"
           },
           {
            "args": [
             [
              "1983"
             ],
             {
              "frame": {
               "duration": 0,
               "redraw": true
              },
              "fromcurrent": true,
              "mode": "immediate",
              "transition": {
               "duration": 0,
               "easing": "linear"
              }
             }
            ],
            "label": "1983",
            "method": "animate"
           },
           {
            "args": [
             [
              "1984"
             ],
             {
              "frame": {
               "duration": 0,
               "redraw": true
              },
              "fromcurrent": true,
              "mode": "immediate",
              "transition": {
               "duration": 0,
               "easing": "linear"
              }
             }
            ],
            "label": "1984",
            "method": "animate"
           },
           {
            "args": [
             [
              "1985"
             ],
             {
              "frame": {
               "duration": 0,
               "redraw": true
              },
              "fromcurrent": true,
              "mode": "immediate",
              "transition": {
               "duration": 0,
               "easing": "linear"
              }
             }
            ],
            "label": "1985",
            "method": "animate"
           },
           {
            "args": [
             [
              "1986"
             ],
             {
              "frame": {
               "duration": 0,
               "redraw": true
              },
              "fromcurrent": true,
              "mode": "immediate",
              "transition": {
               "duration": 0,
               "easing": "linear"
              }
             }
            ],
            "label": "1986",
            "method": "animate"
           },
           {
            "args": [
             [
              "1987"
             ],
             {
              "frame": {
               "duration": 0,
               "redraw": true
              },
              "fromcurrent": true,
              "mode": "immediate",
              "transition": {
               "duration": 0,
               "easing": "linear"
              }
             }
            ],
            "label": "1987",
            "method": "animate"
           },
           {
            "args": [
             [
              "1988"
             ],
             {
              "frame": {
               "duration": 0,
               "redraw": true
              },
              "fromcurrent": true,
              "mode": "immediate",
              "transition": {
               "duration": 0,
               "easing": "linear"
              }
             }
            ],
            "label": "1988",
            "method": "animate"
           },
           {
            "args": [
             [
              "1989"
             ],
             {
              "frame": {
               "duration": 0,
               "redraw": true
              },
              "fromcurrent": true,
              "mode": "immediate",
              "transition": {
               "duration": 0,
               "easing": "linear"
              }
             }
            ],
            "label": "1989",
            "method": "animate"
           },
           {
            "args": [
             [
              "1990"
             ],
             {
              "frame": {
               "duration": 0,
               "redraw": true
              },
              "fromcurrent": true,
              "mode": "immediate",
              "transition": {
               "duration": 0,
               "easing": "linear"
              }
             }
            ],
            "label": "1990",
            "method": "animate"
           },
           {
            "args": [
             [
              "1991"
             ],
             {
              "frame": {
               "duration": 0,
               "redraw": true
              },
              "fromcurrent": true,
              "mode": "immediate",
              "transition": {
               "duration": 0,
               "easing": "linear"
              }
             }
            ],
            "label": "1991",
            "method": "animate"
           },
           {
            "args": [
             [
              "1992"
             ],
             {
              "frame": {
               "duration": 0,
               "redraw": true
              },
              "fromcurrent": true,
              "mode": "immediate",
              "transition": {
               "duration": 0,
               "easing": "linear"
              }
             }
            ],
            "label": "1992",
            "method": "animate"
           },
           {
            "args": [
             [
              "1993"
             ],
             {
              "frame": {
               "duration": 0,
               "redraw": true
              },
              "fromcurrent": true,
              "mode": "immediate",
              "transition": {
               "duration": 0,
               "easing": "linear"
              }
             }
            ],
            "label": "1993",
            "method": "animate"
           },
           {
            "args": [
             [
              "1994"
             ],
             {
              "frame": {
               "duration": 0,
               "redraw": true
              },
              "fromcurrent": true,
              "mode": "immediate",
              "transition": {
               "duration": 0,
               "easing": "linear"
              }
             }
            ],
            "label": "1994",
            "method": "animate"
           },
           {
            "args": [
             [
              "1995"
             ],
             {
              "frame": {
               "duration": 0,
               "redraw": true
              },
              "fromcurrent": true,
              "mode": "immediate",
              "transition": {
               "duration": 0,
               "easing": "linear"
              }
             }
            ],
            "label": "1995",
            "method": "animate"
           },
           {
            "args": [
             [
              "1996"
             ],
             {
              "frame": {
               "duration": 0,
               "redraw": true
              },
              "fromcurrent": true,
              "mode": "immediate",
              "transition": {
               "duration": 0,
               "easing": "linear"
              }
             }
            ],
            "label": "1996",
            "method": "animate"
           },
           {
            "args": [
             [
              "1997"
             ],
             {
              "frame": {
               "duration": 0,
               "redraw": true
              },
              "fromcurrent": true,
              "mode": "immediate",
              "transition": {
               "duration": 0,
               "easing": "linear"
              }
             }
            ],
            "label": "1997",
            "method": "animate"
           },
           {
            "args": [
             [
              "1998"
             ],
             {
              "frame": {
               "duration": 0,
               "redraw": true
              },
              "fromcurrent": true,
              "mode": "immediate",
              "transition": {
               "duration": 0,
               "easing": "linear"
              }
             }
            ],
            "label": "1998",
            "method": "animate"
           },
           {
            "args": [
             [
              "1999"
             ],
             {
              "frame": {
               "duration": 0,
               "redraw": true
              },
              "fromcurrent": true,
              "mode": "immediate",
              "transition": {
               "duration": 0,
               "easing": "linear"
              }
             }
            ],
            "label": "1999",
            "method": "animate"
           },
           {
            "args": [
             [
              "2000"
             ],
             {
              "frame": {
               "duration": 0,
               "redraw": true
              },
              "fromcurrent": true,
              "mode": "immediate",
              "transition": {
               "duration": 0,
               "easing": "linear"
              }
             }
            ],
            "label": "2000",
            "method": "animate"
           },
           {
            "args": [
             [
              "2001"
             ],
             {
              "frame": {
               "duration": 0,
               "redraw": true
              },
              "fromcurrent": true,
              "mode": "immediate",
              "transition": {
               "duration": 0,
               "easing": "linear"
              }
             }
            ],
            "label": "2001",
            "method": "animate"
           },
           {
            "args": [
             [
              "2002"
             ],
             {
              "frame": {
               "duration": 0,
               "redraw": true
              },
              "fromcurrent": true,
              "mode": "immediate",
              "transition": {
               "duration": 0,
               "easing": "linear"
              }
             }
            ],
            "label": "2002",
            "method": "animate"
           },
           {
            "args": [
             [
              "2003"
             ],
             {
              "frame": {
               "duration": 0,
               "redraw": true
              },
              "fromcurrent": true,
              "mode": "immediate",
              "transition": {
               "duration": 0,
               "easing": "linear"
              }
             }
            ],
            "label": "2003",
            "method": "animate"
           },
           {
            "args": [
             [
              "2004"
             ],
             {
              "frame": {
               "duration": 0,
               "redraw": true
              },
              "fromcurrent": true,
              "mode": "immediate",
              "transition": {
               "duration": 0,
               "easing": "linear"
              }
             }
            ],
            "label": "2004",
            "method": "animate"
           },
           {
            "args": [
             [
              "2005"
             ],
             {
              "frame": {
               "duration": 0,
               "redraw": true
              },
              "fromcurrent": true,
              "mode": "immediate",
              "transition": {
               "duration": 0,
               "easing": "linear"
              }
             }
            ],
            "label": "2005",
            "method": "animate"
           },
           {
            "args": [
             [
              "2006"
             ],
             {
              "frame": {
               "duration": 0,
               "redraw": true
              },
              "fromcurrent": true,
              "mode": "immediate",
              "transition": {
               "duration": 0,
               "easing": "linear"
              }
             }
            ],
            "label": "2006",
            "method": "animate"
           },
           {
            "args": [
             [
              "2007"
             ],
             {
              "frame": {
               "duration": 0,
               "redraw": true
              },
              "fromcurrent": true,
              "mode": "immediate",
              "transition": {
               "duration": 0,
               "easing": "linear"
              }
             }
            ],
            "label": "2007",
            "method": "animate"
           },
           {
            "args": [
             [
              "2008"
             ],
             {
              "frame": {
               "duration": 0,
               "redraw": true
              },
              "fromcurrent": true,
              "mode": "immediate",
              "transition": {
               "duration": 0,
               "easing": "linear"
              }
             }
            ],
            "label": "2008",
            "method": "animate"
           },
           {
            "args": [
             [
              "2009"
             ],
             {
              "frame": {
               "duration": 0,
               "redraw": true
              },
              "fromcurrent": true,
              "mode": "immediate",
              "transition": {
               "duration": 0,
               "easing": "linear"
              }
             }
            ],
            "label": "2009",
            "method": "animate"
           },
           {
            "args": [
             [
              "2010"
             ],
             {
              "frame": {
               "duration": 0,
               "redraw": true
              },
              "fromcurrent": true,
              "mode": "immediate",
              "transition": {
               "duration": 0,
               "easing": "linear"
              }
             }
            ],
            "label": "2010",
            "method": "animate"
           },
           {
            "args": [
             [
              "2011"
             ],
             {
              "frame": {
               "duration": 0,
               "redraw": true
              },
              "fromcurrent": true,
              "mode": "immediate",
              "transition": {
               "duration": 0,
               "easing": "linear"
              }
             }
            ],
            "label": "2011",
            "method": "animate"
           },
           {
            "args": [
             [
              "2012"
             ],
             {
              "frame": {
               "duration": 0,
               "redraw": true
              },
              "fromcurrent": true,
              "mode": "immediate",
              "transition": {
               "duration": 0,
               "easing": "linear"
              }
             }
            ],
            "label": "2012",
            "method": "animate"
           },
           {
            "args": [
             [
              "2013"
             ],
             {
              "frame": {
               "duration": 0,
               "redraw": true
              },
              "fromcurrent": true,
              "mode": "immediate",
              "transition": {
               "duration": 0,
               "easing": "linear"
              }
             }
            ],
            "label": "2013",
            "method": "animate"
           },
           {
            "args": [
             [
              "2014"
             ],
             {
              "frame": {
               "duration": 0,
               "redraw": true
              },
              "fromcurrent": true,
              "mode": "immediate",
              "transition": {
               "duration": 0,
               "easing": "linear"
              }
             }
            ],
            "label": "2014",
            "method": "animate"
           },
           {
            "args": [
             [
              "2015"
             ],
             {
              "frame": {
               "duration": 0,
               "redraw": true
              },
              "fromcurrent": true,
              "mode": "immediate",
              "transition": {
               "duration": 0,
               "easing": "linear"
              }
             }
            ],
            "label": "2015",
            "method": "animate"
           },
           {
            "args": [
             [
              "2016"
             ],
             {
              "frame": {
               "duration": 0,
               "redraw": true
              },
              "fromcurrent": true,
              "mode": "immediate",
              "transition": {
               "duration": 0,
               "easing": "linear"
              }
             }
            ],
            "label": "2016",
            "method": "animate"
           },
           {
            "args": [
             [
              "2017"
             ],
             {
              "frame": {
               "duration": 0,
               "redraw": true
              },
              "fromcurrent": true,
              "mode": "immediate",
              "transition": {
               "duration": 0,
               "easing": "linear"
              }
             }
            ],
            "label": "2017",
            "method": "animate"
           },
           {
            "args": [
             [
              "2018"
             ],
             {
              "frame": {
               "duration": 0,
               "redraw": true
              },
              "fromcurrent": true,
              "mode": "immediate",
              "transition": {
               "duration": 0,
               "easing": "linear"
              }
             }
            ],
            "label": "2018",
            "method": "animate"
           },
           {
            "args": [
             [
              "2019"
             ],
             {
              "frame": {
               "duration": 0,
               "redraw": true
              },
              "fromcurrent": true,
              "mode": "immediate",
              "transition": {
               "duration": 0,
               "easing": "linear"
              }
             }
            ],
            "label": "2019",
            "method": "animate"
           }
          ],
          "x": 0.1,
          "xanchor": "left",
          "y": 0,
          "yanchor": "top"
         }
        ],
        "template": {
         "data": {
          "bar": [
           {
            "error_x": {
             "color": "#2a3f5f"
            },
            "error_y": {
             "color": "#2a3f5f"
            },
            "marker": {
             "line": {
              "color": "#E5ECF6",
              "width": 0.5
             },
             "pattern": {
              "fillmode": "overlay",
              "size": 10,
              "solidity": 0.2
             }
            },
            "type": "bar"
           }
          ],
          "barpolar": [
           {
            "marker": {
             "line": {
              "color": "#E5ECF6",
              "width": 0.5
             },
             "pattern": {
              "fillmode": "overlay",
              "size": 10,
              "solidity": 0.2
             }
            },
            "type": "barpolar"
           }
          ],
          "carpet": [
           {
            "aaxis": {
             "endlinecolor": "#2a3f5f",
             "gridcolor": "white",
             "linecolor": "white",
             "minorgridcolor": "white",
             "startlinecolor": "#2a3f5f"
            },
            "baxis": {
             "endlinecolor": "#2a3f5f",
             "gridcolor": "white",
             "linecolor": "white",
             "minorgridcolor": "white",
             "startlinecolor": "#2a3f5f"
            },
            "type": "carpet"
           }
          ],
          "choropleth": [
           {
            "colorbar": {
             "outlinewidth": 0,
             "ticks": ""
            },
            "type": "choropleth"
           }
          ],
          "contour": [
           {
            "colorbar": {
             "outlinewidth": 0,
             "ticks": ""
            },
            "colorscale": [
             [
              0,
              "#0d0887"
             ],
             [
              0.1111111111111111,
              "#46039f"
             ],
             [
              0.2222222222222222,
              "#7201a8"
             ],
             [
              0.3333333333333333,
              "#9c179e"
             ],
             [
              0.4444444444444444,
              "#bd3786"
             ],
             [
              0.5555555555555556,
              "#d8576b"
             ],
             [
              0.6666666666666666,
              "#ed7953"
             ],
             [
              0.7777777777777778,
              "#fb9f3a"
             ],
             [
              0.8888888888888888,
              "#fdca26"
             ],
             [
              1,
              "#f0f921"
             ]
            ],
            "type": "contour"
           }
          ],
          "contourcarpet": [
           {
            "colorbar": {
             "outlinewidth": 0,
             "ticks": ""
            },
            "type": "contourcarpet"
           }
          ],
          "heatmap": [
           {
            "colorbar": {
             "outlinewidth": 0,
             "ticks": ""
            },
            "colorscale": [
             [
              0,
              "#0d0887"
             ],
             [
              0.1111111111111111,
              "#46039f"
             ],
             [
              0.2222222222222222,
              "#7201a8"
             ],
             [
              0.3333333333333333,
              "#9c179e"
             ],
             [
              0.4444444444444444,
              "#bd3786"
             ],
             [
              0.5555555555555556,
              "#d8576b"
             ],
             [
              0.6666666666666666,
              "#ed7953"
             ],
             [
              0.7777777777777778,
              "#fb9f3a"
             ],
             [
              0.8888888888888888,
              "#fdca26"
             ],
             [
              1,
              "#f0f921"
             ]
            ],
            "type": "heatmap"
           }
          ],
          "heatmapgl": [
           {
            "colorbar": {
             "outlinewidth": 0,
             "ticks": ""
            },
            "colorscale": [
             [
              0,
              "#0d0887"
             ],
             [
              0.1111111111111111,
              "#46039f"
             ],
             [
              0.2222222222222222,
              "#7201a8"
             ],
             [
              0.3333333333333333,
              "#9c179e"
             ],
             [
              0.4444444444444444,
              "#bd3786"
             ],
             [
              0.5555555555555556,
              "#d8576b"
             ],
             [
              0.6666666666666666,
              "#ed7953"
             ],
             [
              0.7777777777777778,
              "#fb9f3a"
             ],
             [
              0.8888888888888888,
              "#fdca26"
             ],
             [
              1,
              "#f0f921"
             ]
            ],
            "type": "heatmapgl"
           }
          ],
          "histogram": [
           {
            "marker": {
             "pattern": {
              "fillmode": "overlay",
              "size": 10,
              "solidity": 0.2
             }
            },
            "type": "histogram"
           }
          ],
          "histogram2d": [
           {
            "colorbar": {
             "outlinewidth": 0,
             "ticks": ""
            },
            "colorscale": [
             [
              0,
              "#0d0887"
             ],
             [
              0.1111111111111111,
              "#46039f"
             ],
             [
              0.2222222222222222,
              "#7201a8"
             ],
             [
              0.3333333333333333,
              "#9c179e"
             ],
             [
              0.4444444444444444,
              "#bd3786"
             ],
             [
              0.5555555555555556,
              "#d8576b"
             ],
             [
              0.6666666666666666,
              "#ed7953"
             ],
             [
              0.7777777777777778,
              "#fb9f3a"
             ],
             [
              0.8888888888888888,
              "#fdca26"
             ],
             [
              1,
              "#f0f921"
             ]
            ],
            "type": "histogram2d"
           }
          ],
          "histogram2dcontour": [
           {
            "colorbar": {
             "outlinewidth": 0,
             "ticks": ""
            },
            "colorscale": [
             [
              0,
              "#0d0887"
             ],
             [
              0.1111111111111111,
              "#46039f"
             ],
             [
              0.2222222222222222,
              "#7201a8"
             ],
             [
              0.3333333333333333,
              "#9c179e"
             ],
             [
              0.4444444444444444,
              "#bd3786"
             ],
             [
              0.5555555555555556,
              "#d8576b"
             ],
             [
              0.6666666666666666,
              "#ed7953"
             ],
             [
              0.7777777777777778,
              "#fb9f3a"
             ],
             [
              0.8888888888888888,
              "#fdca26"
             ],
             [
              1,
              "#f0f921"
             ]
            ],
            "type": "histogram2dcontour"
           }
          ],
          "mesh3d": [
           {
            "colorbar": {
             "outlinewidth": 0,
             "ticks": ""
            },
            "type": "mesh3d"
           }
          ],
          "parcoords": [
           {
            "line": {
             "colorbar": {
              "outlinewidth": 0,
              "ticks": ""
             }
            },
            "type": "parcoords"
           }
          ],
          "pie": [
           {
            "automargin": true,
            "type": "pie"
           }
          ],
          "scatter": [
           {
            "marker": {
             "colorbar": {
              "outlinewidth": 0,
              "ticks": ""
             }
            },
            "type": "scatter"
           }
          ],
          "scatter3d": [
           {
            "line": {
             "colorbar": {
              "outlinewidth": 0,
              "ticks": ""
             }
            },
            "marker": {
             "colorbar": {
              "outlinewidth": 0,
              "ticks": ""
             }
            },
            "type": "scatter3d"
           }
          ],
          "scattercarpet": [
           {
            "marker": {
             "colorbar": {
              "outlinewidth": 0,
              "ticks": ""
             }
            },
            "type": "scattercarpet"
           }
          ],
          "scattergeo": [
           {
            "marker": {
             "colorbar": {
              "outlinewidth": 0,
              "ticks": ""
             }
            },
            "type": "scattergeo"
           }
          ],
          "scattergl": [
           {
            "marker": {
             "colorbar": {
              "outlinewidth": 0,
              "ticks": ""
             }
            },
            "type": "scattergl"
           }
          ],
          "scattermapbox": [
           {
            "marker": {
             "colorbar": {
              "outlinewidth": 0,
              "ticks": ""
             }
            },
            "type": "scattermapbox"
           }
          ],
          "scatterpolar": [
           {
            "marker": {
             "colorbar": {
              "outlinewidth": 0,
              "ticks": ""
             }
            },
            "type": "scatterpolar"
           }
          ],
          "scatterpolargl": [
           {
            "marker": {
             "colorbar": {
              "outlinewidth": 0,
              "ticks": ""
             }
            },
            "type": "scatterpolargl"
           }
          ],
          "scatterternary": [
           {
            "marker": {
             "colorbar": {
              "outlinewidth": 0,
              "ticks": ""
             }
            },
            "type": "scatterternary"
           }
          ],
          "surface": [
           {
            "colorbar": {
             "outlinewidth": 0,
             "ticks": ""
            },
            "colorscale": [
             [
              0,
              "#0d0887"
             ],
             [
              0.1111111111111111,
              "#46039f"
             ],
             [
              0.2222222222222222,
              "#7201a8"
             ],
             [
              0.3333333333333333,
              "#9c179e"
             ],
             [
              0.4444444444444444,
              "#bd3786"
             ],
             [
              0.5555555555555556,
              "#d8576b"
             ],
             [
              0.6666666666666666,
              "#ed7953"
             ],
             [
              0.7777777777777778,
              "#fb9f3a"
             ],
             [
              0.8888888888888888,
              "#fdca26"
             ],
             [
              1,
              "#f0f921"
             ]
            ],
            "type": "surface"
           }
          ],
          "table": [
           {
            "cells": {
             "fill": {
              "color": "#EBF0F8"
             },
             "line": {
              "color": "white"
             }
            },
            "header": {
             "fill": {
              "color": "#C8D4E3"
             },
             "line": {
              "color": "white"
             }
            },
            "type": "table"
           }
          ]
         },
         "layout": {
          "annotationdefaults": {
           "arrowcolor": "#2a3f5f",
           "arrowhead": 0,
           "arrowwidth": 1
          },
          "autotypenumbers": "strict",
          "coloraxis": {
           "colorbar": {
            "outlinewidth": 0,
            "ticks": ""
           }
          },
          "colorscale": {
           "diverging": [
            [
             0,
             "#8e0152"
            ],
            [
             0.1,
             "#c51b7d"
            ],
            [
             0.2,
             "#de77ae"
            ],
            [
             0.3,
             "#f1b6da"
            ],
            [
             0.4,
             "#fde0ef"
            ],
            [
             0.5,
             "#f7f7f7"
            ],
            [
             0.6,
             "#e6f5d0"
            ],
            [
             0.7,
             "#b8e186"
            ],
            [
             0.8,
             "#7fbc41"
            ],
            [
             0.9,
             "#4d9221"
            ],
            [
             1,
             "#276419"
            ]
           ],
           "sequential": [
            [
             0,
             "#0d0887"
            ],
            [
             0.1111111111111111,
             "#46039f"
            ],
            [
             0.2222222222222222,
             "#7201a8"
            ],
            [
             0.3333333333333333,
             "#9c179e"
            ],
            [
             0.4444444444444444,
             "#bd3786"
            ],
            [
             0.5555555555555556,
             "#d8576b"
            ],
            [
             0.6666666666666666,
             "#ed7953"
            ],
            [
             0.7777777777777778,
             "#fb9f3a"
            ],
            [
             0.8888888888888888,
             "#fdca26"
            ],
            [
             1,
             "#f0f921"
            ]
           ],
           "sequentialminus": [
            [
             0,
             "#0d0887"
            ],
            [
             0.1111111111111111,
             "#46039f"
            ],
            [
             0.2222222222222222,
             "#7201a8"
            ],
            [
             0.3333333333333333,
             "#9c179e"
            ],
            [
             0.4444444444444444,
             "#bd3786"
            ],
            [
             0.5555555555555556,
             "#d8576b"
            ],
            [
             0.6666666666666666,
             "#ed7953"
            ],
            [
             0.7777777777777778,
             "#fb9f3a"
            ],
            [
             0.8888888888888888,
             "#fdca26"
            ],
            [
             1,
             "#f0f921"
            ]
           ]
          },
          "colorway": [
           "#636efa",
           "#EF553B",
           "#00cc96",
           "#ab63fa",
           "#FFA15A",
           "#19d3f3",
           "#FF6692",
           "#B6E880",
           "#FF97FF",
           "#FECB52"
          ],
          "font": {
           "color": "#2a3f5f"
          },
          "geo": {
           "bgcolor": "white",
           "lakecolor": "white",
           "landcolor": "#E5ECF6",
           "showlakes": true,
           "showland": true,
           "subunitcolor": "white"
          },
          "hoverlabel": {
           "align": "left"
          },
          "hovermode": "closest",
          "mapbox": {
           "style": "light"
          },
          "paper_bgcolor": "white",
          "plot_bgcolor": "#E5ECF6",
          "polar": {
           "angularaxis": {
            "gridcolor": "white",
            "linecolor": "white",
            "ticks": ""
           },
           "bgcolor": "#E5ECF6",
           "radialaxis": {
            "gridcolor": "white",
            "linecolor": "white",
            "ticks": ""
           }
          },
          "scene": {
           "xaxis": {
            "backgroundcolor": "#E5ECF6",
            "gridcolor": "white",
            "gridwidth": 2,
            "linecolor": "white",
            "showbackground": true,
            "ticks": "",
            "zerolinecolor": "white"
           },
           "yaxis": {
            "backgroundcolor": "#E5ECF6",
            "gridcolor": "white",
            "gridwidth": 2,
            "linecolor": "white",
            "showbackground": true,
            "ticks": "",
            "zerolinecolor": "white"
           },
           "zaxis": {
            "backgroundcolor": "#E5ECF6",
            "gridcolor": "white",
            "gridwidth": 2,
            "linecolor": "white",
            "showbackground": true,
            "ticks": "",
            "zerolinecolor": "white"
           }
          },
          "shapedefaults": {
           "line": {
            "color": "#2a3f5f"
           }
          },
          "ternary": {
           "aaxis": {
            "gridcolor": "white",
            "linecolor": "white",
            "ticks": ""
           },
           "baxis": {
            "gridcolor": "white",
            "linecolor": "white",
            "ticks": ""
           },
           "bgcolor": "#E5ECF6",
           "caxis": {
            "gridcolor": "white",
            "linecolor": "white",
            "ticks": ""
           }
          },
          "title": {
           "x": 0.05
          },
          "xaxis": {
           "automargin": true,
           "gridcolor": "white",
           "linecolor": "white",
           "ticks": "",
           "title": {
            "standoff": 15
           },
           "zerolinecolor": "white",
           "zerolinewidth": 2
          },
          "yaxis": {
           "automargin": true,
           "gridcolor": "white",
           "linecolor": "white",
           "ticks": "",
           "title": {
            "standoff": 15
           },
           "zerolinecolor": "white",
           "zerolinewidth": 2
          }
         }
        },
        "title": {
         "text": "Fossil fuel consumption per capita"
        },
        "updatemenus": [
         {
          "buttons": [
           {
            "args": [
             null,
             {
              "frame": {
               "duration": 500,
               "redraw": true
              },
              "fromcurrent": true,
              "mode": "immediate",
              "transition": {
               "duration": 500,
               "easing": "linear"
              }
             }
            ],
            "label": "&#9654;",
            "method": "animate"
           },
           {
            "args": [
             [
              null
             ],
             {
              "frame": {
               "duration": 0,
               "redraw": true
              },
              "fromcurrent": true,
              "mode": "immediate",
              "transition": {
               "duration": 0,
               "easing": "linear"
              }
             }
            ],
            "label": "&#9724;",
            "method": "animate"
           }
          ],
          "direction": "left",
          "pad": {
           "r": 10,
           "t": 70
          },
          "showactive": false,
          "type": "buttons",
          "x": 0.1,
          "xanchor": "right",
          "y": 0,
          "yanchor": "top"
         }
        ],
        "width": 800,
        "xaxis": {
         "anchor": "y",
         "autorange": true,
         "domain": [
          0,
          1
         ],
         "range": [
          -0.5,
          58.5
         ],
         "title": {
          "text": "Countries"
         },
         "type": "category"
        },
        "yaxis": {
         "anchor": "x",
         "autorange": true,
         "domain": [
          0,
          1
         ],
         "range": [
          0,
          180837.1168421053
         ],
         "title": {
          "text": "Fossil fuels per capita (kWh)"
         },
         "type": "linear"
        }
       }
      },
      "image/png": "[encoded data removed]",
      "text/html": [
       "<div>                            <div id=\"ccaf99ec-323f-42b4-b800-a7abbf522fd9\" class=\"plotly-graph-div\" style=\"height:600px; width:800px;\"></div>            <script type=\"text/javascript\">                require([\"plotly\"], function(Plotly) {                    window.PLOTLYENV=window.PLOTLYENV || {};                                    if (document.getElementById(\"ccaf99ec-323f-42b4-b800-a7abbf522fd9\")) {                    Plotly.newPlot(                        \"ccaf99ec-323f-42b4-b800-a7abbf522fd9\",                        [{\"alignmentgroup\":\"True\",\"hovertemplate\":\"Continents=Africa<br>Year=1965<br>Countries=%{x}<br>Fossil fuels per capita (kWh)=%{y}<extra></extra>\",\"legendgroup\":\"Africa\",\"marker\":{\"color\":\"#636efa\",\"pattern\":{\"shape\":\"\"}},\"name\":\"Africa\",\"offsetgroup\":\"Africa\",\"orientation\":\"v\",\"showlegend\":true,\"textposition\":\"auto\",\"type\":\"bar\",\"x\":[\"Algeria\",\"Egypt\",\"Morocco\"],\"xaxis\":\"x\",\"y\":[1884.3020000000001,2844.03,994.095],\"yaxis\":\"y\"},{\"alignmentgroup\":\"True\",\"hovertemplate\":\"Continents=Asia<br>Year=1965<br>Countries=%{x}<br>Fossil fuels per capita (kWh)=%{y}<extra></extra>\",\"legendgroup\":\"Asia\",\"marker\":{\"color\":\"#EF553B\",\"pattern\":{\"shape\":\"\"}},\"name\":\"Asia\",\"offsetgroup\":\"Asia\",\"orientation\":\"v\",\"showlegend\":true,\"textposition\":\"auto\",\"type\":\"bar\",\"x\":[\"China\",\"India\",\"Indonesia\",\"Iran\",\"Iraq\",\"Israel\",\"Japan\",\"Kuwait\",\"Malaysia\",\"Oman\",\"Pakistan\",\"Philippines\",\"Qatar\",\"Saudi Arabia\",\"Singapore\",\"Sri Lanka\",\"Thailand\",\"United Arab Emirates\",\"Vietnam\"],\"xaxis\":\"x\",\"y\":[2030.953,1127.529,789.0830000000001,3783.3909999999996,2406.77,18663.233,16237.732,171795.26100000003,2864.781,8467.109,1487.287,1624.149,19068.705,48542.473,25499.491,493.6,886.7710000000001,5696.892,751.462],\"yaxis\":\"y\"},{\"alignmentgroup\":\"True\",\"hovertemplate\":\"Continents=Australia_NZ<br>Year=1965<br>Countries=%{x}<br>Fossil fuels per capita (kWh)=%{y}<extra></extra>\",\"legendgroup\":\"Australia_NZ\",\"marker\":{\"color\":\"#00cc96\",\"pattern\":{\"shape\":\"\"}},\"name\":\"Australia_NZ\",\"offsetgroup\":\"Australia_NZ\",\"orientation\":\"v\",\"showlegend\":true,\"textposition\":\"auto\",\"type\":\"bar\",\"x\":[\"Australia\",\"New Zealand\"],\"xaxis\":\"x\",\"y\":[33870.33,19705.965],\"yaxis\":\"y\"},{\"alignmentgroup\":\"True\",\"hovertemplate\":\"Continents=Europe<br>Year=1965<br>Countries=%{x}<br>Fossil fuels per capita (kWh)=%{y}<extra></extra>\",\"legendgroup\":\"Europe\",\"marker\":{\"color\":\"#ab63fa\",\"pattern\":{\"shape\":\"\"}},\"name\":\"Europe\",\"offsetgroup\":\"Europe\",\"orientation\":\"v\",\"showlegend\":true,\"textposition\":\"auto\",\"type\":\"bar\",\"x\":[\"Austria\",\"Belgium\",\"Bulgaria\",\"Cyprus\",\"Denmark\",\"Finland\",\"France\",\"Germany\",\"Greece\",\"Hungary\",\"Iceland\",\"Ireland\",\"Italy\",\"Luxembourg\",\"Netherlands\",\"Norway\",\"Poland\",\"Portugal\",\"Romania\",\"Slovakia\",\"Spain\",\"Sweden\",\"Switzerland\",\"United Kingdom\"],\"xaxis\":\"x\",\"y\":[19430.682,43640.115,13864.985,8055.515,34902.202000000005,19204.503,23970.394,38304.497,9081.819,18166.548,29627.557999999997,22973.653,15186.761999999999,125904.757,33798.206,18580.558,24658.697,4221.903,14228.553,22875.436,8685.142,33001.614,19131.772,41659.317],\"yaxis\":\"y\"},{\"alignmentgroup\":\"True\",\"hovertemplate\":\"Continents=North America<br>Year=1965<br>Countries=%{x}<br>Fossil fuels per capita (kWh)=%{y}<extra></extra>\",\"legendgroup\":\"North America\",\"marker\":{\"color\":\"#FFA15A\",\"pattern\":{\"shape\":\"\"}},\"name\":\"North America\",\"offsetgroup\":\"North America\",\"orientation\":\"v\",\"showlegend\":true,\"textposition\":\"auto\",\"type\":\"bar\",\"x\":[\"Canada\",\"Mexico\",\"Trinidad and Tobago\",\"United States\"],\"xaxis\":\"x\",\"y\":[52959.492,6053.795,36870.263999999996,69915.6],\"yaxis\":\"y\"},{\"alignmentgroup\":\"True\",\"hovertemplate\":\"Continents=South America<br>Year=1965<br>Countries=%{x}<br>Fossil fuels per capita (kWh)=%{y}<extra></extra>\",\"legendgroup\":\"South America\",\"marker\":{\"color\":\"#19d3f3\",\"pattern\":{\"shape\":\"\"}},\"name\":\"South America\",\"offsetgroup\":\"South America\",\"orientation\":\"v\",\"showlegend\":true,\"textposition\":\"auto\",\"type\":\"bar\",\"x\":[\"Argentina\",\"Brazil\",\"Chile\",\"Colombia\",\"Ecuador\",\"Peru\",\"Venezuela\"],\"xaxis\":\"x\",\"y\":[13981.435,2379.905,6822.376,4187.884,1510.42,4160.985,19339.333],\"yaxis\":\"y\"}],                        {\"barmode\":\"relative\",\"height\":600,\"legend\":{\"title\":{\"text\":\"Continents\"},\"tracegroupgap\":0},\"sliders\":[{\"active\":0,\"currentvalue\":{\"prefix\":\"Year=\"},\"len\":0.9,\"pad\":{\"b\":10,\"t\":60},\"steps\":[{\"args\":[[\"1965\"],{\"frame\":{\"duration\":0,\"redraw\":true},\"fromcurrent\":true,\"mode\":\"immediate\",\"transition\":{\"duration\":0,\"easing\":\"linear\"}}],\"label\":\"1965\",\"method\":\"animate\"},{\"args\":[[\"1966\"],{\"frame\":{\"duration\":0,\"redraw\":true},\"fromcurrent\":true,\"mode\":\"immediate\",\"transition\":{\"duration\":0,\"easing\":\"linear\"}}],\"label\":\"1966\",\"method\":\"animate\"},{\"args\":[[\"1967\"],{\"frame\":{\"duration\":0,\"redraw\":true},\"fromcurrent\":true,\"mode\":\"immediate\",\"transition\":{\"duration\":0,\"easing\":\"linear\"}}],\"label\":\"1967\",\"method\":\"animate\"},{\"args\":[[\"1968\"],{\"frame\":{\"duration\":0,\"redraw\":true},\"fromcurrent\":true,\"mode\":\"immediate\",\"transition\":{\"duration\":0,\"easing\":\"linear\"}}],\"label\":\"1968\",\"method\":\"animate\"},{\"args\":[[\"1969\"],{\"frame\":{\"duration\":0,\"redraw\":true},\"fromcurrent\":true,\"mode\":\"immediate\",\"transition\":{\"duration\":0,\"easing\":\"linear\"}}],\"label\":\"1969\",\"method\":\"animate\"},{\"args\":[[\"1970\"],{\"frame\":{\"duration\":0,\"redraw\":true},\"fromcurrent\":true,\"mode\":\"immediate\",\"transition\":{\"duration\":0,\"easing\":\"linear\"}}],\"label\":\"1970\",\"method\":\"animate\"},{\"args\":[[\"1971\"],{\"frame\":{\"duration\":0,\"redraw\":true},\"fromcurrent\":true,\"mode\":\"immediate\",\"transition\":{\"duration\":0,\"easing\":\"linear\"}}],\"label\":\"1971\",\"method\":\"animate\"},{\"args\":[[\"1972\"],{\"frame\":{\"duration\":0,\"redraw\":true},\"fromcurrent\":true,\"mode\":\"immediate\",\"transition\":{\"duration\":0,\"easing\":\"linear\"}}],\"label\":\"1972\",\"method\":\"animate\"},{\"args\":[[\"1973\"],{\"frame\":{\"duration\":0,\"redraw\":true},\"fromcurrent\":true,\"mode\":\"immediate\",\"transition\":{\"duration\":0,\"easing\":\"linear\"}}],\"label\":\"1973\",\"method\":\"animate\"},{\"args\":[[\"1974\"],{\"frame\":{\"duration\":0,\"redraw\":true},\"fromcurrent\":true,\"mode\":\"immediate\",\"transition\":{\"duration\":0,\"easing\":\"linear\"}}],\"label\":\"1974\",\"method\":\"animate\"},{\"args\":[[\"1975\"],{\"frame\":{\"duration\":0,\"redraw\":true},\"fromcurrent\":true,\"mode\":\"immediate\",\"transition\":{\"duration\":0,\"easing\":\"linear\"}}],\"label\":\"1975\",\"method\":\"animate\"},{\"args\":[[\"1976\"],{\"frame\":{\"duration\":0,\"redraw\":true},\"fromcurrent\":true,\"mode\":\"immediate\",\"transition\":{\"duration\":0,\"easing\":\"linear\"}}],\"label\":\"1976\",\"method\":\"animate\"},{\"args\":[[\"1977\"],{\"frame\":{\"duration\":0,\"redraw\":true},\"fromcurrent\":true,\"mode\":\"immediate\",\"transition\":{\"duration\":0,\"easing\":\"linear\"}}],\"label\":\"1977\",\"method\":\"animate\"},{\"args\":[[\"1978\"],{\"frame\":{\"duration\":0,\"redraw\":true},\"fromcurrent\":true,\"mode\":\"immediate\",\"transition\":{\"duration\":0,\"easing\":\"linear\"}}],\"label\":\"1978\",\"method\":\"animate\"},{\"args\":[[\"1979\"],{\"frame\":{\"duration\":0,\"redraw\":true},\"fromcurrent\":true,\"mode\":\"immediate\",\"transition\":{\"duration\":0,\"easing\":\"linear\"}}],\"label\":\"1979\",\"method\":\"animate\"},{\"args\":[[\"1980\"],{\"frame\":{\"duration\":0,\"redraw\":true},\"fromcurrent\":true,\"mode\":\"immediate\",\"transition\":{\"duration\":0,\"easing\":\"linear\"}}],\"label\":\"1980\",\"method\":\"animate\"},{\"args\":[[\"1981\"],{\"frame\":{\"duration\":0,\"redraw\":true},\"fromcurrent\":true,\"mode\":\"immediate\",\"transition\":{\"duration\":0,\"easing\":\"linear\"}}],\"label\":\"1981\",\"method\":\"animate\"},{\"args\":[[\"1982\"],{\"frame\":{\"duration\":0,\"redraw\":true},\"fromcurrent\":true,\"mode\":\"immediate\",\"transition\":{\"duration\":0,\"easing\":\"linear\"}}],\"label\":\"1982\",\"method\":\"animate\"},{\"args\":[[\"1983\"],{\"frame\":{\"duration\":0,\"redraw\":true},\"fromcurrent\":true,\"mode\":\"immediate\",\"transition\":{\"duration\":0,\"easing\":\"linear\"}}],\"label\":\"1983\",\"method\":\"animate\"},{\"args\":[[\"1984\"],{\"frame\":{\"duration\":0,\"redraw\":true},\"fromcurrent\":true,\"mode\":\"immediate\",\"transition\":{\"duration\":0,\"easing\":\"linear\"}}],\"label\":\"1984\",\"method\":\"animate\"},{\"args\":[[\"1985\"],{\"frame\":{\"duration\":0,\"redraw\":true},\"fromcurrent\":true,\"mode\":\"immediate\",\"transition\":{\"duration\":0,\"easing\":\"linear\"}}],\"label\":\"1985\",\"method\":\"animate\"},{\"args\":[[\"1986\"],{\"frame\":{\"duration\":0,\"redraw\":true},\"fromcurrent\":true,\"mode\":\"immediate\",\"transition\":{\"duration\":0,\"easing\":\"linear\"}}],\"label\":\"1986\",\"method\":\"animate\"},{\"args\":[[\"1987\"],{\"frame\":{\"duration\":0,\"redraw\":true},\"fromcurrent\":true,\"mode\":\"immediate\",\"transition\":{\"duration\":0,\"easing\":\"linear\"}}],\"label\":\"1987\",\"method\":\"animate\"},{\"args\":[[\"1988\"],{\"frame\":{\"duration\":0,\"redraw\":true},\"fromcurrent\":true,\"mode\":\"immediate\",\"transition\":{\"duration\":0,\"easing\":\"linear\"}}],\"label\":\"1988\",\"method\":\"animate\"},{\"args\":[[\"1989\"],{\"frame\":{\"duration\":0,\"redraw\":true},\"fromcurrent\":true,\"mode\":\"immediate\",\"transition\":{\"duration\":0,\"easing\":\"linear\"}}],\"label\":\"1989\",\"method\":\"animate\"},{\"args\":[[\"1990\"],{\"frame\":{\"duration\":0,\"redraw\":true},\"fromcurrent\":true,\"mode\":\"immediate\",\"transition\":{\"duration\":0,\"easing\":\"linear\"}}],\"label\":\"1990\",\"method\":\"animate\"},{\"args\":[[\"1991\"],{\"frame\":{\"duration\":0,\"redraw\":true},\"fromcurrent\":true,\"mode\":\"immediate\",\"transition\":{\"duration\":0,\"easing\":\"linear\"}}],\"label\":\"1991\",\"method\":\"animate\"},{\"args\":[[\"1992\"],{\"frame\":{\"duration\":0,\"redraw\":true},\"fromcurrent\":true,\"mode\":\"immediate\",\"transition\":{\"duration\":0,\"easing\":\"linear\"}}],\"label\":\"1992\",\"method\":\"animate\"},{\"args\":[[\"1993\"],{\"frame\":{\"duration\":0,\"redraw\":true},\"fromcurrent\":true,\"mode\":\"immediate\",\"transition\":{\"duration\":0,\"easing\":\"linear\"}}],\"label\":\"1993\",\"method\":\"animate\"},{\"args\":[[\"1994\"],{\"frame\":{\"duration\":0,\"redraw\":true},\"fromcurrent\":true,\"mode\":\"immediate\",\"transition\":{\"duration\":0,\"easing\":\"linear\"}}],\"label\":\"1994\",\"method\":\"animate\"},{\"args\":[[\"1995\"],{\"frame\":{\"duration\":0,\"redraw\":true},\"fromcurrent\":true,\"mode\":\"immediate\",\"transition\":{\"duration\":0,\"easing\":\"linear\"}}],\"label\":\"1995\",\"method\":\"animate\"},{\"args\":[[\"1996\"],{\"frame\":{\"duration\":0,\"redraw\":true},\"fromcurrent\":true,\"mode\":\"immediate\",\"transition\":{\"duration\":0,\"easing\":\"linear\"}}],\"label\":\"1996\",\"method\":\"animate\"},{\"args\":[[\"1997\"],{\"frame\":{\"duration\":0,\"redraw\":true},\"fromcurrent\":true,\"mode\":\"immediate\",\"transition\":{\"duration\":0,\"easing\":\"linear\"}}],\"label\":\"1997\",\"method\":\"animate\"},{\"args\":[[\"1998\"],{\"frame\":{\"duration\":0,\"redraw\":true},\"fromcurrent\":true,\"mode\":\"immediate\",\"transition\":{\"duration\":0,\"easing\":\"linear\"}}],\"label\":\"1998\",\"method\":\"animate\"},{\"args\":[[\"1999\"],{\"frame\":{\"duration\":0,\"redraw\":true},\"fromcurrent\":true,\"mode\":\"immediate\",\"transition\":{\"duration\":0,\"easing\":\"linear\"}}],\"label\":\"1999\",\"method\":\"animate\"},{\"args\":[[\"2000\"],{\"frame\":{\"duration\":0,\"redraw\":true},\"fromcurrent\":true,\"mode\":\"immediate\",\"transition\":{\"duration\":0,\"easing\":\"linear\"}}],\"label\":\"2000\",\"method\":\"animate\"},{\"args\":[[\"2001\"],{\"frame\":{\"duration\":0,\"redraw\":true},\"fromcurrent\":true,\"mode\":\"immediate\",\"transition\":{\"duration\":0,\"easing\":\"linear\"}}],\"label\":\"2001\",\"method\":\"animate\"},{\"args\":[[\"2002\"],{\"frame\":{\"duration\":0,\"redraw\":true},\"fromcurrent\":true,\"mode\":\"immediate\",\"transition\":{\"duration\":0,\"easing\":\"linear\"}}],\"label\":\"2002\",\"method\":\"animate\"},{\"args\":[[\"2003\"],{\"frame\":{\"duration\":0,\"redraw\":true},\"fromcurrent\":true,\"mode\":\"immediate\",\"transition\":{\"duration\":0,\"easing\":\"linear\"}}],\"label\":\"2003\",\"method\":\"animate\"},{\"args\":[[\"2004\"],{\"frame\":{\"duration\":0,\"redraw\":true},\"fromcurrent\":true,\"mode\":\"immediate\",\"transition\":{\"duration\":0,\"easing\":\"linear\"}}],\"label\":\"2004\",\"method\":\"animate\"},{\"args\":[[\"2005\"],{\"frame\":{\"duration\":0,\"redraw\":true},\"fromcurrent\":true,\"mode\":\"immediate\",\"transition\":{\"duration\":0,\"easing\":\"linear\"}}],\"label\":\"2005\",\"method\":\"animate\"},{\"args\":[[\"2006\"],{\"frame\":{\"duration\":0,\"redraw\":true},\"fromcurrent\":true,\"mode\":\"immediate\",\"transition\":{\"duration\":0,\"easing\":\"linear\"}}],\"label\":\"2006\",\"method\":\"animate\"},{\"args\":[[\"2007\"],{\"frame\":{\"duration\":0,\"redraw\":true},\"fromcurrent\":true,\"mode\":\"immediate\",\"transition\":{\"duration\":0,\"easing\":\"linear\"}}],\"label\":\"2007\",\"method\":\"animate\"},{\"args\":[[\"2008\"],{\"frame\":{\"duration\":0,\"redraw\":true},\"fromcurrent\":true,\"mode\":\"immediate\",\"transition\":{\"duration\":0,\"easing\":\"linear\"}}],\"label\":\"2008\",\"method\":\"animate\"},{\"args\":[[\"2009\"],{\"frame\":{\"duration\":0,\"redraw\":true},\"fromcurrent\":true,\"mode\":\"immediate\",\"transition\":{\"duration\":0,\"easing\":\"linear\"}}],\"label\":\"2009\",\"method\":\"animate\"},{\"args\":[[\"2010\"],{\"frame\":{\"duration\":0,\"redraw\":true},\"fromcurrent\":true,\"mode\":\"immediate\",\"transition\":{\"duration\":0,\"easing\":\"linear\"}}],\"label\":\"2010\",\"method\":\"animate\"},{\"args\":[[\"2011\"],{\"frame\":{\"duration\":0,\"redraw\":true},\"fromcurrent\":true,\"mode\":\"immediate\",\"transition\":{\"duration\":0,\"easing\":\"linear\"}}],\"label\":\"2011\",\"method\":\"animate\"},{\"args\":[[\"2012\"],{\"frame\":{\"duration\":0,\"redraw\":true},\"fromcurrent\":true,\"mode\":\"immediate\",\"transition\":{\"duration\":0,\"easing\":\"linear\"}}],\"label\":\"2012\",\"method\":\"animate\"},{\"args\":[[\"2013\"],{\"frame\":{\"duration\":0,\"redraw\":true},\"fromcurrent\":true,\"mode\":\"immediate\",\"transition\":{\"duration\":0,\"easing\":\"linear\"}}],\"label\":\"2013\",\"method\":\"animate\"},{\"args\":[[\"2014\"],{\"frame\":{\"duration\":0,\"redraw\":true},\"fromcurrent\":true,\"mode\":\"immediate\",\"transition\":{\"duration\":0,\"easing\":\"linear\"}}],\"label\":\"2014\",\"method\":\"animate\"},{\"args\":[[\"2015\"],{\"frame\":{\"duration\":0,\"redraw\":true},\"fromcurrent\":true,\"mode\":\"immediate\",\"transition\":{\"duration\":0,\"easing\":\"linear\"}}],\"label\":\"2015\",\"method\":\"animate\"},{\"args\":[[\"2016\"],{\"frame\":{\"duration\":0,\"redraw\":true},\"fromcurrent\":true,\"mode\":\"immediate\",\"transition\":{\"duration\":0,\"easing\":\"linear\"}}],\"label\":\"2016\",\"method\":\"animate\"},{\"args\":[[\"2017\"],{\"frame\":{\"duration\":0,\"redraw\":true},\"fromcurrent\":true,\"mode\":\"immediate\",\"transition\":{\"duration\":0,\"easing\":\"linear\"}}],\"label\":\"2017\",\"method\":\"animate\"},{\"args\":[[\"2018\"],{\"frame\":{\"duration\":0,\"redraw\":true},\"fromcurrent\":true,\"mode\":\"immediate\",\"transition\":{\"duration\":0,\"easing\":\"linear\"}}],\"label\":\"2018\",\"method\":\"animate\"},{\"args\":[[\"2019\"],{\"frame\":{\"duration\":0,\"redraw\":true},\"fromcurrent\":true,\"mode\":\"immediate\",\"transition\":{\"duration\":0,\"easing\":\"linear\"}}],\"label\":\"2019\",\"method\":\"animate\"}],\"x\":0.1,\"xanchor\":\"left\",\"y\":0,\"yanchor\":\"top\"}],\"template\":{\"data\":{\"bar\":[{\"error_x\":{\"color\":\"#2a3f5f\"},\"error_y\":{\"color\":\"#2a3f5f\"},\"marker\":{\"line\":{\"color\":\"#E5ECF6\",\"width\":0.5},\"pattern\":{\"fillmode\":\"overlay\",\"size\":10,\"solidity\":0.2}},\"type\":\"bar\"}],\"barpolar\":[{\"marker\":{\"line\":{\"color\":\"#E5ECF6\",\"width\":0.5},\"pattern\":{\"fillmode\":\"overlay\",\"size\":10,\"solidity\":0.2}},\"type\":\"barpolar\"}],\"carpet\":[{\"aaxis\":{\"endlinecolor\":\"#2a3f5f\",\"gridcolor\":\"white\",\"linecolor\":\"white\",\"minorgridcolor\":\"white\",\"startlinecolor\":\"#2a3f5f\"},\"baxis\":{\"endlinecolor\":\"#2a3f5f\",\"gridcolor\":\"white\",\"linecolor\":\"white\",\"minorgridcolor\":\"white\",\"startlinecolor\":\"#2a3f5f\"},\"type\":\"carpet\"}],\"choropleth\":[{\"colorbar\":{\"outlinewidth\":0,\"ticks\":\"\"},\"type\":\"choropleth\"}],\"contour\":[{\"colorbar\":{\"outlinewidth\":0,\"ticks\":\"\"},\"colorscale\":[[0.0,\"#0d0887\"],[0.1111111111111111,\"#46039f\"],[0.2222222222222222,\"#7201a8\"],[0.3333333333333333,\"#9c179e\"],[0.4444444444444444,\"#bd3786\"],[0.5555555555555556,\"#d8576b\"],[0.6666666666666666,\"#ed7953\"],[0.7777777777777778,\"#fb9f3a\"],[0.8888888888888888,\"#fdca26\"],[1.0,\"#f0f921\"]],\"type\":\"contour\"}],\"contourcarpet\":[{\"colorbar\":{\"outlinewidth\":0,\"ticks\":\"\"},\"type\":\"contourcarpet\"}],\"heatmap\":[{\"colorbar\":{\"outlinewidth\":0,\"ticks\":\"\"},\"colorscale\":[[0.0,\"#0d0887\"],[0.1111111111111111,\"#46039f\"],[0.2222222222222222,\"#7201a8\"],[0.3333333333333333,\"#9c179e\"],[0.4444444444444444,\"#bd3786\"],[0.5555555555555556,\"#d8576b\"],[0.6666666666666666,\"#ed7953\"],[0.7777777777777778,\"#fb9f3a\"],[0.8888888888888888,\"#fdca26\"],[1.0,\"#f0f921\"]],\"type\":\"heatmap\"}],\"heatmapgl\":[{\"colorbar\":{\"outlinewidth\":0,\"ticks\":\"\"},\"colorscale\":[[0.0,\"#0d0887\"],[0.1111111111111111,\"#46039f\"],[0.2222222222222222,\"#7201a8\"],[0.3333333333333333,\"#9c179e\"],[0.4444444444444444,\"#bd3786\"],[0.5555555555555556,\"#d8576b\"],[0.6666666666666666,\"#ed7953\"],[0.7777777777777778,\"#fb9f3a\"],[0.8888888888888888,\"#fdca26\"],[1.0,\"#f0f921\"]],\"type\":\"heatmapgl\"}],\"histogram\":[{\"marker\":{\"pattern\":{\"fillmode\":\"overlay\",\"size\":10,\"solidity\":0.2}},\"type\":\"histogram\"}],\"histogram2d\":[{\"colorbar\":{\"outlinewidth\":0,\"ticks\":\"\"},\"colorscale\":[[0.0,\"#0d0887\"],[0.1111111111111111,\"#46039f\"],[0.2222222222222222,\"#7201a8\"],[0.3333333333333333,\"#9c179e\"],[0.4444444444444444,\"#bd3786\"],[0.5555555555555556,\"#d8576b\"],[0.6666666666666666,\"#ed7953\"],[0.7777777777777778,\"#fb9f3a\"],[0.8888888888888888,\"#fdca26\"],[1.0,\"#f0f921\"]],\"type\":\"histogram2d\"}],\"histogram2dcontour\":[{\"colorbar\":{\"outlinewidth\":0,\"ticks\":\"\"},\"colorscale\":[[0.0,\"#0d0887\"],[0.1111111111111111,\"#46039f\"],[0.2222222222222222,\"#7201a8\"],[0.3333333333333333,\"#9c179e\"],[0.4444444444444444,\"#bd3786\"],[0.5555555555555556,\"#d8576b\"],[0.6666666666666666,\"#ed7953\"],[0.7777777777777778,\"#fb9f3a\"],[0.8888888888888888,\"#fdca26\"],[1.0,\"#f0f921\"]],\"type\":\"histogram2dcontour\"}],\"mesh3d\":[{\"colorbar\":{\"outlinewidth\":0,\"ticks\":\"\"},\"type\":\"mesh3d\"}],\"parcoords\":[{\"line\":{\"colorbar\":{\"outlinewidth\":0,\"ticks\":\"\"}},\"type\":\"parcoords\"}],\"pie\":[{\"automargin\":true,\"type\":\"pie\"}],\"scatter\":[{\"marker\":{\"colorbar\":{\"outlinewidth\":0,\"ticks\":\"\"}},\"type\":\"scatter\"}],\"scatter3d\":[{\"line\":{\"colorbar\":{\"outlinewidth\":0,\"ticks\":\"\"}},\"marker\":{\"colorbar\":{\"outlinewidth\":0,\"ticks\":\"\"}},\"type\":\"scatter3d\"}],\"scattercarpet\":[{\"marker\":{\"colorbar\":{\"outlinewidth\":0,\"ticks\":\"\"}},\"type\":\"scattercarpet\"}],\"scattergeo\":[{\"marker\":{\"colorbar\":{\"outlinewidth\":0,\"ticks\":\"\"}},\"type\":\"scattergeo\"}],\"scattergl\":[{\"marker\":{\"colorbar\":{\"outlinewidth\":0,\"ticks\":\"\"}},\"type\":\"scattergl\"}],\"scattermapbox\":[{\"marker\":{\"colorbar\":{\"outlinewidth\":0,\"ticks\":\"\"}},\"type\":\"scattermapbox\"}],\"scatterpolar\":[{\"marker\":{\"colorbar\":{\"outlinewidth\":0,\"ticks\":\"\"}},\"type\":\"scatterpolar\"}],\"scatterpolargl\":[{\"marker\":{\"colorbar\":{\"outlinewidth\":0,\"ticks\":\"\"}},\"type\":\"scatterpolargl\"}],\"scatterternary\":[{\"marker\":{\"colorbar\":{\"outlinewidth\":0,\"ticks\":\"\"}},\"type\":\"scatterternary\"}],\"surface\":[{\"colorbar\":{\"outlinewidth\":0,\"ticks\":\"\"},\"colorscale\":[[0.0,\"#0d0887\"],[0.1111111111111111,\"#46039f\"],[0.2222222222222222,\"#7201a8\"],[0.3333333333333333,\"#9c179e\"],[0.4444444444444444,\"#bd3786\"],[0.5555555555555556,\"#d8576b\"],[0.6666666666666666,\"#ed7953\"],[0.7777777777777778,\"#fb9f3a\"],[0.8888888888888888,\"#fdca26\"],[1.0,\"#f0f921\"]],\"type\":\"surface\"}],\"table\":[{\"cells\":{\"fill\":{\"color\":\"#EBF0F8\"},\"line\":{\"color\":\"white\"}},\"header\":{\"fill\":{\"color\":\"#C8D4E3\"},\"line\":{\"color\":\"white\"}},\"type\":\"table\"}]},\"layout\":{\"annotationdefaults\":{\"arrowcolor\":\"#2a3f5f\",\"arrowhead\":0,\"arrowwidth\":1},\"autotypenumbers\":\"strict\",\"coloraxis\":{\"colorbar\":{\"outlinewidth\":0,\"ticks\":\"\"}},\"colorscale\":{\"diverging\":[[0,\"#8e0152\"],[0.1,\"#c51b7d\"],[0.2,\"#de77ae\"],[0.3,\"#f1b6da\"],[0.4,\"#fde0ef\"],[0.5,\"#f7f7f7\"],[0.6,\"#e6f5d0\"],[0.7,\"#b8e186\"],[0.8,\"#7fbc41\"],[0.9,\"#4d9221\"],[1,\"#276419\"]],\"sequential\":[[0.0,\"#0d0887\"],[0.1111111111111111,\"#46039f\"],[0.2222222222222222,\"#7201a8\"],[0.3333333333333333,\"#9c179e\"],[0.4444444444444444,\"#bd3786\"],[0.5555555555555556,\"#d8576b\"],[0.6666666666666666,\"#ed7953\"],[0.7777777777777778,\"#fb9f3a\"],[0.8888888888888888,\"#fdca26\"],[1.0,\"#f0f921\"]],\"sequentialminus\":[[0.0,\"#0d0887\"],[0.1111111111111111,\"#46039f\"],[0.2222222222222222,\"#7201a8\"],[0.3333333333333333,\"#9c179e\"],[0.4444444444444444,\"#bd3786\"],[0.5555555555555556,\"#d8576b\"],[0.6666666666666666,\"#ed7953\"],[0.7777777777777778,\"#fb9f3a\"],[0.8888888888888888,\"#fdca26\"],[1.0,\"#f0f921\"]]},\"colorway\":[\"#636efa\",\"#EF553B\",\"#00cc96\",\"#ab63fa\",\"#FFA15A\",\"#19d3f3\",\"#FF6692\",\"#B6E880\",\"#FF97FF\",\"#FECB52\"],\"font\":{\"color\":\"#2a3f5f\"},\"geo\":{\"bgcolor\":\"white\",\"lakecolor\":\"white\",\"landcolor\":\"#E5ECF6\",\"showlakes\":true,\"showland\":true,\"subunitcolor\":\"white\"},\"hoverlabel\":{\"align\":\"left\"},\"hovermode\":\"closest\",\"mapbox\":{\"style\":\"light\"},\"paper_bgcolor\":\"white\",\"plot_bgcolor\":\"#E5ECF6\",\"polar\":{\"angularaxis\":{\"gridcolor\":\"white\",\"linecolor\":\"white\",\"ticks\":\"\"},\"bgcolor\":\"#E5ECF6\",\"radialaxis\":{\"gridcolor\":\"white\",\"linecolor\":\"white\",\"ticks\":\"\"}},\"scene\":{\"xaxis\":{\"backgroundcolor\":\"#E5ECF6\",\"gridcolor\":\"white\",\"gridwidth\":2,\"linecolor\":\"white\",\"showbackground\":true,\"ticks\":\"\",\"zerolinecolor\":\"white\"},\"yaxis\":{\"backgroundcolor\":\"#E5ECF6\",\"gridcolor\":\"white\",\"gridwidth\":2,\"linecolor\":\"white\",\"showbackground\":true,\"ticks\":\"\",\"zerolinecolor\":\"white\"},\"zaxis\":{\"backgroundcolor\":\"#E5ECF6\",\"gridcolor\":\"white\",\"gridwidth\":2,\"linecolor\":\"white\",\"showbackground\":true,\"ticks\":\"\",\"zerolinecolor\":\"white\"}},\"shapedefaults\":{\"line\":{\"color\":\"#2a3f5f\"}},\"ternary\":{\"aaxis\":{\"gridcolor\":\"white\",\"linecolor\":\"white\",\"ticks\":\"\"},\"baxis\":{\"gridcolor\":\"white\",\"linecolor\":\"white\",\"ticks\":\"\"},\"bgcolor\":\"#E5ECF6\",\"caxis\":{\"gridcolor\":\"white\",\"linecolor\":\"white\",\"ticks\":\"\"}},\"title\":{\"x\":0.05},\"xaxis\":{\"automargin\":true,\"gridcolor\":\"white\",\"linecolor\":\"white\",\"ticks\":\"\",\"title\":{\"standoff\":15},\"zerolinecolor\":\"white\",\"zerolinewidth\":2},\"yaxis\":{\"automargin\":true,\"gridcolor\":\"white\",\"linecolor\":\"white\",\"ticks\":\"\",\"title\":{\"standoff\":15},\"zerolinecolor\":\"white\",\"zerolinewidth\":2}}},\"title\":{\"text\":\"Fossil fuel consumption per capita\"},\"updatemenus\":[{\"buttons\":[{\"args\":[null,{\"frame\":{\"duration\":500,\"redraw\":true},\"fromcurrent\":true,\"mode\":\"immediate\",\"transition\":{\"duration\":500,\"easing\":\"linear\"}}],\"label\":\"&#9654;\",\"method\":\"animate\"},{\"args\":[[null],{\"frame\":{\"duration\":0,\"redraw\":true},\"fromcurrent\":true,\"mode\":\"immediate\",\"transition\":{\"duration\":0,\"easing\":\"linear\"}}],\"label\":\"&#9724;\",\"method\":\"animate\"}],\"direction\":\"left\",\"pad\":{\"r\":10,\"t\":70},\"showactive\":false,\"type\":\"buttons\",\"x\":0.1,\"xanchor\":\"right\",\"y\":0,\"yanchor\":\"top\"}],\"width\":800,\"xaxis\":{\"anchor\":\"y\",\"domain\":[0.0,1.0],\"title\":{\"text\":\"Countries\"}},\"yaxis\":{\"anchor\":\"x\",\"domain\":[0.0,1.0],\"title\":{\"text\":\"Fossil fuels per capita (kWh)\"}}},                        {\"responsive\": true}                    ).then(function(){\n",
       "                            Plotly.addFrames('ccaf99ec-323f-42b4-b800-a7abbf522fd9', [{\"data\":[{\"alignmentgroup\":\"True\",\"hovertemplate\":\"Continents=Africa<br>Year=1965<br>Countries=%{x}<br>Fossil fuels per capita (kWh)=%{y}<extra></extra>\",\"legendgroup\":\"Africa\",\"marker\":{\"color\":\"#636efa\",\"pattern\":{\"shape\":\"\"}},\"name\":\"Africa\",\"offsetgroup\":\"Africa\",\"orientation\":\"v\",\"showlegend\":true,\"textposition\":\"auto\",\"type\":\"bar\",\"x\":[\"Algeria\",\"Egypt\",\"Morocco\"],\"xaxis\":\"x\",\"y\":[1884.3020000000001,2844.03,994.095],\"yaxis\":\"y\"},{\"alignmentgroup\":\"True\",\"hovertemplate\":\"Continents=Asia<br>Year=1965<br>Countries=%{x}<br>Fossil fuels per capita (kWh)=%{y}<extra></extra>\",\"legendgroup\":\"Asia\",\"marker\":{\"color\":\"#EF553B\",\"pattern\":{\"shape\":\"\"}},\"name\":\"Asia\",\"offsetgroup\":\"Asia\",\"orientation\":\"v\",\"showlegend\":true,\"textposition\":\"auto\",\"type\":\"bar\",\"x\":[\"China\",\"India\",\"Indonesia\",\"Iran\",\"Iraq\",\"Israel\",\"Japan\",\"Kuwait\",\"Malaysia\",\"Oman\",\"Pakistan\",\"Philippines\",\"Qatar\",\"Saudi Arabia\",\"Singapore\",\"Sri Lanka\",\"Thailand\",\"United Arab Emirates\",\"Vietnam\"],\"xaxis\":\"x\",\"y\":[2030.953,1127.529,789.0830000000001,3783.3909999999996,2406.77,18663.233,16237.732,171795.26100000003,2864.781,8467.109,1487.287,1624.149,19068.705,48542.473,25499.491,493.6,886.7710000000001,5696.892,751.462],\"yaxis\":\"y\"},{\"alignmentgroup\":\"True\",\"hovertemplate\":\"Continents=Australia_NZ<br>Year=1965<br>Countries=%{x}<br>Fossil fuels per capita (kWh)=%{y}<extra></extra>\",\"legendgroup\":\"Australia_NZ\",\"marker\":{\"color\":\"#00cc96\",\"pattern\":{\"shape\":\"\"}},\"name\":\"Australia_NZ\",\"offsetgroup\":\"Australia_NZ\",\"orientation\":\"v\",\"showlegend\":true,\"textposition\":\"auto\",\"type\":\"bar\",\"x\":[\"Australia\",\"New Zealand\"],\"xaxis\":\"x\",\"y\":[33870.33,19705.965],\"yaxis\":\"y\"},{\"alignmentgroup\":\"True\",\"hovertemplate\":\"Continents=Europe<br>Year=1965<br>Countries=%{x}<br>Fossil fuels per capita (kWh)=%{y}<extra></extra>\",\"legendgroup\":\"Europe\",\"marker\":{\"color\":\"#ab63fa\",\"pattern\":{\"shape\":\"\"}},\"name\":\"Europe\",\"offsetgroup\":\"Europe\",\"orientation\":\"v\",\"showlegend\":true,\"textposition\":\"auto\",\"type\":\"bar\",\"x\":[\"Austria\",\"Belgium\",\"Bulgaria\",\"Cyprus\",\"Denmark\",\"Finland\",\"France\",\"Germany\",\"Greece\",\"Hungary\",\"Iceland\",\"Ireland\",\"Italy\",\"Luxembourg\",\"Netherlands\",\"Norway\",\"Poland\",\"Portugal\",\"Romania\",\"Slovakia\",\"Spain\",\"Sweden\",\"Switzerland\",\"United Kingdom\"],\"xaxis\":\"x\",\"y\":[19430.682,43640.115,13864.985,8055.515,34902.202000000005,19204.503,23970.394,38304.497,9081.819,18166.548,29627.557999999997,22973.653,15186.761999999999,125904.757,33798.206,18580.558,24658.697,4221.903,14228.553,22875.436,8685.142,33001.614,19131.772,41659.317],\"yaxis\":\"y\"},{\"alignmentgroup\":\"True\",\"hovertemplate\":\"Continents=North America<br>Year=1965<br>Countries=%{x}<br>Fossil fuels per capita (kWh)=%{y}<extra></extra>\",\"legendgroup\":\"North America\",\"marker\":{\"color\":\"#FFA15A\",\"pattern\":{\"shape\":\"\"}},\"name\":\"North America\",\"offsetgroup\":\"North America\",\"orientation\":\"v\",\"showlegend\":true,\"textposition\":\"auto\",\"type\":\"bar\",\"x\":[\"Canada\",\"Mexico\",\"Trinidad and Tobago\",\"United States\"],\"xaxis\":\"x\",\"y\":[52959.492,6053.795,36870.263999999996,69915.6],\"yaxis\":\"y\"},{\"alignmentgroup\":\"True\",\"hovertemplate\":\"Continents=South America<br>Year=1965<br>Countries=%{x}<br>Fossil fuels per capita (kWh)=%{y}<extra></extra>\",\"legendgroup\":\"South America\",\"marker\":{\"color\":\"#19d3f3\",\"pattern\":{\"shape\":\"\"}},\"name\":\"South America\",\"offsetgroup\":\"South America\",\"orientation\":\"v\",\"showlegend\":true,\"textposition\":\"auto\",\"type\":\"bar\",\"x\":[\"Argentina\",\"Brazil\",\"Chile\",\"Colombia\",\"Ecuador\",\"Peru\",\"Venezuela\"],\"xaxis\":\"x\",\"y\":[13981.435,2379.905,6822.376,4187.884,1510.42,4160.985,19339.333],\"yaxis\":\"y\"}],\"name\":\"1965\"},{\"data\":[{\"alignmentgroup\":\"True\",\"hovertemplate\":\"Continents=Africa<br>Year=1966<br>Countries=%{x}<br>Fossil fuels per capita (kWh)=%{y}<extra></extra>\",\"legendgroup\":\"Africa\",\"marker\":{\"color\":\"#636efa\",\"pattern\":{\"shape\":\"\"}},\"name\":\"Africa\",\"offsetgroup\":\"Africa\",\"orientation\":\"v\",\"showlegend\":true,\"textposition\":\"auto\",\"type\":\"bar\",\"x\":[\"Algeria\",\"Egypt\",\"Morocco\"],\"xaxis\":\"x\",\"y\":[2230.7070000000003,2915.2209999999995,1386.799],\"yaxis\":\"y\"},{\"alignmentgroup\":\"True\",\"hovertemplate\":\"Continents=Asia<br>Year=1966<br>Countries=%{x}<br>Fossil fuels per capita (kWh)=%{y}<extra></extra>\",\"legendgroup\":\"Asia\",\"marker\":{\"color\":\"#EF553B\",\"pattern\":{\"shape\":\"\"}},\"name\":\"Asia\",\"offsetgroup\":\"Asia\",\"orientation\":\"v\",\"showlegend\":true,\"textposition\":\"auto\",\"type\":\"bar\",\"x\":[\"China\",\"India\",\"Indonesia\",\"Iran\",\"Iraq\",\"Israel\",\"Japan\",\"Kuwait\",\"Malaysia\",\"Oman\",\"Pakistan\",\"Philippines\",\"Qatar\",\"Saudi Arabia\",\"Singapore\",\"Sri Lanka\",\"Thailand\",\"United Arab Emirates\",\"Vietnam\"],\"xaxis\":\"x\",\"y\":[2158.925,1136.563,746.2130000000001,4013.472,2596.325,19014.661,17847.832,162420.533,3251.0570000000002,8598.571,1460.886,1716.526,17758.736,47521.792,28527.237,493.51800000000003,1020.081,5700.262,1291.87],\"yaxis\":\"y\"},{\"alignmentgroup\":\"True\",\"hovertemplate\":\"Continents=Australia_NZ<br>Year=1966<br>Countries=%{x}<br>Fossil fuels per capita (kWh)=%{y}<extra></extra>\",\"legendgroup\":\"Australia_NZ\",\"marker\":{\"color\":\"#00cc96\",\"pattern\":{\"shape\":\"\"}},\"name\":\"Australia_NZ\",\"offsetgroup\":\"Australia_NZ\",\"orientation\":\"v\",\"showlegend\":true,\"textposition\":\"auto\",\"type\":\"bar\",\"x\":[\"Australia\",\"New Zealand\"],\"xaxis\":\"x\",\"y\":[36528.602,20525.506],\"yaxis\":\"y\"},{\"alignmentgroup\":\"True\",\"hovertemplate\":\"Continents=Europe<br>Year=1966<br>Countries=%{x}<br>Fossil fuels per capita (kWh)=%{y}<extra></extra>\",\"legendgroup\":\"Europe\",\"marker\":{\"color\":\"#ab63fa\",\"pattern\":{\"shape\":\"\"}},\"name\":\"Europe\",\"offsetgroup\":\"Europe\",\"orientation\":\"v\",\"showlegend\":true,\"textposition\":\"auto\",\"type\":\"bar\",\"x\":[\"Austria\",\"Belgium\",\"Bulgaria\",\"Cyprus\",\"Denmark\",\"Finland\",\"France\",\"Germany\",\"Greece\",\"Hungary\",\"Iceland\",\"Ireland\",\"Italy\",\"Luxembourg\",\"Netherlands\",\"Norway\",\"Poland\",\"Portugal\",\"Romania\",\"Slovakia\",\"Spain\",\"Sweden\",\"Switzerland\",\"United Kingdom\"],\"xaxis\":\"x\",\"y\":[20005.115,41833.505,14802.266000000001,9125.875,39404.227,21975.395,24002.896,38068.261,9603.597,18335.355,31318.67,25853.982000000004,16485.815,119961.79699999999,35744.742999999995,20313.866,24917.292,4346.805,15024.493,23604.537,9270.014000000001,36419.172999999995,19449.407,41355.399],\"yaxis\":\"y\"},{\"alignmentgroup\":\"True\",\"hovertemplate\":\"Continents=North America<br>Year=1966<br>Countries=%{x}<br>Fossil fuels per capita (kWh)=%{y}<extra></extra>\",\"legendgroup\":\"North America\",\"marker\":{\"color\":\"#FFA15A\",\"pattern\":{\"shape\":\"\"}},\"name\":\"North America\",\"offsetgroup\":\"North America\",\"orientation\":\"v\",\"showlegend\":true,\"textposition\":\"auto\",\"type\":\"bar\",\"x\":[\"Canada\",\"Mexico\",\"Trinidad and Tobago\",\"United States\"],\"xaxis\":\"x\",\"y\":[54612.452000000005,6165.741999999999,38930.808,73174.345],\"yaxis\":\"y\"},{\"alignmentgroup\":\"True\",\"hovertemplate\":\"Continents=South America<br>Year=1966<br>Countries=%{x}<br>Fossil fuels per capita (kWh)=%{y}<extra></extra>\",\"legendgroup\":\"South America\",\"marker\":{\"color\":\"#19d3f3\",\"pattern\":{\"shape\":\"\"}},\"name\":\"South America\",\"offsetgroup\":\"South America\",\"orientation\":\"v\",\"showlegend\":true,\"textposition\":\"auto\",\"type\":\"bar\",\"x\":[\"Argentina\",\"Brazil\",\"Chile\",\"Colombia\",\"Ecuador\",\"Peru\",\"Venezuela\"],\"xaxis\":\"x\",\"y\":[14234.643999999998,2523.572,7205.9259999999995,4420.987,1531.72,5006.861,18874.776],\"yaxis\":\"y\"}],\"name\":\"1966\"},{\"data\":[{\"alignmentgroup\":\"True\",\"hovertemplate\":\"Continents=Africa<br>Year=1967<br>Countries=%{x}<br>Fossil fuels per capita (kWh)=%{y}<extra></extra>\",\"legendgroup\":\"Africa\",\"marker\":{\"color\":\"#636efa\",\"pattern\":{\"shape\":\"\"}},\"name\":\"Africa\",\"offsetgroup\":\"Africa\",\"orientation\":\"v\",\"showlegend\":true,\"textposition\":\"auto\",\"type\":\"bar\",\"x\":[\"Algeria\",\"Egypt\",\"Morocco\"],\"xaxis\":\"x\",\"y\":[2036.54,2394.783,1461.527],\"yaxis\":\"y\"},{\"alignmentgroup\":\"True\",\"hovertemplate\":\"Continents=Asia<br>Year=1967<br>Countries=%{x}<br>Fossil fuels per capita (kWh)=%{y}<extra></extra>\",\"legendgroup\":\"Asia\",\"marker\":{\"color\":\"#EF553B\",\"pattern\":{\"shape\":\"\"}},\"name\":\"Asia\",\"offsetgroup\":\"Asia\",\"orientation\":\"v\",\"showlegend\":true,\"textposition\":\"auto\",\"type\":\"bar\",\"x\":[\"China\",\"India\",\"Indonesia\",\"Iran\",\"Iraq\",\"Israel\",\"Japan\",\"Kuwait\",\"Malaysia\",\"Oman\",\"Pakistan\",\"Philippines\",\"Qatar\",\"Saudi Arabia\",\"Singapore\",\"Sri Lanka\",\"Thailand\",\"United Arab Emirates\",\"Vietnam\"],\"xaxis\":\"x\",\"y\":[1893.245,1137.978,708.6060000000001,4297.396,2533.837,19394.678,20834.25,150130.565,3195.7070000000003,8726.949,1565.9479999999999,1874.045,23667.196,46538.032999999996,33566.141,493.458,1114.1019999999999,31804.472,1738.5620000000001],\"yaxis\":\"y\"},{\"alignmentgroup\":\"True\",\"hovertemplate\":\"Continents=Australia_NZ<br>Year=1967<br>Countries=%{x}<br>Fossil fuels per capita (kWh)=%{y}<extra></extra>\",\"legendgroup\":\"Australia_NZ\",\"marker\":{\"color\":\"#00cc96\",\"pattern\":{\"shape\":\"\"}},\"name\":\"Australia_NZ\",\"offsetgroup\":\"Australia_NZ\",\"orientation\":\"v\",\"showlegend\":true,\"textposition\":\"auto\",\"type\":\"bar\",\"x\":[\"Australia\",\"New Zealand\"],\"xaxis\":\"x\",\"y\":[37788.019,20326.779],\"yaxis\":\"y\"},{\"alignmentgroup\":\"True\",\"hovertemplate\":\"Continents=Europe<br>Year=1967<br>Countries=%{x}<br>Fossil fuels per capita (kWh)=%{y}<extra></extra>\",\"legendgroup\":\"Europe\",\"marker\":{\"color\":\"#ab63fa\",\"pattern\":{\"shape\":\"\"}},\"name\":\"Europe\",\"offsetgroup\":\"Europe\",\"orientation\":\"v\",\"showlegend\":true,\"textposition\":\"auto\",\"type\":\"bar\",\"x\":[\"Austria\",\"Belgium\",\"Bulgaria\",\"Cyprus\",\"Denmark\",\"Finland\",\"France\",\"Germany\",\"Greece\",\"Hungary\",\"Iceland\",\"Ireland\",\"Italy\",\"Luxembourg\",\"Netherlands\",\"Norway\",\"Poland\",\"Portugal\",\"Romania\",\"Slovakia\",\"Spain\",\"Sweden\",\"Switzerland\",\"United Kingdom\"],\"xaxis\":\"x\",\"y\":[20012.277,43728.064000000006,17183.471999999998,9792.317,39331.479,22633.377999999997,25884.127999999997,37704.63,10610.835,17430.978,30023.191000000003,28038.199,18073.828999999998,117341.24,37333.79,20890.79,25431.955,4743.888,16524.62,23773.142000000003,10494.851999999999,35974.782999999996,20284.065,40966.742],\"yaxis\":\"y\"},{\"alignmentgroup\":\"True\",\"hovertemplate\":\"Continents=North America<br>Year=1967<br>Countries=%{x}<br>Fossil fuels per capita (kWh)=%{y}<extra></extra>\",\"legendgroup\":\"North America\",\"marker\":{\"color\":\"#FFA15A\",\"pattern\":{\"shape\":\"\"}},\"name\":\"North America\",\"offsetgroup\":\"North America\",\"orientation\":\"v\",\"showlegend\":true,\"textposition\":\"auto\",\"type\":\"bar\",\"x\":[\"Canada\",\"Mexico\",\"Trinidad and Tobago\",\"United States\"],\"xaxis\":\"x\",\"y\":[56573.012,6047.63,41230.123999999996,74678.427],\"yaxis\":\"y\"},{\"alignmentgroup\":\"True\",\"hovertemplate\":\"Continents=South America<br>Year=1967<br>Countries=%{x}<br>Fossil fuels per capita (kWh)=%{y}<extra></extra>\",\"legendgroup\":\"South America\",\"marker\":{\"color\":\"#19d3f3\",\"pattern\":{\"shape\":\"\"}},\"name\":\"South America\",\"offsetgroup\":\"South America\",\"orientation\":\"v\",\"showlegend\":true,\"textposition\":\"auto\",\"type\":\"bar\",\"x\":[\"Argentina\",\"Brazil\",\"Chile\",\"Colombia\",\"Ecuador\",\"Peru\",\"Venezuela\"],\"xaxis\":\"x\",\"y\":[14443.328000000001,2536.096,7219.170999999999,4546.413,1606.3220000000001,4889.915,19206.407],\"yaxis\":\"y\"}],\"name\":\"1967\"},{\"data\":[{\"alignmentgroup\":\"True\",\"hovertemplate\":\"Continents=Africa<br>Year=1968<br>Countries=%{x}<br>Fossil fuels per capita (kWh)=%{y}<extra></extra>\",\"legendgroup\":\"Africa\",\"marker\":{\"color\":\"#636efa\",\"pattern\":{\"shape\":\"\"}},\"name\":\"Africa\",\"offsetgroup\":\"Africa\",\"orientation\":\"v\",\"showlegend\":true,\"textposition\":\"auto\",\"type\":\"bar\",\"x\":[\"Algeria\",\"Egypt\",\"Morocco\"],\"xaxis\":\"x\",\"y\":[2098.9629999999997,2440.374,1521.896],\"yaxis\":\"y\"},{\"alignmentgroup\":\"True\",\"hovertemplate\":\"Continents=Asia<br>Year=1968<br>Countries=%{x}<br>Fossil fuels per capita (kWh)=%{y}<extra></extra>\",\"legendgroup\":\"Asia\",\"marker\":{\"color\":\"#EF553B\",\"pattern\":{\"shape\":\"\"}},\"name\":\"Asia\",\"offsetgroup\":\"Asia\",\"orientation\":\"v\",\"showlegend\":true,\"textposition\":\"auto\",\"type\":\"bar\",\"x\":[\"China\",\"India\",\"Indonesia\",\"Iran\",\"Iraq\",\"Israel\",\"Japan\",\"Kuwait\",\"Malaysia\",\"Oman\",\"Pakistan\",\"Philippines\",\"Qatar\",\"Saudi Arabia\",\"Singapore\",\"Sri Lanka\",\"Thailand\",\"United Arab Emirates\",\"Vietnam\"],\"xaxis\":\"x\",\"y\":[1848.126,1180.684,723.383,4598.708,2612.645,19882.142,23006.845,144154.747,3160.205,8857.187,1721.846,2070.996,69242.681,45567.602999999996,40928.695,493.412,1417.527,37949.282,1751.391],\"yaxis\":\"y\"},{\"alignmentgroup\":\"True\",\"hovertemplate\":\"Continents=Australia_NZ<br>Year=1968<br>Countries=%{x}<br>Fossil fuels per capita (kWh)=%{y}<extra></extra>\",\"legendgroup\":\"Australia_NZ\",\"marker\":{\"color\":\"#00cc96\",\"pattern\":{\"shape\":\"\"}},\"name\":\"Australia_NZ\",\"offsetgroup\":\"Australia_NZ\",\"orientation\":\"v\",\"showlegend\":true,\"textposition\":\"auto\",\"type\":\"bar\",\"x\":[\"Australia\",\"New Zealand\"],\"xaxis\":\"x\",\"y\":[39070.431000000004,20090.342],\"yaxis\":\"y\"},{\"alignmentgroup\":\"True\",\"hovertemplate\":\"Continents=Europe<br>Year=1968<br>Countries=%{x}<br>Fossil fuels per capita (kWh)=%{y}<extra></extra>\",\"legendgroup\":\"Europe\",\"marker\":{\"color\":\"#ab63fa\",\"pattern\":{\"shape\":\"\"}},\"name\":\"Europe\",\"offsetgroup\":\"Europe\",\"orientation\":\"v\",\"showlegend\":true,\"textposition\":\"auto\",\"type\":\"bar\",\"x\":[\"Austria\",\"Belgium\",\"Bulgaria\",\"Cyprus\",\"Denmark\",\"Finland\",\"France\",\"Germany\",\"Greece\",\"Hungary\",\"Iceland\",\"Ireland\",\"Italy\",\"Luxembourg\",\"Netherlands\",\"Norway\",\"Poland\",\"Portugal\",\"Romania\",\"Slovakia\",\"Spain\",\"Sweden\",\"Switzerland\",\"United Kingdom\"],\"xaxis\":\"x\",\"y\":[21568.394,48559.77099999999,19414.15,10747.921,40814.821,25906.709,26901.551,40019.962,11097.355,18011.94,31516.477000000003,32702.769,19620.978,126201.849,41261.832,22835.721,27161.606,4987.188,17369.426,26297.151,10873.678999999998,39557.382000000005,21979.222,42190.808],\"yaxis\":\"y\"},{\"alignmentgroup\":\"True\",\"hovertemplate\":\"Continents=North America<br>Year=1968<br>Countries=%{x}<br>Fossil fuels per capita (kWh)=%{y}<extra></extra>\",\"legendgroup\":\"North America\",\"marker\":{\"color\":\"#FFA15A\",\"pattern\":{\"shape\":\"\"}},\"name\":\"North America\",\"offsetgroup\":\"North America\",\"orientation\":\"v\",\"showlegend\":true,\"textposition\":\"auto\",\"type\":\"bar\",\"x\":[\"Canada\",\"Mexico\",\"Trinidad and Tobago\",\"United States\"],\"xaxis\":\"x\",\"y\":[59987.637,6346.684,42228.055,78593.777],\"yaxis\":\"y\"},{\"alignmentgroup\":\"True\",\"hovertemplate\":\"Continents=South America<br>Year=1968<br>Countries=%{x}<br>Fossil fuels per capita (kWh)=%{y}<extra></extra>\",\"legendgroup\":\"South America\",\"marker\":{\"color\":\"#19d3f3\",\"pattern\":{\"shape\":\"\"}},\"name\":\"South America\",\"offsetgroup\":\"South America\",\"orientation\":\"v\",\"showlegend\":true,\"textposition\":\"auto\",\"type\":\"bar\",\"x\":[\"Argentina\",\"Brazil\",\"Chile\",\"Colombia\",\"Ecuador\",\"Peru\",\"Venezuela\"],\"xaxis\":\"x\",\"y\":[14702.45,2911.3720000000003,7281.558000000001,4622.708,1864.131,4805.085999999999,19791.373],\"yaxis\":\"y\"}],\"name\":\"1968\"},{\"data\":[{\"alignmentgroup\":\"True\",\"hovertemplate\":\"Continents=Africa<br>Year=1969<br>Countries=%{x}<br>Fossil fuels per capita (kWh)=%{y}<extra></extra>\",\"legendgroup\":\"Africa\",\"marker\":{\"color\":\"#636efa\",\"pattern\":{\"shape\":\"\"}},\"name\":\"Africa\",\"offsetgroup\":\"Africa\",\"orientation\":\"v\",\"showlegend\":true,\"textposition\":\"auto\",\"type\":\"bar\",\"x\":[\"Algeria\",\"Egypt\",\"Morocco\"],\"xaxis\":\"x\",\"y\":[2309.1839999999997,1826.98,1592.6229999999998],\"yaxis\":\"y\"},{\"alignmentgroup\":\"True\",\"hovertemplate\":\"Continents=Asia<br>Year=1969<br>Countries=%{x}<br>Fossil fuels per capita (kWh)=%{y}<extra></extra>\",\"legendgroup\":\"Asia\",\"marker\":{\"color\":\"#EF553B\",\"pattern\":{\"shape\":\"\"}},\"name\":\"Asia\",\"offsetgroup\":\"Asia\",\"orientation\":\"v\",\"showlegend\":true,\"textposition\":\"auto\",\"type\":\"bar\",\"x\":[\"China\",\"India\",\"Indonesia\",\"Iran\",\"Iraq\",\"Israel\",\"Japan\",\"Kuwait\",\"Malaysia\",\"Oman\",\"Pakistan\",\"Philippines\",\"Qatar\",\"Saudi Arabia\",\"Singapore\",\"Sri Lanka\",\"Thailand\",\"United Arab Emirates\",\"Vietnam\"],\"xaxis\":\"x\",\"y\":[2204.021,1276.995,801.78,4912.768,2963.958,20251.118000000002,26099.997000000003,135880.708,3186.113,8949.983,1676.207,2157.487,100184.635,44582.672999999995,39468.59,493.394,1489.9779999999998,34329.709,2016.0610000000001],\"yaxis\":\"y\"},{\"alignmentgroup\":\"True\",\"hovertemplate\":\"Continents=Australia_NZ<br>Year=1969<br>Countries=%{x}<br>Fossil fuels per capita (kWh)=%{y}<extra></extra>\",\"legendgroup\":\"Australia_NZ\",\"marker\":{\"color\":\"#00cc96\",\"pattern\":{\"shape\":\"\"}},\"name\":\"Australia_NZ\",\"offsetgroup\":\"Australia_NZ\",\"orientation\":\"v\",\"showlegend\":true,\"textposition\":\"auto\",\"type\":\"bar\",\"x\":[\"Australia\",\"New Zealand\"],\"xaxis\":\"x\",\"y\":[39608.02,20513.141],\"yaxis\":\"y\"},{\"alignmentgroup\":\"True\",\"hovertemplate\":\"Continents=Europe<br>Year=1969<br>Countries=%{x}<br>Fossil fuels per capita (kWh)=%{y}<extra></extra>\",\"legendgroup\":\"Europe\",\"marker\":{\"color\":\"#ab63fa\",\"pattern\":{\"shape\":\"\"}},\"name\":\"Europe\",\"offsetgroup\":\"Europe\",\"orientation\":\"v\",\"showlegend\":true,\"textposition\":\"auto\",\"type\":\"bar\",\"x\":[\"Austria\",\"Belgium\",\"Bulgaria\",\"Cyprus\",\"Denmark\",\"Finland\",\"France\",\"Germany\",\"Greece\",\"Hungary\",\"Iceland\",\"Ireland\",\"Italy\",\"Luxembourg\",\"Netherlands\",\"Norway\",\"Poland\",\"Portugal\",\"Romania\",\"Slovakia\",\"Spain\",\"Sweden\",\"Switzerland\",\"United Kingdom\"],\"xaxis\":\"x\",\"y\":[23063.468999999997,53128.407999999996,21363.683999999997,12524.421999999999,46536.38,30223.945,29573.546000000002,42999.977999999996,11451.745,19215.964,28581.484,32776.876000000004,21302.88,135175.522,45421.502,24940.496,28814.977000000003,5179.784000000001,19662.966,27576.866,11855.229,41792.38,23380.884,43463.042],\"yaxis\":\"y\"},{\"alignmentgroup\":\"True\",\"hovertemplate\":\"Continents=North America<br>Year=1969<br>Countries=%{x}<br>Fossil fuels per capita (kWh)=%{y}<extra></extra>\",\"legendgroup\":\"North America\",\"marker\":{\"color\":\"#FFA15A\",\"pattern\":{\"shape\":\"\"}},\"name\":\"North America\",\"offsetgroup\":\"North America\",\"orientation\":\"v\",\"showlegend\":true,\"textposition\":\"auto\",\"type\":\"bar\",\"x\":[\"Canada\",\"Mexico\",\"Trinidad and Tobago\",\"United States\"],\"xaxis\":\"x\",\"y\":[61755.666,6783.185,43268.217000000004,81838.88799999999],\"yaxis\":\"y\"},{\"alignmentgroup\":\"True\",\"hovertemplate\":\"Continents=South America<br>Year=1969<br>Countries=%{x}<br>Fossil fuels per capita (kWh)=%{y}<extra></extra>\",\"legendgroup\":\"South America\",\"marker\":{\"color\":\"#19d3f3\",\"pattern\":{\"shape\":\"\"}},\"name\":\"South America\",\"offsetgroup\":\"South America\",\"orientation\":\"v\",\"showlegend\":true,\"textposition\":\"auto\",\"type\":\"bar\",\"x\":[\"Argentina\",\"Brazil\",\"Chile\",\"Colombia\",\"Ecuador\",\"Peru\",\"Venezuela\"],\"xaxis\":\"x\",\"y\":[15005.921999999999,3117.538,7661.543000000001,4518.062,1915.701,4648.068,19274.131],\"yaxis\":\"y\"}],\"name\":\"1969\"},{\"data\":[{\"alignmentgroup\":\"True\",\"hovertemplate\":\"Continents=Africa<br>Year=1970<br>Countries=%{x}<br>Fossil fuels per capita (kWh)=%{y}<extra></extra>\",\"legendgroup\":\"Africa\",\"marker\":{\"color\":\"#636efa\",\"pattern\":{\"shape\":\"\"}},\"name\":\"Africa\",\"offsetgroup\":\"Africa\",\"orientation\":\"v\",\"showlegend\":true,\"textposition\":\"auto\",\"type\":\"bar\",\"x\":[\"Algeria\",\"Egypt\",\"Morocco\"],\"xaxis\":\"x\",\"y\":[2422.667,2247.39,1647.412],\"yaxis\":\"y\"},{\"alignmentgroup\":\"True\",\"hovertemplate\":\"Continents=Asia<br>Year=1970<br>Countries=%{x}<br>Fossil fuels per capita (kWh)=%{y}<extra></extra>\",\"legendgroup\":\"Asia\",\"marker\":{\"color\":\"#EF553B\",\"pattern\":{\"shape\":\"\"}},\"name\":\"Asia\",\"offsetgroup\":\"Asia\",\"orientation\":\"v\",\"showlegend\":true,\"textposition\":\"auto\",\"type\":\"bar\",\"x\":[\"China\",\"India\",\"Indonesia\",\"Iran\",\"Iraq\",\"Israel\",\"Japan\",\"Kuwait\",\"Malaysia\",\"Oman\",\"Pakistan\",\"Philippines\",\"Qatar\",\"Saudi Arabia\",\"Singapore\",\"Sri Lanka\",\"Thailand\",\"United Arab Emirates\",\"Vietnam\"],\"xaxis\":\"x\",\"y\":[2767.7859999999996,1206.847,823.921,5654.5019999999995,3633.993,20494.131999999998,28921.814,102567.71800000001,3439.408,9062.873,1622.125,2382.548,104779.05900000001,45040.380999999994,42087.569,965.2239999999999,1680.614,40874.888,2047.445],\"yaxis\":\"y\"},{\"alignmentgroup\":\"True\",\"hovertemplate\":\"Continents=Australia_NZ<br>Year=1970<br>Countries=%{x}<br>Fossil fuels per capita (kWh)=%{y}<extra></extra>\",\"legendgroup\":\"Australia_NZ\",\"marker\":{\"color\":\"#00cc96\",\"pattern\":{\"shape\":\"\"}},\"name\":\"Australia_NZ\",\"offsetgroup\":\"Australia_NZ\",\"orientation\":\"v\",\"showlegend\":true,\"textposition\":\"auto\",\"type\":\"bar\",\"x\":[\"Australia\",\"New Zealand\"],\"xaxis\":\"x\",\"y\":[42147.602,22970.279],\"yaxis\":\"y\"},{\"alignmentgroup\":\"True\",\"hovertemplate\":\"Continents=Europe<br>Year=1970<br>Countries=%{x}<br>Fossil fuels per capita (kWh)=%{y}<extra></extra>\",\"legendgroup\":\"Europe\",\"marker\":{\"color\":\"#ab63fa\",\"pattern\":{\"shape\":\"\"}},\"name\":\"Europe\",\"offsetgroup\":\"Europe\",\"orientation\":\"v\",\"showlegend\":true,\"textposition\":\"auto\",\"type\":\"bar\",\"x\":[\"Austria\",\"Belgium\",\"Bulgaria\",\"Cyprus\",\"Denmark\",\"Finland\",\"France\",\"Germany\",\"Greece\",\"Hungary\",\"Iceland\",\"Ireland\",\"Italy\",\"Luxembourg\",\"Netherlands\",\"Norway\",\"Poland\",\"Portugal\",\"Romania\",\"Slovakia\",\"Spain\",\"Sweden\",\"Switzerland\",\"United Kingdom\"],\"xaxis\":\"x\",\"y\":[25438.527000000002,55928.397000000004,23859.331000000002,13037.191,49263.567,33292.62,31814.525,45022.892,12530.948999999999,20632.803,28880.64,25251.354,23565.467999999997,139489.22400000002,50665.596,27596.521,30101.927000000003,6834.6269999999995,20624.431,29944.547000000002,13099.703000000001,45099.01,25653.001,44334.887],\"yaxis\":\"y\"},{\"alignmentgroup\":\"True\",\"hovertemplate\":\"Continents=North America<br>Year=1970<br>Countries=%{x}<br>Fossil fuels per capita (kWh)=%{y}<extra></extra>\",\"legendgroup\":\"North America\",\"marker\":{\"color\":\"#FFA15A\",\"pattern\":{\"shape\":\"\"}},\"name\":\"North America\",\"offsetgroup\":\"North America\",\"orientation\":\"v\",\"showlegend\":true,\"textposition\":\"auto\",\"type\":\"bar\",\"x\":[\"Canada\",\"Mexico\",\"Trinidad and Tobago\",\"United States\"],\"xaxis\":\"x\",\"y\":[65407.155,6984.552,47281.077000000005,83909.879],\"yaxis\":\"y\"},{\"alignmentgroup\":\"True\",\"hovertemplate\":\"Continents=South America<br>Year=1970<br>Countries=%{x}<br>Fossil fuels per capita (kWh)=%{y}<extra></extra>\",\"legendgroup\":\"South America\",\"marker\":{\"color\":\"#19d3f3\",\"pattern\":{\"shape\":\"\"}},\"name\":\"South America\",\"offsetgroup\":\"South America\",\"orientation\":\"v\",\"showlegend\":true,\"textposition\":\"auto\",\"type\":\"bar\",\"x\":[\"Argentina\",\"Brazil\",\"Chile\",\"Colombia\",\"Ecuador\",\"Peru\",\"Venezuela\"],\"xaxis\":\"x\",\"y\":[13920.153,3441.9509999999996,7938.844,4790.08,2236.8520000000003,4724.39,18632.86],\"yaxis\":\"y\"}],\"name\":\"1970\"},{\"data\":[{\"alignmentgroup\":\"True\",\"hovertemplate\":\"Continents=Africa<br>Year=1971<br>Countries=%{x}<br>Fossil fuels per capita (kWh)=%{y}<extra></extra>\",\"legendgroup\":\"Africa\",\"marker\":{\"color\":\"#636efa\",\"pattern\":{\"shape\":\"\"}},\"name\":\"Africa\",\"offsetgroup\":\"Africa\",\"orientation\":\"v\",\"showlegend\":true,\"textposition\":\"auto\",\"type\":\"bar\",\"x\":[\"Algeria\",\"Egypt\",\"Morocco\"],\"xaxis\":\"x\",\"y\":[2606.0429999999997,2239.087,1699.307],\"yaxis\":\"y\"},{\"alignmentgroup\":\"True\",\"hovertemplate\":\"Continents=Asia<br>Year=1971<br>Countries=%{x}<br>Fossil fuels per capita (kWh)=%{y}<extra></extra>\",\"legendgroup\":\"Asia\",\"marker\":{\"color\":\"#EF553B\",\"pattern\":{\"shape\":\"\"}},\"name\":\"Asia\",\"offsetgroup\":\"Asia\",\"orientation\":\"v\",\"showlegend\":true,\"textposition\":\"auto\",\"type\":\"bar\",\"x\":[\"Bangladesh\",\"China\",\"India\",\"Indonesia\",\"Iran\",\"Iraq\",\"Israel\",\"Japan\",\"Kuwait\",\"Malaysia\",\"Oman\",\"Pakistan\",\"Philippines\",\"Qatar\",\"Saudi Arabia\",\"Singapore\",\"Sri Lanka\",\"Thailand\",\"United Arab Emirates\",\"Vietnam\"],\"xaxis\":\"x\",\"y\":[124.14200000000001,3197.784,1220.198,829.868,6030.696999999999,3849.68,20692.571,30173.828999999998,95473.06,3770.47,20656.229,1485.73,2685.455,96481.146,43152.288,35858.804,860.9580000000001,1803.365,52844.918,1776.1270000000002],\"yaxis\":\"y\"},{\"alignmentgroup\":\"True\",\"hovertemplate\":\"Continents=Australia_NZ<br>Year=1971<br>Countries=%{x}<br>Fossil fuels per capita (kWh)=%{y}<extra></extra>\",\"legendgroup\":\"Australia_NZ\",\"marker\":{\"color\":\"#00cc96\",\"pattern\":{\"shape\":\"\"}},\"name\":\"Australia_NZ\",\"offsetgroup\":\"Australia_NZ\",\"orientation\":\"v\",\"showlegend\":true,\"textposition\":\"auto\",\"type\":\"bar\",\"x\":[\"Australia\",\"New Zealand\"],\"xaxis\":\"x\",\"y\":[43270.248,22526.852000000003],\"yaxis\":\"y\"},{\"alignmentgroup\":\"True\",\"hovertemplate\":\"Continents=Europe<br>Year=1971<br>Countries=%{x}<br>Fossil fuels per capita (kWh)=%{y}<extra></extra>\",\"legendgroup\":\"Europe\",\"marker\":{\"color\":\"#ab63fa\",\"pattern\":{\"shape\":\"\"}},\"name\":\"Europe\",\"offsetgroup\":\"Europe\",\"orientation\":\"v\",\"showlegend\":true,\"textposition\":\"auto\",\"type\":\"bar\",\"x\":[\"Austria\",\"Belgium\",\"Bulgaria\",\"Cyprus\",\"Denmark\",\"Finland\",\"France\",\"Germany\",\"Greece\",\"Hungary\",\"Iceland\",\"Ireland\",\"Italy\",\"Luxembourg\",\"Netherlands\",\"Norway\",\"Poland\",\"Portugal\",\"Romania\",\"Slovakia\",\"Spain\",\"Sweden\",\"Switzerland\",\"United Kingdom\"],\"xaxis\":\"x\",\"y\":[26933.437,54738.545999999995,24720.236,15376.042,46264.484000000004,33484.223,33215.617,45474.545,15004.115,21236.134,30969.588,26276.497000000003,24841.086,133627.12900000002,52831.085999999996,26977.956000000002,30835.586,7580.4619999999995,21423.892999999996,32245.564,14030.888,42089.515999999996,26605.626,43331.894],\"yaxis\":\"y\"},{\"alignmentgroup\":\"True\",\"hovertemplate\":\"Continents=North America<br>Year=1971<br>Countries=%{x}<br>Fossil fuels per capita (kWh)=%{y}<extra></extra>\",\"legendgroup\":\"North America\",\"marker\":{\"color\":\"#FFA15A\",\"pattern\":{\"shape\":\"\"}},\"name\":\"North America\",\"offsetgroup\":\"North America\",\"orientation\":\"v\",\"showlegend\":true,\"textposition\":\"auto\",\"type\":\"bar\",\"x\":[\"Canada\",\"Mexico\",\"Trinidad and Tobago\",\"United States\"],\"xaxis\":\"x\",\"y\":[66042.604,7192.331999999999,47121.828,84499.34],\"yaxis\":\"y\"},{\"alignmentgroup\":\"True\",\"hovertemplate\":\"Continents=South America<br>Year=1971<br>Countries=%{x}<br>Fossil fuels per capita (kWh)=%{y}<extra></extra>\",\"legendgroup\":\"South America\",\"marker\":{\"color\":\"#19d3f3\",\"pattern\":{\"shape\":\"\"}},\"name\":\"South America\",\"offsetgroup\":\"South America\",\"orientation\":\"v\",\"showlegend\":true,\"textposition\":\"auto\",\"type\":\"bar\",\"x\":[\"Argentina\",\"Brazil\",\"Chile\",\"Colombia\",\"Ecuador\",\"Peru\",\"Venezuela\"],\"xaxis\":\"x\",\"y\":[14569.485,3676.59,8382.624,4535.944,2389.994,4638.065,18072.014],\"yaxis\":\"y\"}],\"name\":\"1971\"},{\"data\":[{\"alignmentgroup\":\"True\",\"hovertemplate\":\"Continents=Africa<br>Year=1972<br>Countries=%{x}<br>Fossil fuels per capita (kWh)=%{y}<extra></extra>\",\"legendgroup\":\"Africa\",\"marker\":{\"color\":\"#636efa\",\"pattern\":{\"shape\":\"\"}},\"name\":\"Africa\",\"offsetgroup\":\"Africa\",\"orientation\":\"v\",\"showlegend\":true,\"textposition\":\"auto\",\"type\":\"bar\",\"x\":[\"Algeria\",\"Egypt\",\"Morocco\"],\"xaxis\":\"x\",\"y\":[2825.08,2465.904,1806.9520000000002],\"yaxis\":\"y\"},{\"alignmentgroup\":\"True\",\"hovertemplate\":\"Continents=Asia<br>Year=1972<br>Countries=%{x}<br>Fossil fuels per capita (kWh)=%{y}<extra></extra>\",\"legendgroup\":\"Asia\",\"marker\":{\"color\":\"#EF553B\",\"pattern\":{\"shape\":\"\"}},\"name\":\"Asia\",\"offsetgroup\":\"Asia\",\"orientation\":\"v\",\"showlegend\":true,\"textposition\":\"auto\",\"type\":\"bar\",\"x\":[\"Bangladesh\",\"China\",\"India\",\"Indonesia\",\"Iran\",\"Iraq\",\"Israel\",\"Japan\",\"Kuwait\",\"Malaysia\",\"Oman\",\"Pakistan\",\"Philippines\",\"Qatar\",\"Saudi Arabia\",\"Singapore\",\"Sri Lanka\",\"Thailand\",\"United Arab Emirates\",\"Vietnam\"],\"xaxis\":\"x\",\"y\":[231.173,3359.9190000000003,1269.04,862.863,6602.852,4424.308,20899.196,31211.938,99568.675,4173.532999999999,22779.937,1237.998,2560.9629999999997,96953.786,44137.227,44087.285,922.174,2184.3160000000003,47281.458,1692.4270000000001],\"yaxis\":\"y\"},{\"alignmentgroup\":\"True\",\"hovertemplate\":\"Continents=Australia_NZ<br>Year=1972<br>Countries=%{x}<br>Fossil fuels per capita (kWh)=%{y}<extra></extra>\",\"legendgroup\":\"Australia_NZ\",\"marker\":{\"color\":\"#00cc96\",\"pattern\":{\"shape\":\"\"}},\"name\":\"Australia_NZ\",\"offsetgroup\":\"Australia_NZ\",\"orientation\":\"v\",\"showlegend\":true,\"textposition\":\"auto\",\"type\":\"bar\",\"x\":[\"Australia\",\"New Zealand\"],\"xaxis\":\"x\",\"y\":[44626.899000000005,23731.941000000003],\"yaxis\":\"y\"},{\"alignmentgroup\":\"True\",\"hovertemplate\":\"Continents=Europe<br>Year=1972<br>Countries=%{x}<br>Fossil fuels per capita (kWh)=%{y}<extra></extra>\",\"legendgroup\":\"Europe\",\"marker\":{\"color\":\"#ab63fa\",\"pattern\":{\"shape\":\"\"}},\"name\":\"Europe\",\"offsetgroup\":\"Europe\",\"orientation\":\"v\",\"showlegend\":true,\"textposition\":\"auto\",\"type\":\"bar\",\"x\":[\"Austria\",\"Belgium\",\"Bulgaria\",\"Cyprus\",\"Denmark\",\"Finland\",\"France\",\"Germany\",\"Greece\",\"Hungary\",\"Iceland\",\"Ireland\",\"Italy\",\"Luxembourg\",\"Netherlands\",\"Norway\",\"Poland\",\"Portugal\",\"Romania\",\"Slovakia\",\"Spain\",\"Sweden\",\"Switzerland\",\"United Kingdom\"],\"xaxis\":\"x\",\"y\":[27794.049,57997.51,25336.688,17097.185,48541.675,35695.084,35162.952000000005,46905.085,16820.596999999998,21863.889,32689.882999999998,27150.264,25883.116,136535.744,60729.295,28139.838,32276.97,8045.65,21967.686,33619.187999999995,14741.681999999999,42626.431,26956.605,43787.412000000004],\"yaxis\":\"y\"},{\"alignmentgroup\":\"True\",\"hovertemplate\":\"Continents=North America<br>Year=1972<br>Countries=%{x}<br>Fossil fuels per capita (kWh)=%{y}<extra></extra>\",\"legendgroup\":\"North America\",\"marker\":{\"color\":\"#FFA15A\",\"pattern\":{\"shape\":\"\"}},\"name\":\"North America\",\"offsetgroup\":\"North America\",\"orientation\":\"v\",\"showlegend\":true,\"textposition\":\"auto\",\"type\":\"bar\",\"x\":[\"Canada\",\"Mexico\",\"Trinidad and Tobago\",\"United States\"],\"xaxis\":\"x\",\"y\":[68716.34599999999,7746.476,64186.424000000006,87944.226],\"yaxis\":\"y\"},{\"alignmentgroup\":\"True\",\"hovertemplate\":\"Continents=South America<br>Year=1972<br>Countries=%{x}<br>Fossil fuels per capita (kWh)=%{y}<extra></extra>\",\"legendgroup\":\"South America\",\"marker\":{\"color\":\"#19d3f3\",\"pattern\":{\"shape\":\"\"}},\"name\":\"South America\",\"offsetgroup\":\"South America\",\"orientation\":\"v\",\"showlegend\":true,\"textposition\":\"auto\",\"type\":\"bar\",\"x\":[\"Argentina\",\"Brazil\",\"Chile\",\"Colombia\",\"Ecuador\",\"Peru\",\"Venezuela\"],\"xaxis\":\"x\",\"y\":[14599.978000000001,4103.465999999999,8309.903,4991.569,2433.252,3919.8909999999996,18469.24],\"yaxis\":\"y\"}],\"name\":\"1972\"},{\"data\":[{\"alignmentgroup\":\"True\",\"hovertemplate\":\"Continents=Africa<br>Year=1973<br>Countries=%{x}<br>Fossil fuels per capita (kWh)=%{y}<extra></extra>\",\"legendgroup\":\"Africa\",\"marker\":{\"color\":\"#636efa\",\"pattern\":{\"shape\":\"\"}},\"name\":\"Africa\",\"offsetgroup\":\"Africa\",\"orientation\":\"v\",\"showlegend\":true,\"textposition\":\"auto\",\"type\":\"bar\",\"x\":[\"Algeria\",\"Egypt\",\"Morocco\"],\"xaxis\":\"x\",\"y\":[3248.063,2258.595,2066.485],\"yaxis\":\"y\"},{\"alignmentgroup\":\"True\",\"hovertemplate\":\"Continents=Asia<br>Year=1973<br>Countries=%{x}<br>Fossil fuels per capita (kWh)=%{y}<extra></extra>\",\"legendgroup\":\"Asia\",\"marker\":{\"color\":\"#EF553B\",\"pattern\":{\"shape\":\"\"}},\"name\":\"Asia\",\"offsetgroup\":\"Asia\",\"orientation\":\"v\",\"showlegend\":true,\"textposition\":\"auto\",\"type\":\"bar\",\"x\":[\"Bangladesh\",\"China\",\"India\",\"Indonesia\",\"Iran\",\"Iraq\",\"Israel\",\"Japan\",\"Kuwait\",\"Malaysia\",\"Oman\",\"Pakistan\",\"Philippines\",\"Qatar\",\"Saudi Arabia\",\"Singapore\",\"Sri Lanka\",\"Thailand\",\"United Arab Emirates\",\"Vietnam\"],\"xaxis\":\"x\",\"y\":[276.518,3460.428,1253.839,944.2339999999999,7793.014,4155.654,21140.23,34905.941,93432.69900000001,4414.742,19053.192,1279.563,2919.67,126908.664,44845.142,40788.443999999996,942.815,2249.222,51375.005999999994,1747.385],\"yaxis\":\"y\"},{\"alignmentgroup\":\"True\",\"hovertemplate\":\"Continents=Australia_NZ<br>Year=1973<br>Countries=%{x}<br>Fossil fuels per capita (kWh)=%{y}<extra></extra>\",\"legendgroup\":\"Australia_NZ\",\"marker\":{\"color\":\"#00cc96\",\"pattern\":{\"shape\":\"\"}},\"name\":\"Australia_NZ\",\"offsetgroup\":\"Australia_NZ\",\"orientation\":\"v\",\"showlegend\":true,\"textposition\":\"auto\",\"type\":\"bar\",\"x\":[\"Australia\",\"New Zealand\"],\"xaxis\":\"x\",\"y\":[47047.973,25027.945],\"yaxis\":\"y\"},{\"alignmentgroup\":\"True\",\"hovertemplate\":\"Continents=Europe<br>Year=1973<br>Countries=%{x}<br>Fossil fuels per capita (kWh)=%{y}<extra></extra>\",\"legendgroup\":\"Europe\",\"marker\":{\"color\":\"#ab63fa\",\"pattern\":{\"shape\":\"\"}},\"name\":\"Europe\",\"offsetgroup\":\"Europe\",\"orientation\":\"v\",\"showlegend\":true,\"textposition\":\"auto\",\"type\":\"bar\",\"x\":[\"Austria\",\"Belgium\",\"Bulgaria\",\"Cyprus\",\"Denmark\",\"Finland\",\"France\",\"Germany\",\"Greece\",\"Hungary\",\"Iceland\",\"Ireland\",\"Italy\",\"Luxembourg\",\"Netherlands\",\"Norway\",\"Poland\",\"Portugal\",\"Romania\",\"Slovakia\",\"Spain\",\"Sweden\",\"Switzerland\",\"United Kingdom\"],\"xaxis\":\"x\",\"y\":[29539.754,58557.22900000001,26048.326,18140.44,46720.905,39677.934,38247.508,49468.04,19497.78,23617.332000000002,37299.259,28173.392999999996,27180.262000000002,143579.952,63773.245,28547.863999999998,32624.432999999997,8916.168,23713.453999999998,34696.04,16681.271,43613.507000000005,28782.795,46000.328],\"yaxis\":\"y\"},{\"alignmentgroup\":\"True\",\"hovertemplate\":\"Continents=North America<br>Year=1973<br>Countries=%{x}<br>Fossil fuels per capita (kWh)=%{y}<extra></extra>\",\"legendgroup\":\"North America\",\"marker\":{\"color\":\"#FFA15A\",\"pattern\":{\"shape\":\"\"}},\"name\":\"North America\",\"offsetgroup\":\"North America\",\"orientation\":\"v\",\"showlegend\":true,\"textposition\":\"auto\",\"type\":\"bar\",\"x\":[\"Canada\",\"Mexico\",\"Trinidad and Tobago\",\"United States\"],\"xaxis\":\"x\",\"y\":[71362.631,8124.501,62774.178,90524.341],\"yaxis\":\"y\"},{\"alignmentgroup\":\"True\",\"hovertemplate\":\"Continents=South America<br>Year=1973<br>Countries=%{x}<br>Fossil fuels per capita (kWh)=%{y}<extra></extra>\",\"legendgroup\":\"South America\",\"marker\":{\"color\":\"#19d3f3\",\"pattern\":{\"shape\":\"\"}},\"name\":\"South America\",\"offsetgroup\":\"South America\",\"orientation\":\"v\",\"showlegend\":true,\"textposition\":\"auto\",\"type\":\"bar\",\"x\":[\"Argentina\",\"Brazil\",\"Chile\",\"Colombia\",\"Ecuador\",\"Peru\",\"Venezuela\"],\"xaxis\":\"x\",\"y\":[14827.686000000002,4858.817,7843.339,4797.153,2549.612,4448.8279999999995,20684.926],\"yaxis\":\"y\"}],\"name\":\"1973\"},{\"data\":[{\"alignmentgroup\":\"True\",\"hovertemplate\":\"Continents=Africa<br>Year=1974<br>Countries=%{x}<br>Fossil fuels per capita (kWh)=%{y}<extra></extra>\",\"legendgroup\":\"Africa\",\"marker\":{\"color\":\"#636efa\",\"pattern\":{\"shape\":\"\"}},\"name\":\"Africa\",\"offsetgroup\":\"Africa\",\"orientation\":\"v\",\"showlegend\":true,\"textposition\":\"auto\",\"type\":\"bar\",\"x\":[\"Algeria\",\"Egypt\",\"Morocco\"],\"xaxis\":\"x\",\"y\":[3556.837,2495.218,2152.2529999999997],\"yaxis\":\"y\"},{\"alignmentgroup\":\"True\",\"hovertemplate\":\"Continents=Asia<br>Year=1974<br>Countries=%{x}<br>Fossil fuels per capita (kWh)=%{y}<extra></extra>\",\"legendgroup\":\"Asia\",\"marker\":{\"color\":\"#EF553B\",\"pattern\":{\"shape\":\"\"}},\"name\":\"Asia\",\"offsetgroup\":\"Asia\",\"orientation\":\"v\",\"showlegend\":true,\"textposition\":\"auto\",\"type\":\"bar\",\"x\":[\"Bangladesh\",\"China\",\"India\",\"Indonesia\",\"Iran\",\"Iraq\",\"Israel\",\"Japan\",\"Kuwait\",\"Malaysia\",\"Oman\",\"Pakistan\",\"Philippines\",\"Qatar\",\"Saudi Arabia\",\"Singapore\",\"Sri Lanka\",\"Thailand\",\"United Arab Emirates\",\"Vietnam\"],\"xaxis\":\"x\",\"y\":[285.159,3482.2859999999996,1315.21,984.9780000000001,8582.828000000001,3937.6820000000002,20907.418,33930.084,84497.36099999999,4402.911,16778.971999999998,1337.01,2656.0159999999996,102027.22099999999,45266.34,39559.115,733.041,2242.239,47742.032,1264.18],\"yaxis\":\"y\"},{\"alignmentgroup\":\"True\",\"hovertemplate\":\"Continents=Australia_NZ<br>Year=1974<br>Countries=%{x}<br>Fossil fuels per capita (kWh)=%{y}<extra></extra>\",\"legendgroup\":\"Australia_NZ\",\"marker\":{\"color\":\"#00cc96\",\"pattern\":{\"shape\":\"\"}},\"name\":\"Australia_NZ\",\"offsetgroup\":\"Australia_NZ\",\"orientation\":\"v\",\"showlegend\":true,\"textposition\":\"auto\",\"type\":\"bar\",\"x\":[\"Australia\",\"New Zealand\"],\"xaxis\":\"x\",\"y\":[49206.757000000005,24340.676],\"yaxis\":\"y\"},{\"alignmentgroup\":\"True\",\"hovertemplate\":\"Continents=Europe<br>Year=1974<br>Countries=%{x}<br>Fossil fuels per capita (kWh)=%{y}<extra></extra>\",\"legendgroup\":\"Europe\",\"marker\":{\"color\":\"#ab63fa\",\"pattern\":{\"shape\":\"\"}},\"name\":\"Europe\",\"offsetgroup\":\"Europe\",\"orientation\":\"v\",\"showlegend\":true,\"textposition\":\"auto\",\"type\":\"bar\",\"x\":[\"Austria\",\"Belgium\",\"Bulgaria\",\"Cyprus\",\"Denmark\",\"Finland\",\"France\",\"Germany\",\"Greece\",\"Hungary\",\"Iceland\",\"Ireland\",\"Italy\",\"Luxembourg\",\"Netherlands\",\"Norway\",\"Poland\",\"Portugal\",\"Romania\",\"Slovakia\",\"Spain\",\"Sweden\",\"Switzerland\",\"United Kingdom\"],\"xaxis\":\"x\",\"y\":[28298.269,56356.689000000006,26583.17,15908.243999999999,42301.747,36258.083,36746.856,48427.468,18835.977,24272.565,34324.379,28059.013,26952.126,144365.739,59479.386,26356.023999999998,33373.875,9154.91,23516.655,35491.122,17091.006,39545.972,25786.465,43245.997],\"yaxis\":\"y\"},{\"alignmentgroup\":\"True\",\"hovertemplate\":\"Continents=North America<br>Year=1974<br>Countries=%{x}<br>Fossil fuels per capita (kWh)=%{y}<extra></extra>\",\"legendgroup\":\"North America\",\"marker\":{\"color\":\"#FFA15A\",\"pattern\":{\"shape\":\"\"}},\"name\":\"North America\",\"offsetgroup\":\"North America\",\"orientation\":\"v\",\"showlegend\":true,\"textposition\":\"auto\",\"type\":\"bar\",\"x\":[\"Canada\",\"Mexico\",\"Trinidad and Tobago\",\"United States\"],\"xaxis\":\"x\",\"y\":[71388.969,8745.702,59623.454000000005,86544.463],\"yaxis\":\"y\"},{\"alignmentgroup\":\"True\",\"hovertemplate\":\"Continents=South America<br>Year=1974<br>Countries=%{x}<br>Fossil fuels per capita (kWh)=%{y}<extra></extra>\",\"legendgroup\":\"South America\",\"marker\":{\"color\":\"#19d3f3\",\"pattern\":{\"shape\":\"\"}},\"name\":\"South America\",\"offsetgroup\":\"South America\",\"orientation\":\"v\",\"showlegend\":true,\"textposition\":\"auto\",\"type\":\"bar\",\"x\":[\"Argentina\",\"Brazil\",\"Chile\",\"Colombia\",\"Ecuador\",\"Peru\",\"Venezuela\"],\"xaxis\":\"x\",\"y\":[14906.708,5128.787,7417.102,5244.91,2897.1490000000003,5075.79,20498.908],\"yaxis\":\"y\"}],\"name\":\"1974\"},{\"data\":[{\"alignmentgroup\":\"True\",\"hovertemplate\":\"Continents=Africa<br>Year=1975<br>Countries=%{x}<br>Fossil fuels per capita (kWh)=%{y}<extra></extra>\",\"legendgroup\":\"Africa\",\"marker\":{\"color\":\"#636efa\",\"pattern\":{\"shape\":\"\"}},\"name\":\"Africa\",\"offsetgroup\":\"Africa\",\"orientation\":\"v\",\"showlegend\":true,\"textposition\":\"auto\",\"type\":\"bar\",\"x\":[\"Algeria\",\"Egypt\",\"Morocco\"],\"xaxis\":\"x\",\"y\":[4178.7,2703.1209999999996,2197.452],\"yaxis\":\"y\"},{\"alignmentgroup\":\"True\",\"hovertemplate\":\"Continents=Asia<br>Year=1975<br>Countries=%{x}<br>Fossil fuels per capita (kWh)=%{y}<extra></extra>\",\"legendgroup\":\"Asia\",\"marker\":{\"color\":\"#EF553B\",\"pattern\":{\"shape\":\"\"}},\"name\":\"Asia\",\"offsetgroup\":\"Asia\",\"orientation\":\"v\",\"showlegend\":true,\"textposition\":\"auto\",\"type\":\"bar\",\"x\":[\"Bangladesh\",\"China\",\"India\",\"Indonesia\",\"Iran\",\"Iraq\",\"Israel\",\"Japan\",\"Kuwait\",\"Malaysia\",\"Oman\",\"Pakistan\",\"Philippines\",\"Qatar\",\"Saudi Arabia\",\"Singapore\",\"Sri Lanka\",\"Thailand\",\"United Arab Emirates\",\"Vietnam\"],\"xaxis\":\"x\",\"y\":[311.237,3834.302,1361.943,1182.877,9735.578000000001,4186.3640000000005,20911.89,31737.097999999998,71486.973,4472.238,14631.188,1385.4189999999999,2791.825,142959.552,34136.818,38046.917,696.2769999999999,2364.187,43538.736,1372.639],\"yaxis\":\"y\"},{\"alignmentgroup\":\"True\",\"hovertemplate\":\"Continents=Australia_NZ<br>Year=1975<br>Countries=%{x}<br>Fossil fuels per capita (kWh)=%{y}<extra></extra>\",\"legendgroup\":\"Australia_NZ\",\"marker\":{\"color\":\"#00cc96\",\"pattern\":{\"shape\":\"\"}},\"name\":\"Australia_NZ\",\"offsetgroup\":\"Australia_NZ\",\"orientation\":\"v\",\"showlegend\":true,\"textposition\":\"auto\",\"type\":\"bar\",\"x\":[\"Australia\",\"New Zealand\"],\"xaxis\":\"x\",\"y\":[49249.742,23218.701],\"yaxis\":\"y\"},{\"alignmentgroup\":\"True\",\"hovertemplate\":\"Continents=Europe<br>Year=1975<br>Countries=%{x}<br>Fossil fuels per capita (kWh)=%{y}<extra></extra>\",\"legendgroup\":\"Europe\",\"marker\":{\"color\":\"#ab63fa\",\"pattern\":{\"shape\":\"\"}},\"name\":\"Europe\",\"offsetgroup\":\"Europe\",\"orientation\":\"v\",\"showlegend\":true,\"textposition\":\"auto\",\"type\":\"bar\",\"x\":[\"Austria\",\"Belgium\",\"Bulgaria\",\"Cyprus\",\"Denmark\",\"Finland\",\"France\",\"Germany\",\"Greece\",\"Hungary\",\"Iceland\",\"Ireland\",\"Italy\",\"Luxembourg\",\"Netherlands\",\"Norway\",\"Poland\",\"Portugal\",\"Romania\",\"Slovakia\",\"Spain\",\"Sweden\",\"Switzerland\",\"United Kingdom\"],\"xaxis\":\"x\",\"y\":[27585.965,50958.232,28703.647999999997,13123.441,41512.453,37115.763999999996,33767.742999999995,46186.02099999999,21336.975,25575.867000000002,31940.929,26011.426,26009.765,118883.352,59257.449,26879.979,35727.897000000004,9389.395,25377.592,37162.879,17781.673,39533.998,24964.022,40796.723],\"yaxis\":\"y\"},{\"alignmentgroup\":\"True\",\"hovertemplate\":\"Continents=North America<br>Year=1975<br>Countries=%{x}<br>Fossil fuels per capita (kWh)=%{y}<extra></extra>\",\"legendgroup\":\"North America\",\"marker\":{\"color\":\"#FFA15A\",\"pattern\":{\"shape\":\"\"}},\"name\":\"North America\",\"offsetgroup\":\"North America\",\"orientation\":\"v\",\"showlegend\":true,\"textposition\":\"auto\",\"type\":\"bar\",\"x\":[\"Canada\",\"Mexico\",\"Trinidad and Tobago\",\"United States\"],\"xaxis\":\"x\",\"y\":[69938.009,9213.867,47320.812999999995,82777.76299999999],\"yaxis\":\"y\"},{\"alignmentgroup\":\"True\",\"hovertemplate\":\"Continents=South America<br>Year=1975<br>Countries=%{x}<br>Fossil fuels per capita (kWh)=%{y}<extra></extra>\",\"legendgroup\":\"South America\",\"marker\":{\"color\":\"#19d3f3\",\"pattern\":{\"shape\":\"\"}},\"name\":\"South America\",\"offsetgroup\":\"South America\",\"orientation\":\"v\",\"showlegend\":true,\"textposition\":\"auto\",\"type\":\"bar\",\"x\":[\"Argentina\",\"Brazil\",\"Chile\",\"Colombia\",\"Ecuador\",\"Peru\",\"Venezuela\"],\"xaxis\":\"x\",\"y\":[14110.28,5218.138,6401.9619999999995,5126.090999999999,2802.592,5072.839,20511.013],\"yaxis\":\"y\"}],\"name\":\"1975\"},{\"data\":[{\"alignmentgroup\":\"True\",\"hovertemplate\":\"Continents=Africa<br>Year=1976<br>Countries=%{x}<br>Fossil fuels per capita (kWh)=%{y}<extra></extra>\",\"legendgroup\":\"Africa\",\"marker\":{\"color\":\"#636efa\",\"pattern\":{\"shape\":\"\"}},\"name\":\"Africa\",\"offsetgroup\":\"Africa\",\"orientation\":\"v\",\"showlegend\":true,\"textposition\":\"auto\",\"type\":\"bar\",\"x\":[\"Algeria\",\"Egypt\",\"Morocco\"],\"xaxis\":\"x\",\"y\":[4737.909000000001,3165.566,2345.636],\"yaxis\":\"y\"},{\"alignmentgroup\":\"True\",\"hovertemplate\":\"Continents=Asia<br>Year=1976<br>Countries=%{x}<br>Fossil fuels per capita (kWh)=%{y}<extra></extra>\",\"legendgroup\":\"Asia\",\"marker\":{\"color\":\"#EF553B\",\"pattern\":{\"shape\":\"\"}},\"name\":\"Asia\",\"offsetgroup\":\"Asia\",\"orientation\":\"v\",\"showlegend\":true,\"textposition\":\"auto\",\"type\":\"bar\",\"x\":[\"Bangladesh\",\"China\",\"India\",\"Indonesia\",\"Iran\",\"Iraq\",\"Israel\",\"Japan\",\"Kuwait\",\"Malaysia\",\"Oman\",\"Pakistan\",\"Philippines\",\"Qatar\",\"Saudi Arabia\",\"Singapore\",\"Sri Lanka\",\"Thailand\",\"United Arab Emirates\",\"Vietnam\"],\"xaxis\":\"x\",\"y\":[349.398,3971.792,1394.5529999999999,1230.384,10618.923,5207.253,21491.164,32404.488999999998,79369.258,4883.6140000000005,16026.331,1355.11,2792.25,86552.6,37523.329,44557.434,678.571,2432.8520000000003,47320.157,761.6669999999999],\"yaxis\":\"y\"},{\"alignmentgroup\":\"True\",\"hovertemplate\":\"Continents=Australia_NZ<br>Year=1976<br>Countries=%{x}<br>Fossil fuels per capita (kWh)=%{y}<extra></extra>\",\"legendgroup\":\"Australia_NZ\",\"marker\":{\"color\":\"#00cc96\",\"pattern\":{\"shape\":\"\"}},\"name\":\"Australia_NZ\",\"offsetgroup\":\"Australia_NZ\",\"orientation\":\"v\",\"showlegend\":true,\"textposition\":\"auto\",\"type\":\"bar\",\"x\":[\"Australia\",\"New Zealand\"],\"xaxis\":\"x\",\"y\":[50637.983,25446.877],\"yaxis\":\"y\"},{\"alignmentgroup\":\"True\",\"hovertemplate\":\"Continents=Europe<br>Year=1976<br>Countries=%{x}<br>Fossil fuels per capita (kWh)=%{y}<extra></extra>\",\"legendgroup\":\"Europe\",\"marker\":{\"color\":\"#ab63fa\",\"pattern\":{\"shape\":\"\"}},\"name\":\"Europe\",\"offsetgroup\":\"Europe\",\"orientation\":\"v\",\"showlegend\":true,\"textposition\":\"auto\",\"type\":\"bar\",\"x\":[\"Austria\",\"Belgium\",\"Bulgaria\",\"Cyprus\",\"Denmark\",\"Finland\",\"France\",\"Germany\",\"Greece\",\"Hungary\",\"Iceland\",\"Ireland\",\"Italy\",\"Luxembourg\",\"Netherlands\",\"Norway\",\"Poland\",\"Portugal\",\"Romania\",\"Slovakia\",\"Spain\",\"Sweden\",\"Switzerland\",\"United Kingdom\"],\"xaxis\":\"x\",\"y\":[30111.455,53149.379,29421.265,13180.952,45539.693,41403.127,36820.962999999996,49352.437000000005,23394.088,27194.843999999997,31799.256,26057.499,27566.539,118269.67199999999,64065.365,29187.7,37356.983,9658.246,27349.089,38049.477999999996,19389.397,43061.874,25911.271,41314.107],\"yaxis\":\"y\"},{\"alignmentgroup\":\"True\",\"hovertemplate\":\"Continents=North America<br>Year=1976<br>Countries=%{x}<br>Fossil fuels per capita (kWh)=%{y}<extra></extra>\",\"legendgroup\":\"North America\",\"marker\":{\"color\":\"#FFA15A\",\"pattern\":{\"shape\":\"\"}},\"name\":\"North America\",\"offsetgroup\":\"North America\",\"orientation\":\"v\",\"showlegend\":true,\"textposition\":\"auto\",\"type\":\"bar\",\"x\":[\"Canada\",\"Mexico\",\"Trinidad and Tobago\",\"United States\"],\"xaxis\":\"x\",\"y\":[72930.807,9490.492,52500.38,86766.519],\"yaxis\":\"y\"},{\"alignmentgroup\":\"True\",\"hovertemplate\":\"Continents=South America<br>Year=1976<br>Countries=%{x}<br>Fossil fuels per capita (kWh)=%{y}<extra></extra>\",\"legendgroup\":\"South America\",\"marker\":{\"color\":\"#19d3f3\",\"pattern\":{\"shape\":\"\"}},\"name\":\"South America\",\"offsetgroup\":\"South America\",\"orientation\":\"v\",\"showlegend\":true,\"textposition\":\"auto\",\"type\":\"bar\",\"x\":[\"Argentina\",\"Brazil\",\"Chile\",\"Colombia\",\"Ecuador\",\"Peru\",\"Venezuela\"],\"xaxis\":\"x\",\"y\":[14712.311000000002,5509.628000000001,6653.121999999999,5211.904,3037.81,4981.411,21618.924],\"yaxis\":\"y\"}],\"name\":\"1976\"},{\"data\":[{\"alignmentgroup\":\"True\",\"hovertemplate\":\"Continents=Africa<br>Year=1977<br>Countries=%{x}<br>Fossil fuels per capita (kWh)=%{y}<extra></extra>\",\"legendgroup\":\"Africa\",\"marker\":{\"color\":\"#636efa\",\"pattern\":{\"shape\":\"\"}},\"name\":\"Africa\",\"offsetgroup\":\"Africa\",\"orientation\":\"v\",\"showlegend\":true,\"textposition\":\"auto\",\"type\":\"bar\",\"x\":[\"Algeria\",\"Egypt\",\"Morocco\"],\"xaxis\":\"x\",\"y\":[5085.437,3329.572,2532.453],\"yaxis\":\"y\"},{\"alignmentgroup\":\"True\",\"hovertemplate\":\"Continents=Asia<br>Year=1977<br>Countries=%{x}<br>Fossil fuels per capita (kWh)=%{y}<extra></extra>\",\"legendgroup\":\"Asia\",\"marker\":{\"color\":\"#EF553B\",\"pattern\":{\"shape\":\"\"}},\"name\":\"Asia\",\"offsetgroup\":\"Asia\",\"orientation\":\"v\",\"showlegend\":true,\"textposition\":\"auto\",\"type\":\"bar\",\"x\":[\"Bangladesh\",\"China\",\"India\",\"Indonesia\",\"Iran\",\"Iraq\",\"Israel\",\"Japan\",\"Kuwait\",\"Malaysia\",\"Oman\",\"Pakistan\",\"Philippines\",\"Qatar\",\"Saudi Arabia\",\"Singapore\",\"Sri Lanka\",\"Thailand\",\"United Arab Emirates\",\"Vietnam\"],\"xaxis\":\"x\",\"y\":[352.505,4268.479,1439.5629999999999,1579.7939999999999,11695.751,5178.918,21910.382999999998,32654.87,76171.448,5351.967,14634.131000000001,1408.565,2988.8559999999998,115292.44699999999,42125.096,44222.33900000001,708.625,2663.3390000000004,67525.90400000001,797.289],\"yaxis\":\"y\"},{\"alignmentgroup\":\"True\",\"hovertemplate\":\"Continents=Australia_NZ<br>Year=1977<br>Countries=%{x}<br>Fossil fuels per capita (kWh)=%{y}<extra></extra>\",\"legendgroup\":\"Australia_NZ\",\"marker\":{\"color\":\"#00cc96\",\"pattern\":{\"shape\":\"\"}},\"name\":\"Australia_NZ\",\"offsetgroup\":\"Australia_NZ\",\"orientation\":\"v\",\"showlegend\":true,\"textposition\":\"auto\",\"type\":\"bar\",\"x\":[\"Australia\",\"New Zealand\"],\"xaxis\":\"x\",\"y\":[52831.217000000004,26924.275],\"yaxis\":\"y\"},{\"alignmentgroup\":\"True\",\"hovertemplate\":\"Continents=Europe<br>Year=1977<br>Countries=%{x}<br>Fossil fuels per capita (kWh)=%{y}<extra></extra>\",\"legendgroup\":\"Europe\",\"marker\":{\"color\":\"#ab63fa\",\"pattern\":{\"shape\":\"\"}},\"name\":\"Europe\",\"offsetgroup\":\"Europe\",\"orientation\":\"v\",\"showlegend\":true,\"textposition\":\"auto\",\"type\":\"bar\",\"x\":[\"Austria\",\"Belgium\",\"Bulgaria\",\"Cyprus\",\"Denmark\",\"Finland\",\"France\",\"Germany\",\"Greece\",\"Hungary\",\"Iceland\",\"Ireland\",\"Italy\",\"Luxembourg\",\"Netherlands\",\"Norway\",\"Poland\",\"Portugal\",\"Romania\",\"Slovakia\",\"Spain\",\"Sweden\",\"Switzerland\",\"United Kingdom\"],\"xaxis\":\"x\",\"y\":[28533.106,52488.022000000004,30560.737999999998,14710.197,46323.833,40746.521,35530.275,48726.755999999994,23933.763,28442.165,32955.687000000005,27216.312,26937.449,109326.079,62478.955,29278.941000000003,38580.998999999996,9384.639000000001,28626.764,39611.693,18533.901,41150.496,26289.39,41948.942],\"yaxis\":\"y\"},{\"alignmentgroup\":\"True\",\"hovertemplate\":\"Continents=North America<br>Year=1977<br>Countries=%{x}<br>Fossil fuels per capita (kWh)=%{y}<extra></extra>\",\"legendgroup\":\"North America\",\"marker\":{\"color\":\"#FFA15A\",\"pattern\":{\"shape\":\"\"}},\"name\":\"North America\",\"offsetgroup\":\"North America\",\"orientation\":\"v\",\"showlegend\":true,\"textposition\":\"auto\",\"type\":\"bar\",\"x\":[\"Canada\",\"Mexico\",\"Trinidad and Tobago\",\"United States\"],\"xaxis\":\"x\",\"y\":[75934.286,9706.891,53875.7,88398.231],\"yaxis\":\"y\"},{\"alignmentgroup\":\"True\",\"hovertemplate\":\"Continents=South America<br>Year=1977<br>Countries=%{x}<br>Fossil fuels per capita (kWh)=%{y}<extra></extra>\",\"legendgroup\":\"South America\",\"marker\":{\"color\":\"#19d3f3\",\"pattern\":{\"shape\":\"\"}},\"name\":\"South America\",\"offsetgroup\":\"South America\",\"orientation\":\"v\",\"showlegend\":true,\"textposition\":\"auto\",\"type\":\"bar\",\"x\":[\"Argentina\",\"Brazil\",\"Chile\",\"Colombia\",\"Ecuador\",\"Peru\",\"Venezuela\"],\"xaxis\":\"x\",\"y\":[15195.941,5599.629,6762.021,5214.627,3581.1820000000002,4849.403,23338.234],\"yaxis\":\"y\"}],\"name\":\"1977\"},{\"data\":[{\"alignmentgroup\":\"True\",\"hovertemplate\":\"Continents=Africa<br>Year=1978<br>Countries=%{x}<br>Fossil fuels per capita (kWh)=%{y}<extra></extra>\",\"legendgroup\":\"Africa\",\"marker\":{\"color\":\"#636efa\",\"pattern\":{\"shape\":\"\"}},\"name\":\"Africa\",\"offsetgroup\":\"Africa\",\"orientation\":\"v\",\"showlegend\":true,\"textposition\":\"auto\",\"type\":\"bar\",\"x\":[\"Algeria\",\"Egypt\",\"Morocco\"],\"xaxis\":\"x\",\"y\":[6221.54,3415.783,2631.175],\"yaxis\":\"y\"},{\"alignmentgroup\":\"True\",\"hovertemplate\":\"Continents=Asia<br>Year=1978<br>Countries=%{x}<br>Fossil fuels per capita (kWh)=%{y}<extra></extra>\",\"legendgroup\":\"Asia\",\"marker\":{\"color\":\"#EF553B\",\"pattern\":{\"shape\":\"\"}},\"name\":\"Asia\",\"offsetgroup\":\"Asia\",\"orientation\":\"v\",\"showlegend\":true,\"textposition\":\"auto\",\"type\":\"bar\",\"x\":[\"Bangladesh\",\"China\",\"India\",\"Indonesia\",\"Iran\",\"Iraq\",\"Israel\",\"Japan\",\"Kuwait\",\"Malaysia\",\"Oman\",\"Pakistan\",\"Philippines\",\"Qatar\",\"Saudi Arabia\",\"Singapore\",\"Sri Lanka\",\"Thailand\",\"United Arab Emirates\",\"Vietnam\"],\"xaxis\":\"x\",\"y\":[368.597,4632.991,1420.89,1722.83,10880.215,4793.625,22827.068,33209.113,78620.479,7188.599,16110.735,1425.594,2994.89,104835.81599999999,44562.974,45012.27099999999,809.26,2925.607,68635.996,799.4689999999999],\"yaxis\":\"y\"},{\"alignmentgroup\":\"True\",\"hovertemplate\":\"Continents=Australia_NZ<br>Year=1978<br>Countries=%{x}<br>Fossil fuels per capita (kWh)=%{y}<extra></extra>\",\"legendgroup\":\"Australia_NZ\",\"marker\":{\"color\":\"#00cc96\",\"pattern\":{\"shape\":\"\"}},\"name\":\"Australia_NZ\",\"offsetgroup\":\"Australia_NZ\",\"orientation\":\"v\",\"showlegend\":true,\"textposition\":\"auto\",\"type\":\"bar\",\"x\":[\"Australia\",\"New Zealand\"],\"xaxis\":\"x\",\"y\":[53400.317,25485.634],\"yaxis\":\"y\"},{\"alignmentgroup\":\"True\",\"hovertemplate\":\"Continents=Europe<br>Year=1978<br>Countries=%{x}<br>Fossil fuels per capita (kWh)=%{y}<extra></extra>\",\"legendgroup\":\"Europe\",\"marker\":{\"color\":\"#ab63fa\",\"pattern\":{\"shape\":\"\"}},\"name\":\"Europe\",\"offsetgroup\":\"Europe\",\"orientation\":\"v\",\"showlegend\":true,\"textposition\":\"auto\",\"type\":\"bar\",\"x\":[\"Austria\",\"Belgium\",\"Bulgaria\",\"Cyprus\",\"Denmark\",\"Finland\",\"France\",\"Germany\",\"Greece\",\"Hungary\",\"Iceland\",\"Ireland\",\"Italy\",\"Luxembourg\",\"Netherlands\",\"Norway\",\"Poland\",\"Portugal\",\"Romania\",\"Slovakia\",\"Spain\",\"Sweden\",\"Switzerland\",\"United Kingdom\"],\"xaxis\":\"x\",\"y\":[30209.798,54662.957,31858.945,14924.953000000001,46874.769,43663.16099999999,36980.666,50515.273,23681.682,30265.582000000002,34413.991,27944.267000000003,27811.947999999997,113153.80300000001,63200.462,32816.754,40152.441,9664.957,30484.113999999998,41345.483,18301.703999999998,49137.124,27059.95,42335.929000000004],\"yaxis\":\"y\"},{\"alignmentgroup\":\"True\",\"hovertemplate\":\"Continents=North America<br>Year=1978<br>Countries=%{x}<br>Fossil fuels per capita (kWh)=%{y}<extra></extra>\",\"legendgroup\":\"North America\",\"marker\":{\"color\":\"#FFA15A\",\"pattern\":{\"shape\":\"\"}},\"name\":\"North America\",\"offsetgroup\":\"North America\",\"orientation\":\"v\",\"showlegend\":true,\"textposition\":\"auto\",\"type\":\"bar\",\"x\":[\"Canada\",\"Mexico\",\"Trinidad and Tobago\",\"United States\"],\"xaxis\":\"x\",\"y\":[74125.031,10897.9,53456.402,86913.29699999999],\"yaxis\":\"y\"},{\"alignmentgroup\":\"True\",\"hovertemplate\":\"Continents=South America<br>Year=1978<br>Countries=%{x}<br>Fossil fuels per capita (kWh)=%{y}<extra></extra>\",\"legendgroup\":\"South America\",\"marker\":{\"color\":\"#19d3f3\",\"pattern\":{\"shape\":\"\"}},\"name\":\"South America\",\"offsetgroup\":\"South America\",\"orientation\":\"v\",\"showlegend\":true,\"textposition\":\"auto\",\"type\":\"bar\",\"x\":[\"Argentina\",\"Brazil\",\"Chile\",\"Colombia\",\"Ecuador\",\"Peru\",\"Venezuela\"],\"xaxis\":\"x\",\"y\":[14955.796,5987.861,7082.469,5358.406999999999,3567.0009999999997,4673.071,23221.636000000002],\"yaxis\":\"y\"}],\"name\":\"1978\"},{\"data\":[{\"alignmentgroup\":\"True\",\"hovertemplate\":\"Continents=Africa<br>Year=1979<br>Countries=%{x}<br>Fossil fuels per capita (kWh)=%{y}<extra></extra>\",\"legendgroup\":\"Africa\",\"marker\":{\"color\":\"#636efa\",\"pattern\":{\"shape\":\"\"}},\"name\":\"Africa\",\"offsetgroup\":\"Africa\",\"orientation\":\"v\",\"showlegend\":true,\"textposition\":\"auto\",\"type\":\"bar\",\"x\":[\"Algeria\",\"Egypt\",\"Morocco\"],\"xaxis\":\"x\",\"y\":[7919.34,3730.375,2865.446],\"yaxis\":\"y\"},{\"alignmentgroup\":\"True\",\"hovertemplate\":\"Continents=Asia<br>Year=1979<br>Countries=%{x}<br>Fossil fuels per capita (kWh)=%{y}<extra></extra>\",\"legendgroup\":\"Asia\",\"marker\":{\"color\":\"#EF553B\",\"pattern\":{\"shape\":\"\"}},\"name\":\"Asia\",\"offsetgroup\":\"Asia\",\"orientation\":\"v\",\"showlegend\":true,\"textposition\":\"auto\",\"type\":\"bar\",\"x\":[\"Bangladesh\",\"China\",\"India\",\"Indonesia\",\"Iran\",\"Iraq\",\"Israel\",\"Japan\",\"Kuwait\",\"Malaysia\",\"Oman\",\"Pakistan\",\"Philippines\",\"Qatar\",\"Saudi Arabia\",\"Singapore\",\"Sri Lanka\",\"Thailand\",\"United Arab Emirates\",\"Vietnam\"],\"xaxis\":\"x\",\"y\":[396.37699999999995,4693.337,1487.749,1920.7979999999998,11437.653,5804.635,24456.952999999998,33819.186,90116.729,8569.158000000001,17557.914,1513.0710000000001,3001.778,245688.324,51088.166,47338.14,817.446,2954.864,72286.091,835.4830000000001],\"yaxis\":\"y\"},{\"alignmentgroup\":\"True\",\"hovertemplate\":\"Continents=Australia_NZ<br>Year=1979<br>Countries=%{x}<br>Fossil fuels per capita (kWh)=%{y}<extra></extra>\",\"legendgroup\":\"Australia_NZ\",\"marker\":{\"color\":\"#00cc96\",\"pattern\":{\"shape\":\"\"}},\"name\":\"Australia_NZ\",\"offsetgroup\":\"Australia_NZ\",\"orientation\":\"v\",\"showlegend\":true,\"textposition\":\"auto\",\"type\":\"bar\",\"x\":[\"Australia\",\"New Zealand\"],\"xaxis\":\"x\",\"y\":[55070.079000000005,23529.905],\"yaxis\":\"y\"},{\"alignmentgroup\":\"True\",\"hovertemplate\":\"Continents=Europe<br>Year=1979<br>Countries=%{x}<br>Fossil fuels per capita (kWh)=%{y}<extra></extra>\",\"legendgroup\":\"Europe\",\"marker\":{\"color\":\"#ab63fa\",\"pattern\":{\"shape\":\"\"}},\"name\":\"Europe\",\"offsetgroup\":\"Europe\",\"orientation\":\"v\",\"showlegend\":true,\"textposition\":\"auto\",\"type\":\"bar\",\"x\":[\"Austria\",\"Belgium\",\"Bulgaria\",\"Cyprus\",\"Denmark\",\"Finland\",\"France\",\"Germany\",\"Greece\",\"Hungary\",\"Iceland\",\"Ireland\",\"Italy\",\"Luxembourg\",\"Netherlands\",\"Norway\",\"Poland\",\"Portugal\",\"Romania\",\"Slovakia\",\"Spain\",\"Sweden\",\"Switzerland\",\"United Kingdom\"],\"xaxis\":\"x\",\"y\":[31390.841,56551.488,32862.028,14989.473,46695.707,45002.200999999994,37681.417,53242.202000000005,20228.252,29850.047000000002,33920.793,30324.581000000002,28739.379,115624.98800000001,65068.060999999994,33373.482,40391.498999999996,10208.904,30774.501,41160.781,19411.677,52975.111,26212.887000000002,44348.677],\"yaxis\":\"y\"},{\"alignmentgroup\":\"True\",\"hovertemplate\":\"Continents=North America<br>Year=1979<br>Countries=%{x}<br>Fossil fuels per capita (kWh)=%{y}<extra></extra>\",\"legendgroup\":\"North America\",\"marker\":{\"color\":\"#FFA15A\",\"pattern\":{\"shape\":\"\"}},\"name\":\"North America\",\"offsetgroup\":\"North America\",\"orientation\":\"v\",\"showlegend\":true,\"textposition\":\"auto\",\"type\":\"bar\",\"x\":[\"Canada\",\"Mexico\",\"Trinidad and Tobago\",\"United States\"],\"xaxis\":\"x\",\"y\":[74953.585,11734.025,46558.545,87471.502],\"yaxis\":\"y\"},{\"alignmentgroup\":\"True\",\"hovertemplate\":\"Continents=South America<br>Year=1979<br>Countries=%{x}<br>Fossil fuels per capita (kWh)=%{y}<extra></extra>\",\"legendgroup\":\"South America\",\"marker\":{\"color\":\"#19d3f3\",\"pattern\":{\"shape\":\"\"}},\"name\":\"South America\",\"offsetgroup\":\"South America\",\"orientation\":\"v\",\"showlegend\":true,\"textposition\":\"auto\",\"type\":\"bar\",\"x\":[\"Argentina\",\"Brazil\",\"Chile\",\"Colombia\",\"Ecuador\",\"Peru\",\"Venezuela\"],\"xaxis\":\"x\",\"y\":[15414.115,6165.411,7222.241,5521.321999999999,3661.5570000000002,4708.137,24747.584],\"yaxis\":\"y\"}],\"name\":\"1979\"},{\"data\":[{\"alignmentgroup\":\"True\",\"hovertemplate\":\"Continents=Africa<br>Year=1980<br>Countries=%{x}<br>Fossil fuels per capita (kWh)=%{y}<extra></extra>\",\"legendgroup\":\"Africa\",\"marker\":{\"color\":\"#636efa\",\"pattern\":{\"shape\":\"\"}},\"name\":\"Africa\",\"offsetgroup\":\"Africa\",\"orientation\":\"v\",\"showlegend\":true,\"textposition\":\"auto\",\"type\":\"bar\",\"x\":[\"Algeria\",\"Egypt\",\"Morocco\"],\"xaxis\":\"x\",\"y\":[9176.108,4226.241,2816.1940000000004],\"yaxis\":\"y\"},{\"alignmentgroup\":\"True\",\"hovertemplate\":\"Continents=Asia<br>Year=1980<br>Countries=%{x}<br>Fossil fuels per capita (kWh)=%{y}<extra></extra>\",\"legendgroup\":\"Asia\",\"marker\":{\"color\":\"#EF553B\",\"pattern\":{\"shape\":\"\"}},\"name\":\"Asia\",\"offsetgroup\":\"Asia\",\"orientation\":\"v\",\"showlegend\":true,\"textposition\":\"auto\",\"type\":\"bar\",\"x\":[\"Bangladesh\",\"China\",\"India\",\"Indonesia\",\"Iran\",\"Iraq\",\"Israel\",\"Japan\",\"Kuwait\",\"Malaysia\",\"Oman\",\"Pakistan\",\"Philippines\",\"Qatar\",\"Saudi Arabia\",\"Singapore\",\"Sri Lanka\",\"Thailand\",\"United Arab Emirates\",\"Vietnam\"],\"xaxis\":\"x\",\"y\":[437.652,4694.149,1498.975,2010.8139999999999,10147.679,6820.434,25545.558999999997,31972.942000000003,64358.691,8950.074,14781.968,1643.004,2746.578,257113.835,43333.16099999999,46256.735,810.992,3016.7340000000004,106156.19099999999,916.508],\"yaxis\":\"y\"},{\"alignmentgroup\":\"True\",\"hovertemplate\":\"Continents=Australia_NZ<br>Year=1980<br>Countries=%{x}<br>Fossil fuels per capita (kWh)=%{y}<extra></extra>\",\"legendgroup\":\"Australia_NZ\",\"marker\":{\"color\":\"#00cc96\",\"pattern\":{\"shape\":\"\"}},\"name\":\"Australia_NZ\",\"offsetgroup\":\"Australia_NZ\",\"orientation\":\"v\",\"showlegend\":true,\"textposition\":\"auto\",\"type\":\"bar\",\"x\":[\"Australia\",\"New Zealand\"],\"xaxis\":\"x\",\"y\":[54950.335999999996,22653.68],\"yaxis\":\"y\"},{\"alignmentgroup\":\"True\",\"hovertemplate\":\"Continents=Europe<br>Year=1980<br>Countries=%{x}<br>Fossil fuels per capita (kWh)=%{y}<extra></extra>\",\"legendgroup\":\"Europe\",\"marker\":{\"color\":\"#ab63fa\",\"pattern\":{\"shape\":\"\"}},\"name\":\"Europe\",\"offsetgroup\":\"Europe\",\"orientation\":\"v\",\"showlegend\":true,\"textposition\":\"auto\",\"type\":\"bar\",\"x\":[\"Austria\",\"Belgium\",\"Bulgaria\",\"Cyprus\",\"Denmark\",\"Finland\",\"France\",\"Germany\",\"Greece\",\"Hungary\",\"Iceland\",\"Ireland\",\"Italy\",\"Luxembourg\",\"Netherlands\",\"Norway\",\"Poland\",\"Portugal\",\"Romania\",\"Slovakia\",\"Spain\",\"Sweden\",\"Switzerland\",\"United Kingdom\"],\"xaxis\":\"x\",\"y\":[30853.658,53573.727,34634.489,15005.362,45438.955,44833.527,35700.156,51337.291,19844.123,29896.584,31607.881,28936.022999999997,27898.441000000003,106204.228,60574.602999999996,32222.007999999998,41865.326,10674.122,30707.449,39932.612,20790.675,46836.875,26585.337000000003,40285.046],\"yaxis\":\"y\"},{\"alignmentgroup\":\"True\",\"hovertemplate\":\"Continents=North America<br>Year=1980<br>Countries=%{x}<br>Fossil fuels per capita (kWh)=%{y}<extra></extra>\",\"legendgroup\":\"North America\",\"marker\":{\"color\":\"#FFA15A\",\"pattern\":{\"shape\":\"\"}},\"name\":\"North America\",\"offsetgroup\":\"North America\",\"orientation\":\"v\",\"showlegend\":true,\"textposition\":\"auto\",\"type\":\"bar\",\"x\":[\"Canada\",\"Mexico\",\"Trinidad and Tobago\",\"United States\"],\"xaxis\":\"x\",\"y\":[75234.86099999999,12599.065,44117.320999999996,83345.76400000001],\"yaxis\":\"y\"},{\"alignmentgroup\":\"True\",\"hovertemplate\":\"Continents=South America<br>Year=1980<br>Countries=%{x}<br>Fossil fuels per capita (kWh)=%{y}<extra></extra>\",\"legendgroup\":\"South America\",\"marker\":{\"color\":\"#19d3f3\",\"pattern\":{\"shape\":\"\"}},\"name\":\"South America\",\"offsetgroup\":\"South America\",\"orientation\":\"v\",\"showlegend\":true,\"textposition\":\"auto\",\"type\":\"bar\",\"x\":[\"Argentina\",\"Brazil\",\"Chile\",\"Colombia\",\"Ecuador\",\"Peru\",\"Venezuela\"],\"xaxis\":\"x\",\"y\":[14751.855,5894.771,7304.628000000001,5392.941,4536.195,4943.8859999999995,27207.444],\"yaxis\":\"y\"}],\"name\":\"1980\"},{\"data\":[{\"alignmentgroup\":\"True\",\"hovertemplate\":\"Continents=Africa<br>Year=1981<br>Countries=%{x}<br>Fossil fuels per capita (kWh)=%{y}<extra></extra>\",\"legendgroup\":\"Africa\",\"marker\":{\"color\":\"#636efa\",\"pattern\":{\"shape\":\"\"}},\"name\":\"Africa\",\"offsetgroup\":\"Africa\",\"orientation\":\"v\",\"showlegend\":true,\"textposition\":\"auto\",\"type\":\"bar\",\"x\":[\"Algeria\",\"Egypt\",\"Morocco\"],\"xaxis\":\"x\",\"y\":[10800.247,4749.889,2730.583],\"yaxis\":\"y\"},{\"alignmentgroup\":\"True\",\"hovertemplate\":\"Continents=Asia<br>Year=1981<br>Countries=%{x}<br>Fossil fuels per capita (kWh)=%{y}<extra></extra>\",\"legendgroup\":\"Asia\",\"marker\":{\"color\":\"#EF553B\",\"pattern\":{\"shape\":\"\"}},\"name\":\"Asia\",\"offsetgroup\":\"Asia\",\"orientation\":\"v\",\"showlegend\":true,\"textposition\":\"auto\",\"type\":\"bar\",\"x\":[\"Bangladesh\",\"China\",\"India\",\"Indonesia\",\"Iran\",\"Iraq\",\"Israel\",\"Japan\",\"Kuwait\",\"Malaysia\",\"Oman\",\"Pakistan\",\"Philippines\",\"Qatar\",\"Saudi Arabia\",\"Singapore\",\"Sri Lanka\",\"Thailand\",\"United Arab Emirates\",\"Vietnam\"],\"xaxis\":\"x\",\"y\":[427.93800000000005,4545.273,1632.101,2136.331,9740.835,6602.979,25508.066000000003,31121.357000000004,77546.457,8938.337,14764.957,1716.1589999999999,2538.601,217929.36,48609.596,52157.622,941.357,2896.639,115353.26400000001,897.255],\"yaxis\":\"y\"},{\"alignmentgroup\":\"True\",\"hovertemplate\":\"Continents=Australia_NZ<br>Year=1981<br>Countries=%{x}<br>Fossil fuels per capita (kWh)=%{y}<extra></extra>\",\"legendgroup\":\"Australia_NZ\",\"marker\":{\"color\":\"#00cc96\",\"pattern\":{\"shape\":\"\"}},\"name\":\"Australia_NZ\",\"offsetgroup\":\"Australia_NZ\",\"orientation\":\"v\",\"showlegend\":true,\"textposition\":\"auto\",\"type\":\"bar\",\"x\":[\"Australia\",\"New Zealand\"],\"xaxis\":\"x\",\"y\":[54640.81,22305.227000000003],\"yaxis\":\"y\"},{\"alignmentgroup\":\"True\",\"hovertemplate\":\"Continents=Europe<br>Year=1981<br>Countries=%{x}<br>Fossil fuels per capita (kWh)=%{y}<extra></extra>\",\"legendgroup\":\"Europe\",\"marker\":{\"color\":\"#ab63fa\",\"pattern\":{\"shape\":\"\"}},\"name\":\"Europe\",\"offsetgroup\":\"Europe\",\"orientation\":\"v\",\"showlegend\":true,\"textposition\":\"auto\",\"type\":\"bar\",\"x\":[\"Austria\",\"Belgium\",\"Bulgaria\",\"Cyprus\",\"Denmark\",\"Finland\",\"France\",\"Germany\",\"Greece\",\"Hungary\",\"Iceland\",\"Ireland\",\"Italy\",\"Luxembourg\",\"Netherlands\",\"Norway\",\"Poland\",\"Portugal\",\"Romania\",\"Slovakia\",\"Spain\",\"Sweden\",\"Switzerland\",\"United Kingdom\"],\"xaxis\":\"x\",\"y\":[28968.463,50577.312000000005,33066.917,14305.082,40802.247,38571.926,32662.877,49375.719000000005,19181.416,29600.27,31215.66,27891.942000000003,27299.642000000003,90390.606,57175.02,30656.856,37384.912000000004,11264.461000000001,30607.581000000002,39103.496,21090.09,41987.189000000006,25124.604,39031.483],\"yaxis\":\"y\"},{\"alignmentgroup\":\"True\",\"hovertemplate\":\"Continents=North America<br>Year=1981<br>Countries=%{x}<br>Fossil fuels per capita (kWh)=%{y}<extra></extra>\",\"legendgroup\":\"North America\",\"marker\":{\"color\":\"#FFA15A\",\"pattern\":{\"shape\":\"\"}},\"name\":\"North America\",\"offsetgroup\":\"North America\",\"orientation\":\"v\",\"showlegend\":true,\"textposition\":\"auto\",\"type\":\"bar\",\"x\":[\"Canada\",\"Mexico\",\"Trinidad and Tobago\",\"United States\"],\"xaxis\":\"x\",\"y\":[71269.767,13349.351,45889.434,79850.212],\"yaxis\":\"y\"},{\"alignmentgroup\":\"True\",\"hovertemplate\":\"Continents=South America<br>Year=1981<br>Countries=%{x}<br>Fossil fuels per capita (kWh)=%{y}<extra></extra>\",\"legendgroup\":\"South America\",\"marker\":{\"color\":\"#19d3f3\",\"pattern\":{\"shape\":\"\"}},\"name\":\"South America\",\"offsetgroup\":\"South America\",\"orientation\":\"v\",\"showlegend\":true,\"textposition\":\"auto\",\"type\":\"bar\",\"x\":[\"Argentina\",\"Brazil\",\"Chile\",\"Colombia\",\"Ecuador\",\"Peru\",\"Venezuela\"],\"xaxis\":\"x\",\"y\":[13937.708999999999,5502.066999999999,7371.463000000001,5456.46,4970.919,4968.371,27482.202],\"yaxis\":\"y\"}],\"name\":\"1981\"},{\"data\":[{\"alignmentgroup\":\"True\",\"hovertemplate\":\"Continents=Africa<br>Year=1982<br>Countries=%{x}<br>Fossil fuels per capita (kWh)=%{y}<extra></extra>\",\"legendgroup\":\"Africa\",\"marker\":{\"color\":\"#636efa\",\"pattern\":{\"shape\":\"\"}},\"name\":\"Africa\",\"offsetgroup\":\"Africa\",\"orientation\":\"v\",\"showlegend\":true,\"textposition\":\"auto\",\"type\":\"bar\",\"x\":[\"Algeria\",\"Egypt\",\"Morocco\"],\"xaxis\":\"x\",\"y\":[12061.601,5225.7429999999995,2814.4359999999997],\"yaxis\":\"y\"},{\"alignmentgroup\":\"True\",\"hovertemplate\":\"Continents=Asia<br>Year=1982<br>Countries=%{x}<br>Fossil fuels per capita (kWh)=%{y}<extra></extra>\",\"legendgroup\":\"Asia\",\"marker\":{\"color\":\"#EF553B\",\"pattern\":{\"shape\":\"\"}},\"name\":\"Asia\",\"offsetgroup\":\"Asia\",\"orientation\":\"v\",\"showlegend\":true,\"textposition\":\"auto\",\"type\":\"bar\",\"x\":[\"Bangladesh\",\"China\",\"India\",\"Indonesia\",\"Iran\",\"Iraq\",\"Israel\",\"Japan\",\"Kuwait\",\"Malaysia\",\"Oman\",\"Pakistan\",\"Philippines\",\"Qatar\",\"Saudi Arabia\",\"Singapore\",\"Sri Lanka\",\"Thailand\",\"United Arab Emirates\",\"Vietnam\"],\"xaxis\":\"x\",\"y\":[465.792,4665.6,1614.904,2126.538,10586.052,6718.854,26056.476000000002,29107.747000000003,74013.09700000001,9445.224,18513.154,1822.253,2385.585,235906.938,50248.302,49600.377,1051.862,2864.692,117485.355,939.178],\"yaxis\":\"y\"},{\"alignmentgroup\":\"True\",\"hovertemplate\":\"Continents=Australia_NZ<br>Year=1982<br>Countries=%{x}<br>Fossil fuels per capita (kWh)=%{y}<extra></extra>\",\"legendgroup\":\"Australia_NZ\",\"marker\":{\"color\":\"#00cc96\",\"pattern\":{\"shape\":\"\"}},\"name\":\"Australia_NZ\",\"offsetgroup\":\"Australia_NZ\",\"orientation\":\"v\",\"showlegend\":true,\"textposition\":\"auto\",\"type\":\"bar\",\"x\":[\"Australia\",\"New Zealand\"],\"xaxis\":\"x\",\"y\":[54051.595,24728.728],\"yaxis\":\"y\"},{\"alignmentgroup\":\"True\",\"hovertemplate\":\"Continents=Europe<br>Year=1982<br>Countries=%{x}<br>Fossil fuels per capita (kWh)=%{y}<extra></extra>\",\"legendgroup\":\"Europe\",\"marker\":{\"color\":\"#ab63fa\",\"pattern\":{\"shape\":\"\"}},\"name\":\"Europe\",\"offsetgroup\":\"Europe\",\"orientation\":\"v\",\"showlegend\":true,\"textposition\":\"auto\",\"type\":\"bar\",\"x\":[\"Austria\",\"Belgium\",\"Bulgaria\",\"Cyprus\",\"Denmark\",\"Finland\",\"France\",\"Germany\",\"Greece\",\"Hungary\",\"Iceland\",\"Ireland\",\"Italy\",\"Luxembourg\",\"Netherlands\",\"Norway\",\"Poland\",\"Portugal\",\"Romania\",\"Slovakia\",\"Spain\",\"Sweden\",\"Switzerland\",\"United Kingdom\"],\"xaxis\":\"x\",\"y\":[27619.282000000003,47452.177,33547.784,17071.967,39010.391,36798.333,30848.947,47316.706,19256.25,29817.452999999998,28315.789,27479.675,26514.57,84714.606,52641.676,29659.278,37757.112,11677.383,30319.395,38104.696,20662.069,39389.825,23760.476000000002,38174.76],\"yaxis\":\"y\"},{\"alignmentgroup\":\"True\",\"hovertemplate\":\"Continents=North America<br>Year=1982<br>Countries=%{x}<br>Fossil fuels per capita (kWh)=%{y}<extra></extra>\",\"legendgroup\":\"North America\",\"marker\":{\"color\":\"#FFA15A\",\"pattern\":{\"shape\":\"\"}},\"name\":\"North America\",\"offsetgroup\":\"North America\",\"orientation\":\"v\",\"showlegend\":true,\"textposition\":\"auto\",\"type\":\"bar\",\"x\":[\"Canada\",\"Mexico\",\"Trinidad and Tobago\",\"United States\"],\"xaxis\":\"x\",\"y\":[68092.355,13690.758999999998,53041.253,74821.603],\"yaxis\":\"y\"},{\"alignmentgroup\":\"True\",\"hovertemplate\":\"Continents=South America<br>Year=1982<br>Countries=%{x}<br>Fossil fuels per capita (kWh)=%{y}<extra></extra>\",\"legendgroup\":\"South America\",\"marker\":{\"color\":\"#19d3f3\",\"pattern\":{\"shape\":\"\"}},\"name\":\"South America\",\"offsetgroup\":\"South America\",\"orientation\":\"v\",\"showlegend\":true,\"textposition\":\"auto\",\"type\":\"bar\",\"x\":[\"Argentina\",\"Brazil\",\"Chile\",\"Colombia\",\"Ecuador\",\"Peru\",\"Venezuela\"],\"xaxis\":\"x\",\"y\":[13895.561000000002,5501.278,6299.424,5550.291,5311.68,4772.366,27213.942000000003],\"yaxis\":\"y\"}],\"name\":\"1982\"},{\"data\":[{\"alignmentgroup\":\"True\",\"hovertemplate\":\"Continents=Africa<br>Year=1983<br>Countries=%{x}<br>Fossil fuels per capita (kWh)=%{y}<extra></extra>\",\"legendgroup\":\"Africa\",\"marker\":{\"color\":\"#636efa\",\"pattern\":{\"shape\":\"\"}},\"name\":\"Africa\",\"offsetgroup\":\"Africa\",\"orientation\":\"v\",\"showlegend\":true,\"textposition\":\"auto\",\"type\":\"bar\",\"x\":[\"Algeria\",\"Egypt\",\"Morocco\"],\"xaxis\":\"x\",\"y\":[12807.885,5619.665,2835.491],\"yaxis\":\"y\"},{\"alignmentgroup\":\"True\",\"hovertemplate\":\"Continents=Asia<br>Year=1983<br>Countries=%{x}<br>Fossil fuels per capita (kWh)=%{y}<extra></extra>\",\"legendgroup\":\"Asia\",\"marker\":{\"color\":\"#EF553B\",\"pattern\":{\"shape\":\"\"}},\"name\":\"Asia\",\"offsetgroup\":\"Asia\",\"orientation\":\"v\",\"showlegend\":true,\"textposition\":\"auto\",\"type\":\"bar\",\"x\":[\"Bangladesh\",\"China\",\"India\",\"Indonesia\",\"Iran\",\"Iraq\",\"Israel\",\"Japan\",\"Kuwait\",\"Malaysia\",\"Oman\",\"Pakistan\",\"Philippines\",\"Qatar\",\"Saudi Arabia\",\"Singapore\",\"Sri Lanka\",\"Thailand\",\"United Arab Emirates\",\"Vietnam\"],\"xaxis\":\"x\",\"y\":[443.833,4877.043,1673.621,2193.69,12145.608,7252.918000000001,25820.265,28989.501,78110.663,10592.928,16421.825,1849.754,2475.347,221610.7,51107.386,51263.727999999996,1133.307,3141.777,107237.52,980.0089999999999],\"yaxis\":\"y\"},{\"alignmentgroup\":\"True\",\"hovertemplate\":\"Continents=Australia_NZ<br>Year=1983<br>Countries=%{x}<br>Fossil fuels per capita (kWh)=%{y}<extra></extra>\",\"legendgroup\":\"Australia_NZ\",\"marker\":{\"color\":\"#00cc96\",\"pattern\":{\"shape\":\"\"}},\"name\":\"Australia_NZ\",\"offsetgroup\":\"Australia_NZ\",\"orientation\":\"v\",\"showlegend\":true,\"textposition\":\"auto\",\"type\":\"bar\",\"x\":[\"Australia\",\"New Zealand\"],\"xaxis\":\"x\",\"y\":[53534.369000000006,24897.95],\"yaxis\":\"y\"},{\"alignmentgroup\":\"True\",\"hovertemplate\":\"Continents=Europe<br>Year=1983<br>Countries=%{x}<br>Fossil fuels per capita (kWh)=%{y}<extra></extra>\",\"legendgroup\":\"Europe\",\"marker\":{\"color\":\"#ab63fa\",\"pattern\":{\"shape\":\"\"}},\"name\":\"Europe\",\"offsetgroup\":\"Europe\",\"orientation\":\"v\",\"showlegend\":true,\"textposition\":\"auto\",\"type\":\"bar\",\"x\":[\"Austria\",\"Belgium\",\"Bulgaria\",\"Cyprus\",\"Denmark\",\"Finland\",\"France\",\"Germany\",\"Greece\",\"Hungary\",\"Iceland\",\"Ireland\",\"Italy\",\"Luxembourg\",\"Netherlands\",\"Norway\",\"Poland\",\"Portugal\",\"Romania\",\"Slovakia\",\"Spain\",\"Sweden\",\"Switzerland\",\"United Kingdom\"],\"xaxis\":\"x\",\"y\":[27619.735,43393.082,33124.159,17911.657,37076.017,35227.686,29915.166,48048.883,19610.545,28775.407000000003,27913.863999999998,26896.612,25905.244,79155.91,52707.707,29635.354,37566.109,11783.406,30231.894,37746.556000000004,20903.292,35103.43,25677.731,38014.222],\"yaxis\":\"y\"},{\"alignmentgroup\":\"True\",\"hovertemplate\":\"Continents=North America<br>Year=1983<br>Countries=%{x}<br>Fossil fuels per capita (kWh)=%{y}<extra></extra>\",\"legendgroup\":\"North America\",\"marker\":{\"color\":\"#FFA15A\",\"pattern\":{\"shape\":\"\"}},\"name\":\"North America\",\"offsetgroup\":\"North America\",\"orientation\":\"v\",\"showlegend\":true,\"textposition\":\"auto\",\"type\":\"bar\",\"x\":[\"Canada\",\"Mexico\",\"Trinidad and Tobago\",\"United States\"],\"xaxis\":\"x\",\"y\":[64693.085,13306.478000000001,50936.98,73312.73],\"yaxis\":\"y\"},{\"alignmentgroup\":\"True\",\"hovertemplate\":\"Continents=South America<br>Year=1983<br>Countries=%{x}<br>Fossil fuels per capita (kWh)=%{y}<extra></extra>\",\"legendgroup\":\"South America\",\"marker\":{\"color\":\"#19d3f3\",\"pattern\":{\"shape\":\"\"}},\"name\":\"South America\",\"offsetgroup\":\"South America\",\"orientation\":\"v\",\"showlegend\":true,\"textposition\":\"auto\",\"type\":\"bar\",\"x\":[\"Argentina\",\"Brazil\",\"Chile\",\"Colombia\",\"Ecuador\",\"Peru\",\"Venezuela\"],\"xaxis\":\"x\",\"y\":[14140.188999999998,5240.363,6260.3009999999995,5772.885,4782.59,4016.184,26002.225],\"yaxis\":\"y\"}],\"name\":\"1983\"},{\"data\":[{\"alignmentgroup\":\"True\",\"hovertemplate\":\"Continents=Africa<br>Year=1984<br>Countries=%{x}<br>Fossil fuels per capita (kWh)=%{y}<extra></extra>\",\"legendgroup\":\"Africa\",\"marker\":{\"color\":\"#636efa\",\"pattern\":{\"shape\":\"\"}},\"name\":\"Africa\",\"offsetgroup\":\"Africa\",\"orientation\":\"v\",\"showlegend\":true,\"textposition\":\"auto\",\"type\":\"bar\",\"x\":[\"Algeria\",\"Egypt\",\"Morocco\"],\"xaxis\":\"x\",\"y\":[11893.946000000002,6017.16,2823.33],\"yaxis\":\"y\"},{\"alignmentgroup\":\"True\",\"hovertemplate\":\"Continents=Asia<br>Year=1984<br>Countries=%{x}<br>Fossil fuels per capita (kWh)=%{y}<extra></extra>\",\"legendgroup\":\"Asia\",\"marker\":{\"color\":\"#EF553B\",\"pattern\":{\"shape\":\"\"}},\"name\":\"Asia\",\"offsetgroup\":\"Asia\",\"orientation\":\"v\",\"showlegend\":true,\"textposition\":\"auto\",\"type\":\"bar\",\"x\":[\"Bangladesh\",\"China\",\"India\",\"Indonesia\",\"Iran\",\"Iraq\",\"Israel\",\"Japan\",\"Kuwait\",\"Malaysia\",\"Oman\",\"Pakistan\",\"Philippines\",\"Qatar\",\"Saudi Arabia\",\"Singapore\",\"Sri Lanka\",\"Thailand\",\"United Arab Emirates\",\"Vietnam\"],\"xaxis\":\"x\",\"y\":[461.338,5170.563,1735.345,2324.052,12650.655,7770.595,25761.952999999998,31490.22,79484.771,10821.991000000002,22706.932999999997,1900.771,2056.813,227120.915,57599.133,52610.683,955.693,3392.114,126815.15699999999,947.852],\"yaxis\":\"y\"},{\"alignmentgroup\":\"True\",\"hovertemplate\":\"Continents=Australia_NZ<br>Year=1984<br>Countries=%{x}<br>Fossil fuels per capita (kWh)=%{y}<extra></extra>\",\"legendgroup\":\"Australia_NZ\",\"marker\":{\"color\":\"#00cc96\",\"pattern\":{\"shape\":\"\"}},\"name\":\"Australia_NZ\",\"offsetgroup\":\"Australia_NZ\",\"orientation\":\"v\",\"showlegend\":true,\"textposition\":\"auto\",\"type\":\"bar\",\"x\":[\"Australia\",\"New Zealand\"],\"xaxis\":\"x\",\"y\":[54962.514,26389.808999999997],\"yaxis\":\"y\"},{\"alignmentgroup\":\"True\",\"hovertemplate\":\"Continents=Europe<br>Year=1984<br>Countries=%{x}<br>Fossil fuels per capita (kWh)=%{y}<extra></extra>\",\"legendgroup\":\"Europe\",\"marker\":{\"color\":\"#ab63fa\",\"pattern\":{\"shape\":\"\"}},\"name\":\"Europe\",\"offsetgroup\":\"Europe\",\"orientation\":\"v\",\"showlegend\":true,\"textposition\":\"auto\",\"type\":\"bar\",\"x\":[\"Austria\",\"Belgium\",\"Bulgaria\",\"Cyprus\",\"Denmark\",\"Finland\",\"France\",\"Germany\",\"Greece\",\"Hungary\",\"Iceland\",\"Ireland\",\"Italy\",\"Luxembourg\",\"Netherlands\",\"Norway\",\"Poland\",\"Portugal\",\"Romania\",\"Slovakia\",\"Spain\",\"Sweden\",\"Switzerland\",\"United Kingdom\"],\"xaxis\":\"x\",\"y\":[28667.664,44583.23,32743.166,18069.483,37724.791,36825.795,28912.235,49060.345,20237.483,29367.638,29545.887000000002,26529.902000000002,26195.496,85052.93,54494.062999999995,30706.334,38754.7,11849.813,29738.433999999997,40318.925,19934.82,34227.009,25192.109,37754.708],\"yaxis\":\"y\"},{\"alignmentgroup\":\"True\",\"hovertemplate\":\"Continents=North America<br>Year=1984<br>Countries=%{x}<br>Fossil fuels per capita (kWh)=%{y}<extra></extra>\",\"legendgroup\":\"North America\",\"marker\":{\"color\":\"#FFA15A\",\"pattern\":{\"shape\":\"\"}},\"name\":\"North America\",\"offsetgroup\":\"North America\",\"orientation\":\"v\",\"showlegend\":true,\"textposition\":\"auto\",\"type\":\"bar\",\"x\":[\"Canada\",\"Mexico\",\"Trinidad and Tobago\",\"United States\"],\"xaxis\":\"x\",\"y\":[67778.179,13543.402,49476.482,76555.932],\"yaxis\":\"y\"},{\"alignmentgroup\":\"True\",\"hovertemplate\":\"Continents=South America<br>Year=1984<br>Countries=%{x}<br>Fossil fuels per capita (kWh)=%{y}<extra></extra>\",\"legendgroup\":\"South America\",\"marker\":{\"color\":\"#19d3f3\",\"pattern\":{\"shape\":\"\"}},\"name\":\"South America\",\"offsetgroup\":\"South America\",\"orientation\":\"v\",\"showlegend\":true,\"textposition\":\"auto\",\"type\":\"bar\",\"x\":[\"Argentina\",\"Brazil\",\"Chile\",\"Colombia\",\"Ecuador\",\"Peru\",\"Venezuela\"],\"xaxis\":\"x\",\"y\":[13638.365,5341.334,6480.8240000000005,5671.289000000001,4750.744000000001,4114.4259999999995,25511.402000000002],\"yaxis\":\"y\"}],\"name\":\"1984\"},{\"data\":[{\"alignmentgroup\":\"True\",\"hovertemplate\":\"Continents=Africa<br>Year=1985<br>Countries=%{x}<br>Fossil fuels per capita (kWh)=%{y}<extra></extra>\",\"legendgroup\":\"Africa\",\"marker\":{\"color\":\"#636efa\",\"pattern\":{\"shape\":\"\"}},\"name\":\"Africa\",\"offsetgroup\":\"Africa\",\"orientation\":\"v\",\"showlegend\":true,\"textposition\":\"auto\",\"type\":\"bar\",\"x\":[\"Algeria\",\"Egypt\",\"Morocco\"],\"xaxis\":\"x\",\"y\":[11607.818000000001,6126.781999999999,2838.603],\"yaxis\":\"y\"},{\"alignmentgroup\":\"True\",\"hovertemplate\":\"Continents=Asia<br>Year=1985<br>Countries=%{x}<br>Fossil fuels per capita (kWh)=%{y}<extra></extra>\",\"legendgroup\":\"Asia\",\"marker\":{\"color\":\"#EF553B\",\"pattern\":{\"shape\":\"\"}},\"name\":\"Asia\",\"offsetgroup\":\"Asia\",\"orientation\":\"v\",\"showlegend\":true,\"textposition\":\"auto\",\"type\":\"bar\",\"x\":[\"Azerbaijan\",\"Bangladesh\",\"China\",\"India\",\"Indonesia\",\"Iran\",\"Iraq\",\"Israel\",\"Japan\",\"Kazakhstan\",\"Kuwait\",\"Malaysia\",\"Oman\",\"Pakistan\",\"Philippines\",\"Qatar\",\"Russia\",\"Saudi Arabia\",\"Singapore\",\"Sri Lanka\",\"Thailand\",\"Turkmenistan\",\"United Arab Emirates\",\"Uzbekistan\",\"Vietnam\"],\"xaxis\":\"x\",\"y\":[34631.775,507.789,5505.677,1808.1779999999999,2412.821,13288.893999999998,8988.661,24632.755,30703.671000000002,49828.972,73789.273,10481.488000000001,22410.578999999998,1936.704,1868.719,212306.36,61564.137,55625.192,52436.719000000005,857.932,3522.03,44110.763,148924.755,25833.976000000002,925.988],\"yaxis\":\"y\"},{\"alignmentgroup\":\"True\",\"hovertemplate\":\"Continents=Australia_NZ<br>Year=1985<br>Countries=%{x}<br>Fossil fuels per capita (kWh)=%{y}<extra></extra>\",\"legendgroup\":\"Australia_NZ\",\"marker\":{\"color\":\"#00cc96\",\"pattern\":{\"shape\":\"\"}},\"name\":\"Australia_NZ\",\"offsetgroup\":\"Australia_NZ\",\"orientation\":\"v\",\"showlegend\":true,\"textposition\":\"auto\",\"type\":\"bar\",\"x\":[\"Australia\",\"New Zealand\"],\"xaxis\":\"x\",\"y\":[54402.773,27409.158],\"yaxis\":\"y\"},{\"alignmentgroup\":\"True\",\"hovertemplate\":\"Continents=Europe<br>Year=1985<br>Countries=%{x}<br>Fossil fuels per capita (kWh)=%{y}<extra></extra>\",\"legendgroup\":\"Europe\",\"marker\":{\"color\":\"#ab63fa\",\"pattern\":{\"shape\":\"\"}},\"name\":\"Europe\",\"offsetgroup\":\"Europe\",\"orientation\":\"v\",\"showlegend\":true,\"textposition\":\"auto\",\"type\":\"bar\",\"x\":[\"Austria\",\"Belarus\",\"Belgium\",\"Bulgaria\",\"Cyprus\",\"Denmark\",\"Estonia\",\"Finland\",\"France\",\"Germany\",\"Greece\",\"Hungary\",\"Iceland\",\"Ireland\",\"Italy\",\"Latvia\",\"Lithuania\",\"Luxembourg\",\"Netherlands\",\"Norway\",\"Poland\",\"Portugal\",\"Romania\",\"Slovakia\",\"Spain\",\"Sweden\",\"Switzerland\",\"Ukraine\",\"United Kingdom\"],\"xaxis\":\"x\",\"y\":[29125.766,41206.433,44889.575999999994,32646.763,19269.021,42522.71400000001,77827.008,39821.842000000004,28636.159,49428.953,21329.891,29768.695,29310.255,27645.076,26118.693,37768.621,42849.987,87261.141,55833.59099999999,31948.896,39308.985,11810.556999999999,29357.736,40020.483,19317.459,37063.591,25527.68,51016.825999999994,39098.003],\"yaxis\":\"y\"},{\"alignmentgroup\":\"True\",\"hovertemplate\":\"Continents=North America<br>Year=1985<br>Countries=%{x}<br>Fossil fuels per capita (kWh)=%{y}<extra></extra>\",\"legendgroup\":\"North America\",\"marker\":{\"color\":\"#FFA15A\",\"pattern\":{\"shape\":\"\"}},\"name\":\"North America\",\"offsetgroup\":\"North America\",\"orientation\":\"v\",\"showlegend\":true,\"textposition\":\"auto\",\"type\":\"bar\",\"x\":[\"Canada\",\"Mexico\",\"Trinidad and Tobago\",\"United States\"],\"xaxis\":\"x\",\"y\":[67571.06,13762.044,50468.378,75409.33],\"yaxis\":\"y\"},{\"alignmentgroup\":\"True\",\"hovertemplate\":\"Continents=South America<br>Year=1985<br>Countries=%{x}<br>Fossil fuels per capita (kWh)=%{y}<extra></extra>\",\"legendgroup\":\"South America\",\"marker\":{\"color\":\"#19d3f3\",\"pattern\":{\"shape\":\"\"}},\"name\":\"South America\",\"offsetgroup\":\"South America\",\"orientation\":\"v\",\"showlegend\":true,\"textposition\":\"auto\",\"type\":\"bar\",\"x\":[\"Argentina\",\"Brazil\",\"Chile\",\"Colombia\",\"Ecuador\",\"Peru\",\"Venezuela\"],\"xaxis\":\"x\",\"y\":[12867.383,5462.99,6261.284000000001,5716.078,5655.455,3876.531,25219.593999999997],\"yaxis\":\"y\"}],\"name\":\"1985\"},{\"data\":[{\"alignmentgroup\":\"True\",\"hovertemplate\":\"Continents=Africa<br>Year=1986<br>Countries=%{x}<br>Fossil fuels per capita (kWh)=%{y}<extra></extra>\",\"legendgroup\":\"Africa\",\"marker\":{\"color\":\"#636efa\",\"pattern\":{\"shape\":\"\"}},\"name\":\"Africa\",\"offsetgroup\":\"Africa\",\"orientation\":\"v\",\"showlegend\":true,\"textposition\":\"auto\",\"type\":\"bar\",\"x\":[\"Algeria\",\"Egypt\",\"Morocco\"],\"xaxis\":\"x\",\"y\":[11979.548,6129.406999999999,2856.13],\"yaxis\":\"y\"},{\"alignmentgroup\":\"True\",\"hovertemplate\":\"Continents=Asia<br>Year=1986<br>Countries=%{x}<br>Fossil fuels per capita (kWh)=%{y}<extra></extra>\",\"legendgroup\":\"Asia\",\"marker\":{\"color\":\"#EF553B\",\"pattern\":{\"shape\":\"\"}},\"name\":\"Asia\",\"offsetgroup\":\"Asia\",\"orientation\":\"v\",\"showlegend\":true,\"textposition\":\"auto\",\"type\":\"bar\",\"x\":[\"Azerbaijan\",\"Bangladesh\",\"China\",\"India\",\"Indonesia\",\"Iran\",\"Iraq\",\"Israel\",\"Japan\",\"Kazakhstan\",\"Kuwait\",\"Malaysia\",\"Oman\",\"Pakistan\",\"Philippines\",\"Qatar\",\"Russia\",\"Saudi Arabia\",\"Singapore\",\"Sri Lanka\",\"Thailand\",\"Turkmenistan\",\"United Arab Emirates\",\"Uzbekistan\",\"Vietnam\"],\"xaxis\":\"x\",\"y\":[36910.811,549.491,5673.613,1902.6789999999999,2598.313,11872.034,9765.119,25484.62,30481.842999999997,50470.669,79272.615,11443.339,20153.487,2026.1689999999999,1851.1879999999999,216540.99800000002,62085.28,56885.030999999995,59552.804000000004,838.428,3603.901,53579.627,170406.805,24904.773999999998,1001.086],\"yaxis\":\"y\"},{\"alignmentgroup\":\"True\",\"hovertemplate\":\"Continents=Australia_NZ<br>Year=1986<br>Countries=%{x}<br>Fossil fuels per capita (kWh)=%{y}<extra></extra>\",\"legendgroup\":\"Australia_NZ\",\"marker\":{\"color\":\"#00cc96\",\"pattern\":{\"shape\":\"\"}},\"name\":\"Australia_NZ\",\"offsetgroup\":\"Australia_NZ\",\"orientation\":\"v\",\"showlegend\":true,\"textposition\":\"auto\",\"type\":\"bar\",\"x\":[\"Australia\",\"New Zealand\"],\"xaxis\":\"x\",\"y\":[55415.203,28929.417],\"yaxis\":\"y\"},{\"alignmentgroup\":\"True\",\"hovertemplate\":\"Continents=Europe<br>Year=1986<br>Countries=%{x}<br>Fossil fuels per capita (kWh)=%{y}<extra></extra>\",\"legendgroup\":\"Europe\",\"marker\":{\"color\":\"#ab63fa\",\"pattern\":{\"shape\":\"\"}},\"name\":\"Europe\",\"offsetgroup\":\"Europe\",\"orientation\":\"v\",\"showlegend\":true,\"textposition\":\"auto\",\"type\":\"bar\",\"x\":[\"Austria\",\"Belarus\",\"Belgium\",\"Bulgaria\",\"Cyprus\",\"Denmark\",\"Estonia\",\"Finland\",\"France\",\"Germany\",\"Greece\",\"Hungary\",\"Iceland\",\"Ireland\",\"Italy\",\"Latvia\",\"Lithuania\",\"Luxembourg\",\"Netherlands\",\"Norway\",\"Poland\",\"Portugal\",\"Romania\",\"Slovakia\",\"Spain\",\"Sweden\",\"Switzerland\",\"Ukraine\",\"United Kingdom\"],\"xaxis\":\"x\",\"y\":[28976.032000000003,46741.555,45175.65,33713.127,19864.396,43406.629,76746.71,40290.57,27997.873,49153.03599999999,21149.717,29499.341,29863.767999999996,29802.63,26778.73,34548.576,38272.815,84702.726,58228.337999999996,33651.878,40203.59,13331.232,30123.769,38389.748,19439.603,39583.076,27417.261000000002,51691.642,40254.712],\"yaxis\":\"y\"},{\"alignmentgroup\":\"True\",\"hovertemplate\":\"Continents=North America<br>Year=1986<br>Countries=%{x}<br>Fossil fuels per capita (kWh)=%{y}<extra></extra>\",\"legendgroup\":\"North America\",\"marker\":{\"color\":\"#FFA15A\",\"pattern\":{\"shape\":\"\"}},\"name\":\"North America\",\"offsetgroup\":\"North America\",\"orientation\":\"v\",\"showlegend\":true,\"textposition\":\"auto\",\"type\":\"bar\",\"x\":[\"Canada\",\"Mexico\",\"Trinidad and Tobago\",\"United States\"],\"xaxis\":\"x\",\"y\":[65072.344000000005,13248.472,51875.24,74706.421],\"yaxis\":\"y\"},{\"alignmentgroup\":\"True\",\"hovertemplate\":\"Continents=South America<br>Year=1986<br>Countries=%{x}<br>Fossil fuels per capita (kWh)=%{y}<extra></extra>\",\"legendgroup\":\"South America\",\"marker\":{\"color\":\"#19d3f3\",\"pattern\":{\"shape\":\"\"}},\"name\":\"South America\",\"offsetgroup\":\"South America\",\"orientation\":\"v\",\"showlegend\":true,\"textposition\":\"auto\",\"type\":\"bar\",\"x\":[\"Argentina\",\"Brazil\",\"Chile\",\"Colombia\",\"Ecuador\",\"Peru\",\"Venezuela\"],\"xaxis\":\"x\",\"y\":[14200.223,5842.922,6366.643,5575.376,5600.779,4056.062,26268.95],\"yaxis\":\"y\"}],\"name\":\"1986\"},{\"data\":[{\"alignmentgroup\":\"True\",\"hovertemplate\":\"Continents=Africa<br>Year=1987<br>Countries=%{x}<br>Fossil fuels per capita (kWh)=%{y}<extra></extra>\",\"legendgroup\":\"Africa\",\"marker\":{\"color\":\"#636efa\",\"pattern\":{\"shape\":\"\"}},\"name\":\"Africa\",\"offsetgroup\":\"Africa\",\"orientation\":\"v\",\"showlegend\":true,\"textposition\":\"auto\",\"type\":\"bar\",\"x\":[\"Algeria\",\"Egypt\",\"Morocco\"],\"xaxis\":\"x\",\"y\":[11932.901000000002,6271.604,2862.865],\"yaxis\":\"y\"},{\"alignmentgroup\":\"True\",\"hovertemplate\":\"Continents=Asia<br>Year=1987<br>Countries=%{x}<br>Fossil fuels per capita (kWh)=%{y}<extra></extra>\",\"legendgroup\":\"Asia\",\"marker\":{\"color\":\"#EF553B\",\"pattern\":{\"shape\":\"\"}},\"name\":\"Asia\",\"offsetgroup\":\"Asia\",\"orientation\":\"v\",\"showlegend\":true,\"textposition\":\"auto\",\"type\":\"bar\",\"x\":[\"Azerbaijan\",\"Bangladesh\",\"China\",\"India\",\"Indonesia\",\"Iran\",\"Iraq\",\"Israel\",\"Japan\",\"Kazakhstan\",\"Kuwait\",\"Malaysia\",\"Oman\",\"Pakistan\",\"Philippines\",\"Qatar\",\"Russia\",\"Saudi Arabia\",\"Singapore\",\"Sri Lanka\",\"Thailand\",\"Turkmenistan\",\"United Arab Emirates\",\"Uzbekistan\",\"Vietnam\"],\"xaxis\":\"x\",\"y\":[35167.515,590.104,6007.818,2004.405,2695.914,12236.585,11154.305,27763.676,30664.179,50853.926,69736.966,11340.101,21873.619,2137.68,2075.278,203638.163,63490.344000000005,57576.577000000005,61400.605,940.823,4178.721,52003.079000000005,179304.736,24486.918999999998,1112.147],\"yaxis\":\"y\"},{\"alignmentgroup\":\"True\",\"hovertemplate\":\"Continents=Australia_NZ<br>Year=1987<br>Countries=%{x}<br>Fossil fuels per capita (kWh)=%{y}<extra></extra>\",\"legendgroup\":\"Australia_NZ\",\"marker\":{\"color\":\"#00cc96\",\"pattern\":{\"shape\":\"\"}},\"name\":\"Australia_NZ\",\"offsetgroup\":\"Australia_NZ\",\"orientation\":\"v\",\"showlegend\":true,\"textposition\":\"auto\",\"type\":\"bar\",\"x\":[\"Australia\",\"New Zealand\"],\"xaxis\":\"x\",\"y\":[56099.683,29852.991],\"yaxis\":\"y\"},{\"alignmentgroup\":\"True\",\"hovertemplate\":\"Continents=Europe<br>Year=1987<br>Countries=%{x}<br>Fossil fuels per capita (kWh)=%{y}<extra></extra>\",\"legendgroup\":\"Europe\",\"marker\":{\"color\":\"#ab63fa\",\"pattern\":{\"shape\":\"\"}},\"name\":\"Europe\",\"offsetgroup\":\"Europe\",\"orientation\":\"v\",\"showlegend\":true,\"textposition\":\"auto\",\"type\":\"bar\",\"x\":[\"Austria\",\"Belarus\",\"Belgium\",\"Bulgaria\",\"Cyprus\",\"Denmark\",\"Estonia\",\"Finland\",\"France\",\"Germany\",\"Greece\",\"Hungary\",\"Iceland\",\"Ireland\",\"Italy\",\"Latvia\",\"Lithuania\",\"Luxembourg\",\"Netherlands\",\"Norway\",\"Poland\",\"Portugal\",\"Romania\",\"Slovakia\",\"Spain\",\"Sweden\",\"Switzerland\",\"Ukraine\",\"United Kingdom\"],\"xaxis\":\"x\",\"y\":[29648.612,47133.513,46052.948,33869.623999999996,23901.576,41791.15,77154.382,42083.922999999995,27660.455,49018.907999999996,23253.165,30069.814,30843.659,30344.226000000002,28144.683999999997,30142.716,40677.756,79421.22,59190.559,33653.342000000004,41314.407999999996,13530.087,31087.799,39190.835,19933.43,34666.046,25937.575,52343.512,40308.849],\"yaxis\":\"y\"},{\"alignmentgroup\":\"True\",\"hovertemplate\":\"Continents=North America<br>Year=1987<br>Countries=%{x}<br>Fossil fuels per capita (kWh)=%{y}<extra></extra>\",\"legendgroup\":\"North America\",\"marker\":{\"color\":\"#FFA15A\",\"pattern\":{\"shape\":\"\"}},\"name\":\"North America\",\"offsetgroup\":\"North America\",\"orientation\":\"v\",\"showlegend\":true,\"textposition\":\"auto\",\"type\":\"bar\",\"x\":[\"Canada\",\"Mexico\",\"Trinidad and Tobago\",\"United States\"],\"xaxis\":\"x\",\"y\":[66525.44099999999,13476.489,48464.314000000006,76742.92],\"yaxis\":\"y\"},{\"alignmentgroup\":\"True\",\"hovertemplate\":\"Continents=South America<br>Year=1987<br>Countries=%{x}<br>Fossil fuels per capita (kWh)=%{y}<extra></extra>\",\"legendgroup\":\"South America\",\"marker\":{\"color\":\"#19d3f3\",\"pattern\":{\"shape\":\"\"}},\"name\":\"South America\",\"offsetgroup\":\"South America\",\"orientation\":\"v\",\"showlegend\":true,\"textposition\":\"auto\",\"type\":\"bar\",\"x\":[\"Argentina\",\"Brazil\",\"Chile\",\"Colombia\",\"Ecuador\",\"Peru\",\"Venezuela\"],\"xaxis\":\"x\",\"y\":[14576.795,5927.076999999999,6490.156,5938.111,5498.005,4256.355,24659.406000000003],\"yaxis\":\"y\"}],\"name\":\"1987\"},{\"data\":[{\"alignmentgroup\":\"True\",\"hovertemplate\":\"Continents=Africa<br>Year=1988<br>Countries=%{x}<br>Fossil fuels per capita (kWh)=%{y}<extra></extra>\",\"legendgroup\":\"Africa\",\"marker\":{\"color\":\"#636efa\",\"pattern\":{\"shape\":\"\"}},\"name\":\"Africa\",\"offsetgroup\":\"Africa\",\"orientation\":\"v\",\"showlegend\":true,\"textposition\":\"auto\",\"type\":\"bar\",\"x\":[\"Algeria\",\"Egypt\",\"Morocco\"],\"xaxis\":\"x\",\"y\":[12473.139,6312.744000000001,2958.465],\"yaxis\":\"y\"},{\"alignmentgroup\":\"True\",\"hovertemplate\":\"Continents=Asia<br>Year=1988<br>Countries=%{x}<br>Fossil fuels per capita (kWh)=%{y}<extra></extra>\",\"legendgroup\":\"Asia\",\"marker\":{\"color\":\"#EF553B\",\"pattern\":{\"shape\":\"\"}},\"name\":\"Asia\",\"offsetgroup\":\"Asia\",\"orientation\":\"v\",\"showlegend\":true,\"textposition\":\"auto\",\"type\":\"bar\",\"x\":[\"Azerbaijan\",\"Bangladesh\",\"China\",\"India\",\"Indonesia\",\"Iran\",\"Iraq\",\"Israel\",\"Japan\",\"Kazakhstan\",\"Kuwait\",\"Malaysia\",\"Oman\",\"Pakistan\",\"Philippines\",\"Qatar\",\"Russia\",\"Saudi Arabia\",\"Singapore\",\"Sri Lanka\",\"Thailand\",\"Turkmenistan\",\"United Arab Emirates\",\"Uzbekistan\",\"Vietnam\"],\"xaxis\":\"x\",\"y\":[34651.61,637.366,6326.274,2129.708,2788.869,12468.52,12798.142,29193.752999999997,32841.961,51973.61,75438.467,11608.284,20494.103,2211.784,2213.81,178307.203,64101.715,57749.685999999994,69668.788,898.551,4641.685,51051.6,186732.793,25360.94,1069.307],\"yaxis\":\"y\"},{\"alignmentgroup\":\"True\",\"hovertemplate\":\"Continents=Australia_NZ<br>Year=1988<br>Countries=%{x}<br>Fossil fuels per capita (kWh)=%{y}<extra></extra>\",\"legendgroup\":\"Australia_NZ\",\"marker\":{\"color\":\"#00cc96\",\"pattern\":{\"shape\":\"\"}},\"name\":\"Australia_NZ\",\"offsetgroup\":\"Australia_NZ\",\"orientation\":\"v\",\"showlegend\":true,\"textposition\":\"auto\",\"type\":\"bar\",\"x\":[\"Australia\",\"New Zealand\"],\"xaxis\":\"x\",\"y\":[57694.242999999995,30762.582000000002],\"yaxis\":\"y\"},{\"alignmentgroup\":\"True\",\"hovertemplate\":\"Continents=Europe<br>Year=1988<br>Countries=%{x}<br>Fossil fuels per capita (kWh)=%{y}<extra></extra>\",\"legendgroup\":\"Europe\",\"marker\":{\"color\":\"#ab63fa\",\"pattern\":{\"shape\":\"\"}},\"name\":\"Europe\",\"offsetgroup\":\"Europe\",\"orientation\":\"v\",\"showlegend\":true,\"textposition\":\"auto\",\"type\":\"bar\",\"x\":[\"Austria\",\"Belarus\",\"Belgium\",\"Bulgaria\",\"Cyprus\",\"Denmark\",\"Estonia\",\"Finland\",\"France\",\"Germany\",\"Greece\",\"Hungary\",\"Iceland\",\"Ireland\",\"Italy\",\"Latvia\",\"Lithuania\",\"Luxembourg\",\"Netherlands\",\"Norway\",\"Poland\",\"Portugal\",\"Romania\",\"Slovakia\",\"Spain\",\"Sweden\",\"Switzerland\",\"Ukraine\",\"United Kingdom\"],\"xaxis\":\"x\",\"y\":[28906.785,47549.471,46816.143,33703.376000000004,24245.951,41212.708,75212.88900000001,41865.974,27292.028,48477.33,24611.581000000002,28750.016,31747.822,30073.976000000002,28831.172000000002,28748.539,39865.777,80819.64,58970.113,32839.265,40356.116,14424.121000000001,31095.301,39363.895,19729.438000000002,32577.007999999998,25756.541,50951.831,40328.535],\"yaxis\":\"y\"},{\"alignmentgroup\":\"True\",\"hovertemplate\":\"Continents=North America<br>Year=1988<br>Countries=%{x}<br>Fossil fuels per capita (kWh)=%{y}<extra></extra>\",\"legendgroup\":\"North America\",\"marker\":{\"color\":\"#FFA15A\",\"pattern\":{\"shape\":\"\"}},\"name\":\"North America\",\"offsetgroup\":\"North America\",\"orientation\":\"v\",\"showlegend\":true,\"textposition\":\"auto\",\"type\":\"bar\",\"x\":[\"Canada\",\"Mexico\",\"Trinidad and Tobago\",\"United States\"],\"xaxis\":\"x\",\"y\":[70261.893,13216.531,52880.295999999995,79362.228],\"yaxis\":\"y\"},{\"alignmentgroup\":\"True\",\"hovertemplate\":\"Continents=South America<br>Year=1988<br>Countries=%{x}<br>Fossil fuels per capita (kWh)=%{y}<extra></extra>\",\"legendgroup\":\"South America\",\"marker\":{\"color\":\"#19d3f3\",\"pattern\":{\"shape\":\"\"}},\"name\":\"South America\",\"offsetgroup\":\"South America\",\"orientation\":\"v\",\"showlegend\":true,\"textposition\":\"auto\",\"type\":\"bar\",\"x\":[\"Argentina\",\"Brazil\",\"Chile\",\"Colombia\",\"Ecuador\",\"Peru\",\"Venezuela\"],\"xaxis\":\"x\",\"y\":[15233.872,5917.366,7505.628000000001,5714.977,6334.651999999999,4088.513,24717.185],\"yaxis\":\"y\"}],\"name\":\"1988\"},{\"data\":[{\"alignmentgroup\":\"True\",\"hovertemplate\":\"Continents=Africa<br>Year=1989<br>Countries=%{x}<br>Fossil fuels per capita (kWh)=%{y}<extra></extra>\",\"legendgroup\":\"Africa\",\"marker\":{\"color\":\"#636efa\",\"pattern\":{\"shape\":\"\"}},\"name\":\"Africa\",\"offsetgroup\":\"Africa\",\"orientation\":\"v\",\"showlegend\":true,\"textposition\":\"auto\",\"type\":\"bar\",\"x\":[\"Algeria\",\"Egypt\",\"Morocco\"],\"xaxis\":\"x\",\"y\":[11805.952,6491.243,3178.925],\"yaxis\":\"y\"},{\"alignmentgroup\":\"True\",\"hovertemplate\":\"Continents=Asia<br>Year=1989<br>Countries=%{x}<br>Fossil fuels per capita (kWh)=%{y}<extra></extra>\",\"legendgroup\":\"Asia\",\"marker\":{\"color\":\"#EF553B\",\"pattern\":{\"shape\":\"\"}},\"name\":\"Asia\",\"offsetgroup\":\"Asia\",\"orientation\":\"v\",\"showlegend\":true,\"textposition\":\"auto\",\"type\":\"bar\",\"x\":[\"Azerbaijan\",\"Bangladesh\",\"China\",\"India\",\"Indonesia\",\"Iran\",\"Iraq\",\"Israel\",\"Japan\",\"Kazakhstan\",\"Kuwait\",\"Malaysia\",\"Oman\",\"Pakistan\",\"Philippines\",\"Qatar\",\"Russia\",\"Saudi Arabia\",\"Singapore\",\"Sri Lanka\",\"Thailand\",\"Turkmenistan\",\"United Arab Emirates\",\"Uzbekistan\",\"Vietnam\"],\"xaxis\":\"x\",\"y\":[34761.271,664.322,6510.732,2273.519,3018.304,13325.726,14070.152,29605.888,33732.48,50691.852,79766.844,12762.588,22412.346,2299.49,2345.187,183102.13,63982.096,54676.27099999999,77720.94,842.758,5190.277,51110.359000000004,198214.97600000002,25389.462000000003,900.567],\"yaxis\":\"y\"},{\"alignmentgroup\":\"True\",\"hovertemplate\":\"Continents=Australia_NZ<br>Year=1989<br>Countries=%{x}<br>Fossil fuels per capita (kWh)=%{y}<extra></extra>\",\"legendgroup\":\"Australia_NZ\",\"marker\":{\"color\":\"#00cc96\",\"pattern\":{\"shape\":\"\"}},\"name\":\"Australia_NZ\",\"offsetgroup\":\"Australia_NZ\",\"orientation\":\"v\",\"showlegend\":true,\"textposition\":\"auto\",\"type\":\"bar\",\"x\":[\"Australia\",\"New Zealand\"],\"xaxis\":\"x\",\"y\":[59651.152,25363.646],\"yaxis\":\"y\"},{\"alignmentgroup\":\"True\",\"hovertemplate\":\"Continents=Europe<br>Year=1989<br>Countries=%{x}<br>Fossil fuels per capita (kWh)=%{y}<extra></extra>\",\"legendgroup\":\"Europe\",\"marker\":{\"color\":\"#ab63fa\",\"pattern\":{\"shape\":\"\"}},\"name\":\"Europe\",\"offsetgroup\":\"Europe\",\"orientation\":\"v\",\"showlegend\":true,\"textposition\":\"auto\",\"type\":\"bar\",\"x\":[\"Austria\",\"Belarus\",\"Belgium\",\"Bulgaria\",\"Cyprus\",\"Denmark\",\"Estonia\",\"Finland\",\"France\",\"Germany\",\"Greece\",\"Hungary\",\"Iceland\",\"Ireland\",\"Italy\",\"Latvia\",\"Lithuania\",\"Luxembourg\",\"Netherlands\",\"Norway\",\"Poland\",\"Portugal\",\"Romania\",\"Slovakia\",\"Spain\",\"Sweden\",\"Switzerland\",\"Ukraine\",\"United Kingdom\"],\"xaxis\":\"x\",\"y\":[29102.414,45792.363,47703.879,33940.187000000005,24383.551,37831.965,77213.474,42453.291,27865.474,47569.812000000005,26727.912999999997,27881.395,33686.716,31170.707000000002,30067.338,27917.927000000003,40777.778,92193.606,58780.293,33125.363,38707.951,17809.054,31195.438,39373.248,21728.979,31185.155,24872.567000000003,48877.242999999995,39860.665],\"yaxis\":\"y\"},{\"alignmentgroup\":\"True\",\"hovertemplate\":\"Continents=North America<br>Year=1989<br>Countries=%{x}<br>Fossil fuels per capita (kWh)=%{y}<extra></extra>\",\"legendgroup\":\"North America\",\"marker\":{\"color\":\"#FFA15A\",\"pattern\":{\"shape\":\"\"}},\"name\":\"North America\",\"offsetgroup\":\"North America\",\"orientation\":\"v\",\"showlegend\":true,\"textposition\":\"auto\",\"type\":\"bar\",\"x\":[\"Canada\",\"Mexico\",\"Trinidad and Tobago\",\"United States\"],\"xaxis\":\"x\",\"y\":[72389.967,13603.872,51639.299000000006,80063.784],\"yaxis\":\"y\"},{\"alignmentgroup\":\"True\",\"hovertemplate\":\"Continents=South America<br>Year=1989<br>Countries=%{x}<br>Fossil fuels per capita (kWh)=%{y}<extra></extra>\",\"legendgroup\":\"South America\",\"marker\":{\"color\":\"#19d3f3\",\"pattern\":{\"shape\":\"\"}},\"name\":\"South America\",\"offsetgroup\":\"South America\",\"orientation\":\"v\",\"showlegend\":true,\"textposition\":\"auto\",\"type\":\"bar\",\"x\":[\"Argentina\",\"Brazil\",\"Chile\",\"Colombia\",\"Ecuador\",\"Peru\",\"Venezuela\"],\"xaxis\":\"x\",\"y\":[14565.503,5843.2519999999995,8859.821,5813.028,6384.974,3551.303,24290.657000000003],\"yaxis\":\"y\"}],\"name\":\"1989\"},{\"data\":[{\"alignmentgroup\":\"True\",\"hovertemplate\":\"Continents=Africa<br>Year=1990<br>Countries=%{x}<br>Fossil fuels per capita (kWh)=%{y}<extra></extra>\",\"legendgroup\":\"Africa\",\"marker\":{\"color\":\"#636efa\",\"pattern\":{\"shape\":\"\"}},\"name\":\"Africa\",\"offsetgroup\":\"Africa\",\"orientation\":\"v\",\"showlegend\":true,\"textposition\":\"auto\",\"type\":\"bar\",\"x\":[\"Algeria\",\"Egypt\",\"Morocco\"],\"xaxis\":\"x\",\"y\":[12212.228000000001,6538.62,3190.563],\"yaxis\":\"y\"},{\"alignmentgroup\":\"True\",\"hovertemplate\":\"Continents=Asia<br>Year=1990<br>Countries=%{x}<br>Fossil fuels per capita (kWh)=%{y}<extra></extra>\",\"legendgroup\":\"Asia\",\"marker\":{\"color\":\"#EF553B\",\"pattern\":{\"shape\":\"\"}},\"name\":\"Asia\",\"offsetgroup\":\"Asia\",\"orientation\":\"v\",\"showlegend\":true,\"textposition\":\"auto\",\"type\":\"bar\",\"x\":[\"Azerbaijan\",\"Bangladesh\",\"China\",\"India\",\"Indonesia\",\"Iran\",\"Iraq\",\"Israel\",\"Japan\",\"Kazakhstan\",\"Kuwait\",\"Malaysia\",\"Oman\",\"Pakistan\",\"Philippines\",\"Qatar\",\"Russia\",\"Saudi Arabia\",\"Singapore\",\"Sri Lanka\",\"Thailand\",\"Turkmenistan\",\"United Arab Emirates\",\"Uzbekistan\",\"Vietnam\"],\"xaxis\":\"x\",\"y\":[35261.66,690.5210000000001,6474.9580000000005,2388.118,3255.363,14595.216,12359.045,29909.798,34980.058,51125.788,37793.816,13654.201000000001,26966.904,2357.55,2407.036,181294.079,62676.594000000005,57185.554000000004,90551.769,888.618,6135.376,41227.727,189835.038,23986.221,896.175],\"yaxis\":\"y\"},{\"alignmentgroup\":\"True\",\"hovertemplate\":\"Continents=Australia_NZ<br>Year=1990<br>Countries=%{x}<br>Fossil fuels per capita (kWh)=%{y}<extra></extra>\",\"legendgroup\":\"Australia_NZ\",\"marker\":{\"color\":\"#00cc96\",\"pattern\":{\"shape\":\"\"}},\"name\":\"Australia_NZ\",\"offsetgroup\":\"Australia_NZ\",\"orientation\":\"v\",\"showlegend\":true,\"textposition\":\"auto\",\"type\":\"bar\",\"x\":[\"Australia\",\"New Zealand\"],\"xaxis\":\"x\",\"y\":[59787.093,32518.811],\"yaxis\":\"y\"},{\"alignmentgroup\":\"True\",\"hovertemplate\":\"Continents=Europe<br>Year=1990<br>Countries=%{x}<br>Fossil fuels per capita (kWh)=%{y}<extra></extra>\",\"legendgroup\":\"Europe\",\"marker\":{\"color\":\"#ab63fa\",\"pattern\":{\"shape\":\"\"}},\"name\":\"Europe\",\"offsetgroup\":\"Europe\",\"orientation\":\"v\",\"showlegend\":true,\"textposition\":\"auto\",\"type\":\"bar\",\"x\":[\"Austria\",\"Belarus\",\"Belgium\",\"Bulgaria\",\"Croatia\",\"Cyprus\",\"Denmark\",\"Estonia\",\"Finland\",\"France\",\"Germany\",\"Greece\",\"Hungary\",\"Iceland\",\"Ireland\",\"Italy\",\"Latvia\",\"Lithuania\",\"Luxembourg\",\"Netherlands\",\"Norway\",\"Poland\",\"Portugal\",\"Romania\",\"Slovakia\",\"Slovenia\",\"Spain\",\"Sweden\",\"Switzerland\",\"Ukraine\",\"United Kingdom\"],\"xaxis\":\"x\",\"y\":[30912.206000000002,43790.127,50673.776,31312.875,18677.107,25129.792999999998,38786.881,76943.925,44488.624,28257.296000000002,46852.40900000001,28015.792999999998,27621.322999999997,33736.797999999995,32746.487,30313.429,27466.853,41215.405,96608.315,60022.903,32138.78,31769.365,17096.877,29863.666,39455.834,23623.571,21375.297000000002,31307.032000000003,26380.807,56940.721,40339.756],\"yaxis\":\"y\"},{\"alignmentgroup\":\"True\",\"hovertemplate\":\"Continents=North America<br>Year=1990<br>Countries=%{x}<br>Fossil fuels per capita (kWh)=%{y}<extra></extra>\",\"legendgroup\":\"North America\",\"marker\":{\"color\":\"#FFA15A\",\"pattern\":{\"shape\":\"\"}},\"name\":\"North America\",\"offsetgroup\":\"North America\",\"orientation\":\"v\",\"showlegend\":true,\"textposition\":\"auto\",\"type\":\"bar\",\"x\":[\"Canada\",\"Mexico\",\"Trinidad and Tobago\",\"United States\"],\"xaxis\":\"x\",\"y\":[69575.922,14026.401000000002,56921.416,78587.188],\"yaxis\":\"y\"},{\"alignmentgroup\":\"True\",\"hovertemplate\":\"Continents=South America<br>Year=1990<br>Countries=%{x}<br>Fossil fuels per capita (kWh)=%{y}<extra></extra>\",\"legendgroup\":\"South America\",\"marker\":{\"color\":\"#19d3f3\",\"pattern\":{\"shape\":\"\"}},\"name\":\"South America\",\"offsetgroup\":\"South America\",\"orientation\":\"v\",\"showlegend\":true,\"textposition\":\"auto\",\"type\":\"bar\",\"x\":[\"Argentina\",\"Brazil\",\"Chile\",\"Colombia\",\"Ecuador\",\"Peru\",\"Venezuela\"],\"xaxis\":\"x\",\"y\":[13581.956,5567.988,9504.099,5123.073,6473.793000000001,3431.554,25171.744],\"yaxis\":\"y\"}],\"name\":\"1990\"},{\"data\":[{\"alignmentgroup\":\"True\",\"hovertemplate\":\"Continents=Africa<br>Year=1991<br>Countries=%{x}<br>Fossil fuels per capita (kWh)=%{y}<extra></extra>\",\"legendgroup\":\"Africa\",\"marker\":{\"color\":\"#636efa\",\"pattern\":{\"shape\":\"\"}},\"name\":\"Africa\",\"offsetgroup\":\"Africa\",\"orientation\":\"v\",\"showlegend\":true,\"textposition\":\"auto\",\"type\":\"bar\",\"x\":[\"Algeria\",\"Egypt\",\"Morocco\"],\"xaxis\":\"x\",\"y\":[11788.975,6482.351,3174.133],\"yaxis\":\"y\"},{\"alignmentgroup\":\"True\",\"hovertemplate\":\"Continents=Asia<br>Year=1991<br>Countries=%{x}<br>Fossil fuels per capita (kWh)=%{y}<extra></extra>\",\"legendgroup\":\"Asia\",\"marker\":{\"color\":\"#EF553B\",\"pattern\":{\"shape\":\"\"}},\"name\":\"Asia\",\"offsetgroup\":\"Asia\",\"orientation\":\"v\",\"showlegend\":true,\"textposition\":\"auto\",\"type\":\"bar\",\"x\":[\"Azerbaijan\",\"Bangladesh\",\"China\",\"India\",\"Indonesia\",\"Iran\",\"Iraq\",\"Israel\",\"Japan\",\"Kazakhstan\",\"Kuwait\",\"Malaysia\",\"Oman\",\"Pakistan\",\"Philippines\",\"Qatar\",\"Russia\",\"Saudi Arabia\",\"Singapore\",\"Sri Lanka\",\"Thailand\",\"Turkmenistan\",\"United Arab Emirates\",\"Uzbekistan\",\"Vietnam\"],\"xaxis\":\"x\",\"y\":[33285.049,651.3009999999999,6730.858,2459.1620000000003,3467.365,15599.069,8240.384,30076.487999999998,35392.834,51042.44,22224.637000000002,16160.582,34249.366,2423.264,2304.951,199772.332,61494.535,57978.032,89497.93,927.48,6739.552,41167.09,218369.336,23816.772,856.3919999999999],\"yaxis\":\"y\"},{\"alignmentgroup\":\"True\",\"hovertemplate\":\"Continents=Australia_NZ<br>Year=1991<br>Countries=%{x}<br>Fossil fuels per capita (kWh)=%{y}<extra></extra>\",\"legendgroup\":\"Australia_NZ\",\"marker\":{\"color\":\"#00cc96\",\"pattern\":{\"shape\":\"\"}},\"name\":\"Australia_NZ\",\"offsetgroup\":\"Australia_NZ\",\"orientation\":\"v\",\"showlegend\":true,\"textposition\":\"auto\",\"type\":\"bar\",\"x\":[\"Australia\",\"New Zealand\"],\"xaxis\":\"x\",\"y\":[58462.523,33266.883],\"yaxis\":\"y\"},{\"alignmentgroup\":\"True\",\"hovertemplate\":\"Continents=Europe<br>Year=1991<br>Countries=%{x}<br>Fossil fuels per capita (kWh)=%{y}<extra></extra>\",\"legendgroup\":\"Europe\",\"marker\":{\"color\":\"#ab63fa\",\"pattern\":{\"shape\":\"\"}},\"name\":\"Europe\",\"offsetgroup\":\"Europe\",\"orientation\":\"v\",\"showlegend\":true,\"textposition\":\"auto\",\"type\":\"bar\",\"x\":[\"Austria\",\"Belarus\",\"Belgium\",\"Bulgaria\",\"Croatia\",\"Cyprus\",\"Denmark\",\"Estonia\",\"Finland\",\"France\",\"Germany\",\"Greece\",\"Hungary\",\"Iceland\",\"Ireland\",\"Italy\",\"Latvia\",\"Lithuania\",\"Luxembourg\",\"Netherlands\",\"Norway\",\"Poland\",\"Portugal\",\"Romania\",\"Slovakia\",\"Slovenia\",\"Spain\",\"Sweden\",\"Switzerland\",\"Ukraine\",\"United Kingdom\"],\"xaxis\":\"x\",\"y\":[32817.716,43274.803,52635.138,24947.036,14163.743999999999,24919.76,44511.56,70188.09599999999,44209.695,30009.168999999998,45544.849,27636.502999999997,25617.252999999997,31579.657000000003,33835.804,30498.362999999998,26423.353,44412.14,102683.336,60780.355,30559.757,30976.715,17811.26,24781.861,34819.633,22255.623,22048.447999999997,27394.798,26735.602000000003,52364.357,40938.669],\"yaxis\":\"y\"},{\"alignmentgroup\":\"True\",\"hovertemplate\":\"Continents=North America<br>Year=1991<br>Countries=%{x}<br>Fossil fuels per capita (kWh)=%{y}<extra></extra>\",\"legendgroup\":\"North America\",\"marker\":{\"color\":\"#FFA15A\",\"pattern\":{\"shape\":\"\"}},\"name\":\"North America\",\"offsetgroup\":\"North America\",\"orientation\":\"v\",\"showlegend\":true,\"textposition\":\"auto\",\"type\":\"bar\",\"x\":[\"Canada\",\"Mexico\",\"Trinidad and Tobago\",\"United States\"],\"xaxis\":\"x\",\"y\":[66580.822,14339.583999999999,56394.724,77312.863],\"yaxis\":\"y\"},{\"alignmentgroup\":\"True\",\"hovertemplate\":\"Continents=South America<br>Year=1991<br>Countries=%{x}<br>Fossil fuels per capita (kWh)=%{y}<extra></extra>\",\"legendgroup\":\"South America\",\"marker\":{\"color\":\"#19d3f3\",\"pattern\":{\"shape\":\"\"}},\"name\":\"South America\",\"offsetgroup\":\"South America\",\"orientation\":\"v\",\"showlegend\":true,\"textposition\":\"auto\",\"type\":\"bar\",\"x\":[\"Argentina\",\"Brazil\",\"Chile\",\"Colombia\",\"Ecuador\",\"Peru\",\"Venezuela\"],\"xaxis\":\"x\",\"y\":[13670.764,5637.896,9842.518,5287.524,7106.844,3195.381,23682.896],\"yaxis\":\"y\"}],\"name\":\"1991\"},{\"data\":[{\"alignmentgroup\":\"True\",\"hovertemplate\":\"Continents=Africa<br>Year=1992<br>Countries=%{x}<br>Fossil fuels per capita (kWh)=%{y}<extra></extra>\",\"legendgroup\":\"Africa\",\"marker\":{\"color\":\"#636efa\",\"pattern\":{\"shape\":\"\"}},\"name\":\"Africa\",\"offsetgroup\":\"Africa\",\"orientation\":\"v\",\"showlegend\":true,\"textposition\":\"auto\",\"type\":\"bar\",\"x\":[\"Algeria\",\"Egypt\",\"Morocco\"],\"xaxis\":\"x\",\"y\":[11826.206,6341.703,3536.574],\"yaxis\":\"y\"},{\"alignmentgroup\":\"True\",\"hovertemplate\":\"Continents=Asia<br>Year=1992<br>Countries=%{x}<br>Fossil fuels per capita (kWh)=%{y}<extra></extra>\",\"legendgroup\":\"Asia\",\"marker\":{\"color\":\"#EF553B\",\"pattern\":{\"shape\":\"\"}},\"name\":\"Asia\",\"offsetgroup\":\"Asia\",\"orientation\":\"v\",\"showlegend\":true,\"textposition\":\"auto\",\"type\":\"bar\",\"x\":[\"Azerbaijan\",\"Bangladesh\",\"China\",\"India\",\"Indonesia\",\"Iran\",\"Iraq\",\"Israel\",\"Japan\",\"Kazakhstan\",\"Kuwait\",\"Malaysia\",\"Oman\",\"Pakistan\",\"Philippines\",\"Qatar\",\"Russia\",\"Saudi Arabia\",\"Singapore\",\"Sri Lanka\",\"Thailand\",\"Turkmenistan\",\"United Arab Emirates\",\"Uzbekistan\",\"Vietnam\"],\"xaxis\":\"x\",\"y\":[27976.75,697.852,7007.914000000001,2556.2670000000003,3720.566,16653.095,12330.594,31628.631,35932.898,50656.731,43050.062999999995,17102.504,31513.338,2453.5370000000003,2717.9309999999996,302394.043,58789.344000000005,56805.508,93064.255,1078.6960000000001,7404.066999999999,38194.602999999996,199153.415,22060.605,902.914],\"yaxis\":\"y\"},{\"alignmentgroup\":\"True\",\"hovertemplate\":\"Continents=Australia_NZ<br>Year=1992<br>Countries=%{x}<br>Fossil fuels per capita (kWh)=%{y}<extra></extra>\",\"legendgroup\":\"Australia_NZ\",\"marker\":{\"color\":\"#00cc96\",\"pattern\":{\"shape\":\"\"}},\"name\":\"Australia_NZ\",\"offsetgroup\":\"Australia_NZ\",\"orientation\":\"v\",\"showlegend\":true,\"textposition\":\"auto\",\"type\":\"bar\",\"x\":[\"Australia\",\"New Zealand\"],\"xaxis\":\"x\",\"y\":[58319.914000000004,34266.526],\"yaxis\":\"y\"},{\"alignmentgroup\":\"True\",\"hovertemplate\":\"Continents=Europe<br>Year=1992<br>Countries=%{x}<br>Fossil fuels per capita (kWh)=%{y}<extra></extra>\",\"legendgroup\":\"Europe\",\"marker\":{\"color\":\"#ab63fa\",\"pattern\":{\"shape\":\"\"}},\"name\":\"Europe\",\"offsetgroup\":\"Europe\",\"orientation\":\"v\",\"showlegend\":true,\"textposition\":\"auto\",\"type\":\"bar\",\"x\":[\"Austria\",\"Belarus\",\"Belgium\",\"Bulgaria\",\"Croatia\",\"Cyprus\",\"Denmark\",\"Estonia\",\"Finland\",\"France\",\"Germany\",\"Greece\",\"Hungary\",\"Iceland\",\"Ireland\",\"Italy\",\"Latvia\",\"Lithuania\",\"Luxembourg\",\"Netherlands\",\"Norway\",\"Poland\",\"Portugal\",\"Romania\",\"Slovakia\",\"Slovenia\",\"Spain\",\"Sweden\",\"Switzerland\",\"Ukraine\",\"United Kingdom\"],\"xaxis\":\"x\",\"y\":[30541.177000000003,40971.13,52009.792,23996.918999999998,14292.02,28460.297000000002,41315.756,51753.015,42719.481,29357.721,43742.515999999996,28015.597,23889.195,32901.692,33896.532,30435.051,18923.721999999998,23936.505,101785.93,61001.094000000005,31526.874,29519.53,19248.612,22076.964,33150.718,21691.604,23936.795,28232.735,26751.295,45345.163,40185.378],\"yaxis\":\"y\"},{\"alignmentgroup\":\"True\",\"hovertemplate\":\"Continents=North America<br>Year=1992<br>Countries=%{x}<br>Fossil fuels per capita (kWh)=%{y}<extra></extra>\",\"legendgroup\":\"North America\",\"marker\":{\"color\":\"#FFA15A\",\"pattern\":{\"shape\":\"\"}},\"name\":\"North America\",\"offsetgroup\":\"North America\",\"orientation\":\"v\",\"showlegend\":true,\"textposition\":\"auto\",\"type\":\"bar\",\"x\":[\"Canada\",\"Mexico\",\"Trinidad and Tobago\",\"United States\"],\"xaxis\":\"x\",\"y\":[67995.048,14203.841999999999,59297.282999999996,78147.189],\"yaxis\":\"y\"},{\"alignmentgroup\":\"True\",\"hovertemplate\":\"Continents=South America<br>Year=1992<br>Countries=%{x}<br>Fossil fuels per capita (kWh)=%{y}<extra></extra>\",\"legendgroup\":\"South America\",\"marker\":{\"color\":\"#19d3f3\",\"pattern\":{\"shape\":\"\"}},\"name\":\"South America\",\"offsetgroup\":\"South America\",\"orientation\":\"v\",\"showlegend\":true,\"textposition\":\"auto\",\"type\":\"bar\",\"x\":[\"Argentina\",\"Brazil\",\"Chile\",\"Colombia\",\"Ecuador\",\"Peru\",\"Venezuela\"],\"xaxis\":\"x\",\"y\":[14419.427,5898.0419999999995,10140.644,5961.186,6930.57,3244.417,25188.987],\"yaxis\":\"y\"}],\"name\":\"1992\"},{\"data\":[{\"alignmentgroup\":\"True\",\"hovertemplate\":\"Continents=Africa<br>Year=1993<br>Countries=%{x}<br>Fossil fuels per capita (kWh)=%{y}<extra></extra>\",\"legendgroup\":\"Africa\",\"marker\":{\"color\":\"#636efa\",\"pattern\":{\"shape\":\"\"}},\"name\":\"Africa\",\"offsetgroup\":\"Africa\",\"orientation\":\"v\",\"showlegend\":true,\"textposition\":\"auto\",\"type\":\"bar\",\"x\":[\"Algeria\",\"Egypt\",\"Morocco\"],\"xaxis\":\"x\",\"y\":[10745.094,6270.16,3573.1609999999996],\"yaxis\":\"y\"},{\"alignmentgroup\":\"True\",\"hovertemplate\":\"Continents=Asia<br>Year=1993<br>Countries=%{x}<br>Fossil fuels per capita (kWh)=%{y}<extra></extra>\",\"legendgroup\":\"Asia\",\"marker\":{\"color\":\"#EF553B\",\"pattern\":{\"shape\":\"\"}},\"name\":\"Asia\",\"offsetgroup\":\"Asia\",\"orientation\":\"v\",\"showlegend\":true,\"textposition\":\"auto\",\"type\":\"bar\",\"x\":[\"Azerbaijan\",\"Bangladesh\",\"China\",\"India\",\"Indonesia\",\"Iran\",\"Iraq\",\"Israel\",\"Japan\",\"Kazakhstan\",\"Kuwait\",\"Malaysia\",\"Oman\",\"Pakistan\",\"Philippines\",\"Qatar\",\"Russia\",\"Saudi Arabia\",\"Singapore\",\"Sri Lanka\",\"Thailand\",\"Turkmenistan\",\"United Arab Emirates\",\"Uzbekistan\",\"Vietnam\"],\"xaxis\":\"x\",\"y\":[23565.045,757.927,7441.644,2572.6929999999998,3886.8,15030.506000000001,16377.466,32308.567000000003,35476.76,44764.157,62607.318,17340.52,28879.371,2650.192,2735.53,317582.498,54358.53,56458.01,98436.21,1037.468,8408.317,30485.769,195854.575,23143.421000000002,1021.737],\"yaxis\":\"y\"},{\"alignmentgroup\":\"True\",\"hovertemplate\":\"Continents=Australia_NZ<br>Year=1993<br>Countries=%{x}<br>Fossil fuels per capita (kWh)=%{y}<extra></extra>\",\"legendgroup\":\"Australia_NZ\",\"marker\":{\"color\":\"#00cc96\",\"pattern\":{\"shape\":\"\"}},\"name\":\"Australia_NZ\",\"offsetgroup\":\"Australia_NZ\",\"orientation\":\"v\",\"showlegend\":true,\"textposition\":\"auto\",\"type\":\"bar\",\"x\":[\"Australia\",\"New Zealand\"],\"xaxis\":\"x\",\"y\":[59300.626,33321.072],\"yaxis\":\"y\"},{\"alignmentgroup\":\"True\",\"hovertemplate\":\"Continents=Europe<br>Year=1993<br>Countries=%{x}<br>Fossil fuels per capita (kWh)=%{y}<extra></extra>\",\"legendgroup\":\"Europe\",\"marker\":{\"color\":\"#ab63fa\",\"pattern\":{\"shape\":\"\"}},\"name\":\"Europe\",\"offsetgroup\":\"Europe\",\"orientation\":\"v\",\"showlegend\":true,\"textposition\":\"auto\",\"type\":\"bar\",\"x\":[\"Austria\",\"Belarus\",\"Belgium\",\"Bulgaria\",\"Croatia\",\"Cyprus\",\"Denmark\",\"Estonia\",\"Finland\",\"France\",\"Germany\",\"Greece\",\"Hungary\",\"Iceland\",\"Ireland\",\"Italy\",\"Latvia\",\"Lithuania\",\"Luxembourg\",\"Netherlands\",\"Norway\",\"Poland\",\"Portugal\",\"Romania\",\"Slovakia\",\"Slovenia\",\"Spain\",\"Sweden\",\"Switzerland\",\"Ukraine\",\"United Kingdom\"],\"xaxis\":\"x\",\"y\":[30371.793999999998,32873.214,51232.475,25336.438,15004.621000000001,28925.759,43506.176,41959.624,43233.422,27994.807999999997,43426.664000000004,28124.112999999998,23540.305,33736.837,34517.107,29911.156000000003,15738.013,18056.596999999998,101571.293,61057.114,33144.448,29431.443,18605.906000000003,21389.871,31257.279,23217.585,22486.725,27773.069,25082.664,37539.373999999996,39998.546],\"yaxis\":\"y\"},{\"alignmentgroup\":\"True\",\"hovertemplate\":\"Continents=North America<br>Year=1993<br>Countries=%{x}<br>Fossil fuels per capita (kWh)=%{y}<extra></extra>\",\"legendgroup\":\"North America\",\"marker\":{\"color\":\"#FFA15A\",\"pattern\":{\"shape\":\"\"}},\"name\":\"North America\",\"offsetgroup\":\"North America\",\"orientation\":\"v\",\"showlegend\":true,\"textposition\":\"auto\",\"type\":\"bar\",\"x\":[\"Canada\",\"Mexico\",\"Trinidad and Tobago\",\"United States\"],\"xaxis\":\"x\",\"y\":[67578.648,14001.413999999999,62160.942,78974.317],\"yaxis\":\"y\"},{\"alignmentgroup\":\"True\",\"hovertemplate\":\"Continents=South America<br>Year=1993<br>Countries=%{x}<br>Fossil fuels per capita (kWh)=%{y}<extra></extra>\",\"legendgroup\":\"South America\",\"marker\":{\"color\":\"#19d3f3\",\"pattern\":{\"shape\":\"\"}},\"name\":\"South America\",\"offsetgroup\":\"South America\",\"orientation\":\"v\",\"showlegend\":true,\"textposition\":\"auto\",\"type\":\"bar\",\"x\":[\"Argentina\",\"Brazil\",\"Chile\",\"Colombia\",\"Ecuador\",\"Peru\",\"Venezuela\"],\"xaxis\":\"x\",\"y\":[14398.31,6057.62,10665.501,6173.69,6847.017,3320.0840000000003,24278.715],\"yaxis\":\"y\"}],\"name\":\"1993\"},{\"data\":[{\"alignmentgroup\":\"True\",\"hovertemplate\":\"Continents=Africa<br>Year=1994<br>Countries=%{x}<br>Fossil fuels per capita (kWh)=%{y}<extra></extra>\",\"legendgroup\":\"Africa\",\"marker\":{\"color\":\"#636efa\",\"pattern\":{\"shape\":\"\"}},\"name\":\"Africa\",\"offsetgroup\":\"Africa\",\"orientation\":\"v\",\"showlegend\":true,\"textposition\":\"auto\",\"type\":\"bar\",\"x\":[\"Algeria\",\"Egypt\",\"Morocco\"],\"xaxis\":\"x\",\"y\":[10683.72,6244.16,3835.79],\"yaxis\":\"y\"},{\"alignmentgroup\":\"True\",\"hovertemplate\":\"Continents=Asia<br>Year=1994<br>Countries=%{x}<br>Fossil fuels per capita (kWh)=%{y}<extra></extra>\",\"legendgroup\":\"Asia\",\"marker\":{\"color\":\"#EF553B\",\"pattern\":{\"shape\":\"\"}},\"name\":\"Asia\",\"offsetgroup\":\"Asia\",\"orientation\":\"v\",\"showlegend\":true,\"textposition\":\"auto\",\"type\":\"bar\",\"x\":[\"Azerbaijan\",\"Bangladesh\",\"China\",\"India\",\"Indonesia\",\"Iran\",\"Iraq\",\"Israel\",\"Japan\",\"Kazakhstan\",\"Kuwait\",\"Malaysia\",\"Oman\",\"Pakistan\",\"Philippines\",\"Qatar\",\"Russia\",\"Saudi Arabia\",\"Singapore\",\"Sri Lanka\",\"Thailand\",\"Turkmenistan\",\"United Arab Emirates\",\"Uzbekistan\",\"Vietnam\"],\"xaxis\":\"x\",\"y\":[21515.592999999997,782.217,7782.61,2644.8,4105.062,16866.006,18305.759,34145.304,37388.057,39832.794,82228.48,18296.916,26462.103,2692.3520000000003,2803.992,316384.923,49481.087,63664.289000000004,108987.627,1138.433,9323.435,31699.141,203563.401,22260.231,1106.812],\"yaxis\":\"y\"},{\"alignmentgroup\":\"True\",\"hovertemplate\":\"Continents=Australia_NZ<br>Year=1994<br>Countries=%{x}<br>Fossil fuels per capita (kWh)=%{y}<extra></extra>\",\"legendgroup\":\"Australia_NZ\",\"marker\":{\"color\":\"#00cc96\",\"pattern\":{\"shape\":\"\"}},\"name\":\"Australia_NZ\",\"offsetgroup\":\"Australia_NZ\",\"orientation\":\"v\",\"showlegend\":true,\"textposition\":\"auto\",\"type\":\"bar\",\"x\":[\"Australia\",\"New Zealand\"],\"xaxis\":\"x\",\"y\":[61125.545,33913.637],\"yaxis\":\"y\"},{\"alignmentgroup\":\"True\",\"hovertemplate\":\"Continents=Europe<br>Year=1994<br>Countries=%{x}<br>Fossil fuels per capita (kWh)=%{y}<extra></extra>\",\"legendgroup\":\"Europe\",\"marker\":{\"color\":\"#ab63fa\",\"pattern\":{\"shape\":\"\"}},\"name\":\"Europe\",\"offsetgroup\":\"Europe\",\"orientation\":\"v\",\"showlegend\":true,\"textposition\":\"auto\",\"type\":\"bar\",\"x\":[\"Austria\",\"Belarus\",\"Belgium\",\"Bulgaria\",\"Croatia\",\"Cyprus\",\"Denmark\",\"Estonia\",\"Finland\",\"France\",\"Germany\",\"Greece\",\"Hungary\",\"Iceland\",\"Ireland\",\"Italy\",\"Latvia\",\"Lithuania\",\"Luxembourg\",\"Netherlands\",\"Norway\",\"Poland\",\"Portugal\",\"Romania\",\"Slovakia\",\"Slovenia\",\"Spain\",\"Sweden\",\"Switzerland\",\"Ukraine\",\"United Kingdom\"],\"xaxis\":\"x\",\"y\":[30319.604,27466.181,54860.359000000004,24185.058999999997,14764.546,28354.097,46587.454000000005,43291.344000000005,47293.793,26945.808999999997,42759.199,28247.58,23834.106,33860.205,35568.969,29697.257,14878.242,17823.968,96288.258,59962.012,34197.712,28078.189,18643.744,20171.065,29503.487,23970.373,23511.127,29025.815,25514.291,31405.131,39338.803],\"yaxis\":\"y\"},{\"alignmentgroup\":\"True\",\"hovertemplate\":\"Continents=North America<br>Year=1994<br>Countries=%{x}<br>Fossil fuels per capita (kWh)=%{y}<extra></extra>\",\"legendgroup\":\"North America\",\"marker\":{\"color\":\"#FFA15A\",\"pattern\":{\"shape\":\"\"}},\"name\":\"North America\",\"offsetgroup\":\"North America\",\"orientation\":\"v\",\"showlegend\":true,\"textposition\":\"auto\",\"type\":\"bar\",\"x\":[\"Canada\",\"Mexico\",\"Trinidad and Tobago\",\"United States\"],\"xaxis\":\"x\",\"y\":[68864.991,14850.146,65552.953,79674.36099999999],\"yaxis\":\"y\"},{\"alignmentgroup\":\"True\",\"hovertemplate\":\"Continents=South America<br>Year=1994<br>Countries=%{x}<br>Fossil fuels per capita (kWh)=%{y}<extra></extra>\",\"legendgroup\":\"South America\",\"marker\":{\"color\":\"#19d3f3\",\"pattern\":{\"shape\":\"\"}},\"name\":\"South America\",\"offsetgroup\":\"South America\",\"orientation\":\"v\",\"showlegend\":true,\"textposition\":\"auto\",\"type\":\"bar\",\"x\":[\"Argentina\",\"Brazil\",\"Chile\",\"Colombia\",\"Ecuador\",\"Peru\",\"Venezuela\"],\"xaxis\":\"x\",\"y\":[14130.618,6335.552,11263.183,6335.545999999999,7218.5380000000005,3556.58,25829.222999999998],\"yaxis\":\"y\"}],\"name\":\"1994\"},{\"data\":[{\"alignmentgroup\":\"True\",\"hovertemplate\":\"Continents=Africa<br>Year=1995<br>Countries=%{x}<br>Fossil fuels per capita (kWh)=%{y}<extra></extra>\",\"legendgroup\":\"Africa\",\"marker\":{\"color\":\"#636efa\",\"pattern\":{\"shape\":\"\"}},\"name\":\"Africa\",\"offsetgroup\":\"Africa\",\"orientation\":\"v\",\"showlegend\":true,\"textposition\":\"auto\",\"type\":\"bar\",\"x\":[\"Algeria\",\"Egypt\",\"Morocco\"],\"xaxis\":\"x\",\"y\":[10869.128,6492.673000000001,3728.428],\"yaxis\":\"y\"},{\"alignmentgroup\":\"True\",\"hovertemplate\":\"Continents=Asia<br>Year=1995<br>Countries=%{x}<br>Fossil fuels per capita (kWh)=%{y}<extra></extra>\",\"legendgroup\":\"Asia\",\"marker\":{\"color\":\"#EF553B\",\"pattern\":{\"shape\":\"\"}},\"name\":\"Asia\",\"offsetgroup\":\"Asia\",\"orientation\":\"v\",\"showlegend\":true,\"textposition\":\"auto\",\"type\":\"bar\",\"x\":[\"Azerbaijan\",\"Bangladesh\",\"China\",\"India\",\"Indonesia\",\"Iran\",\"Iraq\",\"Israel\",\"Japan\",\"Kazakhstan\",\"Kuwait\",\"Malaysia\",\"Oman\",\"Pakistan\",\"Philippines\",\"Qatar\",\"Russia\",\"Saudi Arabia\",\"Singapore\",\"Sri Lanka\",\"Thailand\",\"Turkmenistan\",\"United Arab Emirates\",\"Uzbekistan\",\"Vietnam\"],\"xaxis\":\"x\",\"y\":[20054.122,920.454,7910.111999999999,2811.6690000000003,4302.0509999999995,17573.541,17298.271,36910.279,38087.092000000004,36230.573,106060.88699999999,18670.104,29900.048,2762.5359999999996,3099.777,314614.812,46538.433,60625.933,110084.82800000001,1223.2939999999999,10033.521,25515.28,201773.488,21504.262000000002,1268.553],\"yaxis\":\"y\"},{\"alignmentgroup\":\"True\",\"hovertemplate\":\"Continents=Australia_NZ<br>Year=1995<br>Countries=%{x}<br>Fossil fuels per capita (kWh)=%{y}<extra></extra>\",\"legendgroup\":\"Australia_NZ\",\"marker\":{\"color\":\"#00cc96\",\"pattern\":{\"shape\":\"\"}},\"name\":\"Australia_NZ\",\"offsetgroup\":\"Australia_NZ\",\"orientation\":\"v\",\"showlegend\":true,\"textposition\":\"auto\",\"type\":\"bar\",\"x\":[\"Australia\",\"New Zealand\"],\"xaxis\":\"x\",\"y\":[62198.899000000005,34313.221],\"yaxis\":\"y\"},{\"alignmentgroup\":\"True\",\"hovertemplate\":\"Continents=Europe<br>Year=1995<br>Countries=%{x}<br>Fossil fuels per capita (kWh)=%{y}<extra></extra>\",\"legendgroup\":\"Europe\",\"marker\":{\"color\":\"#ab63fa\",\"pattern\":{\"shape\":\"\"}},\"name\":\"Europe\",\"offsetgroup\":\"Europe\",\"orientation\":\"v\",\"showlegend\":true,\"textposition\":\"auto\",\"type\":\"bar\",\"x\":[\"Austria\",\"Belarus\",\"Belgium\",\"Bulgaria\",\"Croatia\",\"Cyprus\",\"Denmark\",\"Estonia\",\"Finland\",\"France\",\"Germany\",\"Greece\",\"Hungary\",\"Iceland\",\"Ireland\",\"Italy\",\"Latvia\",\"Lithuania\",\"Luxembourg\",\"Netherlands\",\"Norway\",\"Poland\",\"Portugal\",\"Romania\",\"Slovakia\",\"Slovenia\",\"Spain\",\"Sweden\",\"Switzerland\",\"Ukraine\",\"United Kingdom\"],\"xaxis\":\"x\",\"y\":[31530.141,24993.993,55059.567,25748.759,15381.632,29509.583,45477.575999999994,41071.788,43296.736,27424.177000000003,42673.009000000005,28775.8,24036.47,34082.121,36205.96,31366.087000000003,14307.641000000001,17630.267,82382.817,62006.365999999995,34006.254,28677.988999999998,21327.578999999998,22009.232999999997,30300.772,25776.542999999998,24895.727000000003,27705.767999999996,24012.881,30275.103,39355.711],\"yaxis\":\"y\"},{\"alignmentgroup\":\"True\",\"hovertemplate\":\"Continents=North America<br>Year=1995<br>Countries=%{x}<br>Fossil fuels per capita (kWh)=%{y}<extra></extra>\",\"legendgroup\":\"North America\",\"marker\":{\"color\":\"#FFA15A\",\"pattern\":{\"shape\":\"\"}},\"name\":\"North America\",\"offsetgroup\":\"North America\",\"orientation\":\"v\",\"showlegend\":true,\"textposition\":\"auto\",\"type\":\"bar\",\"x\":[\"Canada\",\"Mexico\",\"Trinidad and Tobago\",\"United States\"],\"xaxis\":\"x\",\"y\":[70718.275,14005.138,70866.58099999999,79837.62299999999],\"yaxis\":\"y\"},{\"alignmentgroup\":\"True\",\"hovertemplate\":\"Continents=South America<br>Year=1995<br>Countries=%{x}<br>Fossil fuels per capita (kWh)=%{y}<extra></extra>\",\"legendgroup\":\"South America\",\"marker\":{\"color\":\"#19d3f3\",\"pattern\":{\"shape\":\"\"}},\"name\":\"South America\",\"offsetgroup\":\"South America\",\"orientation\":\"v\",\"showlegend\":true,\"textposition\":\"auto\",\"type\":\"bar\",\"x\":[\"Argentina\",\"Brazil\",\"Chile\",\"Colombia\",\"Ecuador\",\"Peru\",\"Venezuela\"],\"xaxis\":\"x\",\"y\":[14694.886,6528.491,11945.505,6358.133000000001,6944.968000000001,3916.647,26230.474],\"yaxis\":\"y\"}],\"name\":\"1995\"},{\"data\":[{\"alignmentgroup\":\"True\",\"hovertemplate\":\"Continents=Africa<br>Year=1996<br>Countries=%{x}<br>Fossil fuels per capita (kWh)=%{y}<extra></extra>\",\"legendgroup\":\"Africa\",\"marker\":{\"color\":\"#636efa\",\"pattern\":{\"shape\":\"\"}},\"name\":\"Africa\",\"offsetgroup\":\"Africa\",\"orientation\":\"v\",\"showlegend\":true,\"textposition\":\"auto\",\"type\":\"bar\",\"x\":[\"Algeria\",\"Egypt\",\"Morocco\"],\"xaxis\":\"x\",\"y\":[10576.293,6718.579000000001,3700.355],\"yaxis\":\"y\"},{\"alignmentgroup\":\"True\",\"hovertemplate\":\"Continents=Asia<br>Year=1996<br>Countries=%{x}<br>Fossil fuels per capita (kWh)=%{y}<extra></extra>\",\"legendgroup\":\"Asia\",\"marker\":{\"color\":\"#EF553B\",\"pattern\":{\"shape\":\"\"}},\"name\":\"Asia\",\"offsetgroup\":\"Asia\",\"orientation\":\"v\",\"showlegend\":true,\"textposition\":\"auto\",\"type\":\"bar\",\"x\":[\"Azerbaijan\",\"Bangladesh\",\"China\",\"India\",\"Indonesia\",\"Iran\",\"Iraq\",\"Israel\",\"Japan\",\"Kazakhstan\",\"Kuwait\",\"Malaysia\",\"Oman\",\"Pakistan\",\"Philippines\",\"Qatar\",\"Russia\",\"Saudi Arabia\",\"Singapore\",\"Sri Lanka\",\"Thailand\",\"Turkmenistan\",\"United Arab Emirates\",\"Uzbekistan\",\"Vietnam\"],\"xaxis\":\"x\",\"y\":[16179.153999999999,935.1239999999999,8281.665,2896.0820000000003,4521.065,18750.098,17517.903000000002,37759.539,38687.621,31939.231,103669.42,20549.353,30301.112999999998,2851.798,3247.12,229462.728,44908.377,61394.28400000001,107667.773,1482.539,11228.059,36481.233,197816.546,21751.319,1438.384],\"yaxis\":\"y\"},{\"alignmentgroup\":\"True\",\"hovertemplate\":\"Continents=Australia_NZ<br>Year=1996<br>Countries=%{x}<br>Fossil fuels per capita (kWh)=%{y}<extra></extra>\",\"legendgroup\":\"Australia_NZ\",\"marker\":{\"color\":\"#00cc96\",\"pattern\":{\"shape\":\"\"}},\"name\":\"Australia_NZ\",\"offsetgroup\":\"Australia_NZ\",\"orientation\":\"v\",\"showlegend\":true,\"textposition\":\"auto\",\"type\":\"bar\",\"x\":[\"Australia\",\"New Zealand\"],\"xaxis\":\"x\",\"y\":[63073.273,35834.83],\"yaxis\":\"y\"},{\"alignmentgroup\":\"True\",\"hovertemplate\":\"Continents=Europe<br>Year=1996<br>Countries=%{x}<br>Fossil fuels per capita (kWh)=%{y}<extra></extra>\",\"legendgroup\":\"Europe\",\"marker\":{\"color\":\"#ab63fa\",\"pattern\":{\"shape\":\"\"}},\"name\":\"Europe\",\"offsetgroup\":\"Europe\",\"orientation\":\"v\",\"showlegend\":true,\"textposition\":\"auto\",\"type\":\"bar\",\"x\":[\"Austria\",\"Belarus\",\"Belgium\",\"Bulgaria\",\"Croatia\",\"Cyprus\",\"Denmark\",\"Estonia\",\"Finland\",\"France\",\"Germany\",\"Greece\",\"Hungary\",\"Iceland\",\"Ireland\",\"Italy\",\"Latvia\",\"Lithuania\",\"Luxembourg\",\"Netherlands\",\"Norway\",\"Poland\",\"Portugal\",\"Romania\",\"Slovakia\",\"Slovenia\",\"Spain\",\"Sweden\",\"Switzerland\",\"Ukraine\",\"United Kingdom\"],\"xaxis\":\"x\",\"y\":[32636.007999999998,25712.912999999997,58621.287000000004,25530.077999999998,15510.916000000001,29329.712000000003,53957.594000000005,43763.295,46891.551,28526.572999999997,43999.222,29137.398999999998,24525.797000000002,37452.631,37998.101,31239.807,14506.77,18524.625,83750.185,64227.448,36108.49,30065.342,20118.066000000003,21962.72,30971.988999999998,27334.002999999997,24723.509,29693.54,24787.541,28746.08,41133.305],\"yaxis\":\"y\"},{\"alignmentgroup\":\"True\",\"hovertemplate\":\"Continents=North America<br>Year=1996<br>Countries=%{x}<br>Fossil fuels per capita (kWh)=%{y}<extra></extra>\",\"legendgroup\":\"North America\",\"marker\":{\"color\":\"#FFA15A\",\"pattern\":{\"shape\":\"\"}},\"name\":\"North America\",\"offsetgroup\":\"North America\",\"orientation\":\"v\",\"showlegend\":true,\"textposition\":\"auto\",\"type\":\"bar\",\"x\":[\"Canada\",\"Mexico\",\"Trinidad and Tobago\",\"United States\"],\"xaxis\":\"x\",\"y\":[71601.337,14168.251,80085.107,81551.189],\"yaxis\":\"y\"},{\"alignmentgroup\":\"True\",\"hovertemplate\":\"Continents=South America<br>Year=1996<br>Countries=%{x}<br>Fossil fuels per capita (kWh)=%{y}<extra></extra>\",\"legendgroup\":\"South America\",\"marker\":{\"color\":\"#19d3f3\",\"pattern\":{\"shape\":\"\"}},\"name\":\"South America\",\"offsetgroup\":\"South America\",\"orientation\":\"v\",\"showlegend\":true,\"textposition\":\"auto\",\"type\":\"bar\",\"x\":[\"Argentina\",\"Brazil\",\"Chile\",\"Colombia\",\"Ecuador\",\"Peru\",\"Venezuela\"],\"xaxis\":\"x\",\"y\":[15898.958999999999,6820.701,13052.885,6219.923000000001,7617.809,3982.9959999999996,24552.76],\"yaxis\":\"y\"}],\"name\":\"1996\"},{\"data\":[{\"alignmentgroup\":\"True\",\"hovertemplate\":\"Continents=Africa<br>Year=1997<br>Countries=%{x}<br>Fossil fuels per capita (kWh)=%{y}<extra></extra>\",\"legendgroup\":\"Africa\",\"marker\":{\"color\":\"#636efa\",\"pattern\":{\"shape\":\"\"}},\"name\":\"Africa\",\"offsetgroup\":\"Africa\",\"orientation\":\"v\",\"showlegend\":true,\"textposition\":\"auto\",\"type\":\"bar\",\"x\":[\"Algeria\",\"Egypt\",\"Morocco\"],\"xaxis\":\"x\",\"y\":[10007.001,6868.243,3790.1090000000004],\"yaxis\":\"y\"},{\"alignmentgroup\":\"True\",\"hovertemplate\":\"Continents=Asia<br>Year=1997<br>Countries=%{x}<br>Fossil fuels per capita (kWh)=%{y}<extra></extra>\",\"legendgroup\":\"Asia\",\"marker\":{\"color\":\"#EF553B\",\"pattern\":{\"shape\":\"\"}},\"name\":\"Asia\",\"offsetgroup\":\"Asia\",\"orientation\":\"v\",\"showlegend\":true,\"textposition\":\"auto\",\"type\":\"bar\",\"x\":[\"Azerbaijan\",\"Bangladesh\",\"China\",\"India\",\"Indonesia\",\"Iran\",\"Iraq\",\"Israel\",\"Japan\",\"Kazakhstan\",\"Kuwait\",\"Malaysia\",\"Oman\",\"Pakistan\",\"Philippines\",\"Qatar\",\"Russia\",\"Saudi Arabia\",\"Singapore\",\"Sri Lanka\",\"Thailand\",\"Turkmenistan\",\"United Arab Emirates\",\"Uzbekistan\",\"Vietnam\"],\"xaxis\":\"x\",\"y\":[15266.753999999999,963.414,8243.434000000001,3004.009,4887.186,19271.869,20021.387,36099.455,38710.491,28528.395,102691.259,23545.209,30983.421000000002,2800.762,3466.2670000000003,239392.708,42221.914000000004,61333.605,109813.13699999999,1598.565,11716.32,27498.211,196315.85600000003,21231.176,1719.911],\"yaxis\":\"y\"},{\"alignmentgroup\":\"True\",\"hovertemplate\":\"Continents=Australia_NZ<br>Year=1997<br>Countries=%{x}<br>Fossil fuels per capita (kWh)=%{y}<extra></extra>\",\"legendgroup\":\"Australia_NZ\",\"marker\":{\"color\":\"#00cc96\",\"pattern\":{\"shape\":\"\"}},\"name\":\"Australia_NZ\",\"offsetgroup\":\"Australia_NZ\",\"orientation\":\"v\",\"showlegend\":true,\"textposition\":\"auto\",\"type\":\"bar\",\"x\":[\"Australia\",\"New Zealand\"],\"xaxis\":\"x\",\"y\":[64028.877,37676.581],\"yaxis\":\"y\"},{\"alignmentgroup\":\"True\",\"hovertemplate\":\"Continents=Europe<br>Year=1997<br>Countries=%{x}<br>Fossil fuels per capita (kWh)=%{y}<extra></extra>\",\"legendgroup\":\"Europe\",\"marker\":{\"color\":\"#ab63fa\",\"pattern\":{\"shape\":\"\"}},\"name\":\"Europe\",\"offsetgroup\":\"Europe\",\"orientation\":\"v\",\"showlegend\":true,\"textposition\":\"auto\",\"type\":\"bar\",\"x\":[\"Austria\",\"Belarus\",\"Belgium\",\"Bulgaria\",\"Croatia\",\"Cyprus\",\"Denmark\",\"Estonia\",\"Finland\",\"France\",\"Germany\",\"Greece\",\"Hungary\",\"Iceland\",\"Ireland\",\"Italy\",\"Latvia\",\"Lithuania\",\"Luxembourg\",\"Netherlands\",\"Norway\",\"Poland\",\"Portugal\",\"Romania\",\"Slovakia\",\"Slovenia\",\"Spain\",\"Sweden\",\"Switzerland\",\"Ukraine\",\"United Kingdom\"],\"xaxis\":\"x\",\"y\":[32788.917,26062.342999999997,58066.429000000004,24119.422000000002,16780.034,29014.19,48144.47,43524.172999999995,45509.429000000004,27905.442000000003,42958.535,29883.259,23848.457000000002,36499.933,39311.236000000004,31800.208,13466.945,17864.177,80595.951,62961.72900000001,37393.371,29736.607000000004,20843.57,20151.694,30399.65,28460.347,26770.604,27543.526,25592.917,27008.0,39957.524],\"yaxis\":\"y\"},{\"alignmentgroup\":\"True\",\"hovertemplate\":\"Continents=North America<br>Year=1997<br>Countries=%{x}<br>Fossil fuels per capita (kWh)=%{y}<extra></extra>\",\"legendgroup\":\"North America\",\"marker\":{\"color\":\"#FFA15A\",\"pattern\":{\"shape\":\"\"}},\"name\":\"North America\",\"offsetgroup\":\"North America\",\"orientation\":\"v\",\"showlegend\":true,\"textposition\":\"auto\",\"type\":\"bar\",\"x\":[\"Canada\",\"Mexico\",\"Trinidad and Tobago\",\"United States\"],\"xaxis\":\"x\",\"y\":[73233.185,14290.46,79934.76299999999,81613.27],\"yaxis\":\"y\"},{\"alignmentgroup\":\"True\",\"hovertemplate\":\"Continents=South America<br>Year=1997<br>Countries=%{x}<br>Fossil fuels per capita (kWh)=%{y}<extra></extra>\",\"legendgroup\":\"South America\",\"marker\":{\"color\":\"#19d3f3\",\"pattern\":{\"shape\":\"\"}},\"name\":\"South America\",\"offsetgroup\":\"South America\",\"orientation\":\"v\",\"showlegend\":true,\"textposition\":\"auto\",\"type\":\"bar\",\"x\":[\"Argentina\",\"Brazil\",\"Chile\",\"Colombia\",\"Ecuador\",\"Peru\",\"Venezuela\"],\"xaxis\":\"x\",\"y\":[15015.521,7162.566,14843.783000000001,6650.531999999999,8442.269,3967.881,25396.933999999997],\"yaxis\":\"y\"}],\"name\":\"1997\"},{\"data\":[{\"alignmentgroup\":\"True\",\"hovertemplate\":\"Continents=Africa<br>Year=1998<br>Countries=%{x}<br>Fossil fuels per capita (kWh)=%{y}<extra></extra>\",\"legendgroup\":\"Africa\",\"marker\":{\"color\":\"#636efa\",\"pattern\":{\"shape\":\"\"}},\"name\":\"Africa\",\"offsetgroup\":\"Africa\",\"orientation\":\"v\",\"showlegend\":true,\"textposition\":\"auto\",\"type\":\"bar\",\"x\":[\"Algeria\",\"Egypt\",\"Morocco\"],\"xaxis\":\"x\",\"y\":[10191.55,7016.839,3876.1020000000003],\"yaxis\":\"y\"},{\"alignmentgroup\":\"True\",\"hovertemplate\":\"Continents=Asia<br>Year=1998<br>Countries=%{x}<br>Fossil fuels per capita (kWh)=%{y}<extra></extra>\",\"legendgroup\":\"Asia\",\"marker\":{\"color\":\"#EF553B\",\"pattern\":{\"shape\":\"\"}},\"name\":\"Asia\",\"offsetgroup\":\"Asia\",\"orientation\":\"v\",\"showlegend\":true,\"textposition\":\"auto\",\"type\":\"bar\",\"x\":[\"Azerbaijan\",\"Bangladesh\",\"China\",\"India\",\"Indonesia\",\"Iran\",\"Iraq\",\"Israel\",\"Japan\",\"Kazakhstan\",\"Kuwait\",\"Malaysia\",\"Oman\",\"Pakistan\",\"Philippines\",\"Qatar\",\"Russia\",\"Saudi Arabia\",\"Singapore\",\"Sri Lanka\",\"Thailand\",\"Turkmenistan\",\"United Arab Emirates\",\"Uzbekistan\",\"Vietnam\"],\"xaxis\":\"x\",\"y\":[15118.146,1002.596,8185.071,3099.297,4663.155,19610.202,13424.986,37694.93,37432.468,27293.851000000002,116520.924,21271.136000000002,31814.914,2828.8190000000004,3424.907,248186.949,42309.699,63315.877,108191.537,1698.635,10786.948999999999,33790.587999999996,190797.96899999998,20902.837,1891.04],\"yaxis\":\"y\"},{\"alignmentgroup\":\"True\",\"hovertemplate\":\"Continents=Australia_NZ<br>Year=1998<br>Countries=%{x}<br>Fossil fuels per capita (kWh)=%{y}<extra></extra>\",\"legendgroup\":\"Australia_NZ\",\"marker\":{\"color\":\"#00cc96\",\"pattern\":{\"shape\":\"\"}},\"name\":\"Australia_NZ\",\"offsetgroup\":\"Australia_NZ\",\"orientation\":\"v\",\"showlegend\":true,\"textposition\":\"auto\",\"type\":\"bar\",\"x\":[\"Australia\",\"New Zealand\"],\"xaxis\":\"x\",\"y\":[64884.64,35607.259],\"yaxis\":\"y\"},{\"alignmentgroup\":\"True\",\"hovertemplate\":\"Continents=Europe<br>Year=1998<br>Countries=%{x}<br>Fossil fuels per capita (kWh)=%{y}<extra></extra>\",\"legendgroup\":\"Europe\",\"marker\":{\"color\":\"#ab63fa\",\"pattern\":{\"shape\":\"\"}},\"name\":\"Europe\",\"offsetgroup\":\"Europe\",\"orientation\":\"v\",\"showlegend\":true,\"textposition\":\"auto\",\"type\":\"bar\",\"x\":[\"Austria\",\"Belarus\",\"Belgium\",\"Bulgaria\",\"Croatia\",\"Cyprus\",\"Denmark\",\"Estonia\",\"Finland\",\"France\",\"Germany\",\"Greece\",\"Hungary\",\"Iceland\",\"Ireland\",\"Italy\",\"Latvia\",\"Lithuania\",\"Luxembourg\",\"Netherlands\",\"Norway\",\"Poland\",\"Portugal\",\"Romania\",\"Slovakia\",\"Slovenia\",\"Spain\",\"Sweden\",\"Switzerland\",\"Ukraine\",\"United Kingdom\"],\"xaxis\":\"x\",\"y\":[33052.309,25601.631,59711.114,23285.488999999998,18009.229,30194.31,45628.207,40829.458,44829.09,29411.574,42773.394,31657.956000000002,24237.459,36774.348,41631.02,32785.467000000004,13448.688,18696.151,76433.575,62734.863,37614.471,28437.365,23049.722,18157.513,30504.713,28038.672000000002,27984.272,30519.592,25849.353,26454.334,40158.451],\"yaxis\":\"y\"},{\"alignmentgroup\":\"True\",\"hovertemplate\":\"Continents=North America<br>Year=1998<br>Countries=%{x}<br>Fossil fuels per capita (kWh)=%{y}<extra></extra>\",\"legendgroup\":\"North America\",\"marker\":{\"color\":\"#FFA15A\",\"pattern\":{\"shape\":\"\"}},\"name\":\"North America\",\"offsetgroup\":\"North America\",\"orientation\":\"v\",\"showlegend\":true,\"textposition\":\"auto\",\"type\":\"bar\",\"x\":[\"Canada\",\"Mexico\",\"Trinidad and Tobago\",\"United States\"],\"xaxis\":\"x\",\"y\":[73575.26,14835.58,81009.226,81045.69],\"yaxis\":\"y\"},{\"alignmentgroup\":\"True\",\"hovertemplate\":\"Continents=South America<br>Year=1998<br>Countries=%{x}<br>Fossil fuels per capita (kWh)=%{y}<extra></extra>\",\"legendgroup\":\"South America\",\"marker\":{\"color\":\"#19d3f3\",\"pattern\":{\"shape\":\"\"}},\"name\":\"South America\",\"offsetgroup\":\"South America\",\"orientation\":\"v\",\"showlegend\":true,\"textposition\":\"auto\",\"type\":\"bar\",\"x\":[\"Argentina\",\"Brazil\",\"Chile\",\"Colombia\",\"Ecuador\",\"Peru\",\"Venezuela\"],\"xaxis\":\"x\",\"y\":[15590.478000000001,7302.218000000001,15398.823,6637.874,8328.944,3855.9959999999996,26770.277000000002],\"yaxis\":\"y\"}],\"name\":\"1998\"},{\"data\":[{\"alignmentgroup\":\"True\",\"hovertemplate\":\"Continents=Africa<br>Year=1999<br>Countries=%{x}<br>Fossil fuels per capita (kWh)=%{y}<extra></extra>\",\"legendgroup\":\"Africa\",\"marker\":{\"color\":\"#636efa\",\"pattern\":{\"shape\":\"\"}},\"name\":\"Africa\",\"offsetgroup\":\"Africa\",\"orientation\":\"v\",\"showlegend\":true,\"textposition\":\"auto\",\"type\":\"bar\",\"x\":[\"Algeria\",\"Egypt\",\"Morocco\"],\"xaxis\":\"x\",\"y\":[10150.35,7346.611,4078.317],\"yaxis\":\"y\"},{\"alignmentgroup\":\"True\",\"hovertemplate\":\"Continents=Asia<br>Year=1999<br>Countries=%{x}<br>Fossil fuels per capita (kWh)=%{y}<extra></extra>\",\"legendgroup\":\"Asia\",\"marker\":{\"color\":\"#EF553B\",\"pattern\":{\"shape\":\"\"}},\"name\":\"Asia\",\"offsetgroup\":\"Asia\",\"orientation\":\"v\",\"showlegend\":true,\"textposition\":\"auto\",\"type\":\"bar\",\"x\":[\"Azerbaijan\",\"Bangladesh\",\"China\",\"India\",\"Indonesia\",\"Iran\",\"Iraq\",\"Israel\",\"Japan\",\"Kazakhstan\",\"Kuwait\",\"Malaysia\",\"Oman\",\"Pakistan\",\"Philippines\",\"Qatar\",\"Russia\",\"Saudi Arabia\",\"Singapore\",\"Sri Lanka\",\"Thailand\",\"Turkmenistan\",\"United Arab Emirates\",\"Uzbekistan\",\"Vietnam\"],\"xaxis\":\"x\",\"y\":[15092.552,994.666,8428.181999999999,3130.83,5026.349,20782.921000000002,9905.091999999999,38334.667,38492.801,25885.687,112714.11300000001,23195.041,36577.215,2956.95,3260.423,268463.782,42650.051,63157.068,104562.43699999999,1843.8770000000002,11483.036,31872.43,182424.01,23345.522999999997,1845.967],\"yaxis\":\"y\"},{\"alignmentgroup\":\"True\",\"hovertemplate\":\"Continents=Australia_NZ<br>Year=1999<br>Countries=%{x}<br>Fossil fuels per capita (kWh)=%{y}<extra></extra>\",\"legendgroup\":\"Australia_NZ\",\"marker\":{\"color\":\"#00cc96\",\"pattern\":{\"shape\":\"\"}},\"name\":\"Australia_NZ\",\"offsetgroup\":\"Australia_NZ\",\"orientation\":\"v\",\"showlegend\":true,\"textposition\":\"auto\",\"type\":\"bar\",\"x\":[\"Australia\",\"New Zealand\"],\"xaxis\":\"x\",\"y\":[67024.603,37412.185],\"yaxis\":\"y\"},{\"alignmentgroup\":\"True\",\"hovertemplate\":\"Continents=Europe<br>Year=1999<br>Countries=%{x}<br>Fossil fuels per capita (kWh)=%{y}<extra></extra>\",\"legendgroup\":\"Europe\",\"marker\":{\"color\":\"#ab63fa\",\"pattern\":{\"shape\":\"\"}},\"name\":\"Europe\",\"offsetgroup\":\"Europe\",\"orientation\":\"v\",\"showlegend\":true,\"textposition\":\"auto\",\"type\":\"bar\",\"x\":[\"Austria\",\"Belarus\",\"Belgium\",\"Bulgaria\",\"Croatia\",\"Cyprus\",\"Denmark\",\"Estonia\",\"Finland\",\"France\",\"Germany\",\"Greece\",\"Hungary\",\"Iceland\",\"Ireland\",\"Italy\",\"Latvia\",\"Lithuania\",\"Luxembourg\",\"Netherlands\",\"Norway\",\"Poland\",\"Portugal\",\"Romania\",\"Slovakia\",\"Slovenia\",\"Spain\",\"Sweden\",\"Switzerland\",\"Ukraine\",\"United Kingdom\"],\"xaxis\":\"x\",\"y\":[32876.816,25038.082000000002,58214.066,20191.658,18047.429,31188.662999999997,43740.95,37482.27,44560.793,29347.754,41686.724,31194.572999999997,24316.457000000002,36734.565,43618.762,33706.075,12639.521999999999,16737.889,80034.657,61569.623,36600.865,27891.578999999998,25157.621,15801.35,29797.005,27589.259,29574.839,29340.652000000002,25640.59,27110.987,39949.316],\"yaxis\":\"y\"},{\"alignmentgroup\":\"True\",\"hovertemplate\":\"Continents=North America<br>Year=1999<br>Countries=%{x}<br>Fossil fuels per capita (kWh)=%{y}<extra></extra>\",\"legendgroup\":\"North America\",\"marker\":{\"color\":\"#FFA15A\",\"pattern\":{\"shape\":\"\"}},\"name\":\"North America\",\"offsetgroup\":\"North America\",\"orientation\":\"v\",\"showlegend\":true,\"textposition\":\"auto\",\"type\":\"bar\",\"x\":[\"Canada\",\"Mexico\",\"Trinidad and Tobago\",\"United States\"],\"xaxis\":\"x\",\"y\":[74932.62,14566.347,89898.487,81132.007],\"yaxis\":\"y\"},{\"alignmentgroup\":\"True\",\"hovertemplate\":\"Continents=South America<br>Year=1999<br>Countries=%{x}<br>Fossil fuels per capita (kWh)=%{y}<extra></extra>\",\"legendgroup\":\"South America\",\"marker\":{\"color\":\"#19d3f3\",\"pattern\":{\"shape\":\"\"}},\"name\":\"South America\",\"offsetgroup\":\"South America\",\"orientation\":\"v\",\"showlegend\":true,\"textposition\":\"auto\",\"type\":\"bar\",\"x\":[\"Argentina\",\"Brazil\",\"Chile\",\"Colombia\",\"Ecuador\",\"Peru\",\"Venezuela\"],\"xaxis\":\"x\",\"y\":[15470.218,7367.763000000001,16378.005,5669.956999999999,7152.969,3867.433,24775.315],\"yaxis\":\"y\"}],\"name\":\"1999\"},{\"data\":[{\"alignmentgroup\":\"True\",\"hovertemplate\":\"Continents=Africa<br>Year=2000<br>Countries=%{x}<br>Fossil fuels per capita (kWh)=%{y}<extra></extra>\",\"legendgroup\":\"Africa\",\"marker\":{\"color\":\"#636efa\",\"pattern\":{\"shape\":\"\"}},\"name\":\"Africa\",\"offsetgroup\":\"Africa\",\"orientation\":\"v\",\"showlegend\":true,\"textposition\":\"auto\",\"type\":\"bar\",\"x\":[\"Algeria\",\"Egypt\",\"Morocco\"],\"xaxis\":\"x\",\"y\":[9657.439,7639.33,3999.135],\"yaxis\":\"y\"},{\"alignmentgroup\":\"True\",\"hovertemplate\":\"Continents=Asia<br>Year=2000<br>Countries=%{x}<br>Fossil fuels per capita (kWh)=%{y}<extra></extra>\",\"legendgroup\":\"Asia\",\"marker\":{\"color\":\"#EF553B\",\"pattern\":{\"shape\":\"\"}},\"name\":\"Asia\",\"offsetgroup\":\"Asia\",\"orientation\":\"v\",\"showlegend\":true,\"textposition\":\"auto\",\"type\":\"bar\",\"x\":[\"Azerbaijan\",\"Bangladesh\",\"China\",\"India\",\"Indonesia\",\"Iran\",\"Iraq\",\"Israel\",\"Japan\",\"Kazakhstan\",\"Kuwait\",\"Malaysia\",\"Oman\",\"Pakistan\",\"Philippines\",\"Qatar\",\"Russia\",\"Saudi Arabia\",\"Singapore\",\"Sri Lanka\",\"Thailand\",\"Turkmenistan\",\"United Arab Emirates\",\"Uzbekistan\",\"Vietnam\"],\"xaxis\":\"x\",\"y\":[15635.839,1048.944,8616.094000000001,3254.7990000000004,5400.706,21630.806,12395.757,39290.08,38908.517,23585.912,112287.174,25384.513,50496.890999999996,2994.107,3146.1440000000002,227040.462,43425.985,64600.545999999995,109762.398,2170.752,11513.316,26530.37,171943.728,23365.436,2117.7929999999997],\"yaxis\":\"y\"},{\"alignmentgroup\":\"True\",\"hovertemplate\":\"Continents=Australia_NZ<br>Year=2000<br>Countries=%{x}<br>Fossil fuels per capita (kWh)=%{y}<extra></extra>\",\"legendgroup\":\"Australia_NZ\",\"marker\":{\"color\":\"#00cc96\",\"pattern\":{\"shape\":\"\"}},\"name\":\"Australia_NZ\",\"offsetgroup\":\"Australia_NZ\",\"orientation\":\"v\",\"showlegend\":true,\"textposition\":\"auto\",\"type\":\"bar\",\"x\":[\"Australia\",\"New Zealand\"],\"xaxis\":\"x\",\"y\":[66599.621,38158.873999999996],\"yaxis\":\"y\"},{\"alignmentgroup\":\"True\",\"hovertemplate\":\"Continents=Europe<br>Year=2000<br>Countries=%{x}<br>Fossil fuels per capita (kWh)=%{y}<extra></extra>\",\"legendgroup\":\"Europe\",\"marker\":{\"color\":\"#ab63fa\",\"pattern\":{\"shape\":\"\"}},\"name\":\"Europe\",\"offsetgroup\":\"Europe\",\"orientation\":\"v\",\"showlegend\":true,\"textposition\":\"auto\",\"type\":\"bar\",\"x\":[\"Austria\",\"Belarus\",\"Belgium\",\"Bulgaria\",\"Croatia\",\"Cyprus\",\"Denmark\",\"Estonia\",\"Finland\",\"France\",\"Germany\",\"Greece\",\"Hungary\",\"Iceland\",\"Ireland\",\"Italy\",\"Latvia\",\"Lithuania\",\"Luxembourg\",\"Netherlands\",\"Norway\",\"Poland\",\"Portugal\",\"Romania\",\"Slovakia\",\"Slovenia\",\"Spain\",\"Sweden\",\"Switzerland\",\"Ukraine\",\"United Kingdom\"],\"xaxis\":\"x\",\"y\":[32574.892999999996,25863.446,59861.447,19731.288,17494.474,32090.275,41141.535,38486.907,44040.287000000004,29140.185,41667.537000000004,32954.821,23452.339,38207.943,44729.837,34219.494,12333.753,15174.778,84161.455,61935.056,35615.239,26209.966,24762.1,16314.421,29227.424,26939.814,30487.665,25898.121,24942.497000000003,27341.297000000002,40652.015],\"yaxis\":\"y\"},{\"alignmentgroup\":\"True\",\"hovertemplate\":\"Continents=North America<br>Year=2000<br>Countries=%{x}<br>Fossil fuels per capita (kWh)=%{y}<extra></extra>\",\"legendgroup\":\"North America\",\"marker\":{\"color\":\"#FFA15A\",\"pattern\":{\"shape\":\"\"}},\"name\":\"North America\",\"offsetgroup\":\"North America\",\"orientation\":\"v\",\"showlegend\":true,\"textposition\":\"auto\",\"type\":\"bar\",\"x\":[\"Canada\",\"Mexico\",\"Trinidad and Tobago\",\"United States\"],\"xaxis\":\"x\",\"y\":[76517.651,15123.696000000002,93742.14199999999,82440.032],\"yaxis\":\"y\"},{\"alignmentgroup\":\"True\",\"hovertemplate\":\"Continents=South America<br>Year=2000<br>Countries=%{x}<br>Fossil fuels per capita (kWh)=%{y}<extra></extra>\",\"legendgroup\":\"South America\",\"marker\":{\"color\":\"#19d3f3\",\"pattern\":{\"shape\":\"\"}},\"name\":\"South America\",\"offsetgroup\":\"South America\",\"orientation\":\"v\",\"showlegend\":true,\"textposition\":\"auto\",\"type\":\"bar\",\"x\":[\"Argentina\",\"Brazil\",\"Chile\",\"Colombia\",\"Ecuador\",\"Peru\",\"Venezuela\"],\"xaxis\":\"x\",\"y\":[15525.942,7334.648,16286.889,5575.734,6435.331999999999,3794.994,24670.53],\"yaxis\":\"y\"}],\"name\":\"2000\"},{\"data\":[{\"alignmentgroup\":\"True\",\"hovertemplate\":\"Continents=Africa<br>Year=2001<br>Countries=%{x}<br>Fossil fuels per capita (kWh)=%{y}<extra></extra>\",\"legendgroup\":\"Africa\",\"marker\":{\"color\":\"#636efa\",\"pattern\":{\"shape\":\"\"}},\"name\":\"Africa\",\"offsetgroup\":\"Africa\",\"orientation\":\"v\",\"showlegend\":true,\"textposition\":\"auto\",\"type\":\"bar\",\"x\":[\"Algeria\",\"Egypt\",\"Morocco\"],\"xaxis\":\"x\",\"y\":[9875.7,7916.326999999999,4249.389],\"yaxis\":\"y\"},{\"alignmentgroup\":\"True\",\"hovertemplate\":\"Continents=Asia<br>Year=2001<br>Countries=%{x}<br>Fossil fuels per capita (kWh)=%{y}<extra></extra>\",\"legendgroup\":\"Asia\",\"marker\":{\"color\":\"#EF553B\",\"pattern\":{\"shape\":\"\"}},\"name\":\"Asia\",\"offsetgroup\":\"Asia\",\"orientation\":\"v\",\"showlegend\":true,\"textposition\":\"auto\",\"type\":\"bar\",\"x\":[\"Azerbaijan\",\"Bangladesh\",\"China\",\"India\",\"Indonesia\",\"Iran\",\"Iraq\",\"Israel\",\"Japan\",\"Kazakhstan\",\"Kuwait\",\"Malaysia\",\"Oman\",\"Pakistan\",\"Philippines\",\"Qatar\",\"Russia\",\"Saudi Arabia\",\"Singapore\",\"Sri Lanka\",\"Thailand\",\"Turkmenistan\",\"United Arab Emirates\",\"Uzbekistan\",\"Vietnam\"],\"xaxis\":\"x\",\"y\":[15000.562,1173.565,8954.523000000001,3220.975,5615.214,22533.66,13527.192,38370.454,38470.782,26657.246,110892.028,25125.416,55113.657999999996,2964.4770000000003,3093.941,212998.695,44099.147000000004,67082.893,123026.228,2118.317,12025.238000000001,33134.951,164947.5,23098.29,2309.875],\"yaxis\":\"y\"},{\"alignmentgroup\":\"True\",\"hovertemplate\":\"Continents=Australia_NZ<br>Year=2001<br>Countries=%{x}<br>Fossil fuels per capita (kWh)=%{y}<extra></extra>\",\"legendgroup\":\"Australia_NZ\",\"marker\":{\"color\":\"#00cc96\",\"pattern\":{\"shape\":\"\"}},\"name\":\"Australia_NZ\",\"offsetgroup\":\"Australia_NZ\",\"orientation\":\"v\",\"showlegend\":true,\"textposition\":\"auto\",\"type\":\"bar\",\"x\":[\"Australia\",\"New Zealand\"],\"xaxis\":\"x\",\"y\":[66577.396,39435.208],\"yaxis\":\"y\"},{\"alignmentgroup\":\"True\",\"hovertemplate\":\"Continents=Europe<br>Year=2001<br>Countries=%{x}<br>Fossil fuels per capita (kWh)=%{y}<extra></extra>\",\"legendgroup\":\"Europe\",\"marker\":{\"color\":\"#ab63fa\",\"pattern\":{\"shape\":\"\"}},\"name\":\"Europe\",\"offsetgroup\":\"Europe\",\"orientation\":\"v\",\"showlegend\":true,\"textposition\":\"auto\",\"type\":\"bar\",\"x\":[\"Austria\",\"Belarus\",\"Belgium\",\"Bulgaria\",\"Croatia\",\"Cyprus\",\"Denmark\",\"Estonia\",\"Finland\",\"France\",\"Germany\",\"Greece\",\"Hungary\",\"Iceland\",\"Ireland\",\"Italy\",\"Latvia\",\"Lithuania\",\"Luxembourg\",\"Netherlands\",\"Norway\",\"Poland\",\"Portugal\",\"Romania\",\"Slovakia\",\"Slovenia\",\"Spain\",\"Sweden\",\"Switzerland\",\"Ukraine\",\"United Kingdom\"],\"xaxis\":\"x\",\"y\":[34703.073,25367.833,59616.60400000001,20946.201,18244.447,31885.08,40996.022000000004,40213.443,46445.077000000005,29055.652000000002,42482.679000000004,33435.668,24340.754,36045.355,46859.29,34145.354,13704.48,16767.612,89471.59199999999,63929.640999999996,37628.269,26010.08,24280.987,16640.683,29821.882,28179.077,30835.275,26619.903,26441.915,27211.501,40822.234],\"yaxis\":\"y\"},{\"alignmentgroup\":\"True\",\"hovertemplate\":\"Continents=North America<br>Year=2001<br>Countries=%{x}<br>Fossil fuels per capita (kWh)=%{y}<extra></extra>\",\"legendgroup\":\"North America\",\"marker\":{\"color\":\"#FFA15A\",\"pattern\":{\"shape\":\"\"}},\"name\":\"North America\",\"offsetgroup\":\"North America\",\"orientation\":\"v\",\"showlegend\":true,\"textposition\":\"auto\",\"type\":\"bar\",\"x\":[\"Canada\",\"Mexico\",\"Trinidad and Tobago\",\"United States\"],\"xaxis\":\"x\",\"y\":[75087.584,14839.673,100728.859,79913.845],\"yaxis\":\"y\"},{\"alignmentgroup\":\"True\",\"hovertemplate\":\"Continents=South America<br>Year=2001<br>Countries=%{x}<br>Fossil fuels per capita (kWh)=%{y}<extra></extra>\",\"legendgroup\":\"South America\",\"marker\":{\"color\":\"#19d3f3\",\"pattern\":{\"shape\":\"\"}},\"name\":\"South America\",\"offsetgroup\":\"South America\",\"orientation\":\"v\",\"showlegend\":true,\"textposition\":\"auto\",\"type\":\"bar\",\"x\":[\"Argentina\",\"Brazil\",\"Chile\",\"Colombia\",\"Ecuador\",\"Peru\",\"Venezuela\"],\"xaxis\":\"x\",\"y\":[14530.042,7462.85,15742.511999999999,5324.089,6557.5,3539.841,26412.955],\"yaxis\":\"y\"}],\"name\":\"2001\"},{\"data\":[{\"alignmentgroup\":\"True\",\"hovertemplate\":\"Continents=Africa<br>Year=2002<br>Countries=%{x}<br>Fossil fuels per capita (kWh)=%{y}<extra></extra>\",\"legendgroup\":\"Africa\",\"marker\":{\"color\":\"#636efa\",\"pattern\":{\"shape\":\"\"}},\"name\":\"Africa\",\"offsetgroup\":\"Africa\",\"orientation\":\"v\",\"showlegend\":true,\"textposition\":\"auto\",\"type\":\"bar\",\"x\":[\"Algeria\",\"Egypt\",\"Morocco\"],\"xaxis\":\"x\",\"y\":[10101.535,7914.501,4312.936],\"yaxis\":\"y\"},{\"alignmentgroup\":\"True\",\"hovertemplate\":\"Continents=Asia<br>Year=2002<br>Countries=%{x}<br>Fossil fuels per capita (kWh)=%{y}<extra></extra>\",\"legendgroup\":\"Asia\",\"marker\":{\"color\":\"#EF553B\",\"pattern\":{\"shape\":\"\"}},\"name\":\"Asia\",\"offsetgroup\":\"Asia\",\"orientation\":\"v\",\"showlegend\":true,\"textposition\":\"auto\",\"type\":\"bar\",\"x\":[\"Azerbaijan\",\"Bangladesh\",\"China\",\"India\",\"Indonesia\",\"Iran\",\"Iraq\",\"Israel\",\"Japan\",\"Kazakhstan\",\"Kuwait\",\"Malaysia\",\"Oman\",\"Pakistan\",\"Philippines\",\"Qatar\",\"Russia\",\"Saudi Arabia\",\"Singapore\",\"Sri Lanka\",\"Thailand\",\"Turkmenistan\",\"United Arab Emirates\",\"Uzbekistan\",\"Vietnam\"],\"xaxis\":\"x\",\"y\":[14426.916000000001,1195.104,9713.995,3332.873,5816.210999999999,24052.285,12297.311000000002,38236.371,38461.765,27063.549,111152.141,26467.658,58949.085999999996,2983.1940000000004,3018.915,230848.46600000001,44264.46,67938.954,120058.854,2221.096,13085.389,27669.464,171136.58399999997,23333.662,2568.328],\"yaxis\":\"y\"},{\"alignmentgroup\":\"True\",\"hovertemplate\":\"Continents=Australia_NZ<br>Year=2002<br>Countries=%{x}<br>Fossil fuels per capita (kWh)=%{y}<extra></extra>\",\"legendgroup\":\"Australia_NZ\",\"marker\":{\"color\":\"#00cc96\",\"pattern\":{\"shape\":\"\"}},\"name\":\"Australia_NZ\",\"offsetgroup\":\"Australia_NZ\",\"orientation\":\"v\",\"showlegend\":true,\"textposition\":\"auto\",\"type\":\"bar\",\"x\":[\"Australia\",\"New Zealand\"],\"xaxis\":\"x\",\"y\":[66802.982,38809.36],\"yaxis\":\"y\"},{\"alignmentgroup\":\"True\",\"hovertemplate\":\"Continents=Europe<br>Year=2002<br>Countries=%{x}<br>Fossil fuels per capita (kWh)=%{y}<extra></extra>\",\"legendgroup\":\"Europe\",\"marker\":{\"color\":\"#ab63fa\",\"pattern\":{\"shape\":\"\"}},\"name\":\"Europe\",\"offsetgroup\":\"Europe\",\"orientation\":\"v\",\"showlegend\":true,\"textposition\":\"auto\",\"type\":\"bar\",\"x\":[\"Austria\",\"Belarus\",\"Belgium\",\"Bulgaria\",\"Croatia\",\"Cyprus\",\"Denmark\",\"Estonia\",\"Finland\",\"France\",\"Germany\",\"Greece\",\"Hungary\",\"Iceland\",\"Ireland\",\"Italy\",\"Latvia\",\"Lithuania\",\"Luxembourg\",\"Netherlands\",\"Norway\",\"Poland\",\"Portugal\",\"Romania\",\"Slovakia\",\"Slovenia\",\"Spain\",\"Sweden\",\"Switzerland\",\"Ukraine\",\"United Kingdom\"],\"xaxis\":\"x\",\"y\":[34863.805,26297.682999999997,58854.528,19966.578999999998,19231.782,30896.582000000002,40280.206,40198.257000000005,48328.31,28385.447,41798.727999999996,33278.998999999996,24073.697,37047.85,45504.570999999996,33974.395,14476.408000000001,16465.932,97146.90699999999,63481.724,36871.44,25757.668999999998,25670.557999999997,17344.096999999998,29675.905,28332.392000000003,31875.63,27176.688,25052.013,27232.542,39725.241],\"yaxis\":\"y\"},{\"alignmentgroup\":\"True\",\"hovertemplate\":\"Continents=North America<br>Year=2002<br>Countries=%{x}<br>Fossil fuels per capita (kWh)=%{y}<extra></extra>\",\"legendgroup\":\"North America\",\"marker\":{\"color\":\"#FFA15A\",\"pattern\":{\"shape\":\"\"}},\"name\":\"North America\",\"offsetgroup\":\"North America\",\"orientation\":\"v\",\"showlegend\":true,\"textposition\":\"auto\",\"type\":\"bar\",\"x\":[\"Canada\",\"Mexico\",\"Trinidad and Tobago\",\"United States\"],\"xaxis\":\"x\",\"y\":[76534.844,15223.695,108891.306,79857.76],\"yaxis\":\"y\"},{\"alignmentgroup\":\"True\",\"hovertemplate\":\"Continents=South America<br>Year=2002<br>Countries=%{x}<br>Fossil fuels per capita (kWh)=%{y}<extra></extra>\",\"legendgroup\":\"South America\",\"marker\":{\"color\":\"#19d3f3\",\"pattern\":{\"shape\":\"\"}},\"name\":\"South America\",\"offsetgroup\":\"South America\",\"orientation\":\"v\",\"showlegend\":true,\"textposition\":\"auto\",\"type\":\"bar\",\"x\":[\"Argentina\",\"Brazil\",\"Chile\",\"Colombia\",\"Ecuador\",\"Peru\",\"Venezuela\"],\"xaxis\":\"x\",\"y\":[13636.111,7345.299,16008.6,5073.495,6248.564,3587.006,26006.053],\"yaxis\":\"y\"}],\"name\":\"2002\"},{\"data\":[{\"alignmentgroup\":\"True\",\"hovertemplate\":\"Continents=Africa<br>Year=2003<br>Countries=%{x}<br>Fossil fuels per capita (kWh)=%{y}<extra></extra>\",\"legendgroup\":\"Africa\",\"marker\":{\"color\":\"#636efa\",\"pattern\":{\"shape\":\"\"}},\"name\":\"Africa\",\"offsetgroup\":\"Africa\",\"orientation\":\"v\",\"showlegend\":true,\"textposition\":\"auto\",\"type\":\"bar\",\"x\":[\"Algeria\",\"Egypt\",\"Morocco\"],\"xaxis\":\"x\",\"y\":[10418.851999999999,8309.985999999999,4218.894],\"yaxis\":\"y\"},{\"alignmentgroup\":\"True\",\"hovertemplate\":\"Continents=Asia<br>Year=2003<br>Countries=%{x}<br>Fossil fuels per capita (kWh)=%{y}<extra></extra>\",\"legendgroup\":\"Asia\",\"marker\":{\"color\":\"#EF553B\",\"pattern\":{\"shape\":\"\"}},\"name\":\"Asia\",\"offsetgroup\":\"Asia\",\"orientation\":\"v\",\"showlegend\":true,\"textposition\":\"auto\",\"type\":\"bar\",\"x\":[\"Azerbaijan\",\"Bangladesh\",\"China\",\"India\",\"Indonesia\",\"Iran\",\"Iraq\",\"Israel\",\"Japan\",\"Kazakhstan\",\"Kuwait\",\"Malaysia\",\"Oman\",\"Pakistan\",\"Philippines\",\"Qatar\",\"Russia\",\"Saudi Arabia\",\"Singapore\",\"Sri Lanka\",\"Thailand\",\"Turkmenistan\",\"United Arab Emirates\",\"Uzbekistan\",\"Vietnam\"],\"xaxis\":\"x\",\"y\":[15361.058,1245.9489999999998,11325.399,3412.974,6204.479,24220.668999999998,11010.265,38615.656,39786.359,29786.952,129159.664,28307.853,59756.953,3132.7929999999997,3073.1740000000004,243876.88199999998,45484.477999999996,69876.532,112717.53,2218.446,14082.476,37824.273,171027.983,21267.603,2772.3909999999996],\"yaxis\":\"y\"},{\"alignmentgroup\":\"True\",\"hovertemplate\":\"Continents=Australia_NZ<br>Year=2003<br>Countries=%{x}<br>Fossil fuels per capita (kWh)=%{y}<extra></extra>\",\"legendgroup\":\"Australia_NZ\",\"marker\":{\"color\":\"#00cc96\",\"pattern\":{\"shape\":\"\"}},\"name\":\"Australia_NZ\",\"offsetgroup\":\"Australia_NZ\",\"orientation\":\"v\",\"showlegend\":true,\"textposition\":\"auto\",\"type\":\"bar\",\"x\":[\"Australia\",\"New Zealand\"],\"xaxis\":\"x\",\"y\":[66993.599,37577.53],\"yaxis\":\"y\"},{\"alignmentgroup\":\"True\",\"hovertemplate\":\"Continents=Europe<br>Year=2003<br>Countries=%{x}<br>Fossil fuels per capita (kWh)=%{y}<extra></extra>\",\"legendgroup\":\"Europe\",\"marker\":{\"color\":\"#ab63fa\",\"pattern\":{\"shape\":\"\"}},\"name\":\"Europe\",\"offsetgroup\":\"Europe\",\"orientation\":\"v\",\"showlegend\":true,\"textposition\":\"auto\",\"type\":\"bar\",\"x\":[\"Austria\",\"Belarus\",\"Belgium\",\"Bulgaria\",\"Croatia\",\"Cyprus\",\"Denmark\",\"Estonia\",\"Finland\",\"France\",\"Germany\",\"Greece\",\"Hungary\",\"Iceland\",\"Ireland\",\"Italy\",\"Latvia\",\"Lithuania\",\"Luxembourg\",\"Netherlands\",\"Norway\",\"Poland\",\"Portugal\",\"Romania\",\"Slovakia\",\"Slovenia\",\"Spain\",\"Sweden\",\"Switzerland\",\"Ukraine\",\"United Kingdom\"],\"xaxis\":\"x\",\"y\":[37624.981,26361.722999999998,61306.907999999996,21747.686,20617.767,32282.017999999996,42895.973,43985.544,53612.511,28715.567000000003,41721.511,34352.571,25111.645,36936.199,43674.39,35013.003,14630.546,17005.217,101307.93,63554.259000000005,38165.981,26721.34,24124.691000000003,17915.716,29580.32,28549.827999999998,32290.863999999998,28591.654,24564.145,28110.796000000002,40201.998999999996],\"yaxis\":\"y\"},{\"alignmentgroup\":\"True\",\"hovertemplate\":\"Continents=North America<br>Year=2003<br>Countries=%{x}<br>Fossil fuels per capita (kWh)=%{y}<extra></extra>\",\"legendgroup\":\"North America\",\"marker\":{\"color\":\"#FFA15A\",\"pattern\":{\"shape\":\"\"}},\"name\":\"North America\",\"offsetgroup\":\"North America\",\"orientation\":\"v\",\"showlegend\":true,\"textposition\":\"auto\",\"type\":\"bar\",\"x\":[\"Canada\",\"Mexico\",\"Trinidad and Tobago\",\"United States\"],\"xaxis\":\"x\",\"y\":[77747.27,15248.361,121455.39199999999,79498.79400000001],\"yaxis\":\"y\"},{\"alignmentgroup\":\"True\",\"hovertemplate\":\"Continents=South America<br>Year=2003<br>Countries=%{x}<br>Fossil fuels per capita (kWh)=%{y}<extra></extra>\",\"legendgroup\":\"South America\",\"marker\":{\"color\":\"#19d3f3\",\"pattern\":{\"shape\":\"\"}},\"name\":\"South America\",\"offsetgroup\":\"South America\",\"orientation\":\"v\",\"showlegend\":true,\"textposition\":\"auto\",\"type\":\"bar\",\"x\":[\"Argentina\",\"Brazil\",\"Chile\",\"Colombia\",\"Ecuador\",\"Peru\",\"Venezuela\"],\"xaxis\":\"x\",\"y\":[14782.312,7210.959,15867.972,5124.63,6350.179,3434.926,22221.036],\"yaxis\":\"y\"}],\"name\":\"2003\"},{\"data\":[{\"alignmentgroup\":\"True\",\"hovertemplate\":\"Continents=Africa<br>Year=2004<br>Countries=%{x}<br>Fossil fuels per capita (kWh)=%{y}<extra></extra>\",\"legendgroup\":\"Africa\",\"marker\":{\"color\":\"#636efa\",\"pattern\":{\"shape\":\"\"}},\"name\":\"Africa\",\"offsetgroup\":\"Africa\",\"orientation\":\"v\",\"showlegend\":true,\"textposition\":\"auto\",\"type\":\"bar\",\"x\":[\"Algeria\",\"Egypt\",\"Morocco\"],\"xaxis\":\"x\",\"y\":[10677.07,8562.495,4760.633],\"yaxis\":\"y\"},{\"alignmentgroup\":\"True\",\"hovertemplate\":\"Continents=Asia<br>Year=2004<br>Countries=%{x}<br>Fossil fuels per capita (kWh)=%{y}<extra></extra>\",\"legendgroup\":\"Asia\",\"marker\":{\"color\":\"#EF553B\",\"pattern\":{\"shape\":\"\"}},\"name\":\"Asia\",\"offsetgroup\":\"Asia\",\"orientation\":\"v\",\"showlegend\":true,\"textposition\":\"auto\",\"type\":\"bar\",\"x\":[\"Azerbaijan\",\"Bangladesh\",\"China\",\"India\",\"Indonesia\",\"Iran\",\"Iraq\",\"Israel\",\"Japan\",\"Kazakhstan\",\"Kuwait\",\"Malaysia\",\"Oman\",\"Pakistan\",\"Philippines\",\"Qatar\",\"Russia\",\"Saudi Arabia\",\"Singapore\",\"Sri Lanka\",\"Thailand\",\"Turkmenistan\",\"United Arab Emirates\",\"Uzbekistan\",\"Vietnam\"],\"xaxis\":\"x\",\"y\":[17257.881,1268.749,13132.341999999999,3530.437,6080.161999999999,26184.967999999997,11387.237,38358.897000000004,39165.19,31487.701,142196.014,29560.849,54146.679000000004,3428.1440000000002,3098.02,258924.428,45847.532,73595.039,124773.66900000001,2162.22,15018.958999999999,37082.227999999996,166837.843,21339.971,3541.78],\"yaxis\":\"y\"},{\"alignmentgroup\":\"True\",\"hovertemplate\":\"Continents=Australia_NZ<br>Year=2004<br>Countries=%{x}<br>Fossil fuels per capita (kWh)=%{y}<extra></extra>\",\"legendgroup\":\"Australia_NZ\",\"marker\":{\"color\":\"#00cc96\",\"pattern\":{\"shape\":\"\"}},\"name\":\"Australia_NZ\",\"offsetgroup\":\"Australia_NZ\",\"orientation\":\"v\",\"showlegend\":true,\"textposition\":\"auto\",\"type\":\"bar\",\"x\":[\"Australia\",\"New Zealand\"],\"xaxis\":\"x\",\"y\":[68332.317,36303.504],\"yaxis\":\"y\"},{\"alignmentgroup\":\"True\",\"hovertemplate\":\"Continents=Europe<br>Year=2004<br>Countries=%{x}<br>Fossil fuels per capita (kWh)=%{y}<extra></extra>\",\"legendgroup\":\"Europe\",\"marker\":{\"color\":\"#ab63fa\",\"pattern\":{\"shape\":\"\"}},\"name\":\"Europe\",\"offsetgroup\":\"Europe\",\"orientation\":\"v\",\"showlegend\":true,\"textposition\":\"auto\",\"type\":\"bar\",\"x\":[\"Austria\",\"Belarus\",\"Belgium\",\"Bulgaria\",\"Croatia\",\"Cyprus\",\"Denmark\",\"Estonia\",\"Finland\",\"France\",\"Germany\",\"Greece\",\"Hungary\",\"Iceland\",\"Ireland\",\"Italy\",\"Latvia\",\"Lithuania\",\"Luxembourg\",\"Netherlands\",\"Norway\",\"Poland\",\"Portugal\",\"Romania\",\"Slovakia\",\"Slovenia\",\"Spain\",\"Sweden\",\"Switzerland\",\"Ukraine\",\"United Kingdom\"],\"xaxis\":\"x\",\"y\":[36867.397000000004,29883.112,61218.442,21170.078999999998,20197.4,30917.042999999998,39479.604,46241.648,49515.945999999996,28702.217999999997,41236.722,34364.183,24997.667999999998,38244.691,43242.102999999996,35092.131,15946.265,17737.976000000002,113283.21,65193.78599999999,38184.031,26873.429,24979.01,18277.221,28693.737999999998,29094.635,33631.524,27564.109,24400.22,27924.936,40494.974],\"yaxis\":\"y\"},{\"alignmentgroup\":\"True\",\"hovertemplate\":\"Continents=North America<br>Year=2004<br>Countries=%{x}<br>Fossil fuels per capita (kWh)=%{y}<extra></extra>\",\"legendgroup\":\"North America\",\"marker\":{\"color\":\"#FFA15A\",\"pattern\":{\"shape\":\"\"}},\"name\":\"North America\",\"offsetgroup\":\"North America\",\"orientation\":\"v\",\"showlegend\":true,\"textposition\":\"auto\",\"type\":\"bar\",\"x\":[\"Canada\",\"Mexico\",\"Trinidad and Tobago\",\"United States\"],\"xaxis\":\"x\",\"y\":[76961.622,15796.091,132922.288,80378.49],\"yaxis\":\"y\"},{\"alignmentgroup\":\"True\",\"hovertemplate\":\"Continents=South America<br>Year=2004<br>Countries=%{x}<br>Fossil fuels per capita (kWh)=%{y}<extra></extra>\",\"legendgroup\":\"South America\",\"marker\":{\"color\":\"#19d3f3\",\"pattern\":{\"shape\":\"\"}},\"name\":\"South America\",\"offsetgroup\":\"South America\",\"orientation\":\"v\",\"showlegend\":true,\"textposition\":\"auto\",\"type\":\"bar\",\"x\":[\"Argentina\",\"Brazil\",\"Chile\",\"Colombia\",\"Ecuador\",\"Peru\",\"Venezuela\"],\"xaxis\":\"x\",\"y\":[15854.173,7512.861,16960.113999999998,5058.467000000001,6815.736,3865.3990000000003,24113.28],\"yaxis\":\"y\"}],\"name\":\"2004\"},{\"data\":[{\"alignmentgroup\":\"True\",\"hovertemplate\":\"Continents=Africa<br>Year=2005<br>Countries=%{x}<br>Fossil fuels per capita (kWh)=%{y}<extra></extra>\",\"legendgroup\":\"Africa\",\"marker\":{\"color\":\"#636efa\",\"pattern\":{\"shape\":\"\"}},\"name\":\"Africa\",\"offsetgroup\":\"Africa\",\"orientation\":\"v\",\"showlegend\":true,\"textposition\":\"auto\",\"type\":\"bar\",\"x\":[\"Algeria\",\"Egypt\",\"Morocco\"],\"xaxis\":\"x\",\"y\":[11000.958,8857.684000000001,5179.089],\"yaxis\":\"y\"},{\"alignmentgroup\":\"True\",\"hovertemplate\":\"Continents=Asia<br>Year=2005<br>Countries=%{x}<br>Fossil fuels per capita (kWh)=%{y}<extra></extra>\",\"legendgroup\":\"Asia\",\"marker\":{\"color\":\"#EF553B\",\"pattern\":{\"shape\":\"\"}},\"name\":\"Asia\",\"offsetgroup\":\"Asia\",\"orientation\":\"v\",\"showlegend\":true,\"textposition\":\"auto\",\"type\":\"bar\",\"x\":[\"Azerbaijan\",\"Bangladesh\",\"China\",\"India\",\"Indonesia\",\"Iran\",\"Iraq\",\"Israel\",\"Japan\",\"Kazakhstan\",\"Kuwait\",\"Malaysia\",\"Oman\",\"Pakistan\",\"Philippines\",\"Qatar\",\"Russia\",\"Saudi Arabia\",\"Singapore\",\"Sri Lanka\",\"Thailand\",\"Turkmenistan\",\"United Arab Emirates\",\"Uzbekistan\",\"Vietnam\"],\"xaxis\":\"x\",\"y\":[18511.33,1349.3239999999998,14849.716,3715.215,6141.946,27695.037999999997,10735.858,38803.229,40076.413,32857.312000000005,152576.27599999998,30923.662999999997,63451.439000000006,3439.113,3046.137,259410.06100000002,45927.72900000001,76188.74900000001,128390.147,2459.155,15452.026000000002,37138.113,154367.46300000002,20430.953999999998,3791.664],\"yaxis\":\"y\"},{\"alignmentgroup\":\"True\",\"hovertemplate\":\"Continents=Australia_NZ<br>Year=2005<br>Countries=%{x}<br>Fossil fuels per capita (kWh)=%{y}<extra></extra>\",\"legendgroup\":\"Australia_NZ\",\"marker\":{\"color\":\"#00cc96\",\"pattern\":{\"shape\":\"\"}},\"name\":\"Australia_NZ\",\"offsetgroup\":\"Australia_NZ\",\"orientation\":\"v\",\"showlegend\":true,\"textposition\":\"auto\",\"type\":\"bar\",\"x\":[\"Australia\",\"New Zealand\"],\"xaxis\":\"x\",\"y\":[66883.04,36262.382000000005],\"yaxis\":\"y\"},{\"alignmentgroup\":\"True\",\"hovertemplate\":\"Continents=Europe<br>Year=2005<br>Countries=%{x}<br>Fossil fuels per capita (kWh)=%{y}<extra></extra>\",\"legendgroup\":\"Europe\",\"marker\":{\"color\":\"#ab63fa\",\"pattern\":{\"shape\":\"\"}},\"name\":\"Europe\",\"offsetgroup\":\"Europe\",\"orientation\":\"v\",\"showlegend\":true,\"textposition\":\"auto\",\"type\":\"bar\",\"x\":[\"Austria\",\"Belarus\",\"Belgium\",\"Bulgaria\",\"Croatia\",\"Cyprus\",\"Denmark\",\"Estonia\",\"Finland\",\"France\",\"Germany\",\"Greece\",\"Hungary\",\"Iceland\",\"Ireland\",\"Italy\",\"Latvia\",\"Lithuania\",\"Luxembourg\",\"Netherlands\",\"Norway\",\"Poland\",\"Portugal\",\"Romania\",\"Slovakia\",\"Slovenia\",\"Spain\",\"Sweden\",\"Switzerland\",\"Ukraine\",\"United Kingdom\"],\"xaxis\":\"x\",\"y\":[37183.145,29946.854,59836.219000000005,22613.194,20344.017,34037.137,37661.954,45707.785,43634.53400000001,28510.959,40540.887,34488.109,26271.857000000004,38156.641,43962.8,35211.977,16493.999,19055.109,113404.44099999999,65873.159,36639.345,27424.767999999996,25966.697,17983.492,30245.935,29452.624,34383.294,27082.827999999998,24684.485,28167.015,40519.38],\"yaxis\":\"y\"},{\"alignmentgroup\":\"True\",\"hovertemplate\":\"Continents=North America<br>Year=2005<br>Countries=%{x}<br>Fossil fuels per capita (kWh)=%{y}<extra></extra>\",\"legendgroup\":\"North America\",\"marker\":{\"color\":\"#FFA15A\",\"pattern\":{\"shape\":\"\"}},\"name\":\"North America\",\"offsetgroup\":\"North America\",\"orientation\":\"v\",\"showlegend\":true,\"textposition\":\"auto\",\"type\":\"bar\",\"x\":[\"Canada\",\"Mexico\",\"Trinidad and Tobago\",\"United States\"],\"xaxis\":\"x\",\"y\":[75415.643,16521.288,141869.497,79705.379],\"yaxis\":\"y\"},{\"alignmentgroup\":\"True\",\"hovertemplate\":\"Continents=South America<br>Year=2005<br>Countries=%{x}<br>Fossil fuels per capita (kWh)=%{y}<extra></extra>\",\"legendgroup\":\"South America\",\"marker\":{\"color\":\"#19d3f3\",\"pattern\":{\"shape\":\"\"}},\"name\":\"South America\",\"offsetgroup\":\"South America\",\"orientation\":\"v\",\"showlegend\":true,\"textposition\":\"auto\",\"type\":\"bar\",\"x\":[\"Argentina\",\"Brazil\",\"Chile\",\"Colombia\",\"Ecuador\",\"Peru\",\"Venezuela\"],\"xaxis\":\"x\",\"y\":[16741.805,7556.786,16889.695,4962.738,7280.786,4036.0559999999996,24390.803],\"yaxis\":\"y\"}],\"name\":\"2005\"},{\"data\":[{\"alignmentgroup\":\"True\",\"hovertemplate\":\"Continents=Africa<br>Year=2006<br>Countries=%{x}<br>Fossil fuels per capita (kWh)=%{y}<extra></extra>\",\"legendgroup\":\"Africa\",\"marker\":{\"color\":\"#636efa\",\"pattern\":{\"shape\":\"\"}},\"name\":\"Africa\",\"offsetgroup\":\"Africa\",\"orientation\":\"v\",\"showlegend\":true,\"textposition\":\"auto\",\"type\":\"bar\",\"x\":[\"Algeria\",\"Egypt\",\"Morocco\"],\"xaxis\":\"x\",\"y\":[11254.16,9150.749,5227.787],\"yaxis\":\"y\"},{\"alignmentgroup\":\"True\",\"hovertemplate\":\"Continents=Asia<br>Year=2006<br>Countries=%{x}<br>Fossil fuels per capita (kWh)=%{y}<extra></extra>\",\"legendgroup\":\"Asia\",\"marker\":{\"color\":\"#EF553B\",\"pattern\":{\"shape\":\"\"}},\"name\":\"Asia\",\"offsetgroup\":\"Asia\",\"orientation\":\"v\",\"showlegend\":true,\"textposition\":\"auto\",\"type\":\"bar\",\"x\":[\"Azerbaijan\",\"Bangladesh\",\"China\",\"India\",\"Indonesia\",\"Iran\",\"Iraq\",\"Israel\",\"Japan\",\"Kazakhstan\",\"Kuwait\",\"Malaysia\",\"Oman\",\"Pakistan\",\"Philippines\",\"Qatar\",\"Russia\",\"Saudi Arabia\",\"Singapore\",\"Sri Lanka\",\"Thailand\",\"Turkmenistan\",\"United Arab Emirates\",\"Uzbekistan\",\"Vietnam\"],\"xaxis\":\"x\",\"y\":[18165.256,1443.651,16191.771,3816.085,6165.156,29821.138,10760.103000000001,37889.753,39477.17,34504.122,137852.72699999998,31498.423,67441.436,3586.605,2822.687,231087.521,48161.189000000006,76898.453,136942.554,2536.1639999999998,15498.017,37100.623,140584.96300000002,18804.629,3290.507],\"yaxis\":\"y\"},{\"alignmentgroup\":\"True\",\"hovertemplate\":\"Continents=Australia_NZ<br>Year=2006<br>Countries=%{x}<br>Fossil fuels per capita (kWh)=%{y}<extra></extra>\",\"legendgroup\":\"Australia_NZ\",\"marker\":{\"color\":\"#00cc96\",\"pattern\":{\"shape\":\"\"}},\"name\":\"Australia_NZ\",\"offsetgroup\":\"Australia_NZ\",\"orientation\":\"v\",\"showlegend\":true,\"textposition\":\"auto\",\"type\":\"bar\",\"x\":[\"Australia\",\"New Zealand\"],\"xaxis\":\"x\",\"y\":[69810.908,36064.734],\"yaxis\":\"y\"},{\"alignmentgroup\":\"True\",\"hovertemplate\":\"Continents=Europe<br>Year=2006<br>Countries=%{x}<br>Fossil fuels per capita (kWh)=%{y}<extra></extra>\",\"legendgroup\":\"Europe\",\"marker\":{\"color\":\"#ab63fa\",\"pattern\":{\"shape\":\"\"}},\"name\":\"Europe\",\"offsetgroup\":\"Europe\",\"orientation\":\"v\",\"showlegend\":true,\"textposition\":\"auto\",\"type\":\"bar\",\"x\":[\"Austria\",\"Belarus\",\"Belgium\",\"Bulgaria\",\"Croatia\",\"Cyprus\",\"Denmark\",\"Estonia\",\"Finland\",\"France\",\"Germany\",\"Greece\",\"Hungary\",\"Iceland\",\"Ireland\",\"Italy\",\"Latvia\",\"Lithuania\",\"Luxembourg\",\"Netherlands\",\"Norway\",\"Poland\",\"Portugal\",\"Romania\",\"Slovakia\",\"Slovenia\",\"Spain\",\"Sweden\",\"Switzerland\",\"Ukraine\",\"United Kingdom\"],\"xaxis\":\"x\",\"y\":[36331.115,31960.549,59687.017,23314.802000000003,20368.944,32894.458,42163.53599999999,45177.719000000005,49027.48,27820.837000000003,41248.774,35484.411,26113.067000000003,38176.818,43572.225999999995,34788.388999999996,16436.248,19506.033,109245.964,64165.388,36496.975,28759.339,23606.353,18837.679,28575.71,30080.2,33684.902,27492.732000000004,24842.501,28727.097999999998,39846.214],\"yaxis\":\"y\"},{\"alignmentgroup\":\"True\",\"hovertemplate\":\"Continents=North America<br>Year=2006<br>Countries=%{x}<br>Fossil fuels per capita (kWh)=%{y}<extra></extra>\",\"legendgroup\":\"North America\",\"marker\":{\"color\":\"#FFA15A\",\"pattern\":{\"shape\":\"\"}},\"name\":\"North America\",\"offsetgroup\":\"North America\",\"orientation\":\"v\",\"showlegend\":true,\"textposition\":\"auto\",\"type\":\"bar\",\"x\":[\"Canada\",\"Mexico\",\"Trinidad and Tobago\",\"United States\"],\"xaxis\":\"x\",\"y\":[73384.536,16788.075,164810.384,77867.288],\"yaxis\":\"y\"},{\"alignmentgroup\":\"True\",\"hovertemplate\":\"Continents=South America<br>Year=2006<br>Countries=%{x}<br>Fossil fuels per capita (kWh)=%{y}<extra></extra>\",\"legendgroup\":\"South America\",\"marker\":{\"color\":\"#19d3f3\",\"pattern\":{\"shape\":\"\"}},\"name\":\"South America\",\"offsetgroup\":\"South America\",\"orientation\":\"v\",\"showlegend\":true,\"textposition\":\"auto\",\"type\":\"bar\",\"x\":[\"Argentina\",\"Brazil\",\"Chile\",\"Colombia\",\"Ecuador\",\"Peru\",\"Venezuela\"],\"xaxis\":\"x\",\"y\":[17215.31,7627.151999999999,17806.183999999997,5598.178000000001,7601.665,3873.533,27173.531000000003],\"yaxis\":\"y\"}],\"name\":\"2006\"},{\"data\":[{\"alignmentgroup\":\"True\",\"hovertemplate\":\"Continents=Africa<br>Year=2007<br>Countries=%{x}<br>Fossil fuels per capita (kWh)=%{y}<extra></extra>\",\"legendgroup\":\"Africa\",\"marker\":{\"color\":\"#636efa\",\"pattern\":{\"shape\":\"\"}},\"name\":\"Africa\",\"offsetgroup\":\"Africa\",\"orientation\":\"v\",\"showlegend\":true,\"textposition\":\"auto\",\"type\":\"bar\",\"x\":[\"Algeria\",\"Egypt\",\"Morocco\"],\"xaxis\":\"x\",\"y\":[11677.965,9500.309000000001,5116.995],\"yaxis\":\"y\"},{\"alignmentgroup\":\"True\",\"hovertemplate\":\"Continents=Asia<br>Year=2007<br>Countries=%{x}<br>Fossil fuels per capita (kWh)=%{y}<extra></extra>\",\"legendgroup\":\"Asia\",\"marker\":{\"color\":\"#EF553B\",\"pattern\":{\"shape\":\"\"}},\"name\":\"Asia\",\"offsetgroup\":\"Asia\",\"orientation\":\"v\",\"showlegend\":true,\"textposition\":\"auto\",\"type\":\"bar\",\"x\":[\"Azerbaijan\",\"Bangladesh\",\"China\",\"India\",\"Indonesia\",\"Iran\",\"Iraq\",\"Israel\",\"Japan\",\"Kazakhstan\",\"Kuwait\",\"Malaysia\",\"Oman\",\"Pakistan\",\"Philippines\",\"Qatar\",\"Russia\",\"Saudi Arabia\",\"Singapore\",\"Sri Lanka\",\"Thailand\",\"Turkmenistan\",\"United Arab Emirates\",\"Uzbekistan\",\"Vietnam\"],\"xaxis\":\"x\",\"y\":[16233.425,1459.9379999999999,17470.92,4085.208,6519.206999999999,31642.692000000003,11293.572,39009.165,39808.81,38163.507000000005,126970.56300000001,33010.365,65316.124,3745.256,2959.8309999999997,212247.157,48435.672999999995,78054.698,141361.823,2670.869,16097.098,35557.222,133221.44,19640.713,3536.1740000000004],\"yaxis\":\"y\"},{\"alignmentgroup\":\"True\",\"hovertemplate\":\"Continents=Australia_NZ<br>Year=2007<br>Countries=%{x}<br>Fossil fuels per capita (kWh)=%{y}<extra></extra>\",\"legendgroup\":\"Australia_NZ\",\"marker\":{\"color\":\"#00cc96\",\"pattern\":{\"shape\":\"\"}},\"name\":\"Australia_NZ\",\"offsetgroup\":\"Australia_NZ\",\"orientation\":\"v\",\"showlegend\":true,\"textposition\":\"auto\",\"type\":\"bar\",\"x\":[\"Australia\",\"New Zealand\"],\"xaxis\":\"x\",\"y\":[69414.543,35315.839],\"yaxis\":\"y\"},{\"alignmentgroup\":\"True\",\"hovertemplate\":\"Continents=Europe<br>Year=2007<br>Countries=%{x}<br>Fossil fuels per capita (kWh)=%{y}<extra></extra>\",\"legendgroup\":\"Europe\",\"marker\":{\"color\":\"#ab63fa\",\"pattern\":{\"shape\":\"\"}},\"name\":\"Europe\",\"offsetgroup\":\"Europe\",\"orientation\":\"v\",\"showlegend\":true,\"textposition\":\"auto\",\"type\":\"bar\",\"x\":[\"Austria\",\"Belarus\",\"Belgium\",\"Bulgaria\",\"Croatia\",\"Cyprus\",\"Denmark\",\"Estonia\",\"Finland\",\"France\",\"Germany\",\"Greece\",\"Hungary\",\"Iceland\",\"Ireland\",\"Italy\",\"Latvia\",\"Lithuania\",\"Luxembourg\",\"Netherlands\",\"Norway\",\"Poland\",\"Portugal\",\"Romania\",\"Slovakia\",\"Slovenia\",\"Spain\",\"Sweden\",\"Switzerland\",\"Ukraine\",\"United Kingdom\"],\"xaxis\":\"x\",\"y\":[34262.437000000005,31324.92,59232.996,24704.722,21782.179,32862.776,39008.561,51398.754,47568.883,27077.158,39544.647000000004,37127.43,25349.868,37932.809,43752.122,34124.067,17243.304,21171.726000000002,102828.20300000001,64781.87,35864.035,28587.452,23561.033,18281.368000000002,27385.457000000002,29963.192000000003,33940.21,26527.485,22525.749,28714.886000000002,38606.669],\"yaxis\":\"y\"},{\"alignmentgroup\":\"True\",\"hovertemplate\":\"Continents=North America<br>Year=2007<br>Countries=%{x}<br>Fossil fuels per capita (kWh)=%{y}<extra></extra>\",\"legendgroup\":\"North America\",\"marker\":{\"color\":\"#FFA15A\",\"pattern\":{\"shape\":\"\"}},\"name\":\"North America\",\"offsetgroup\":\"North America\",\"orientation\":\"v\",\"showlegend\":true,\"textposition\":\"auto\",\"type\":\"bar\",\"x\":[\"Canada\",\"Mexico\",\"Trinidad and Tobago\",\"United States\"],\"xaxis\":\"x\",\"y\":[75704.982,16703.481,169317.753,78429.587],\"yaxis\":\"y\"},{\"alignmentgroup\":\"True\",\"hovertemplate\":\"Continents=South America<br>Year=2007<br>Countries=%{x}<br>Fossil fuels per capita (kWh)=%{y}<extra></extra>\",\"legendgroup\":\"South America\",\"marker\":{\"color\":\"#19d3f3\",\"pattern\":{\"shape\":\"\"}},\"name\":\"South America\",\"offsetgroup\":\"South America\",\"orientation\":\"v\",\"showlegend\":true,\"textposition\":\"auto\",\"type\":\"bar\",\"x\":[\"Argentina\",\"Brazil\",\"Chile\",\"Colombia\",\"Ecuador\",\"Peru\",\"Venezuela\"],\"xaxis\":\"x\",\"y\":[18401.417,7852.38,18874.674,5473.37,7552.029,4406.05,26878.367000000002],\"yaxis\":\"y\"}],\"name\":\"2007\"},{\"data\":[{\"alignmentgroup\":\"True\",\"hovertemplate\":\"Continents=Africa<br>Year=2008<br>Countries=%{x}<br>Fossil fuels per capita (kWh)=%{y}<extra></extra>\",\"legendgroup\":\"Africa\",\"marker\":{\"color\":\"#636efa\",\"pattern\":{\"shape\":\"\"}},\"name\":\"Africa\",\"offsetgroup\":\"Africa\",\"orientation\":\"v\",\"showlegend\":true,\"textposition\":\"auto\",\"type\":\"bar\",\"x\":[\"Algeria\",\"Egypt\",\"Morocco\"],\"xaxis\":\"x\",\"y\":[12172.469,9941.083,5589.568],\"yaxis\":\"y\"},{\"alignmentgroup\":\"True\",\"hovertemplate\":\"Continents=Asia<br>Year=2008<br>Countries=%{x}<br>Fossil fuels per capita (kWh)=%{y}<extra></extra>\",\"legendgroup\":\"Asia\",\"marker\":{\"color\":\"#EF553B\",\"pattern\":{\"shape\":\"\"}},\"name\":\"Asia\",\"offsetgroup\":\"Asia\",\"orientation\":\"v\",\"showlegend\":true,\"textposition\":\"auto\",\"type\":\"bar\",\"x\":[\"Azerbaijan\",\"Bangladesh\",\"China\",\"India\",\"Indonesia\",\"Iran\",\"Iraq\",\"Israel\",\"Japan\",\"Kazakhstan\",\"Kuwait\",\"Malaysia\",\"Oman\",\"Pakistan\",\"Philippines\",\"Qatar\",\"Russia\",\"Saudi Arabia\",\"Singapore\",\"Sri Lanka\",\"Thailand\",\"Turkmenistan\",\"United Arab Emirates\",\"Uzbekistan\",\"Vietnam\"],\"xaxis\":\"x\",\"y\":[16259.868,1524.095,17734.152,4288.694,6331.852,32919.386,11685.11,38642.001000000004,39742.891,40052.322,130210.61099999999,33376.967000000004,74075.833,3766.0820000000003,2974.241,198947.266,48896.424000000006,82802.329,144190.166,2420.822,16199.632,28777.736,132858.604,18359.763,4414.289000000001],\"yaxis\":\"y\"},{\"alignmentgroup\":\"True\",\"hovertemplate\":\"Continents=Australia_NZ<br>Year=2008<br>Countries=%{x}<br>Fossil fuels per capita (kWh)=%{y}<extra></extra>\",\"legendgroup\":\"Australia_NZ\",\"marker\":{\"color\":\"#00cc96\",\"pattern\":{\"shape\":\"\"}},\"name\":\"Australia_NZ\",\"offsetgroup\":\"Australia_NZ\",\"orientation\":\"v\",\"showlegend\":true,\"textposition\":\"auto\",\"type\":\"bar\",\"x\":[\"Australia\",\"New Zealand\"],\"xaxis\":\"x\",\"y\":[69152.966,35512.202000000005],\"yaxis\":\"y\"},{\"alignmentgroup\":\"True\",\"hovertemplate\":\"Continents=Europe<br>Year=2008<br>Countries=%{x}<br>Fossil fuels per capita (kWh)=%{y}<extra></extra>\",\"legendgroup\":\"Europe\",\"marker\":{\"color\":\"#ab63fa\",\"pattern\":{\"shape\":\"\"}},\"name\":\"Europe\",\"offsetgroup\":\"Europe\",\"orientation\":\"v\",\"showlegend\":true,\"textposition\":\"auto\",\"type\":\"bar\",\"x\":[\"Austria\",\"Belarus\",\"Belgium\",\"Bulgaria\",\"Croatia\",\"Cyprus\",\"Denmark\",\"Estonia\",\"Finland\",\"France\",\"Germany\",\"Greece\",\"Hungary\",\"Iceland\",\"Ireland\",\"Italy\",\"Latvia\",\"Lithuania\",\"Luxembourg\",\"Netherlands\",\"Norway\",\"Poland\",\"Portugal\",\"Romania\",\"Slovakia\",\"Slovenia\",\"Spain\",\"Sweden\",\"Switzerland\",\"Ukraine\",\"United Kingdom\"],\"xaxis\":\"x\",\"y\":[34617.396,31773.267999999996,60519.668,24004.505,20997.446,32941.897000000004,37276.082,49110.39599999999,43350.362,26711.85,39793.335,35773.362,24693.285,34212.428,42094.134000000005,32964.201,17126.332,21161.909,99865.17800000001,63451.607,35420.039,28894.171000000002,22965.103,17884.178,28149.667,31743.759,31904.956000000002,25013.002,23692.832000000002,27840.552000000003,37713.55],\"yaxis\":\"y\"},{\"alignmentgroup\":\"True\",\"hovertemplate\":\"Continents=North America<br>Year=2008<br>Countries=%{x}<br>Fossil fuels per capita (kWh)=%{y}<extra></extra>\",\"legendgroup\":\"North America\",\"marker\":{\"color\":\"#FFA15A\",\"pattern\":{\"shape\":\"\"}},\"name\":\"North America\",\"offsetgroup\":\"North America\",\"orientation\":\"v\",\"showlegend\":true,\"textposition\":\"auto\",\"type\":\"bar\",\"x\":[\"Canada\",\"Mexico\",\"Trinidad and Tobago\",\"United States\"],\"xaxis\":\"x\",\"y\":[73541.814,16570.913,166062.245,75092.87],\"yaxis\":\"y\"},{\"alignmentgroup\":\"True\",\"hovertemplate\":\"Continents=South America<br>Year=2008<br>Countries=%{x}<br>Fossil fuels per capita (kWh)=%{y}<extra></extra>\",\"legendgroup\":\"South America\",\"marker\":{\"color\":\"#19d3f3\",\"pattern\":{\"shape\":\"\"}},\"name\":\"South America\",\"offsetgroup\":\"South America\",\"orientation\":\"v\",\"showlegend\":true,\"textposition\":\"auto\",\"type\":\"bar\",\"x\":[\"Argentina\",\"Brazil\",\"Chile\",\"Colombia\",\"Ecuador\",\"Peru\",\"Venezuela\"],\"xaxis\":\"x\",\"y\":[18621.733,8245.678,18048.325,5959.578,7607.876,4910.815,27355.621],\"yaxis\":\"y\"}],\"name\":\"2008\"},{\"data\":[{\"alignmentgroup\":\"True\",\"hovertemplate\":\"Continents=Africa<br>Year=2009<br>Countries=%{x}<br>Fossil fuels per capita (kWh)=%{y}<extra></extra>\",\"legendgroup\":\"Africa\",\"marker\":{\"color\":\"#636efa\",\"pattern\":{\"shape\":\"\"}},\"name\":\"Africa\",\"offsetgroup\":\"Africa\",\"orientation\":\"v\",\"showlegend\":true,\"textposition\":\"auto\",\"type\":\"bar\",\"x\":[\"Algeria\",\"Egypt\",\"Morocco\"],\"xaxis\":\"x\",\"y\":[12676.306,10206.809000000001,5231.9259999999995],\"yaxis\":\"y\"},{\"alignmentgroup\":\"True\",\"hovertemplate\":\"Continents=Asia<br>Year=2009<br>Countries=%{x}<br>Fossil fuels per capita (kWh)=%{y}<extra></extra>\",\"legendgroup\":\"Asia\",\"marker\":{\"color\":\"#EF553B\",\"pattern\":{\"shape\":\"\"}},\"name\":\"Asia\",\"offsetgroup\":\"Asia\",\"orientation\":\"v\",\"showlegend\":true,\"textposition\":\"auto\",\"type\":\"bar\",\"x\":[\"Azerbaijan\",\"Bangladesh\",\"China\",\"India\",\"Indonesia\",\"Iran\",\"Iraq\",\"Israel\",\"Japan\",\"Kazakhstan\",\"Kuwait\",\"Malaysia\",\"Oman\",\"Pakistan\",\"Philippines\",\"Qatar\",\"Russia\",\"Saudi Arabia\",\"Singapore\",\"Sri Lanka\",\"Thailand\",\"Turkmenistan\",\"United Arab Emirates\",\"Uzbekistan\",\"Vietnam\"],\"xaxis\":\"x\",\"y\":[14105.178,1668.076,18473.225,4584.164000000001,6467.071999999999,33677.471,12822.133,36110.198,35264.336,35787.675,128064.34300000001,31779.901,70987.832,3705.863,2959.9120000000003,174526.663,45979.679000000004,84842.615,149125.772,2531.8920000000003,16661.468,46244.530999999995,117453.76800000001,17953.252,4346.935],\"yaxis\":\"y\"},{\"alignmentgroup\":\"True\",\"hovertemplate\":\"Continents=Australia_NZ<br>Year=2009<br>Countries=%{x}<br>Fossil fuels per capita (kWh)=%{y}<extra></extra>\",\"legendgroup\":\"Australia_NZ\",\"marker\":{\"color\":\"#00cc96\",\"pattern\":{\"shape\":\"\"}},\"name\":\"Australia_NZ\",\"offsetgroup\":\"Australia_NZ\",\"orientation\":\"v\",\"showlegend\":true,\"textposition\":\"auto\",\"type\":\"bar\",\"x\":[\"Australia\",\"New Zealand\"],\"xaxis\":\"x\",\"y\":[66926.746,33298.669],\"yaxis\":\"y\"},{\"alignmentgroup\":\"True\",\"hovertemplate\":\"Continents=Europe<br>Year=2009<br>Countries=%{x}<br>Fossil fuels per capita (kWh)=%{y}<extra></extra>\",\"legendgroup\":\"Europe\",\"marker\":{\"color\":\"#ab63fa\",\"pattern\":{\"shape\":\"\"}},\"name\":\"Europe\",\"offsetgroup\":\"Europe\",\"orientation\":\"v\",\"showlegend\":true,\"textposition\":\"auto\",\"type\":\"bar\",\"x\":[\"Austria\",\"Belarus\",\"Belgium\",\"Bulgaria\",\"Croatia\",\"Cyprus\",\"Denmark\",\"Estonia\",\"Finland\",\"France\",\"Germany\",\"Greece\",\"Hungary\",\"Iceland\",\"Ireland\",\"Italy\",\"Latvia\",\"Lithuania\",\"Luxembourg\",\"Netherlands\",\"Norway\",\"Poland\",\"Portugal\",\"Romania\",\"Slovakia\",\"Slovenia\",\"Spain\",\"Sweden\",\"Switzerland\",\"Ukraine\",\"United Kingdom\"],\"xaxis\":\"x\",\"y\":[31975.679,30158.907000000003,54608.643,20345.118000000002,19694.281000000003,31630.71,34610.399,43068.801,40942.03,25385.379,37310.685,34230.231,22048.557999999997,31204.654,37195.295,29937.283,15777.985,18195.474,93241.587,62004.343,34504.301,27641.039,22134.061,15434.396,25807.135,28014.376,28368.371,23355.199,23529.254,23259.072999999997,34442.674],\"yaxis\":\"y\"},{\"alignmentgroup\":\"True\",\"hovertemplate\":\"Continents=North America<br>Year=2009<br>Countries=%{x}<br>Fossil fuels per capita (kWh)=%{y}<extra></extra>\",\"legendgroup\":\"North America\",\"marker\":{\"color\":\"#FFA15A\",\"pattern\":{\"shape\":\"\"}},\"name\":\"North America\",\"offsetgroup\":\"North America\",\"orientation\":\"v\",\"showlegend\":true,\"textposition\":\"auto\",\"type\":\"bar\",\"x\":[\"Canada\",\"Mexico\",\"Trinidad and Tobago\",\"United States\"],\"xaxis\":\"x\",\"y\":[67714.408,16470.432,163814.43,69849.163],\"yaxis\":\"y\"},{\"alignmentgroup\":\"True\",\"hovertemplate\":\"Continents=South America<br>Year=2009<br>Countries=%{x}<br>Fossil fuels per capita (kWh)=%{y}<extra></extra>\",\"legendgroup\":\"South America\",\"marker\":{\"color\":\"#19d3f3\",\"pattern\":{\"shape\":\"\"}},\"name\":\"South America\",\"offsetgroup\":\"South America\",\"orientation\":\"v\",\"showlegend\":true,\"textposition\":\"auto\",\"type\":\"bar\",\"x\":[\"Argentina\",\"Brazil\",\"Chile\",\"Colombia\",\"Ecuador\",\"Peru\",\"Venezuela\"],\"xaxis\":\"x\",\"y\":[17755.558,7695.321999999999,17307.839,5792.834,7666.979,4947.978,26950.632],\"yaxis\":\"y\"}],\"name\":\"2009\"},{\"data\":[{\"alignmentgroup\":\"True\",\"hovertemplate\":\"Continents=Africa<br>Year=2010<br>Countries=%{x}<br>Fossil fuels per capita (kWh)=%{y}<extra></extra>\",\"legendgroup\":\"Africa\",\"marker\":{\"color\":\"#636efa\",\"pattern\":{\"shape\":\"\"}},\"name\":\"Africa\",\"offsetgroup\":\"Africa\",\"orientation\":\"v\",\"showlegend\":true,\"textposition\":\"auto\",\"type\":\"bar\",\"x\":[\"Algeria\",\"Egypt\",\"Morocco\"],\"xaxis\":\"x\",\"y\":[12144.613000000001,10564.597,5658.385],\"yaxis\":\"y\"},{\"alignmentgroup\":\"True\",\"hovertemplate\":\"Continents=Asia<br>Year=2010<br>Countries=%{x}<br>Fossil fuels per capita (kWh)=%{y}<extra></extra>\",\"legendgroup\":\"Asia\",\"marker\":{\"color\":\"#EF553B\",\"pattern\":{\"shape\":\"\"}},\"name\":\"Asia\",\"offsetgroup\":\"Asia\",\"orientation\":\"v\",\"showlegend\":true,\"textposition\":\"auto\",\"type\":\"bar\",\"x\":[\"Azerbaijan\",\"Bangladesh\",\"China\",\"India\",\"Indonesia\",\"Iran\",\"Iraq\",\"Israel\",\"Japan\",\"Kazakhstan\",\"Kuwait\",\"Malaysia\",\"Oman\",\"Pakistan\",\"Philippines\",\"Qatar\",\"Russia\",\"Saudi Arabia\",\"Singapore\",\"Sri Lanka\",\"Thailand\",\"Turkmenistan\",\"United Arab Emirates\",\"Uzbekistan\",\"Vietnam\"],\"xaxis\":\"x\",\"y\":[13413.396999999999,1683.037,19509.327,4725.888,6962.791,33278.498999999996,13258.309,37439.654,37315.487,37995.84,130930.79,32290.167,78880.424,3629.3459999999995,3087.3540000000003,181044.00199999998,48065.060999999994,90324.13900000001,155134.304,2500.152,17675.982,49057.85,113961.661,17387.155,5065.531],\"yaxis\":\"y\"},{\"alignmentgroup\":\"True\",\"hovertemplate\":\"Continents=Australia_NZ<br>Year=2010<br>Countries=%{x}<br>Fossil fuels per capita (kWh)=%{y}<extra></extra>\",\"legendgroup\":\"Australia_NZ\",\"marker\":{\"color\":\"#00cc96\",\"pattern\":{\"shape\":\"\"}},\"name\":\"Australia_NZ\",\"offsetgroup\":\"Australia_NZ\",\"orientation\":\"v\",\"showlegend\":true,\"textposition\":\"auto\",\"type\":\"bar\",\"x\":[\"Australia\",\"New Zealand\"],\"xaxis\":\"x\",\"y\":[65456.527,33202.998],\"yaxis\":\"y\"},{\"alignmentgroup\":\"True\",\"hovertemplate\":\"Continents=Europe<br>Year=2010<br>Countries=%{x}<br>Fossil fuels per capita (kWh)=%{y}<extra></extra>\",\"legendgroup\":\"Europe\",\"marker\":{\"color\":\"#ab63fa\",\"pattern\":{\"shape\":\"\"}},\"name\":\"Europe\",\"offsetgroup\":\"Europe\",\"orientation\":\"v\",\"showlegend\":true,\"textposition\":\"auto\",\"type\":\"bar\",\"x\":[\"Austria\",\"Belarus\",\"Belgium\",\"Bulgaria\",\"Croatia\",\"Cyprus\",\"Denmark\",\"Estonia\",\"Finland\",\"France\",\"Germany\",\"Greece\",\"Hungary\",\"Iceland\",\"Ireland\",\"Italy\",\"Latvia\",\"Lithuania\",\"Luxembourg\",\"Netherlands\",\"Norway\",\"Poland\",\"Portugal\",\"Romania\",\"Slovakia\",\"Slovenia\",\"Spain\",\"Sweden\",\"Switzerland\",\"Ukraine\",\"United Kingdom\"],\"xaxis\":\"x\",\"y\":[34226.142,32043.506,57960.807,20864.679,19048.503,30255.541,35269.602999999996,51407.679000000004,45621.117999999995,25603.941000000003,38780.748,32090.402000000002,22584.857999999997,29820.697,36805.562000000005,30457.477000000003,18521.009,20042.322,96186.54400000001,65653.147,35536.164,29373.856,20905.498,15155.112,27473.142000000003,28287.435,27033.967,24452.406000000003,22345.943,24964.42,35282.638999999996],\"yaxis\":\"y\"},{\"alignmentgroup\":\"True\",\"hovertemplate\":\"Continents=North America<br>Year=2010<br>Countries=%{x}<br>Fossil fuels per capita (kWh)=%{y}<extra></extra>\",\"legendgroup\":\"North America\",\"marker\":{\"color\":\"#FFA15A\",\"pattern\":{\"shape\":\"\"}},\"name\":\"North America\",\"offsetgroup\":\"North America\",\"orientation\":\"v\",\"showlegend\":true,\"textposition\":\"auto\",\"type\":\"bar\",\"x\":[\"Canada\",\"Mexico\",\"Trinidad and Tobago\",\"United States\"],\"xaxis\":\"x\",\"y\":[70338.84599999999,16601.827,176098.88100000002,71759.24],\"yaxis\":\"y\"},{\"alignmentgroup\":\"True\",\"hovertemplate\":\"Continents=South America<br>Year=2010<br>Countries=%{x}<br>Fossil fuels per capita (kWh)=%{y}<extra></extra>\",\"legendgroup\":\"South America\",\"marker\":{\"color\":\"#19d3f3\",\"pattern\":{\"shape\":\"\"}},\"name\":\"South America\",\"offsetgroup\":\"South America\",\"orientation\":\"v\",\"showlegend\":true,\"textposition\":\"auto\",\"type\":\"bar\",\"x\":[\"Argentina\",\"Brazil\",\"Chile\",\"Colombia\",\"Ecuador\",\"Peru\",\"Venezuela\"],\"xaxis\":\"x\",\"y\":[18599.381999999998,8711.048,17731.349,6330.356,8681.296,5736.938,25483.673],\"yaxis\":\"y\"}],\"name\":\"2010\"},{\"data\":[{\"alignmentgroup\":\"True\",\"hovertemplate\":\"Continents=Africa<br>Year=2011<br>Countries=%{x}<br>Fossil fuels per capita (kWh)=%{y}<extra></extra>\",\"legendgroup\":\"Africa\",\"marker\":{\"color\":\"#636efa\",\"pattern\":{\"shape\":\"\"}},\"name\":\"Africa\",\"offsetgroup\":\"Africa\",\"orientation\":\"v\",\"showlegend\":true,\"textposition\":\"auto\",\"type\":\"bar\",\"x\":[\"Algeria\",\"Egypt\",\"Morocco\"],\"xaxis\":\"x\",\"y\":[12640.023000000001,10503.306,6000.049],\"yaxis\":\"y\"},{\"alignmentgroup\":\"True\",\"hovertemplate\":\"Continents=Asia<br>Year=2011<br>Countries=%{x}<br>Fossil fuels per capita (kWh)=%{y}<extra></extra>\",\"legendgroup\":\"Asia\",\"marker\":{\"color\":\"#EF553B\",\"pattern\":{\"shape\":\"\"}},\"name\":\"Asia\",\"offsetgroup\":\"Asia\",\"orientation\":\"v\",\"showlegend\":true,\"textposition\":\"auto\",\"type\":\"bar\",\"x\":[\"Azerbaijan\",\"Bangladesh\",\"China\",\"India\",\"Indonesia\",\"Iran\",\"Iraq\",\"Israel\",\"Japan\",\"Kazakhstan\",\"Kuwait\",\"Malaysia\",\"Oman\",\"Pakistan\",\"Philippines\",\"Qatar\",\"Russia\",\"Saudi Arabia\",\"Singapore\",\"Sri Lanka\",\"Thailand\",\"Turkmenistan\",\"United Arab Emirates\",\"Uzbekistan\",\"Vietnam\"],\"xaxis\":\"x\",\"y\":[15071.103000000001,1806.621,21039.466,4878.241,7572.906999999999,34369.442,13600.753999999999,37555.767,37772.479,41399.262,124080.31599999999,32757.197999999997,80606.8,3519.848,3051.841,190849.44199999998,49824.567,90445.989,157222.94,2780.114,18164.98,53534.710999999996,114860.84,18191.89,5461.811],\"yaxis\":\"y\"},{\"alignmentgroup\":\"True\",\"hovertemplate\":\"Continents=Australia_NZ<br>Year=2011<br>Countries=%{x}<br>Fossil fuels per capita (kWh)=%{y}<extra></extra>\",\"legendgroup\":\"Australia_NZ\",\"marker\":{\"color\":\"#00cc96\",\"pattern\":{\"shape\":\"\"}},\"name\":\"Australia_NZ\",\"offsetgroup\":\"Australia_NZ\",\"orientation\":\"v\",\"showlegend\":true,\"textposition\":\"auto\",\"type\":\"bar\",\"x\":[\"Australia\",\"New Zealand\"],\"xaxis\":\"x\",\"y\":[65785.054,32571.537999999997],\"yaxis\":\"y\"},{\"alignmentgroup\":\"True\",\"hovertemplate\":\"Continents=Europe<br>Year=2011<br>Countries=%{x}<br>Fossil fuels per capita (kWh)=%{y}<extra></extra>\",\"legendgroup\":\"Europe\",\"marker\":{\"color\":\"#ab63fa\",\"pattern\":{\"shape\":\"\"}},\"name\":\"Europe\",\"offsetgroup\":\"Europe\",\"orientation\":\"v\",\"showlegend\":true,\"textposition\":\"auto\",\"type\":\"bar\",\"x\":[\"Austria\",\"Belarus\",\"Belgium\",\"Bulgaria\",\"Croatia\",\"Cyprus\",\"Denmark\",\"Estonia\",\"Finland\",\"France\",\"Germany\",\"Greece\",\"Hungary\",\"Iceland\",\"Ireland\",\"Italy\",\"Latvia\",\"Lithuania\",\"Luxembourg\",\"Netherlands\",\"Norway\",\"Poland\",\"Portugal\",\"Romania\",\"Slovakia\",\"Slovenia\",\"Spain\",\"Sweden\",\"Switzerland\",\"Ukraine\",\"United Kingdom\"],\"xaxis\":\"x\",\"y\":[32298.709,31887.737,52325.257000000005,23130.377,18501.96,29356.962000000003,31784.736,52959.079000000005,40534.114,23783.1,37507.068999999996,31980.071,22661.61,29189.69,33562.511,29296.432999999997,16957.721,20949.93,91664.845,62272.607,34459.101,29396.781000000003,20787.133,16242.485,25937.04,27525.724,27039.627,22156.629,21028.327,26353.367000000002,32248.961],\"yaxis\":\"y\"},{\"alignmentgroup\":\"True\",\"hovertemplate\":\"Continents=North America<br>Year=2011<br>Countries=%{x}<br>Fossil fuels per capita (kWh)=%{y}<extra></extra>\",\"legendgroup\":\"North America\",\"marker\":{\"color\":\"#FFA15A\",\"pattern\":{\"shape\":\"\"}},\"name\":\"North America\",\"offsetgroup\":\"North America\",\"orientation\":\"v\",\"showlegend\":true,\"textposition\":\"auto\",\"type\":\"bar\",\"x\":[\"Canada\",\"Mexico\",\"Trinidad and Tobago\",\"United States\"],\"xaxis\":\"x\",\"y\":[72237.65,17140.726000000002,171903.19100000002,69794.35],\"yaxis\":\"y\"},{\"alignmentgroup\":\"True\",\"hovertemplate\":\"Continents=South America<br>Year=2011<br>Countries=%{x}<br>Fossil fuels per capita (kWh)=%{y}<extra></extra>\",\"legendgroup\":\"South America\",\"marker\":{\"color\":\"#19d3f3\",\"pattern\":{\"shape\":\"\"}},\"name\":\"South America\",\"offsetgroup\":\"South America\",\"orientation\":\"v\",\"showlegend\":true,\"textposition\":\"auto\",\"type\":\"bar\",\"x\":[\"Argentina\",\"Brazil\",\"Chile\",\"Colombia\",\"Ecuador\",\"Peru\",\"Venezuela\"],\"xaxis\":\"x\",\"y\":[18871.5,9088.141,19496.264,6216.017,8716.853000000001,6543.831,26007.68],\"yaxis\":\"y\"}],\"name\":\"2011\"},{\"data\":[{\"alignmentgroup\":\"True\",\"hovertemplate\":\"Continents=Africa<br>Year=2012<br>Countries=%{x}<br>Fossil fuels per capita (kWh)=%{y}<extra></extra>\",\"legendgroup\":\"Africa\",\"marker\":{\"color\":\"#636efa\",\"pattern\":{\"shape\":\"\"}},\"name\":\"Africa\",\"offsetgroup\":\"Africa\",\"orientation\":\"v\",\"showlegend\":true,\"textposition\":\"auto\",\"type\":\"bar\",\"x\":[\"Algeria\",\"Egypt\",\"Morocco\"],\"xaxis\":\"x\",\"y\":[13549.443000000001,10818.205,6051.649],\"yaxis\":\"y\"},{\"alignmentgroup\":\"True\",\"hovertemplate\":\"Continents=Asia<br>Year=2012<br>Countries=%{x}<br>Fossil fuels per capita (kWh)=%{y}<extra></extra>\",\"legendgroup\":\"Asia\",\"marker\":{\"color\":\"#EF553B\",\"pattern\":{\"shape\":\"\"}},\"name\":\"Asia\",\"offsetgroup\":\"Asia\",\"orientation\":\"v\",\"showlegend\":true,\"textposition\":\"auto\",\"type\":\"bar\",\"x\":[\"Azerbaijan\",\"Bangladesh\",\"China\",\"India\",\"Indonesia\",\"Iran\",\"Iraq\",\"Israel\",\"Japan\",\"Kazakhstan\",\"Kuwait\",\"Malaysia\",\"Oman\",\"Pakistan\",\"Philippines\",\"Qatar\",\"Russia\",\"Saudi Arabia\",\"Singapore\",\"Sri Lanka\",\"Thailand\",\"Turkmenistan\",\"United Arab Emirates\",\"Uzbekistan\",\"Vietnam\"],\"xaxis\":\"x\",\"y\":[15592.853000000001,1914.219,21427.629,5106.992,7869.965999999999,34119.876000000004,13871.819,38502.114,40477.725,42325.791,130407.76699999999,34625.834,81442.269,3475.829,3085.4790000000003,200840.555,49797.087999999996,92966.93800000001,154788.476,2946.116,19268.543,57318.617,118047.94300000001,17398.221,5388.221],\"yaxis\":\"y\"},{\"alignmentgroup\":\"True\",\"hovertemplate\":\"Continents=Australia_NZ<br>Year=2012<br>Countries=%{x}<br>Fossil fuels per capita (kWh)=%{y}<extra></extra>\",\"legendgroup\":\"Australia_NZ\",\"marker\":{\"color\":\"#00cc96\",\"pattern\":{\"shape\":\"\"}},\"name\":\"Australia_NZ\",\"offsetgroup\":\"Australia_NZ\",\"orientation\":\"v\",\"showlegend\":true,\"textposition\":\"auto\",\"type\":\"bar\",\"x\":[\"Australia\",\"New Zealand\"],\"xaxis\":\"x\",\"y\":[64049.86,33789.303],\"yaxis\":\"y\"},{\"alignmentgroup\":\"True\",\"hovertemplate\":\"Continents=Europe<br>Year=2012<br>Countries=%{x}<br>Fossil fuels per capita (kWh)=%{y}<extra></extra>\",\"legendgroup\":\"Europe\",\"marker\":{\"color\":\"#ab63fa\",\"pattern\":{\"shape\":\"\"}},\"name\":\"Europe\",\"offsetgroup\":\"Europe\",\"orientation\":\"v\",\"showlegend\":true,\"textposition\":\"auto\",\"type\":\"bar\",\"x\":[\"Austria\",\"Belarus\",\"Belgium\",\"Bulgaria\",\"Croatia\",\"Cyprus\",\"Denmark\",\"Estonia\",\"Finland\",\"France\",\"Germany\",\"Greece\",\"Hungary\",\"Iceland\",\"Ireland\",\"Italy\",\"Latvia\",\"Lithuania\",\"Luxembourg\",\"Netherlands\",\"Norway\",\"Poland\",\"Portugal\",\"Romania\",\"Slovakia\",\"Slovenia\",\"Spain\",\"Sweden\",\"Switzerland\",\"Ukraine\",\"United Kingdom\"],\"xaxis\":\"x\",\"y\":[31279.494,34443.769,50880.625,21392.082000000002,16944.933,27042.115,28283.668999999998,53234.611,36486.426,23613.056,37698.572,29784.527000000002,20765.527,28721.972999999998,33144.574,27848.142000000003,16584.753,21178.377,87598.877,59959.780999999995,33669.127,28243.827,19770.16,15808.015,24427.31,26544.907000000003,26563.0,21141.611,21429.195,25679.804,32201.34],\"yaxis\":\"y\"},{\"alignmentgroup\":\"True\",\"hovertemplate\":\"Continents=North America<br>Year=2012<br>Countries=%{x}<br>Fossil fuels per capita (kWh)=%{y}<extra></extra>\",\"legendgroup\":\"North America\",\"marker\":{\"color\":\"#FFA15A\",\"pattern\":{\"shape\":\"\"}},\"name\":\"North America\",\"offsetgroup\":\"North America\",\"orientation\":\"v\",\"showlegend\":true,\"textposition\":\"auto\",\"type\":\"bar\",\"x\":[\"Canada\",\"Mexico\",\"Trinidad and Tobago\",\"United States\"],\"xaxis\":\"x\",\"y\":[69917.476,17116.365,168096.38,67499.79400000001],\"yaxis\":\"y\"},{\"alignmentgroup\":\"True\",\"hovertemplate\":\"Continents=South America<br>Year=2012<br>Countries=%{x}<br>Fossil fuels per capita (kWh)=%{y}<extra></extra>\",\"legendgroup\":\"South America\",\"marker\":{\"color\":\"#19d3f3\",\"pattern\":{\"shape\":\"\"}},\"name\":\"South America\",\"offsetgroup\":\"South America\",\"orientation\":\"v\",\"showlegend\":true,\"textposition\":\"auto\",\"type\":\"bar\",\"x\":[\"Argentina\",\"Brazil\",\"Chile\",\"Colombia\",\"Ecuador\",\"Peru\",\"Venezuela\"],\"xaxis\":\"x\",\"y\":[19399.898,9465.298,19639.935,6847.215,8998.276,6510.340999999999,27107.572],\"yaxis\":\"y\"}],\"name\":\"2012\"},{\"data\":[{\"alignmentgroup\":\"True\",\"hovertemplate\":\"Continents=Africa<br>Year=2013<br>Countries=%{x}<br>Fossil fuels per capita (kWh)=%{y}<extra></extra>\",\"legendgroup\":\"Africa\",\"marker\":{\"color\":\"#636efa\",\"pattern\":{\"shape\":\"\"}},\"name\":\"Africa\",\"offsetgroup\":\"Africa\",\"orientation\":\"v\",\"showlegend\":true,\"textposition\":\"auto\",\"type\":\"bar\",\"x\":[\"Algeria\",\"Egypt\",\"Morocco\"],\"xaxis\":\"x\",\"y\":[14069.992,10498.828000000001,6000.53],\"yaxis\":\"y\"},{\"alignmentgroup\":\"True\",\"hovertemplate\":\"Continents=Asia<br>Year=2013<br>Countries=%{x}<br>Fossil fuels per capita (kWh)=%{y}<extra></extra>\",\"legendgroup\":\"Asia\",\"marker\":{\"color\":\"#EF553B\",\"pattern\":{\"shape\":\"\"}},\"name\":\"Asia\",\"offsetgroup\":\"Asia\",\"orientation\":\"v\",\"showlegend\":true,\"textposition\":\"auto\",\"type\":\"bar\",\"x\":[\"Azerbaijan\",\"Bangladesh\",\"China\",\"India\",\"Indonesia\",\"Iran\",\"Iraq\",\"Israel\",\"Japan\",\"Kazakhstan\",\"Kuwait\",\"Malaysia\",\"Oman\",\"Pakistan\",\"Philippines\",\"Qatar\",\"Russia\",\"Saudi Arabia\",\"Singapore\",\"Sri Lanka\",\"Thailand\",\"Turkmenistan\",\"United Arab Emirates\",\"Uzbekistan\",\"Vietnam\"],\"xaxis\":\"x\",\"y\":[15915.822,1950.469,21986.077999999998,5212.588,8044.244000000001,35138.561,14378.958999999999,35152.344,40028.08,42165.405999999995,128398.87400000001,35562.934,84551.291,3419.1209999999996,3313.0409999999997,202979.05800000002,48777.447,90562.84,155702.35,2524.7070000000003,19497.057,49987.317,123632.321,17198.326,5670.82],\"yaxis\":\"y\"},{\"alignmentgroup\":\"True\",\"hovertemplate\":\"Continents=Australia_NZ<br>Year=2013<br>Countries=%{x}<br>Fossil fuels per capita (kWh)=%{y}<extra></extra>\",\"legendgroup\":\"Australia_NZ\",\"marker\":{\"color\":\"#00cc96\",\"pattern\":{\"shape\":\"\"}},\"name\":\"Australia_NZ\",\"offsetgroup\":\"Australia_NZ\",\"orientation\":\"v\",\"showlegend\":true,\"textposition\":\"auto\",\"type\":\"bar\",\"x\":[\"Australia\",\"New Zealand\"],\"xaxis\":\"x\",\"y\":[63069.761,33511.453],\"yaxis\":\"y\"},{\"alignmentgroup\":\"True\",\"hovertemplate\":\"Continents=Europe<br>Year=2013<br>Countries=%{x}<br>Fossil fuels per capita (kWh)=%{y}<extra></extra>\",\"legendgroup\":\"Europe\",\"marker\":{\"color\":\"#ab63fa\",\"pattern\":{\"shape\":\"\"}},\"name\":\"Europe\",\"offsetgroup\":\"Europe\",\"orientation\":\"v\",\"showlegend\":true,\"textposition\":\"auto\",\"type\":\"bar\",\"x\":[\"Austria\",\"Belarus\",\"Belgium\",\"Bulgaria\",\"Croatia\",\"Cyprus\",\"Denmark\",\"Estonia\",\"Finland\",\"France\",\"Germany\",\"Greece\",\"Hungary\",\"Iceland\",\"Ireland\",\"Italy\",\"Latvia\",\"Lithuania\",\"Luxembourg\",\"Netherlands\",\"Norway\",\"Poland\",\"Portugal\",\"Romania\",\"Slovakia\",\"Slovenia\",\"Spain\",\"Sweden\",\"Switzerland\",\"Ukraine\",\"United Kingdom\"],\"xaxis\":\"x\",\"y\":[31191.741,30335.702999999998,51434.049000000006,19337.716,16452.555,23767.194,29255.556,55885.624,37893.148,23500.412,38773.583,27165.303,19671.046000000002,30283.116,32152.787,25431.183999999997,16698.18,19389.944,81057.731,58140.664000000004,33520.363,28379.487999999998,19752.226000000002,13901.077,24774.245,25346.296000000002,24046.947999999997,20773.267,22183.238999999998,24345.423,31320.213],\"yaxis\":\"y\"},{\"alignmentgroup\":\"True\",\"hovertemplate\":\"Continents=North America<br>Year=2013<br>Countries=%{x}<br>Fossil fuels per capita (kWh)=%{y}<extra></extra>\",\"legendgroup\":\"North America\",\"marker\":{\"color\":\"#FFA15A\",\"pattern\":{\"shape\":\"\"}},\"name\":\"North America\",\"offsetgroup\":\"North America\",\"orientation\":\"v\",\"showlegend\":true,\"textposition\":\"auto\",\"type\":\"bar\",\"x\":[\"Canada\",\"Mexico\",\"Trinidad and Tobago\",\"United States\"],\"xaxis\":\"x\",\"y\":[71087.591,16970.836,170077.543,68678.226],\"yaxis\":\"y\"},{\"alignmentgroup\":\"True\",\"hovertemplate\":\"Continents=South America<br>Year=2013<br>Countries=%{x}<br>Fossil fuels per capita (kWh)=%{y}<extra></extra>\",\"legendgroup\":\"South America\",\"marker\":{\"color\":\"#19d3f3\",\"pattern\":{\"shape\":\"\"}},\"name\":\"South America\",\"offsetgroup\":\"South America\",\"orientation\":\"v\",\"showlegend\":true,\"textposition\":\"auto\",\"type\":\"bar\",\"x\":[\"Argentina\",\"Brazil\",\"Chile\",\"Colombia\",\"Ecuador\",\"Peru\",\"Venezuela\"],\"xaxis\":\"x\",\"y\":[19893.03,10136.376,19585.869,7117.4130000000005,9428.935,6597.295,25787.158],\"yaxis\":\"y\"}],\"name\":\"2013\"},{\"data\":[{\"alignmentgroup\":\"True\",\"hovertemplate\":\"Continents=Africa<br>Year=2014<br>Countries=%{x}<br>Fossil fuels per capita (kWh)=%{y}<extra></extra>\",\"legendgroup\":\"Africa\",\"marker\":{\"color\":\"#636efa\",\"pattern\":{\"shape\":\"\"}},\"name\":\"Africa\",\"offsetgroup\":\"Africa\",\"orientation\":\"v\",\"showlegend\":true,\"textposition\":\"auto\",\"type\":\"bar\",\"x\":[\"Algeria\",\"Egypt\",\"Morocco\"],\"xaxis\":\"x\",\"y\":[15027.377,10241.436,6043.344],\"yaxis\":\"y\"},{\"alignmentgroup\":\"True\",\"hovertemplate\":\"Continents=Asia<br>Year=2014<br>Countries=%{x}<br>Fossil fuels per capita (kWh)=%{y}<extra></extra>\",\"legendgroup\":\"Asia\",\"marker\":{\"color\":\"#EF553B\",\"pattern\":{\"shape\":\"\"}},\"name\":\"Asia\",\"offsetgroup\":\"Asia\",\"orientation\":\"v\",\"showlegend\":true,\"textposition\":\"auto\",\"type\":\"bar\",\"x\":[\"Azerbaijan\",\"Bangladesh\",\"China\",\"India\",\"Indonesia\",\"Iran\",\"Iraq\",\"Israel\",\"Japan\",\"Kazakhstan\",\"Kuwait\",\"Malaysia\",\"Oman\",\"Pakistan\",\"Philippines\",\"Qatar\",\"Russia\",\"Saudi Arabia\",\"Singapore\",\"Sri Lanka\",\"Thailand\",\"Turkmenistan\",\"United Arab Emirates\",\"Uzbekistan\",\"Vietnam\"],\"xaxis\":\"x\",\"y\":[16080.396,2012.905,22038.47,5508.084,7402.398,36242.998999999996,13373.948999999999,33912.59,39011.692,42047.538,112493.906,35307.154,78698.575,3454.0170000000003,3458.631,207250.94100000002,48877.664000000004,94357.84800000001,158086.87699999998,2457.606,19864.578999999998,50863.835,122799.439,17612.034,6182.8640000000005],\"yaxis\":\"y\"},{\"alignmentgroup\":\"True\",\"hovertemplate\":\"Continents=Australia_NZ<br>Year=2014<br>Countries=%{x}<br>Fossil fuels per capita (kWh)=%{y}<extra></extra>\",\"legendgroup\":\"Australia_NZ\",\"marker\":{\"color\":\"#00cc96\",\"pattern\":{\"shape\":\"\"}},\"name\":\"Australia_NZ\",\"offsetgroup\":\"Australia_NZ\",\"orientation\":\"v\",\"showlegend\":true,\"textposition\":\"auto\",\"type\":\"bar\",\"x\":[\"Australia\",\"New Zealand\"],\"xaxis\":\"x\",\"y\":[63471.012,34387.212],\"yaxis\":\"y\"},{\"alignmentgroup\":\"True\",\"hovertemplate\":\"Continents=Europe<br>Year=2014<br>Countries=%{x}<br>Fossil fuels per capita (kWh)=%{y}<extra></extra>\",\"legendgroup\":\"Europe\",\"marker\":{\"color\":\"#ab63fa\",\"pattern\":{\"shape\":\"\"}},\"name\":\"Europe\",\"offsetgroup\":\"Europe\",\"orientation\":\"v\",\"showlegend\":true,\"textposition\":\"auto\",\"type\":\"bar\",\"x\":[\"Austria\",\"Belarus\",\"Belgium\",\"Bulgaria\",\"Croatia\",\"Cyprus\",\"Denmark\",\"Estonia\",\"Finland\",\"France\",\"Germany\",\"Greece\",\"Hungary\",\"Iceland\",\"Ireland\",\"Italy\",\"Latvia\",\"Lithuania\",\"Luxembourg\",\"Netherlands\",\"Norway\",\"Poland\",\"Portugal\",\"Romania\",\"Slovakia\",\"Slovenia\",\"Spain\",\"Sweden\",\"Switzerland\",\"Ukraine\",\"United Kingdom\"],\"xaxis\":\"x\",\"y\":[29111.542999999998,31299.252,48667.753,20481.124,16134.73,23693.986,26991.371,54259.369000000006,34832.62,21259.9,36380.18,25981.743,19592.311999999998,30600.333,31550.484,23358.869,16157.044,18883.582,76288.761,54485.323,32464.843999999997,27152.658,19568.951,14000.409,22373.361,23161.963,23533.93,19918.423,19543.586,20838.404,28853.402000000002],\"yaxis\":\"y\"},{\"alignmentgroup\":\"True\",\"hovertemplate\":\"Continents=North America<br>Year=2014<br>Countries=%{x}<br>Fossil fuels per capita (kWh)=%{y}<extra></extra>\",\"legendgroup\":\"North America\",\"marker\":{\"color\":\"#FFA15A\",\"pattern\":{\"shape\":\"\"}},\"name\":\"North America\",\"offsetgroup\":\"North America\",\"orientation\":\"v\",\"showlegend\":true,\"textposition\":\"auto\",\"type\":\"bar\",\"x\":[\"Canada\",\"Mexico\",\"Trinidad and Tobago\",\"United States\"],\"xaxis\":\"x\",\"y\":[72032.509,16430.404,168208.65600000002,68848.068],\"yaxis\":\"y\"},{\"alignmentgroup\":\"True\",\"hovertemplate\":\"Continents=South America<br>Year=2014<br>Countries=%{x}<br>Fossil fuels per capita (kWh)=%{y}<extra></extra>\",\"legendgroup\":\"South America\",\"marker\":{\"color\":\"#19d3f3\",\"pattern\":{\"shape\":\"\"}},\"name\":\"South America\",\"offsetgroup\":\"South America\",\"orientation\":\"v\",\"showlegend\":true,\"textposition\":\"auto\",\"type\":\"bar\",\"x\":[\"Argentina\",\"Brazil\",\"Chile\",\"Colombia\",\"Ecuador\",\"Peru\",\"Venezuela\"],\"xaxis\":\"x\",\"y\":[19572.09,10442.735,18585.237,7536.937,9762.806,6697.107,24901.763],\"yaxis\":\"y\"}],\"name\":\"2014\"},{\"data\":[{\"alignmentgroup\":\"True\",\"hovertemplate\":\"Continents=Africa<br>Year=2015<br>Countries=%{x}<br>Fossil fuels per capita (kWh)=%{y}<extra></extra>\",\"legendgroup\":\"Africa\",\"marker\":{\"color\":\"#636efa\",\"pattern\":{\"shape\":\"\"}},\"name\":\"Africa\",\"offsetgroup\":\"Africa\",\"orientation\":\"v\",\"showlegend\":true,\"textposition\":\"auto\",\"type\":\"bar\",\"x\":[\"Algeria\",\"Egypt\",\"Morocco\"],\"xaxis\":\"x\",\"y\":[15528.614,10247.313,6006.808000000001],\"yaxis\":\"y\"},{\"alignmentgroup\":\"True\",\"hovertemplate\":\"Continents=Asia<br>Year=2015<br>Countries=%{x}<br>Fossil fuels per capita (kWh)=%{y}<extra></extra>\",\"legendgroup\":\"Asia\",\"marker\":{\"color\":\"#EF553B\",\"pattern\":{\"shape\":\"\"}},\"name\":\"Asia\",\"offsetgroup\":\"Asia\",\"orientation\":\"v\",\"showlegend\":true,\"textposition\":\"auto\",\"type\":\"bar\",\"x\":[\"Azerbaijan\",\"Bangladesh\",\"China\",\"India\",\"Indonesia\",\"Iran\",\"Iraq\",\"Israel\",\"Japan\",\"Kazakhstan\",\"Kuwait\",\"Malaysia\",\"Oman\",\"Pakistan\",\"Philippines\",\"Qatar\",\"Russia\",\"Saudi Arabia\",\"Singapore\",\"Sri Lanka\",\"Thailand\",\"Turkmenistan\",\"United Arab Emirates\",\"Uzbekistan\",\"Vietnam\"],\"xaxis\":\"x\",\"y\":[17313.041,2337.381,21925.019,5642.015,7368.314,35613.721,12923.178,35129.745,37998.297999999995,40714.035,117462.166,35271.133,78462.70599999999,3577.26,3752.183,221514.063,47555.615999999995,94872.24,166102.578,3086.982,20416.839,59802.538,134406.954,16482.494,7111.321999999999],\"yaxis\":\"y\"},{\"alignmentgroup\":\"True\",\"hovertemplate\":\"Continents=Australia_NZ<br>Year=2015<br>Countries=%{x}<br>Fossil fuels per capita (kWh)=%{y}<extra></extra>\",\"legendgroup\":\"Australia_NZ\",\"marker\":{\"color\":\"#00cc96\",\"pattern\":{\"shape\":\"\"}},\"name\":\"Australia_NZ\",\"offsetgroup\":\"Australia_NZ\",\"orientation\":\"v\",\"showlegend\":true,\"textposition\":\"auto\",\"type\":\"bar\",\"x\":[\"Australia\",\"New Zealand\"],\"xaxis\":\"x\",\"y\":[63343.515,34136.596],\"yaxis\":\"y\"},{\"alignmentgroup\":\"True\",\"hovertemplate\":\"Continents=Europe<br>Year=2015<br>Countries=%{x}<br>Fossil fuels per capita (kWh)=%{y}<extra></extra>\",\"legendgroup\":\"Europe\",\"marker\":{\"color\":\"#ab63fa\",\"pattern\":{\"shape\":\"\"}},\"name\":\"Europe\",\"offsetgroup\":\"Europe\",\"orientation\":\"v\",\"showlegend\":true,\"textposition\":\"auto\",\"type\":\"bar\",\"x\":[\"Austria\",\"Belarus\",\"Belgium\",\"Bulgaria\",\"Croatia\",\"Cyprus\",\"Denmark\",\"Estonia\",\"Finland\",\"France\",\"Germany\",\"Greece\",\"Hungary\",\"Iceland\",\"Ireland\",\"Italy\",\"Latvia\",\"Lithuania\",\"Luxembourg\",\"Netherlands\",\"Norway\",\"Poland\",\"Portugal\",\"Romania\",\"Slovakia\",\"Slovenia\",\"Spain\",\"Sweden\",\"Switzerland\",\"Ukraine\",\"United Kingdom\"],\"xaxis\":\"x\",\"y\":[29680.396,28407.2,50650.192,22154.207000000002,16627.443,24090.734,25246.374,50300.52,32565.484,21577.359,36450.005,25650.702999999998,20868.505,33333.341,32686.857999999997,24459.431,16798.05,19899.227,72087.008,54793.107,32710.201,27326.361,21221.613999999998,14038.996000000001,22895.916,23189.789,24789.085,19541.14,19760.843999999997,16612.656000000003,28135.627999999997],\"yaxis\":\"y\"},{\"alignmentgroup\":\"True\",\"hovertemplate\":\"Continents=North America<br>Year=2015<br>Countries=%{x}<br>Fossil fuels per capita (kWh)=%{y}<extra></extra>\",\"legendgroup\":\"North America\",\"marker\":{\"color\":\"#FFA15A\",\"pattern\":{\"shape\":\"\"}},\"name\":\"North America\",\"offsetgroup\":\"North America\",\"orientation\":\"v\",\"showlegend\":true,\"textposition\":\"auto\",\"type\":\"bar\",\"x\":[\"Canada\",\"Mexico\",\"Trinidad and Tobago\",\"United States\"],\"xaxis\":\"x\",\"y\":[70583.538,16285.966,162254.883,67534.871],\"yaxis\":\"y\"},{\"alignmentgroup\":\"True\",\"hovertemplate\":\"Continents=South America<br>Year=2015<br>Countries=%{x}<br>Fossil fuels per capita (kWh)=%{y}<extra></extra>\",\"legendgroup\":\"South America\",\"marker\":{\"color\":\"#19d3f3\",\"pattern\":{\"shape\":\"\"}},\"name\":\"South America\",\"offsetgroup\":\"South America\",\"orientation\":\"v\",\"showlegend\":true,\"textposition\":\"auto\",\"type\":\"bar\",\"x\":[\"Argentina\",\"Brazil\",\"Chile\",\"Colombia\",\"Ecuador\",\"Peru\",\"Venezuela\"],\"xaxis\":\"x\",\"y\":[19724.453,10016.564,18516.495,7519.321,9299.362,7056.725,24248.996],\"yaxis\":\"y\"}],\"name\":\"2015\"},{\"data\":[{\"alignmentgroup\":\"True\",\"hovertemplate\":\"Continents=Africa<br>Year=2016<br>Countries=%{x}<br>Fossil fuels per capita (kWh)=%{y}<extra></extra>\",\"legendgroup\":\"Africa\",\"marker\":{\"color\":\"#636efa\",\"pattern\":{\"shape\":\"\"}},\"name\":\"Africa\",\"offsetgroup\":\"Africa\",\"orientation\":\"v\",\"showlegend\":true,\"textposition\":\"auto\",\"type\":\"bar\",\"x\":[\"Algeria\",\"Egypt\",\"Morocco\"],\"xaxis\":\"x\",\"y\":[15190.104,10569.281,5978.95],\"yaxis\":\"y\"},{\"alignmentgroup\":\"True\",\"hovertemplate\":\"Continents=Asia<br>Year=2016<br>Countries=%{x}<br>Fossil fuels per capita (kWh)=%{y}<extra></extra>\",\"legendgroup\":\"Asia\",\"marker\":{\"color\":\"#EF553B\",\"pattern\":{\"shape\":\"\"}},\"name\":\"Asia\",\"offsetgroup\":\"Asia\",\"orientation\":\"v\",\"showlegend\":true,\"textposition\":\"auto\",\"type\":\"bar\",\"x\":[\"Azerbaijan\",\"Bangladesh\",\"China\",\"India\",\"Indonesia\",\"Iran\",\"Iraq\",\"Israel\",\"Japan\",\"Kazakhstan\",\"Kuwait\",\"Malaysia\",\"Oman\",\"Pakistan\",\"Philippines\",\"Qatar\",\"Russia\",\"Saudi Arabia\",\"Singapore\",\"Sri Lanka\",\"Thailand\",\"Turkmenistan\",\"United Arab Emirates\",\"Uzbekistan\",\"Vietnam\"],\"xaxis\":\"x\",\"y\":[16850.443,2343.821,21832.572,5837.031999999999,7362.0380000000005,36979.351,14487.68,35015.725,37356.97,40430.566,118287.209,36219.409,75029.683,3818.055,4061.532,208732.306,48373.099,93973.664,170491.59,3529.5759999999996,20715.064,58197.63,138132.145,15149.376,7445.571],\"yaxis\":\"y\"},{\"alignmentgroup\":\"True\",\"hovertemplate\":\"Continents=Australia_NZ<br>Year=2016<br>Countries=%{x}<br>Fossil fuels per capita (kWh)=%{y}<extra></extra>\",\"legendgroup\":\"Australia_NZ\",\"marker\":{\"color\":\"#00cc96\",\"pattern\":{\"shape\":\"\"}},\"name\":\"Australia_NZ\",\"offsetgroup\":\"Australia_NZ\",\"orientation\":\"v\",\"showlegend\":true,\"textposition\":\"auto\",\"type\":\"bar\",\"x\":[\"Australia\",\"New Zealand\"],\"xaxis\":\"x\",\"y\":[62495.920999999995,33493.775],\"yaxis\":\"y\"},{\"alignmentgroup\":\"True\",\"hovertemplate\":\"Continents=Europe<br>Year=2016<br>Countries=%{x}<br>Fossil fuels per capita (kWh)=%{y}<extra></extra>\",\"legendgroup\":\"Europe\",\"marker\":{\"color\":\"#ab63fa\",\"pattern\":{\"shape\":\"\"}},\"name\":\"Europe\",\"offsetgroup\":\"Europe\",\"orientation\":\"v\",\"showlegend\":true,\"textposition\":\"auto\",\"type\":\"bar\",\"x\":[\"Austria\",\"Belarus\",\"Belgium\",\"Bulgaria\",\"Croatia\",\"Cyprus\",\"Denmark\",\"Estonia\",\"Finland\",\"France\",\"Germany\",\"Greece\",\"Hungary\",\"Iceland\",\"Ireland\",\"Italy\",\"Latvia\",\"Lithuania\",\"Luxembourg\",\"Netherlands\",\"Norway\",\"Poland\",\"Portugal\",\"Romania\",\"Slovakia\",\"Slovenia\",\"Spain\",\"Sweden\",\"Switzerland\",\"Ukraine\",\"United Kingdom\"],\"xaxis\":\"x\",\"y\":[30123.026,28214.674,51012.182,21116.311,17131.789,26043.211,25719.738999999998,50585.515,34713.151,21956.292,37254.589,25281.639,21309.197,36696.504,34083.511,24789.271,17523.234,20264.535,69388.837,55596.553,31166.724,28704.653,20957.595,14055.363000000001,23124.718999999997,24778.819,24662.235,19987.648999999998,18902.778000000002,18038.444,27530.076],\"yaxis\":\"y\"},{\"alignmentgroup\":\"True\",\"hovertemplate\":\"Continents=North America<br>Year=2016<br>Countries=%{x}<br>Fossil fuels per capita (kWh)=%{y}<extra></extra>\",\"legendgroup\":\"North America\",\"marker\":{\"color\":\"#FFA15A\",\"pattern\":{\"shape\":\"\"}},\"name\":\"North America\",\"offsetgroup\":\"North America\",\"orientation\":\"v\",\"showlegend\":true,\"textposition\":\"auto\",\"type\":\"bar\",\"x\":[\"Canada\",\"Mexico\",\"Trinidad and Tobago\",\"United States\"],\"xaxis\":\"x\",\"y\":[69072.841,16309.492,143120.031,66340.211],\"yaxis\":\"y\"},{\"alignmentgroup\":\"True\",\"hovertemplate\":\"Continents=South America<br>Year=2016<br>Countries=%{x}<br>Fossil fuels per capita (kWh)=%{y}<extra></extra>\",\"legendgroup\":\"South America\",\"marker\":{\"color\":\"#19d3f3\",\"pattern\":{\"shape\":\"\"}},\"name\":\"South America\",\"offsetgroup\":\"South America\",\"orientation\":\"v\",\"showlegend\":true,\"textposition\":\"auto\",\"type\":\"bar\",\"x\":[\"Argentina\",\"Brazil\",\"Chile\",\"Colombia\",\"Ecuador\",\"Peru\",\"Venezuela\"],\"xaxis\":\"x\",\"y\":[19620.823,9206.175,19593.269,7861.4259999999995,8657.128,7508.974,22619.237],\"yaxis\":\"y\"}],\"name\":\"2016\"},{\"data\":[{\"alignmentgroup\":\"True\",\"hovertemplate\":\"Continents=Africa<br>Year=2017<br>Countries=%{x}<br>Fossil fuels per capita (kWh)=%{y}<extra></extra>\",\"legendgroup\":\"Africa\",\"marker\":{\"color\":\"#636efa\",\"pattern\":{\"shape\":\"\"}},\"name\":\"Africa\",\"offsetgroup\":\"Africa\",\"orientation\":\"v\",\"showlegend\":true,\"textposition\":\"auto\",\"type\":\"bar\",\"x\":[\"Algeria\",\"Egypt\",\"Morocco\"],\"xaxis\":\"x\",\"y\":[15029.705,10661.829,6200.953],\"yaxis\":\"y\"},{\"alignmentgroup\":\"True\",\"hovertemplate\":\"Continents=Asia<br>Year=2017<br>Countries=%{x}<br>Fossil fuels per capita (kWh)=%{y}<extra></extra>\",\"legendgroup\":\"Asia\",\"marker\":{\"color\":\"#EF553B\",\"pattern\":{\"shape\":\"\"}},\"name\":\"Asia\",\"offsetgroup\":\"Asia\",\"orientation\":\"v\",\"showlegend\":true,\"textposition\":\"auto\",\"type\":\"bar\",\"x\":[\"Azerbaijan\",\"Bangladesh\",\"China\",\"India\",\"Indonesia\",\"Iran\",\"Iraq\",\"Israel\",\"Japan\",\"Kazakhstan\",\"Kuwait\",\"Malaysia\",\"Oman\",\"Pakistan\",\"Philippines\",\"Qatar\",\"Russia\",\"Saudi Arabia\",\"Singapore\",\"Sri Lanka\",\"Thailand\",\"Turkmenistan\",\"United Arab Emirates\",\"Uzbekistan\",\"Vietnam\"],\"xaxis\":\"x\",\"y\":[16394.375,2401.766,22186.39,5992.306,7559.451999999999,38162.744,13997.747,36030.942,37382.176,42283.346,107995.049,35769.575,79941.997,3992.223,4419.3279999999995,195860.23,48417.977999999996,92349.729,174240.389,3743.13,20853.322,56630.189000000006,137865.649,14882.573,7386.004],\"yaxis\":\"y\"},{\"alignmentgroup\":\"True\",\"hovertemplate\":\"Continents=Australia_NZ<br>Year=2017<br>Countries=%{x}<br>Fossil fuels per capita (kWh)=%{y}<extra></extra>\",\"legendgroup\":\"Australia_NZ\",\"marker\":{\"color\":\"#00cc96\",\"pattern\":{\"shape\":\"\"}},\"name\":\"Australia_NZ\",\"offsetgroup\":\"Australia_NZ\",\"orientation\":\"v\",\"showlegend\":true,\"textposition\":\"auto\",\"type\":\"bar\",\"x\":[\"Australia\",\"New Zealand\"],\"xaxis\":\"x\",\"y\":[61766.639,34500.644],\"yaxis\":\"y\"},{\"alignmentgroup\":\"True\",\"hovertemplate\":\"Continents=Europe<br>Year=2017<br>Countries=%{x}<br>Fossil fuels per capita (kWh)=%{y}<extra></extra>\",\"legendgroup\":\"Europe\",\"marker\":{\"color\":\"#ab63fa\",\"pattern\":{\"shape\":\"\"}},\"name\":\"Europe\",\"offsetgroup\":\"Europe\",\"orientation\":\"v\",\"showlegend\":true,\"textposition\":\"auto\",\"type\":\"bar\",\"x\":[\"Austria\",\"Belarus\",\"Belgium\",\"Bulgaria\",\"Croatia\",\"Cyprus\",\"Denmark\",\"Estonia\",\"Finland\",\"France\",\"Germany\",\"Greece\",\"Hungary\",\"Iceland\",\"Ireland\",\"Italy\",\"Latvia\",\"Lithuania\",\"Luxembourg\",\"Netherlands\",\"Norway\",\"Poland\",\"Portugal\",\"Romania\",\"Slovakia\",\"Slovenia\",\"Spain\",\"Sweden\",\"Switzerland\",\"Ukraine\",\"United Kingdom\"],\"xaxis\":\"x\",\"y\":[31076.874,28686.645,51438.699,22386.191000000003,18063.86,26534.148999999998,24346.691000000003,54371.177,32524.463,22182.339,37084.854,27228.487999999998,22653.671000000002,40233.807,33004.431000000004,25267.322999999997,17322.357,21438.417999999998,69860.468,54282.96400000001,31181.136000000002,29806.453999999998,23225.222999999998,14832.639,24917.953999999998,25290.175,26017.522999999997,19685.242,19100.62,16149.581,26763.55],\"yaxis\":\"y\"},{\"alignmentgroup\":\"True\",\"hovertemplate\":\"Continents=North America<br>Year=2017<br>Countries=%{x}<br>Fossil fuels per capita (kWh)=%{y}<extra></extra>\",\"legendgroup\":\"North America\",\"marker\":{\"color\":\"#FFA15A\",\"pattern\":{\"shape\":\"\"}},\"name\":\"North America\",\"offsetgroup\":\"North America\",\"orientation\":\"v\",\"showlegend\":true,\"textposition\":\"auto\",\"type\":\"bar\",\"x\":[\"Canada\",\"Mexico\",\"Trinidad and Tobago\",\"United States\"],\"xaxis\":\"x\",\"y\":[69276.878,16310.487,151208.261,65618.912],\"yaxis\":\"y\"},{\"alignmentgroup\":\"True\",\"hovertemplate\":\"Continents=South America<br>Year=2017<br>Countries=%{x}<br>Fossil fuels per capita (kWh)=%{y}<extra></extra>\",\"legendgroup\":\"South America\",\"marker\":{\"color\":\"#19d3f3\",\"pattern\":{\"shape\":\"\"}},\"name\":\"South America\",\"offsetgroup\":\"South America\",\"orientation\":\"v\",\"showlegend\":true,\"textposition\":\"auto\",\"type\":\"bar\",\"x\":[\"Argentina\",\"Brazil\",\"Chile\",\"Colombia\",\"Ecuador\",\"Peru\",\"Venezuela\"],\"xaxis\":\"x\",\"y\":[19241.662,9299.423,18846.477,7404.6759999999995,8294.113000000001,6958.024,21932.029],\"yaxis\":\"y\"}],\"name\":\"2017\"},{\"data\":[{\"alignmentgroup\":\"True\",\"hovertemplate\":\"Continents=Africa<br>Year=2018<br>Countries=%{x}<br>Fossil fuels per capita (kWh)=%{y}<extra></extra>\",\"legendgroup\":\"Africa\",\"marker\":{\"color\":\"#636efa\",\"pattern\":{\"shape\":\"\"}},\"name\":\"Africa\",\"offsetgroup\":\"Africa\",\"orientation\":\"v\",\"showlegend\":true,\"textposition\":\"auto\",\"type\":\"bar\",\"x\":[\"Algeria\",\"Egypt\",\"Morocco\"],\"xaxis\":\"x\",\"y\":[15872.332,10629.143,6213.97],\"yaxis\":\"y\"},{\"alignmentgroup\":\"True\",\"hovertemplate\":\"Continents=Asia<br>Year=2018<br>Countries=%{x}<br>Fossil fuels per capita (kWh)=%{y}<extra></extra>\",\"legendgroup\":\"Asia\",\"marker\":{\"color\":\"#EF553B\",\"pattern\":{\"shape\":\"\"}},\"name\":\"Asia\",\"offsetgroup\":\"Asia\",\"orientation\":\"v\",\"showlegend\":true,\"textposition\":\"auto\",\"type\":\"bar\",\"x\":[\"Azerbaijan\",\"Bangladesh\",\"China\",\"India\",\"Indonesia\",\"Iran\",\"Iraq\",\"Israel\",\"Japan\",\"Kazakhstan\",\"Kuwait\",\"Malaysia\",\"Oman\",\"Pakistan\",\"Philippines\",\"Qatar\",\"Russia\",\"Saudi Arabia\",\"Singapore\",\"Sri Lanka\",\"Thailand\",\"Turkmenistan\",\"United Arab Emirates\",\"Uzbekistan\",\"Vietnam\"],\"xaxis\":\"x\",\"y\":[16688.343,2532.904,22686.756,6283.857,8116.423000000001,39606.503,14367.604,35466.922999999995,36666.252,46316.608,105496.454,34740.698,85501.58,4035.579,4495.219,198692.968,50488.899000000005,89877.20599999999,173539.363,3721.7859999999996,21153.479,62390.34,138117.203,15191.219,8607.678],\"yaxis\":\"y\"},{\"alignmentgroup\":\"True\",\"hovertemplate\":\"Continents=Australia_NZ<br>Year=2018<br>Countries=%{x}<br>Fossil fuels per capita (kWh)=%{y}<extra></extra>\",\"legendgroup\":\"Australia_NZ\",\"marker\":{\"color\":\"#00cc96\",\"pattern\":{\"shape\":\"\"}},\"name\":\"Australia_NZ\",\"offsetgroup\":\"Australia_NZ\",\"orientation\":\"v\",\"showlegend\":true,\"textposition\":\"auto\",\"type\":\"bar\",\"x\":[\"Australia\",\"New Zealand\"],\"xaxis\":\"x\",\"y\":[61306.165,33302.81],\"yaxis\":\"y\"},{\"alignmentgroup\":\"True\",\"hovertemplate\":\"Continents=Europe<br>Year=2018<br>Countries=%{x}<br>Fossil fuels per capita (kWh)=%{y}<extra></extra>\",\"legendgroup\":\"Europe\",\"marker\":{\"color\":\"#ab63fa\",\"pattern\":{\"shape\":\"\"}},\"name\":\"Europe\",\"offsetgroup\":\"Europe\",\"orientation\":\"v\",\"showlegend\":true,\"textposition\":\"auto\",\"type\":\"bar\",\"x\":[\"Austria\",\"Belarus\",\"Belgium\",\"Bulgaria\",\"Croatia\",\"Cyprus\",\"Denmark\",\"Estonia\",\"Finland\",\"France\",\"Germany\",\"Greece\",\"Hungary\",\"Iceland\",\"Ireland\",\"Italy\",\"Latvia\",\"Lithuania\",\"Luxembourg\",\"Netherlands\",\"Norway\",\"Poland\",\"Portugal\",\"Romania\",\"Slovakia\",\"Slovenia\",\"Spain\",\"Sweden\",\"Switzerland\",\"Ukraine\",\"United Kingdom\"],\"xaxis\":\"x\",\"y\":[30281.529,30612.706000000002,52245.359000000004,21202.605,17596.235,26158.958,24337.7,58570.539000000004,33078.661,21615.604,35518.382000000005,26655.737999999998,22918.202,42086.045,32722.043999999998,25031.384,17685.728,22579.247000000003,71373.485,53723.587999999996,31589.415,30278.314,21723.837000000003,15102.685,24839.601000000002,25478.822999999997,25657.306,18930.933999999997,18191.128,16760.751,26244.336],\"yaxis\":\"y\"},{\"alignmentgroup\":\"True\",\"hovertemplate\":\"Continents=North America<br>Year=2018<br>Countries=%{x}<br>Fossil fuels per capita (kWh)=%{y}<extra></extra>\",\"legendgroup\":\"North America\",\"marker\":{\"color\":\"#FFA15A\",\"pattern\":{\"shape\":\"\"}},\"name\":\"North America\",\"offsetgroup\":\"North America\",\"orientation\":\"v\",\"showlegend\":true,\"textposition\":\"auto\",\"type\":\"bar\",\"x\":[\"Canada\",\"Mexico\",\"Trinidad and Tobago\",\"United States\"],\"xaxis\":\"x\",\"y\":[71165.323,15857.96,142567.37900000002,67859.201],\"yaxis\":\"y\"},{\"alignmentgroup\":\"True\",\"hovertemplate\":\"Continents=South America<br>Year=2018<br>Countries=%{x}<br>Fossil fuels per capita (kWh)=%{y}<extra></extra>\",\"legendgroup\":\"South America\",\"marker\":{\"color\":\"#19d3f3\",\"pattern\":{\"shape\":\"\"}},\"name\":\"South America\",\"offsetgroup\":\"South America\",\"orientation\":\"v\",\"showlegend\":true,\"textposition\":\"auto\",\"type\":\"bar\",\"x\":[\"Argentina\",\"Brazil\",\"Chile\",\"Colombia\",\"Ecuador\",\"Peru\",\"Venezuela\"],\"xaxis\":\"x\",\"y\":[18824.28,8858.949,19158.828999999998,7408.880999999999,8706.538,7104.728,18694.602],\"yaxis\":\"y\"}],\"name\":\"2018\"},{\"data\":[{\"alignmentgroup\":\"True\",\"hovertemplate\":\"Continents=Africa<br>Year=2019<br>Countries=%{x}<br>Fossil fuels per capita (kWh)=%{y}<extra></extra>\",\"legendgroup\":\"Africa\",\"marker\":{\"color\":\"#636efa\",\"pattern\":{\"shape\":\"\"}},\"name\":\"Africa\",\"offsetgroup\":\"Africa\",\"orientation\":\"v\",\"showlegend\":true,\"textposition\":\"auto\",\"type\":\"bar\",\"x\":[\"Algeria\",\"Egypt\",\"Morocco\"],\"xaxis\":\"x\",\"y\":[16331.441,10263.135,6715.7880000000005],\"yaxis\":\"y\"},{\"alignmentgroup\":\"True\",\"hovertemplate\":\"Continents=Asia<br>Year=2019<br>Countries=%{x}<br>Fossil fuels per capita (kWh)=%{y}<extra></extra>\",\"legendgroup\":\"Asia\",\"marker\":{\"color\":\"#EF553B\",\"pattern\":{\"shape\":\"\"}},\"name\":\"Asia\",\"offsetgroup\":\"Asia\",\"orientation\":\"v\",\"showlegend\":true,\"textposition\":\"auto\",\"type\":\"bar\",\"x\":[\"Azerbaijan\",\"Bangladesh\",\"China\",\"India\",\"Indonesia\",\"Iran\",\"Iraq\",\"Israel\",\"Japan\",\"Kazakhstan\",\"Kuwait\",\"Malaysia\",\"Oman\",\"Pakistan\",\"Philippines\",\"Qatar\",\"Russia\",\"Saudi Arabia\",\"Singapore\",\"Sri Lanka\",\"Thailand\",\"Turkmenistan\",\"United Arab Emirates\",\"Uzbekistan\",\"Vietnam\"],\"xaxis\":\"x\",\"y\":[17678.026,2976.296,23373.453999999998,6303.314,8589.723,40281.521,15574.017,35864.075,35756.976,44974.219000000005,108032.964,34687.091,84530.61300000001,3972.238,4593.292,198310.388,49878.388,89323.243,169480.302,4015.15,21013.216,67654.188,136259.37300000002,14534.125,10056.813],\"yaxis\":\"y\"},{\"alignmentgroup\":\"True\",\"hovertemplate\":\"Continents=Australia_NZ<br>Year=2019<br>Countries=%{x}<br>Fossil fuels per capita (kWh)=%{y}<extra></extra>\",\"legendgroup\":\"Australia_NZ\",\"marker\":{\"color\":\"#00cc96\",\"pattern\":{\"shape\":\"\"}},\"name\":\"Australia_NZ\",\"offsetgroup\":\"Australia_NZ\",\"orientation\":\"v\",\"showlegend\":true,\"textposition\":\"auto\",\"type\":\"bar\",\"x\":[\"Australia\",\"New Zealand\"],\"xaxis\":\"x\",\"y\":[64591.97900000001,34376.311],\"yaxis\":\"y\"},{\"alignmentgroup\":\"True\",\"hovertemplate\":\"Continents=Europe<br>Year=2019<br>Countries=%{x}<br>Fossil fuels per capita (kWh)=%{y}<extra></extra>\",\"legendgroup\":\"Europe\",\"marker\":{\"color\":\"#ab63fa\",\"pattern\":{\"shape\":\"\"}},\"name\":\"Europe\",\"offsetgroup\":\"Europe\",\"orientation\":\"v\",\"showlegend\":true,\"textposition\":\"auto\",\"type\":\"bar\",\"x\":[\"Austria\",\"Belarus\",\"Belgium\",\"Bulgaria\",\"Croatia\",\"Cyprus\",\"Denmark\",\"Estonia\",\"Finland\",\"France\",\"Germany\",\"Greece\",\"Hungary\",\"Iceland\",\"Ireland\",\"Italy\",\"Latvia\",\"Lithuania\",\"Luxembourg\",\"Netherlands\",\"Norway\",\"Poland\",\"Portugal\",\"Romania\",\"Slovakia\",\"Slovenia\",\"Spain\",\"Sweden\",\"Switzerland\",\"Ukraine\",\"United Kingdom\"],\"xaxis\":\"x\",\"y\":[30844.347,30883.951,51382.511,20771.931,17865.224,25853.0,22947.347999999998,46199.99,30443.716,21251.255,33836.221,26515.007,22967.592,37053.462,31489.612999999998,24476.028,18708.699,22567.531000000003,71243.909,52749.549000000006,30045.173,29243.099,21400.891,14871.376,23353.25,24082.502999999997,25138.334,19303.846,18462.576,16150.036,25528.107999999997],\"yaxis\":\"y\"},{\"alignmentgroup\":\"True\",\"hovertemplate\":\"Continents=North America<br>Year=2019<br>Countries=%{x}<br>Fossil fuels per capita (kWh)=%{y}<extra></extra>\",\"legendgroup\":\"North America\",\"marker\":{\"color\":\"#FFA15A\",\"pattern\":{\"shape\":\"\"}},\"name\":\"North America\",\"offsetgroup\":\"North America\",\"orientation\":\"v\",\"showlegend\":true,\"textposition\":\"auto\",\"type\":\"bar\",\"x\":[\"Canada\",\"Mexico\",\"Trinidad and Tobago\",\"United States\"],\"xaxis\":\"x\",\"y\":[69719.613,15378.81,142110.53,66525.162],\"yaxis\":\"y\"},{\"alignmentgroup\":\"True\",\"hovertemplate\":\"Continents=South America<br>Year=2019<br>Countries=%{x}<br>Fossil fuels per capita (kWh)=%{y}<extra></extra>\",\"legendgroup\":\"South America\",\"marker\":{\"color\":\"#19d3f3\",\"pattern\":{\"shape\":\"\"}},\"name\":\"South America\",\"offsetgroup\":\"South America\",\"orientation\":\"v\",\"showlegend\":true,\"textposition\":\"auto\",\"type\":\"bar\",\"x\":[\"Argentina\",\"Brazil\",\"Chile\",\"Colombia\",\"Ecuador\",\"Peru\",\"Venezuela\"],\"xaxis\":\"x\",\"y\":[18101.027,8786.423,18723.471999999998,7965.146,8267.901,7066.682,16184.178999999998],\"yaxis\":\"y\"}],\"name\":\"2019\"}]);\n",
       "                        }).then(function(){\n",
       "                            \n",
       "var gd = document.getElementById('ccaf99ec-323f-42b4-b800-a7abbf522fd9');\n",
       "var x = new MutationObserver(function (mutations, observer) {{\n",
       "        var display = window.getComputedStyle(gd).display;\n",
       "        if (!display || display === 'none') {{\n",
       "            console.log([gd, 'removed!']);\n",
       "            Plotly.purge(gd);\n",
       "            observer.disconnect();\n",
       "        }}\n",
       "}});\n",
       "\n",
       "// Listen for the removal of the full notebook cells\n",
       "var notebookContainer = gd.closest('#notebook-container');\n",
       "if (notebookContainer) {{\n",
       "    x.observe(notebookContainer, {childList: true});\n",
       "}}\n",
       "\n",
       "// Listen for the clearing of the current output cell\n",
       "var outputEl = gd.closest('.output');\n",
       "if (outputEl) {{\n",
       "    x.observe(outputEl, {childList: true});\n",
       "}}\n",
       "\n",
       "                        })                };                });            </script>        </div>"
      ]
     },
     "metadata": {},
     "output_type": "display_data"
    }
   ],
   "source": [
    "import plotly.express as px\n",
    "import pandas as pd\n",
    "import plotly.graph_objects as go\n",
    "from plotly.subplots import make_subplots\n",
    "\n",
    "inicial = pd.read_csv(\"datasets/fossil-fuels-per-capita.csv\")\n",
    "ffpc = pd.DataFrame(inicial)\n",
    "exclude=[\"OWID_WRL\"]\n",
    "ffpc=ffpc[~ffpc[\"Code\"].isin(exclude)]\n",
    "Africa = pd.read_csv(\"datasets/Countries-Africa.csv\")\n",
    "Asia = pd.read_csv(\"datasets/Countries-Asia.csv\")\n",
    "Australia_NZ = pd.read_csv(\"datasets/Countries-Australia-NZ.csv\")\n",
    "Europe = pd.read_csv(\"datasets/Countries-Europe.csv\")\n",
    "North_America = pd.read_csv(\"datasets/Countries-North-America.csv\")\n",
    "South_America = pd.read_csv(\"datasets/Countries-South-America.csv\")\n",
    "Africa_df = pd.DataFrame()\n",
    "Asia_df = pd.DataFrame()\n",
    "Australia_NZ_df = pd.DataFrame()\n",
    "Europe_df = pd.DataFrame()\n",
    "North_America_df = pd.DataFrame()\n",
    "South_America_df = pd.DataFrame()\n",
    "for nome in ffpc[\"Entity\"].unique():\n",
    "    ffpc_nome = pd.DataFrame(ffpc.loc[ffpc.loc[:, \"Entity\"] == f\"{nome}\"])\n",
    "\n",
    "    if nome in list(Africa[\"name\"]):\n",
    "        Africa_df = Africa_df.append(ffpc_nome, ignore_index=True)\n",
    "        Africa_df[\"Continent\"] = \"Africa\"\n",
    "    if nome in list(Asia[\"name\"]):\n",
    "        Asia_df = Asia_df.append(ffpc_nome, ignore_index=True)\n",
    "        Asia_df[\"Continent\"] = \"Asia\"\n",
    "    if nome in list(Australia_NZ[\"name\"]):\n",
    "        Australia_NZ_df = Australia_NZ_df.append(ffpc_nome, ignore_index=True)\n",
    "        Australia_NZ_df[\"Continent\"] = \"Australia_NZ\"\n",
    "    if nome in list(Europe[\"name\"]):\n",
    "        Europe_df = Europe_df.append(ffpc_nome, ignore_index=True)\n",
    "        Europe_df[\"Continent\"] = \"Europe\"\n",
    "    if nome in list(North_America[\"name\"]):\n",
    "        North_America_df = North_America_df.append(ffpc_nome, ignore_index=True)\n",
    "        North_America_df[\"Continent\"] = \"North America\"\n",
    "    if nome in list(South_America[\"name\"]):\n",
    "        South_America_df = South_America_df.append(ffpc_nome, ignore_index=True)\n",
    "        South_America_df[\"Continent\"] = \"South America\"\n",
    "\n",
    "\n",
    "ffpc_2 = pd.concat([Africa_df, Asia_df, Australia_NZ_df, Europe_df, North_America_df, South_America_df],\n",
    "                         axis=0, ignore_index=True)\n",
    "\n",
    "fig=px.bar(x=ffpc_2[\"Entity\"], \n",
    "           y=ffpc_2[\"Fossil fuels per capita (kWh)\"], \n",
    "           color = ffpc_2[\"Continent\"], \n",
    "           animation_frame=ffpc_2[\"Year\"],\n",
    "           title=\"Fossil fuel consumption per capita\",\n",
    "           labels={'y':'Fossil fuels per capita (kWh)',\n",
    "                   'x':'Countries',\n",
    "                   'color':'Continents',\n",
    "                   'animation_frame':'Year'})\n",
    "fig.update_layout(height=600, width=800)\n",
    "fig.show()\n",
    "\n"
   ]
  },
  {
   "cell_type": "markdown",
   "metadata": {},
   "source": [
    "Decidi fazer um gráfico com animação que, ao longo do tempo, mostrasse o consumo de combustível fóssil per capita de cada país. Como o dataset que peguei não havia informação dos continentes, reutilizei um método que combina outros datasets para trazer esses dados, com a diferença de combinar a variável respectiva ao nome do país ao invés de seu código. Inicialmente, a ideia disso era dividir o resultado final entre 6 gráficos, um para cada continente. Contudo, isso não se mostrou a melhor solução, uma vez que o gráfico em seu tamanho normal já é bastante concentrado, o que fazia com que os 6 gráficos menores ficassem uma bagunça. Decidi então aproveitar que já tinha os continentes para atribuir estes a cor de cada barra, que antes era específica para cada país, o que por sua vez também era um exagero. Assim, creio que esta foi a melhor decisão para a apresentação do gráfico. \n",
    "\n",
    "O que me chamou mais atenção foi que um país estava à frente dos demais, e não era por pouco. Imaginei primeiramente que seria um país como os Estados Unidos, bastante comentado quando o assunto é petróleo. Contudo, se tratava de Catar, um país asiático. Decidi pesquisar e fiquei impressionado: de acordo com o Wikipedia 'Foi um protetorado britânico até ganhar a independência em 1971. Desde então, tornou-se um dos estados mais ricos da região, devido às receitas oriundas do petróleo e do gás natural (possui a terceira maior reserva mundial de gás).  A riqueza e o padrão de vida do Catar se comparam com os dos Estados da Europa Ocidental, tendo o país o maior PIB per capita no mundo árabe de acordo com o Fundo Monetário Internacional (2006) e o maior PIB per capita (com base na paridade do poder de compra) no mundo segundo o CIA World Factbook.'"
   ]
  },
  {
   "cell_type": "code",
   "execution_count": null,
   "metadata": {},
   "outputs": [],
   "source": []
  },
  {
   "cell_type": "code",
   "execution_count": null,
   "metadata": {},
   "outputs": [],
   "source": []
  }
 ],
 "metadata": {
  "kernelspec": {
   "display_name": "Python 3",
   "language": "python",
   "name": "python3"
  },
  "language_info": {
   "codemirror_mode": {
    "name": "ipython",
    "version": 3
   },
   "file_extension": ".py",
   "mimetype": "text/x-python",
   "name": "python",
   "nbconvert_exporter": "python",
   "pygments_lexer": "ipython3",
   "version": "3.8.5"
  }
 },
 "nbformat": 4,
 "nbformat_minor": 4
}
